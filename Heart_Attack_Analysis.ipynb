{
 "cells": [
  {
   "cell_type": "markdown",
   "metadata": {},
   "source": [
    "Heart Attack Analysis"
   ]
  },
  {
   "cell_type": "code",
   "execution_count": 1,
   "metadata": {},
   "outputs": [],
   "source": [
    "import numpy as np # linear algebra\n",
    "import pandas as pd # data processing, CSV file I/O (e.g. pd.read_csv)\n",
    "import plotly.express as px\n",
    "from scipy.stats import skew, kurtosis\n",
    "import plotly.figure_factory as ff"
   ]
  },
  {
   "cell_type": "markdown",
   "metadata": {},
   "source": [
    "1. Age : Age of the patient\n",
    "2. Sex : Sex of the patient\n",
    "3. exang: exercise induced angina (1 = yes; 0 = no)\n",
    "4. ca: number of major vessels (0-3)\n",
    "5. cp : Chest Pain type chest pain type\n",
    "    -Value 1: typical angina\n",
    "    -Value 2: atypical angina\n",
    "    -Value 3: non-anginal pain\n",
    "    -Value 4: asymptomatic\n",
    "6. trtbps : resting blood pressure (in mm Hg)\n",
    "7. chol : cholestoral in mg/dl fetched via BMI sensor\n",
    "8. fbs : (fasting blood sugar > 120 mg/dl) (1 = true; 0 = false)\n",
    "9. rest_ecg : resting electrocardiographic results\n",
    "    -Value 0: normal\n",
    "    -Value 1: having ST-T wave abnormality (T wave inversions and/or ST elevation or depression of > 0.05 mV)\n",
    "    -Value 2: showing probable or definite left ventricular hypertrophy by Estes' criteria\n",
    "10. thalach : maximum heart rate achieved"
   ]
  }
 ],
 "metadata": {
  "kernelspec": {
   "display_name": "Python 3.7.3 64-bit",
   "language": "python",
   "name": "python3"
  },
  "language_info": {
   "codemirror_mode": {
    "name": "ipython",
    "version": 3
   },
   "file_extension": ".py",
   "mimetype": "text/x-python",
   "name": "python",
   "nbconvert_exporter": "python",
   "pygments_lexer": "ipython3",
   "version": "3.7.3"
  },
  "orig_nbformat": 4,
  "vscode": {
   "interpreter": {
    "hash": "916dbcbb3f70747c44a77c7bcd40155683ae19c65e1c03b4aa3499c5328201f1"
   }
  }
 },
 "nbformat": 4,
 "nbformat_minor": 2
}
