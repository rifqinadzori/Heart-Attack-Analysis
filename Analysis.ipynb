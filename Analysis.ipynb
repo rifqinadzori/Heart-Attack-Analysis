{
 "cells": [
  {
   "cell_type": "markdown",
   "metadata": {},
   "source": [
    "# Heart Attack Analysis"
   ]
  },
  {
   "cell_type": "code",
   "execution_count": 2,
   "metadata": {},
   "outputs": [],
   "source": [
    "import numpy as np # linear algebra\n",
    "import pandas as pd # data processing, CSV file I/O (e.g. pd.read_csv)\n",
    "import plotly.express as px\n",
    "from scipy.stats import skew, kurtosis\n",
    "import plotly.figure_factory as ff\n",
    "import matplotlib.pyplot as plt\n",
    "import seaborn as sns"
   ]
  },
  {
   "cell_type": "markdown",
   "metadata": {},
   "source": [
    "1. Age : Age of the patient\n",
    "2. Sex : Sex of the patient\n",
    "3. exng: exercise induced angina (1 = yes; 0 = no)\n",
    "4. ca: number of major vessels (0-3)\n",
    "5. cp : Chest Pain type chest pain type\n",
    "    -Value 1: typical angina\n",
    "    -Value 2: atypical angina\n",
    "    -Value 3: non-anginal pain\n",
    "    -Value 4: asymptomatic\n",
    "6. trtbps : resting blood pressure (in mm Hg)\n",
    "7. chol : cholestoral in mg/dl fetched via BMI sensor\n",
    "8. fbs : (fasting blood sugar > 120 mg/dl) (1 = true; 0 = false)\n",
    "9. rest_ecg : resting electrocardiographic results\n",
    "    -Value 0: normal\n",
    "    -Value 1: having ST-T wave abnormality (T wave inversions and/or ST elevation or depression of > 0.05 mV)\n",
    "    -Value 2: showing probable or definite left ventricular hypertrophy by Estes' criteria\n",
    "10. thalach : maximum heart rate achieved"
   ]
  },
  {
   "cell_type": "code",
   "execution_count": 3,
   "metadata": {},
   "outputs": [
    {
     "data": {
      "text/html": [
       "<div>\n",
       "<style scoped>\n",
       "    .dataframe tbody tr th:only-of-type {\n",
       "        vertical-align: middle;\n",
       "    }\n",
       "\n",
       "    .dataframe tbody tr th {\n",
       "        vertical-align: top;\n",
       "    }\n",
       "\n",
       "    .dataframe thead th {\n",
       "        text-align: right;\n",
       "    }\n",
       "</style>\n",
       "<table border=\"1\" class=\"dataframe\">\n",
       "  <thead>\n",
       "    <tr style=\"text-align: right;\">\n",
       "      <th></th>\n",
       "      <th>age</th>\n",
       "      <th>sex</th>\n",
       "      <th>exng</th>\n",
       "      <th>ca</th>\n",
       "      <th>cp</th>\n",
       "      <th>trtbps</th>\n",
       "      <th>chol</th>\n",
       "      <th>fbs</th>\n",
       "      <th>restecg</th>\n",
       "      <th>thalach</th>\n",
       "      <th>oldpeak</th>\n",
       "    </tr>\n",
       "  </thead>\n",
       "  <tbody>\n",
       "    <tr>\n",
       "      <th>0</th>\n",
       "      <td>63</td>\n",
       "      <td>1</td>\n",
       "      <td>0</td>\n",
       "      <td>0</td>\n",
       "      <td>3</td>\n",
       "      <td>145</td>\n",
       "      <td>233</td>\n",
       "      <td>1</td>\n",
       "      <td>0</td>\n",
       "      <td>150</td>\n",
       "      <td>2.3</td>\n",
       "    </tr>\n",
       "    <tr>\n",
       "      <th>1</th>\n",
       "      <td>37</td>\n",
       "      <td>1</td>\n",
       "      <td>0</td>\n",
       "      <td>0</td>\n",
       "      <td>2</td>\n",
       "      <td>130</td>\n",
       "      <td>250</td>\n",
       "      <td>0</td>\n",
       "      <td>1</td>\n",
       "      <td>187</td>\n",
       "      <td>3.5</td>\n",
       "    </tr>\n",
       "    <tr>\n",
       "      <th>2</th>\n",
       "      <td>41</td>\n",
       "      <td>0</td>\n",
       "      <td>0</td>\n",
       "      <td>0</td>\n",
       "      <td>1</td>\n",
       "      <td>130</td>\n",
       "      <td>204</td>\n",
       "      <td>0</td>\n",
       "      <td>0</td>\n",
       "      <td>172</td>\n",
       "      <td>1.4</td>\n",
       "    </tr>\n",
       "    <tr>\n",
       "      <th>3</th>\n",
       "      <td>56</td>\n",
       "      <td>1</td>\n",
       "      <td>0</td>\n",
       "      <td>0</td>\n",
       "      <td>1</td>\n",
       "      <td>120</td>\n",
       "      <td>236</td>\n",
       "      <td>0</td>\n",
       "      <td>1</td>\n",
       "      <td>178</td>\n",
       "      <td>0.8</td>\n",
       "    </tr>\n",
       "    <tr>\n",
       "      <th>4</th>\n",
       "      <td>57</td>\n",
       "      <td>0</td>\n",
       "      <td>1</td>\n",
       "      <td>0</td>\n",
       "      <td>0</td>\n",
       "      <td>120</td>\n",
       "      <td>354</td>\n",
       "      <td>0</td>\n",
       "      <td>1</td>\n",
       "      <td>163</td>\n",
       "      <td>0.6</td>\n",
       "    </tr>\n",
       "  </tbody>\n",
       "</table>\n",
       "</div>"
      ],
      "text/plain": [
       "   age  sex  exng  ca  cp  trtbps  chol  fbs  restecg  thalach  oldpeak\n",
       "0   63    1     0   0   3     145   233    1        0      150      2.3\n",
       "1   37    1     0   0   2     130   250    0        1      187      3.5\n",
       "2   41    0     0   0   1     130   204    0        0      172      1.4\n",
       "3   56    1     0   0   1     120   236    0        1      178      0.8\n",
       "4   57    0     1   0   0     120   354    0        1      163      0.6"
      ]
     },
     "execution_count": 3,
     "metadata": {},
     "output_type": "execute_result"
    }
   ],
   "source": [
    "df = pd.read_csv(\"heart.csv\")\n",
    "df.rename({'caa':'ca','thalachh':'thalach'},axis=1, inplace=True) #rename column\n",
    "df.head()"
   ]
  },
  {
   "cell_type": "code",
   "execution_count": 4,
   "metadata": {},
   "outputs": [
    {
     "data": {
      "text/plain": [
       "(303, 11)"
      ]
     },
     "execution_count": 4,
     "metadata": {},
     "output_type": "execute_result"
    }
   ],
   "source": [
    "# Review the dimensions of dataset.\n",
    "df.shape"
   ]
  },
  {
   "cell_type": "code",
   "execution_count": 5,
   "metadata": {},
   "outputs": [
    {
     "name": "stdout",
     "output_type": "stream",
     "text": [
      "<class 'pandas.core.frame.DataFrame'>\n",
      "RangeIndex: 303 entries, 0 to 302\n",
      "Data columns (total 11 columns):\n",
      " #   Column   Non-Null Count  Dtype  \n",
      "---  ------   --------------  -----  \n",
      " 0   age      303 non-null    int64  \n",
      " 1   sex      303 non-null    int64  \n",
      " 2   exng     303 non-null    int64  \n",
      " 3   ca       303 non-null    int64  \n",
      " 4   cp       303 non-null    int64  \n",
      " 5   trtbps   303 non-null    int64  \n",
      " 6   chol     303 non-null    int64  \n",
      " 7   fbs      303 non-null    int64  \n",
      " 8   restecg  303 non-null    int64  \n",
      " 9   thalach  303 non-null    int64  \n",
      " 10  oldpeak  303 non-null    float64\n",
      "dtypes: float64(1), int64(10)\n",
      "memory usage: 26.2 KB\n"
     ]
    }
   ],
   "source": [
    "# Review the data types of attributes in your data.\n",
    "df.info()"
   ]
  },
  {
   "cell_type": "code",
   "execution_count": 6,
   "metadata": {},
   "outputs": [
    {
     "data": {
      "text/html": [
       "<div>\n",
       "<style scoped>\n",
       "    .dataframe tbody tr th:only-of-type {\n",
       "        vertical-align: middle;\n",
       "    }\n",
       "\n",
       "    .dataframe tbody tr th {\n",
       "        vertical-align: top;\n",
       "    }\n",
       "\n",
       "    .dataframe thead th {\n",
       "        text-align: right;\n",
       "    }\n",
       "</style>\n",
       "<table border=\"1\" class=\"dataframe\">\n",
       "  <thead>\n",
       "    <tr style=\"text-align: right;\">\n",
       "      <th></th>\n",
       "      <th>age</th>\n",
       "      <th>sex</th>\n",
       "      <th>exng</th>\n",
       "      <th>ca</th>\n",
       "      <th>cp</th>\n",
       "      <th>trtbps</th>\n",
       "      <th>chol</th>\n",
       "      <th>fbs</th>\n",
       "      <th>restecg</th>\n",
       "      <th>thalach</th>\n",
       "      <th>oldpeak</th>\n",
       "    </tr>\n",
       "  </thead>\n",
       "  <tbody>\n",
       "    <tr>\n",
       "      <th>count</th>\n",
       "      <td>303.000000</td>\n",
       "      <td>303.000000</td>\n",
       "      <td>303.000000</td>\n",
       "      <td>303.000000</td>\n",
       "      <td>303.000000</td>\n",
       "      <td>303.000000</td>\n",
       "      <td>303.000000</td>\n",
       "      <td>303.000000</td>\n",
       "      <td>303.000000</td>\n",
       "      <td>303.000000</td>\n",
       "      <td>303.000000</td>\n",
       "    </tr>\n",
       "    <tr>\n",
       "      <th>mean</th>\n",
       "      <td>54.366337</td>\n",
       "      <td>0.683168</td>\n",
       "      <td>0.326733</td>\n",
       "      <td>0.729373</td>\n",
       "      <td>0.966997</td>\n",
       "      <td>131.623762</td>\n",
       "      <td>246.264026</td>\n",
       "      <td>0.148515</td>\n",
       "      <td>0.528053</td>\n",
       "      <td>149.646865</td>\n",
       "      <td>1.039604</td>\n",
       "    </tr>\n",
       "    <tr>\n",
       "      <th>std</th>\n",
       "      <td>9.082101</td>\n",
       "      <td>0.466011</td>\n",
       "      <td>0.469794</td>\n",
       "      <td>1.022606</td>\n",
       "      <td>1.032052</td>\n",
       "      <td>17.538143</td>\n",
       "      <td>51.830751</td>\n",
       "      <td>0.356198</td>\n",
       "      <td>0.525860</td>\n",
       "      <td>22.905161</td>\n",
       "      <td>1.161075</td>\n",
       "    </tr>\n",
       "    <tr>\n",
       "      <th>min</th>\n",
       "      <td>29.000000</td>\n",
       "      <td>0.000000</td>\n",
       "      <td>0.000000</td>\n",
       "      <td>0.000000</td>\n",
       "      <td>0.000000</td>\n",
       "      <td>94.000000</td>\n",
       "      <td>126.000000</td>\n",
       "      <td>0.000000</td>\n",
       "      <td>0.000000</td>\n",
       "      <td>71.000000</td>\n",
       "      <td>0.000000</td>\n",
       "    </tr>\n",
       "    <tr>\n",
       "      <th>25%</th>\n",
       "      <td>47.500000</td>\n",
       "      <td>0.000000</td>\n",
       "      <td>0.000000</td>\n",
       "      <td>0.000000</td>\n",
       "      <td>0.000000</td>\n",
       "      <td>120.000000</td>\n",
       "      <td>211.000000</td>\n",
       "      <td>0.000000</td>\n",
       "      <td>0.000000</td>\n",
       "      <td>133.500000</td>\n",
       "      <td>0.000000</td>\n",
       "    </tr>\n",
       "    <tr>\n",
       "      <th>50%</th>\n",
       "      <td>55.000000</td>\n",
       "      <td>1.000000</td>\n",
       "      <td>0.000000</td>\n",
       "      <td>0.000000</td>\n",
       "      <td>1.000000</td>\n",
       "      <td>130.000000</td>\n",
       "      <td>240.000000</td>\n",
       "      <td>0.000000</td>\n",
       "      <td>1.000000</td>\n",
       "      <td>153.000000</td>\n",
       "      <td>0.800000</td>\n",
       "    </tr>\n",
       "    <tr>\n",
       "      <th>75%</th>\n",
       "      <td>61.000000</td>\n",
       "      <td>1.000000</td>\n",
       "      <td>1.000000</td>\n",
       "      <td>1.000000</td>\n",
       "      <td>2.000000</td>\n",
       "      <td>140.000000</td>\n",
       "      <td>274.500000</td>\n",
       "      <td>0.000000</td>\n",
       "      <td>1.000000</td>\n",
       "      <td>166.000000</td>\n",
       "      <td>1.600000</td>\n",
       "    </tr>\n",
       "    <tr>\n",
       "      <th>max</th>\n",
       "      <td>77.000000</td>\n",
       "      <td>1.000000</td>\n",
       "      <td>1.000000</td>\n",
       "      <td>4.000000</td>\n",
       "      <td>3.000000</td>\n",
       "      <td>200.000000</td>\n",
       "      <td>564.000000</td>\n",
       "      <td>1.000000</td>\n",
       "      <td>2.000000</td>\n",
       "      <td>202.000000</td>\n",
       "      <td>6.200000</td>\n",
       "    </tr>\n",
       "  </tbody>\n",
       "</table>\n",
       "</div>"
      ],
      "text/plain": [
       "              age         sex        exng          ca          cp      trtbps  \\\n",
       "count  303.000000  303.000000  303.000000  303.000000  303.000000  303.000000   \n",
       "mean    54.366337    0.683168    0.326733    0.729373    0.966997  131.623762   \n",
       "std      9.082101    0.466011    0.469794    1.022606    1.032052   17.538143   \n",
       "min     29.000000    0.000000    0.000000    0.000000    0.000000   94.000000   \n",
       "25%     47.500000    0.000000    0.000000    0.000000    0.000000  120.000000   \n",
       "50%     55.000000    1.000000    0.000000    0.000000    1.000000  130.000000   \n",
       "75%     61.000000    1.000000    1.000000    1.000000    2.000000  140.000000   \n",
       "max     77.000000    1.000000    1.000000    4.000000    3.000000  200.000000   \n",
       "\n",
       "             chol         fbs     restecg     thalach     oldpeak  \n",
       "count  303.000000  303.000000  303.000000  303.000000  303.000000  \n",
       "mean   246.264026    0.148515    0.528053  149.646865    1.039604  \n",
       "std     51.830751    0.356198    0.525860   22.905161    1.161075  \n",
       "min    126.000000    0.000000    0.000000   71.000000    0.000000  \n",
       "25%    211.000000    0.000000    0.000000  133.500000    0.000000  \n",
       "50%    240.000000    0.000000    1.000000  153.000000    0.800000  \n",
       "75%    274.500000    0.000000    1.000000  166.000000    1.600000  \n",
       "max    564.000000    1.000000    2.000000  202.000000    6.200000  "
      ]
     },
     "execution_count": 6,
     "metadata": {},
     "output_type": "execute_result"
    }
   ],
   "source": [
    "# Summarize the distribution of instances across classes in your dataset.\n",
    "df.describe()"
   ]
  },
  {
   "cell_type": "code",
   "execution_count": 7,
   "metadata": {},
   "outputs": [
    {
     "data": {
      "text/html": [
       "<div>\n",
       "<style scoped>\n",
       "    .dataframe tbody tr th:only-of-type {\n",
       "        vertical-align: middle;\n",
       "    }\n",
       "\n",
       "    .dataframe tbody tr th {\n",
       "        vertical-align: top;\n",
       "    }\n",
       "\n",
       "    .dataframe thead th {\n",
       "        text-align: right;\n",
       "    }\n",
       "</style>\n",
       "<table border=\"1\" class=\"dataframe\">\n",
       "  <thead>\n",
       "    <tr style=\"text-align: right;\">\n",
       "      <th></th>\n",
       "      <th>age</th>\n",
       "      <th>sex</th>\n",
       "      <th>exng</th>\n",
       "      <th>ca</th>\n",
       "      <th>cp</th>\n",
       "      <th>trtbps</th>\n",
       "      <th>chol</th>\n",
       "      <th>fbs</th>\n",
       "      <th>restecg</th>\n",
       "      <th>thalach</th>\n",
       "      <th>oldpeak</th>\n",
       "    </tr>\n",
       "  </thead>\n",
       "  <tbody>\n",
       "    <tr>\n",
       "      <th>age</th>\n",
       "      <td>1.000000</td>\n",
       "      <td>-0.098447</td>\n",
       "      <td>0.096801</td>\n",
       "      <td>0.276326</td>\n",
       "      <td>-0.068653</td>\n",
       "      <td>0.279351</td>\n",
       "      <td>0.213678</td>\n",
       "      <td>0.121308</td>\n",
       "      <td>-0.116211</td>\n",
       "      <td>-0.398522</td>\n",
       "      <td>0.210013</td>\n",
       "    </tr>\n",
       "    <tr>\n",
       "      <th>sex</th>\n",
       "      <td>-0.098447</td>\n",
       "      <td>1.000000</td>\n",
       "      <td>0.141664</td>\n",
       "      <td>0.118261</td>\n",
       "      <td>-0.049353</td>\n",
       "      <td>-0.056769</td>\n",
       "      <td>-0.197912</td>\n",
       "      <td>0.045032</td>\n",
       "      <td>-0.058196</td>\n",
       "      <td>-0.044020</td>\n",
       "      <td>0.096093</td>\n",
       "    </tr>\n",
       "    <tr>\n",
       "      <th>exng</th>\n",
       "      <td>0.096801</td>\n",
       "      <td>0.141664</td>\n",
       "      <td>1.000000</td>\n",
       "      <td>0.115739</td>\n",
       "      <td>-0.394280</td>\n",
       "      <td>0.067616</td>\n",
       "      <td>0.067023</td>\n",
       "      <td>0.025665</td>\n",
       "      <td>-0.070733</td>\n",
       "      <td>-0.378812</td>\n",
       "      <td>0.288223</td>\n",
       "    </tr>\n",
       "    <tr>\n",
       "      <th>ca</th>\n",
       "      <td>0.276326</td>\n",
       "      <td>0.118261</td>\n",
       "      <td>0.115739</td>\n",
       "      <td>1.000000</td>\n",
       "      <td>-0.181053</td>\n",
       "      <td>0.101389</td>\n",
       "      <td>0.070511</td>\n",
       "      <td>0.137979</td>\n",
       "      <td>-0.072042</td>\n",
       "      <td>-0.213177</td>\n",
       "      <td>0.222682</td>\n",
       "    </tr>\n",
       "    <tr>\n",
       "      <th>cp</th>\n",
       "      <td>-0.068653</td>\n",
       "      <td>-0.049353</td>\n",
       "      <td>-0.394280</td>\n",
       "      <td>-0.181053</td>\n",
       "      <td>1.000000</td>\n",
       "      <td>0.047608</td>\n",
       "      <td>-0.076904</td>\n",
       "      <td>0.094444</td>\n",
       "      <td>0.044421</td>\n",
       "      <td>0.295762</td>\n",
       "      <td>-0.149230</td>\n",
       "    </tr>\n",
       "    <tr>\n",
       "      <th>trtbps</th>\n",
       "      <td>0.279351</td>\n",
       "      <td>-0.056769</td>\n",
       "      <td>0.067616</td>\n",
       "      <td>0.101389</td>\n",
       "      <td>0.047608</td>\n",
       "      <td>1.000000</td>\n",
       "      <td>0.123174</td>\n",
       "      <td>0.177531</td>\n",
       "      <td>-0.114103</td>\n",
       "      <td>-0.046698</td>\n",
       "      <td>0.193216</td>\n",
       "    </tr>\n",
       "    <tr>\n",
       "      <th>chol</th>\n",
       "      <td>0.213678</td>\n",
       "      <td>-0.197912</td>\n",
       "      <td>0.067023</td>\n",
       "      <td>0.070511</td>\n",
       "      <td>-0.076904</td>\n",
       "      <td>0.123174</td>\n",
       "      <td>1.000000</td>\n",
       "      <td>0.013294</td>\n",
       "      <td>-0.151040</td>\n",
       "      <td>-0.009940</td>\n",
       "      <td>0.053952</td>\n",
       "    </tr>\n",
       "    <tr>\n",
       "      <th>fbs</th>\n",
       "      <td>0.121308</td>\n",
       "      <td>0.045032</td>\n",
       "      <td>0.025665</td>\n",
       "      <td>0.137979</td>\n",
       "      <td>0.094444</td>\n",
       "      <td>0.177531</td>\n",
       "      <td>0.013294</td>\n",
       "      <td>1.000000</td>\n",
       "      <td>-0.084189</td>\n",
       "      <td>-0.008567</td>\n",
       "      <td>0.005747</td>\n",
       "    </tr>\n",
       "    <tr>\n",
       "      <th>restecg</th>\n",
       "      <td>-0.116211</td>\n",
       "      <td>-0.058196</td>\n",
       "      <td>-0.070733</td>\n",
       "      <td>-0.072042</td>\n",
       "      <td>0.044421</td>\n",
       "      <td>-0.114103</td>\n",
       "      <td>-0.151040</td>\n",
       "      <td>-0.084189</td>\n",
       "      <td>1.000000</td>\n",
       "      <td>0.044123</td>\n",
       "      <td>-0.058770</td>\n",
       "    </tr>\n",
       "    <tr>\n",
       "      <th>thalach</th>\n",
       "      <td>-0.398522</td>\n",
       "      <td>-0.044020</td>\n",
       "      <td>-0.378812</td>\n",
       "      <td>-0.213177</td>\n",
       "      <td>0.295762</td>\n",
       "      <td>-0.046698</td>\n",
       "      <td>-0.009940</td>\n",
       "      <td>-0.008567</td>\n",
       "      <td>0.044123</td>\n",
       "      <td>1.000000</td>\n",
       "      <td>-0.344187</td>\n",
       "    </tr>\n",
       "    <tr>\n",
       "      <th>oldpeak</th>\n",
       "      <td>0.210013</td>\n",
       "      <td>0.096093</td>\n",
       "      <td>0.288223</td>\n",
       "      <td>0.222682</td>\n",
       "      <td>-0.149230</td>\n",
       "      <td>0.193216</td>\n",
       "      <td>0.053952</td>\n",
       "      <td>0.005747</td>\n",
       "      <td>-0.058770</td>\n",
       "      <td>-0.344187</td>\n",
       "      <td>1.000000</td>\n",
       "    </tr>\n",
       "  </tbody>\n",
       "</table>\n",
       "</div>"
      ],
      "text/plain": [
       "              age       sex      exng        ca        cp    trtbps      chol  \\\n",
       "age      1.000000 -0.098447  0.096801  0.276326 -0.068653  0.279351  0.213678   \n",
       "sex     -0.098447  1.000000  0.141664  0.118261 -0.049353 -0.056769 -0.197912   \n",
       "exng     0.096801  0.141664  1.000000  0.115739 -0.394280  0.067616  0.067023   \n",
       "ca       0.276326  0.118261  0.115739  1.000000 -0.181053  0.101389  0.070511   \n",
       "cp      -0.068653 -0.049353 -0.394280 -0.181053  1.000000  0.047608 -0.076904   \n",
       "trtbps   0.279351 -0.056769  0.067616  0.101389  0.047608  1.000000  0.123174   \n",
       "chol     0.213678 -0.197912  0.067023  0.070511 -0.076904  0.123174  1.000000   \n",
       "fbs      0.121308  0.045032  0.025665  0.137979  0.094444  0.177531  0.013294   \n",
       "restecg -0.116211 -0.058196 -0.070733 -0.072042  0.044421 -0.114103 -0.151040   \n",
       "thalach -0.398522 -0.044020 -0.378812 -0.213177  0.295762 -0.046698 -0.009940   \n",
       "oldpeak  0.210013  0.096093  0.288223  0.222682 -0.149230  0.193216  0.053952   \n",
       "\n",
       "              fbs   restecg   thalach   oldpeak  \n",
       "age      0.121308 -0.116211 -0.398522  0.210013  \n",
       "sex      0.045032 -0.058196 -0.044020  0.096093  \n",
       "exng     0.025665 -0.070733 -0.378812  0.288223  \n",
       "ca       0.137979 -0.072042 -0.213177  0.222682  \n",
       "cp       0.094444  0.044421  0.295762 -0.149230  \n",
       "trtbps   0.177531 -0.114103 -0.046698  0.193216  \n",
       "chol     0.013294 -0.151040 -0.009940  0.053952  \n",
       "fbs      1.000000 -0.084189 -0.008567  0.005747  \n",
       "restecg -0.084189  1.000000  0.044123 -0.058770  \n",
       "thalach -0.008567  0.044123  1.000000 -0.344187  \n",
       "oldpeak  0.005747 -0.058770 -0.344187  1.000000  "
      ]
     },
     "execution_count": 7,
     "metadata": {},
     "output_type": "execute_result"
    }
   ],
   "source": [
    "# Correlations Between Attributes\n",
    "df.corr()"
   ]
  },
  {
   "cell_type": "markdown",
   "metadata": {},
   "source": [
    "# Central Tendency\n",
    "It is measured using 3M's that is mean, median and mode.\n",
    "\n",
    "1. Mean: It is defined as the average of the values present.\n",
    "2. Median: It is the centrally located value of the dataset when arranged in ascending order.\n",
    "3. Mode: It is the most frequent value in the dataset.\n",
    "   Now the question arises how are these values useful in data analysis of data science. To answer it let us see the following graph."
   ]
  },
  {
   "cell_type": "code",
   "execution_count": 8,
   "metadata": {},
   "outputs": [
    {
     "name": "stdout",
     "output_type": "stream",
     "text": [
      "Mean of age: 54.366336633663366\n",
      "Median of age: 55.0\n",
      "Mode of age: 0    58\n",
      "dtype: int64\n",
      "Skewness:  -0.2014596901125439\n"
     ]
    },
    {
     "data": {
      "image/png": "[encoded data removed]",
      "text/plain": [
       "<Figure size 640x480 with 1 Axes>"
      ]
     },
     "metadata": {},
     "output_type": "display_data"
    }
   ],
   "source": [
    "x = df[\"age\"]\n",
    "sns.histplot(x, kde = True)\n",
    "plt.xlabel('Age')\n",
    "plt.title('Distribution of Age')\n",
    "\n",
    "print(\"Mean of age:\", df[\"age\"].mean())\n",
    "print(\"Median of age:\", df[\"age\"].median())\n",
    "print(\"Mode of age:\", df[\"age\"].mode())\n",
    "print(\"Skewness: \", skew(df[\"age\"]))"
   ]
  },
  {
   "cell_type": "code",
   "execution_count": 9,
   "metadata": {},
   "outputs": [
    {
     "data": {
      "application/vnd.plotly.v1+json": {
       "config": {
        "plotlyServerURL": "https://plot.ly"
       },
       "data": [
        {
         "autobinx": false,
         "histnorm": "probability density",
         "legendgroup": "Age",
         "marker": {
          "color": "rgb(31, 119, 180)"
         },
         "name": "Age",
         "opacity": 0.7,
         "type": "histogram",
         "x": [
          63,
          37,
          41,
          56,
          57,
          57,
          56,
          44,
          52,
          57,
          54,
          48,
          49,
          64,
          58,
          50,
          58,
          66,
          43,
          69,
          59,
          44,
          42,
          61,
          40,
          71,
          59,
          51,
          65,
          53,
          41,
          65,
          44,
          54,
          51,
          46,
          54,
          54,
          65,
          65,
          51,
          48,
          45,
          53,
          39,
          52,
          44,
          47,
          53,
          53,
          51,
          66,
          62,
          44,
          63,
          52,
          48,
          45,
          34,
          57,
          71,
          54,
          52,
          41,
          58,
          35,
          51,
          45,
          44,
          62,
          54,
          51,
          29,
          51,
          43,
          55,
          51,
          59,
          52,
          58,
          41,
          45,
          60,
          52,
          42,
          67,
          68,
          46,
          54,
          58,
          48,
          57,
          52,
          54,
          45,
          53,
          62,
          52,
          43,
          53,
          42,
          59,
          63,
          42,
          50,
          68,
          69,
          45,
          50,
          50,
          64,
          57,
          64,
          43,
          55,
          37,
          41,
          56,
          46,
          46,
          64,
          59,
          41,
          54,
          39,
          34,
          47,
          67,
          52,
          74,
          54,
          49,
          42,
          41,
          41,
          49,
          60,
          62,
          57,
          64,
          51,
          43,
          42,
          67,
          76,
          70,
          44,
          60,
          44,
          42,
          66,
          71,
          64,
          66,
          39,
          58,
          47,
          35,
          58,
          56,
          56,
          55,
          41,
          38,
          38,
          67,
          67,
          62,
          63,
          53,
          56,
          48,
          58,
          58,
          60,
          40,
          60,
          64,
          43,
          57,
          55,
          65,
          61,
          58,
          50,
          44,
          60,
          54,
          50,
          41,
          51,
          58,
          54,
          60,
          60,
          59,
          46,
          67,
          62,
          65,
          44,
          60,
          58,
          68,
          62,
          52,
          59,
          60,
          49,
          59,
          57,
          61,
          39,
          61,
          56,
          43,
          62,
          63,
          65,
          48,
          63,
          55,
          65,
          56,
          54,
          70,
          62,
          35,
          59,
          64,
          47,
          57,
          55,
          64,
          70,
          51,
          58,
          60,
          77,
          35,
          70,
          59,
          64,
          57,
          56,
          48,
          56,
          66,
          54,
          69,
          51,
          43,
          62,
          67,
          59,
          45,
          58,
          50,
          62,
          38,
          66,
          52,
          53,
          63,
          54,
          66,
          55,
          49,
          54,
          56,
          46,
          61,
          67,
          58,
          47,
          52,
          58,
          57,
          58,
          61,
          42,
          52,
          59,
          40,
          61,
          46,
          59,
          57,
          57,
          55,
          61,
          58,
          58,
          67,
          44,
          63,
          63,
          59,
          57,
          45,
          68,
          57,
          57
         ],
         "xaxis": "x",
         "xbins": {
          "end": 77,
          "size": 1,
          "start": 29
         },
         "yaxis": "y"
        },
        {
         "legendgroup": "Age",
         "marker": {
          "color": "rgb(31, 119, 180)"
         },
         "mode": "lines",
         "name": "Age",
         "showlegend": false,
         "type": "scatter",
         "x": [
          29,
          29.096,
          29.192,
          29.288,
          29.384,
          29.48,
          29.576,
          29.672,
          29.768,
          29.864,
          29.96,
          30.056,
          30.152,
          30.248,
          30.344,
          30.44,
          30.536,
          30.632,
          30.728,
          30.824,
          30.92,
          31.016,
          31.112000000000002,
          31.208,
          31.304,
          31.4,
          31.496,
          31.592,
          31.688,
          31.784,
          31.88,
          31.976,
          32.072,
          32.168,
          32.264,
          32.36,
          32.456,
          32.552,
          32.648,
          32.744,
          32.84,
          32.936,
          33.032,
          33.128,
          33.224000000000004,
          33.32,
          33.416,
          33.512,
          33.608,
          33.704,
          33.8,
          33.896,
          33.992,
          34.088,
          34.184,
          34.28,
          34.376,
          34.472,
          34.568,
          34.664,
          34.76,
          34.856,
          34.952,
          35.048,
          35.144,
          35.24,
          35.336,
          35.432,
          35.528,
          35.624,
          35.72,
          35.816,
          35.912,
          36.008,
          36.104,
          36.2,
          36.296,
          36.392,
          36.488,
          36.584,
          36.68,
          36.775999999999996,
          36.872,
          36.968,
          37.064,
          37.16,
          37.256,
          37.352000000000004,
          37.448,
          37.544,
          37.64,
          37.736000000000004,
          37.832,
          37.928,
          38.024,
          38.12,
          38.216,
          38.312,
          38.408,
          38.504,
          38.6,
          38.696,
          38.792,
          38.888,
          38.984,
          39.08,
          39.176,
          39.272,
          39.368,
          39.464,
          39.56,
          39.656,
          39.752,
          39.848,
          39.944,
          40.04,
          40.135999999999996,
          40.232,
          40.328,
          40.424,
          40.519999999999996,
          40.616,
          40.712,
          40.808,
          40.903999999999996,
          41,
          41.096000000000004,
          41.192,
          41.288,
          41.384,
          41.480000000000004,
          41.576,
          41.672,
          41.768,
          41.864000000000004,
          41.96,
          42.056,
          42.152,
          42.248,
          42.344,
          42.44,
          42.536,
          42.632,
          42.728,
          42.824,
          42.92,
          43.016,
          43.112,
          43.208,
          43.304,
          43.4,
          43.496,
          43.592,
          43.688,
          43.784,
          43.88,
          43.976,
          44.072,
          44.168,
          44.263999999999996,
          44.36,
          44.456,
          44.552,
          44.647999999999996,
          44.744,
          44.84,
          44.936,
          45.032,
          45.128,
          45.224000000000004,
          45.32,
          45.416,
          45.512,
          45.608000000000004,
          45.704,
          45.8,
          45.896,
          45.992000000000004,
          46.088,
          46.184,
          46.28,
          46.376000000000005,
          46.472,
          46.568,
          46.664,
          46.760000000000005,
          46.856,
          46.952,
          47.048,
          47.144,
          47.239999999999995,
          47.336,
          47.432,
          47.528,
          47.623999999999995,
          47.72,
          47.816,
          47.912,
          48.007999999999996,
          48.104,
          48.2,
          48.296,
          48.391999999999996,
          48.488,
          48.584,
          48.68,
          48.775999999999996,
          48.872,
          48.968,
          49.064,
          49.16,
          49.256,
          49.352000000000004,
          49.448,
          49.544,
          49.64,
          49.736000000000004,
          49.832,
          49.928,
          50.024,
          50.120000000000005,
          50.216,
          50.312,
          50.408,
          50.504000000000005,
          50.6,
          50.696,
          50.792,
          50.888000000000005,
          50.984,
          51.08,
          51.176,
          51.272,
          51.367999999999995,
          51.464,
          51.56,
          51.656,
          51.751999999999995,
          51.848,
          51.944,
          52.04,
          52.135999999999996,
          52.232,
          52.328,
          52.424,
          52.519999999999996,
          52.616,
          52.712,
          52.808,
          52.903999999999996,
          53,
          53.096000000000004,
          53.192,
          53.288,
          53.384,
          53.480000000000004,
          53.576,
          53.672,
          53.768,
          53.864000000000004,
          53.96,
          54.056,
          54.152,
          54.248000000000005,
          54.344,
          54.44,
          54.536,
          54.632000000000005,
          54.728,
          54.824,
          54.92,
          55.016,
          55.111999999999995,
          55.208,
          55.304,
          55.4,
          55.495999999999995,
          55.592,
          55.688,
          55.784,
          55.879999999999995,
          55.976,
          56.072,
          56.168,
          56.263999999999996,
          56.36,
          56.456,
          56.552,
          56.647999999999996,
          56.744,
          56.84,
          56.936,
          57.032,
          57.128,
          57.224000000000004,
          57.32,
          57.416,
          57.512,
          57.608000000000004,
          57.704,
          57.8,
          57.896,
          57.992000000000004,
          58.088,
          58.184,
          58.28,
          58.376000000000005,
          58.472,
          58.568,
          58.664,
          58.760000000000005,
          58.856,
          58.952,
          59.048,
          59.144,
          59.239999999999995,
          59.336,
          59.432,
          59.528,
          59.623999999999995,
          59.72,
          59.816,
          59.912,
          60.007999999999996,
          60.104,
          60.2,
          60.296,
          60.391999999999996,
          60.488,
          60.584,
          60.68,
          60.775999999999996,
          60.872,
          60.968,
          61.064,
          61.16,
          61.256,
          61.352,
          61.448,
          61.544,
          61.64,
          61.736,
          61.832,
          61.928,
          62.024,
          62.12,
          62.216,
          62.312,
          62.408,
          62.504,
          62.6,
          62.696,
          62.792,
          62.888,
          62.984,
          63.08,
          63.176,
          63.272,
          63.368,
          63.464,
          63.56,
          63.656,
          63.752,
          63.848,
          63.944,
          64.03999999999999,
          64.136,
          64.232,
          64.328,
          64.424,
          64.52000000000001,
          64.616,
          64.712,
          64.80799999999999,
          64.904,
          65,
          65.096,
          65.19200000000001,
          65.288,
          65.384,
          65.47999999999999,
          65.576,
          65.672,
          65.768,
          65.864,
          65.96000000000001,
          66.056,
          66.152,
          66.24799999999999,
          66.344,
          66.44,
          66.536,
          66.632,
          66.72800000000001,
          66.824,
          66.92,
          67.01599999999999,
          67.112,
          67.208,
          67.304,
          67.4,
          67.49600000000001,
          67.592,
          67.688,
          67.78399999999999,
          67.88,
          67.976,
          68.072,
          68.168,
          68.26400000000001,
          68.36,
          68.456,
          68.55199999999999,
          68.648,
          68.744,
          68.84,
          68.936,
          69.032,
          69.128,
          69.22399999999999,
          69.32,
          69.416,
          69.512,
          69.608,
          69.70400000000001,
          69.8,
          69.896,
          69.99199999999999,
          70.088,
          70.184,
          70.28,
          70.376,
          70.47200000000001,
          70.568,
          70.664,
          70.75999999999999,
          70.856,
          70.952,
          71.048,
          71.144,
          71.24000000000001,
          71.336,
          71.432,
          71.52799999999999,
          71.624,
          71.72,
          71.816,
          71.912,
          72.00800000000001,
          72.104,
          72.2,
          72.29599999999999,
          72.392,
          72.488,
          72.584,
          72.68,
          72.77600000000001,
          72.872,
          72.968,
          73.064,
          73.16,
          73.256,
          73.352,
          73.44800000000001,
          73.544,
          73.64,
          73.73599999999999,
          73.832,
          73.928,
          74.024,
          74.12,
          74.21600000000001,
          74.312,
          74.408,
          74.50399999999999,
          74.6,
          74.696,
          74.792,
          74.888,
          74.98400000000001,
          75.08,
          75.176,
          75.27199999999999,
          75.368,
          75.464,
          75.56,
          75.656,
          75.75200000000001,
          75.848,
          75.944,
          76.03999999999999,
          76.136,
          76.232,
          76.328,
          76.424,
          76.52000000000001,
          76.616,
          76.712,
          76.80799999999999,
          76.904
         ],
         "xaxis": "x",
         "y": [
          0.0009099964106332651,
          0.0009406348929687064,
          0.0009723768144354336,
          0.001005270348799152,
          0.0010393640624148538,
          0.0010747067134812354,
          0.0011113470442591742,
          0.0011493335678767233,
          0.0011887143514592113,
          0.0012295367974257362,
          0.0012718474248811294,
          0.0013156916531036195,
          0.0013611135891817541,
          0.001408155821888275,
          0.0014568592238925536,
          0.0015072627644060926,
          0.0015594033343267462,
          0.001613315585896203,
          0.001669031788811942,
          0.0017265817046391056,
          0.001785992481249927,
          0.0018472885688791644,
          0.0019104916592239327,
          0.0019756206488368423,
          0.0020426916278633873,
          0.002111717894959886,
          0.0021827099989984743,
          0.0022556758079230015,
          0.002330620604866049,
          0.0024075472113750645,
          0.0024864561373275154,
          0.00256734575684337,
          0.0026502125092308483,
          0.002735051123731183,
          0.002821854866562768,
          0.0029106158085072218,
          0.0030013251110330504,
          0.003093973328717802,
          0.003188550725512257,
          0.0032850476021892773,
          0.0033834546321412943,
          0.0034837632025335225,
          0.0035859657576881605,
          0.003690056141469501,
          0.0037960299353625225,
          0.003903884788888863,
          0.0040136207389859175,
          0.004125240514986768,
          0.004238749825881525,
          0.004354157626614999,
          0.004471476360278833,
          0.004590722173191424,
          0.004711915100020781,
          0.004835079216296645,
          0.0049602427558741845,
          0.005087438191152552,
          0.005216702274114107,
          0.005348076036533564,
          0.005481604748005787,
          0.005617337830756849,
          0.005755328730529856,
          0.005895634743173509,
          0.006038316796904735,
          0.0061834391905621145,
          0.006331069288514119,
          0.006481277173229889,
          0.006634135256858426,
          0.006789717853492849,
          0.006948100714114525,
          0.007109360526518107,
          0.007273574382807051,
          0.007440819217320627,
          0.0076111712181032515,
          0.007784705215255841,
          0.007961494049712614,
          0.008141607926165785,
          0.00832511375401339,
          0.008512074480330098,
          0.008702548418958605,
          0.008896588579886967,
          0.009094242003118506,
          0.009295549101251114,
          0.009500543014967205,
          0.009709248985590328,
          0.009921683748793403,
          0.010137854953445925,
          0.010357760609464136,
          0.010581388568383407,
          0.01080871604020089,
          0.011039709149849058,
          0.011274322536449832,
          0.01151249899827358,
          0.01175416918608417,
          0.011999251347295209,
          0.012247651123093497,
          0.012499261400407205,
          0.012753962220310139,
          0.013011620744157404,
          0.013272091278453082,
          0.013535215359146395,
          0.013800821895753278,
          0.014068727375398438,
          0.014338736126574799,
          0.014610640642121328,
          0.014884221960634249,
          0.015159250105240824,
          0.015435484578394859,
          0.01571267491108561,
          0.01599056126460124,
          0.016268875082743064,
          0.01654733979216018,
          0.01682567154825566,
          0.017103580023915876,
          0.0173807692381246,
          0.01765693842135402,
          0.01793178291446611,
          0.018204995097717606,
          0.018476265346337756,
          0.018745283009037373,
          0.019011737405716916,
          0.01927531884056429,
          0.019535719626669886,
          0.019792635118245104,
          0.020045764746498492,
          0.02029481305520844,
          0.02053949073203306,
          0.020779515631611414,
          0.021014613786537704,
          0.021244520402332913,
          0.02146898083259011,
          0.021687751530540096,
          0.021900600973357977,
          0.02210731055562504,
          0.02230767544845717,
          0.02250150542092568,
          0.022688625620513114,
          0.022868877309480982,
          0.023042118554160662,
          0.023208224864330617,
          0.023367089779997217,
          0.023518625403057235,
          0.023662762871497673,
          0.023799452773960006,
          0.023928665502685326,
          0.024050391543047712,
          0.02416464169808073,
          0.024271447246606764,
          0.024370860033790544,
          0.024462952493150638,
          0.02454781759928929,
          0.024625568750822363,
          0.024696339583226628,
          0.024760283711554847,
          0.024817574403212316,
          0.024868404181229434,
          0.024912984358714294,
          0.024951544505420562,
          0.024984331847615764,
          0.025011610602693267,
          0.025033661250222917,
          0.025050779741395968,
          0.025063276649070213,
          0.025071476260879234,
          0.025075715618120442,
          0.025076343503382992,
          0.025073719380123982,
          0.025068212287636928,
          0.025060199695088624,
          0.02505006631852512,
          0.02503820290495934,
          0.02502500498785882,
          0.02501087161853923,
          0.024996204078151566,
          0.024981404575107783,
          0.024966874932941193,
          0.02495301527372069,
          0.02494022270225155,
          0.024928889996379204,
          0.024919404308783054,
          0.024912145885685404,
          0.024907486807925722,
          0.02490578975983548,
          0.02490740683132447,
          0.024912678358520336,
          0.024921931808221012,
          0.024935480711298263,
          0.024953623650044755,
          0.024976643304280947,
          0.02500480556083408,
          0.02503835869076082,
          0.025077532598427522,
          0.025122538146261333,
          0.025173566558670063,
          0.02523078890827365,
          0.025294355687220053,
          0.025364396465954266,
          0.025441019641389305,
          0.025524312275980544,
          0.025614340028742747,
          0.025711147178767192,
          0.025814756741300827,
          0.02592517067594171,
          0.026042370185988633,
          0.026166316107459467,
          0.02629694938576861,
          0.026434191637529095,
          0.026577945794422998,
          0.026728096825574234,
          0.02688451253435352,
          0.027047044425063678,
          0.027215528634482327,
          0.027389786922801085,
          0.027569627718078662,
          0.02775484720794291,
          0.02794523047192366,
          0.02814055264748177,
          0.028340580122530466,
          0.02854507174701132,
          0.02875378005590668,
          0.028966452495936993,
          0.029182832648108472,
          0.029402661438251432,
          0.029625678327713127,
          0.02985162247645705,
          0.030080233870957918,
          0.030311254409484848,
          0.030544428937615442,
          0.03077950622714274,
          0.031016239891902567,
          0.031254389234473594,
          0.031493720018176304,
          0.031734005159324785,
          0.03197502533525685,
          0.03221656950428052,
          0.032458435334334824,
          0.03270042953784581,
          0.03294236811098493,
          0.03318407647627697,
          0.033425389528268144,
          0.03366615158274801,
          0.0339062162307963,
          0.03414544609971722,
          0.03438371252370196,
          0.034620895127828656,
          0.03485688132976068,
          0.03509156576422595,
          0.035324849636054347,
          0.035556640008203105,
          0.035786849031810536,
          0.0360153931258739,
          0.03624219211465119,
          0.036467168331323435,
          0.036690245696829056,
          0.03691134878307799,
          0.03713040186998199,
          0.03734732800588143,
          0.03756204808101274,
          0.03777447992364313,
          0.037984537428391925,
          0.03819212972607075,
          0.038397160404097457,
          0.03859952678618009,
          0.038799119279526,
          0.038995820797307006,
          0.03918950626351864,
          0.03938004220669434,
          0.039567286448206125,
          0.03975108789008019,
          0.039931286406404407,
          0.04010771284150393,
          0.04028018911712078,
          0.04044852844986102,
          0.04061253567917516,
          0.04077200770513098,
          0.040926734034220674,
          0.041076497430435004,
          0.04122107466784172,
          0.041360237379932115,
          0.04149375300006201,
          0.04162138578641948,
          0.04174289792410037,
          0.041858050696097424,
          0.04196660571428547,
          0.04206832620084947,
          0.04216297831004233,
          0.042250332479690796,
          0.04233016480149334,
          0.042402258398876264,
          0.04246640480099894,
          0.042522405301425745,
          0.042570072290018246,
          0.04260923054673821,
          0.04263971848629243,
          0.042661389342899717,
          0.04267411228490311,
          0.04267777344948909,
          0.04267227688840772,
          0.04265754541630196,
          0.04263352135404543,
          0.04260016716035098,
          0.042557465945834365,
          0.042505421864694755,
          0.04244406038018997,
          0.04237342840113593,
          0.04229359428773521,
          0.04220464772612181,
          0.04210669947209885,
          0.041999880965622176,
          0.041884343818640646,
          0.04176025917993351,
          0.04162781698157405,
          0.041487225072587106,
          0.04133870824625517,
          0.0411825071683419,
          0.04101887721425038,
          0.04084808722379856,
          0.04067041818287902,
          0.04048616184176242,
          0.04029561928020806,
          0.04009909942985188,
          0.039896917564552534,
          0.03968939376949397,
          0.03947685139986001,
          0.03925961553982169,
          0.039038011472412926,
          0.03881236317061327,
          0.03858299181961829,
          0.03835021437985976,
          0.038114342199848134,
          0.03787567968734869,
          0.03763452304678873,
          0.0373911590901194,
          0.03714586412764366,
          0.03689890294456669,
          0.036650527868248,
          0.03640097793032952,
          0.03615047812710261,
          0.03589923878065777,
          0.03564745500254681,
          0.03539530626087964,
          0.035142956050996856,
          0.034890551669092155,
          0.034638224087429594,
          0.03438608792910621,
          0.03413424153965354,
          0.03388276715216652,
          0.03363173114208618,
          0.033381184367257725,
          0.03313116258843094,
          0.03288168696497704,
          0.03263276462025476,
          0.032384389270779745,
          0.03213654191312799,
          0.031889191562338964,
          0.031642296035472015,
          0.03139580277391671,
          0.03114964969804966,
          0.030903766087877916,
          0.030658073483398354,
          0.030412486598536223,
          0.03016691424269909,
          0.029921260244192473,
          0.029675424369982762,
          0.029429303236562638,
          0.029182791206968938,
          0.028935781269316344,
          0.028688165892539138,
          0.02843983785538156,
          0.028190691045026573,
          0.027940621222115276,
          0.02768952674927061,
          0.02743730928060369,
          0.02718387441003816,
          0.02692913227664691,
          0.026672998125539863,
          0.026415392823181116,
          0.02615624332633981,
          0.025895483104193765,
          0.025633052513402935,
          0.025368899126254972,
          0.02510297801225338,
          0.024835251973767722,
          0.02456569173659985,
          0.024294276096534503,
          0.02402099202313944,
          0.02374583472225723,
          0.02346880765879132,
          0.023189922541529823,
          0.022909199271871402,
          0.02262666585842345,
          0.02234235829952892,
          0.0220563204358446,
          0.021768603775148974,
          0.021479267291589214,
          0.021188377201596626,
          0.020896006718702897,
          0.020602235789477053,
          0.020307150812775367,
          0.0200108443444565,
          0.019713414789660544,
          0.019414966084683866,
          0.019115607370404075,
          0.01881545265912206,
          0.01851462049658926,
          0.018213233620883527,
          0.017911418619679886,
          0.01760930558734722,
          0.01730702778317144,
          0.017004721291880083,
          0.016702524687509174,
          0.016400578701521798,
          0.01609902589595246,
          0.01579801034222203,
          0.015497677306136645,
          0.015198172939461478,
          0.01489964397833875,
          0.01460223744870805,
          0.01430610037878214,
          0.014011379518534206,
          0.013718221066070128,
          0.013426770400680153,
          0.013137171822307003,
          0.012849568297111444,
          0.012564101208783719,
          0.012280910115222634,
          0.012000132510193667,
          0.011721903589581495,
          0.011446356021867145,
          0.011173619722488962,
          0.010903821631789448,
          0.0106370854962999,
          0.010373531653180593,
          0.010113276817706188,
          0.00985643387376631,
          0.009603111667440779,
          0.009353414803801755,
          0.009107443447191738,
          0.008865293125327339,
          0.008627054537677745,
          0.008392813368666053,
          0.00816265010633763,
          0.0079366398672309,
          0.007714852228271102,
          0.0074973510665845,
          0.007284194408198251,
          0.007075434286648666,
          0.006871116612564857,
          0.0066712810553273315,
          0.006475960937918941,
          0.006285183146089112,
          0.006098968052939664,
          0.005917329460014954,
          0.005740274555933822,
          0.00556780389354442,
          0.005399911386508446,
          0.005236584326133118,
          0.005077803419167432,
          0.004923542847164279,
          0.004773770347882565,
          0.004628447319066853,
          0.004487528944794313,
          0.004350964344425831,
          0.004218696744036518,
          0.0040906636700375944,
          0.003966797164533881,
          0.0038470240217942865,
          0.003731266045046009,
          0.003619440322640037,
          0.0035114595224780974,
          0.0034072322034383643,
          0.003306663142395212,
          0.0032096536752947635,
          0.0031161020506255016,
          0.003025903793515134,
          0.0029389520785890718,
          0.00285513810964582,
          0.002774351504140532,
          0.002696480680419519,
          0.0026214132456184804,
          0.0025490363821229515,
          0.0024792372304938757,
          0.0024119032667824247,
          0.0023469226721964825,
          0.0022841846931364314,
          0.0022235799896893754,
          0.002165000970757056,
          0.0021083421140941014,
          0.0020535002696476876,
          0.00200037494471593,
          0.001948868569580375,
          0.0018988867424147913,
          0.001850338452427623,
          0.0018031362803576521,
          0.001757196575608886,
          0.0017124396094814081,
          0.0016687897041268989,
          0.0016261753370303855,
          0.0015845292209910376,
          0.0015437883597434312,
          0.0015038940795252867
         ],
         "yaxis": "y"
        }
       ],
       "layout": {
        "barmode": "overlay",
        "hovermode": "closest",
        "legend": {
         "traceorder": "reversed"
        },
        "template": {
         "data": {
          "bar": [
           {
            "error_x": {
             "color": "#2a3f5f"
            },
            "error_y": {
             "color": "#2a3f5f"
            },
            "marker": {
             "line": {
              "color": "#E5ECF6",
              "width": 0.5
             },
             "pattern": {
              "fillmode": "overlay",
              "size": 10,
              "solidity": 0.2
             }
            },
            "type": "bar"
           }
          ],
          "barpolar": [
           {
            "marker": {
             "line": {
              "color": "#E5ECF6",
              "width": 0.5
             },
             "pattern": {
              "fillmode": "overlay",
              "size": 10,
              "solidity": 0.2
             }
            },
            "type": "barpolar"
           }
          ],
          "carpet": [
           {
            "aaxis": {
             "endlinecolor": "#2a3f5f",
             "gridcolor": "white",
             "linecolor": "white",
             "minorgridcolor": "white",
             "startlinecolor": "#2a3f5f"
            },
            "baxis": {
             "endlinecolor": "#2a3f5f",
             "gridcolor": "white",
             "linecolor": "white",
             "minorgridcolor": "white",
             "startlinecolor": "#2a3f5f"
            },
            "type": "carpet"
           }
          ],
          "choropleth": [
           {
            "colorbar": {
             "outlinewidth": 0,
             "ticks": ""
            },
            "type": "choropleth"
           }
          ],
          "contour": [
           {
            "colorbar": {
             "outlinewidth": 0,
             "ticks": ""
            },
            "colorscale": [
             [
              0,
              "#0d0887"
             ],
             [
              0.1111111111111111,
              "#46039f"
             ],
             [
              0.2222222222222222,
              "#7201a8"
             ],
             [
              0.3333333333333333,
              "#9c179e"
             ],
             [
              0.4444444444444444,
              "#bd3786"
             ],
             [
              0.5555555555555556,
              "#d8576b"
             ],
             [
              0.6666666666666666,
              "#ed7953"
             ],
             [
              0.7777777777777778,
              "#fb9f3a"
             ],
             [
              0.8888888888888888,
              "#fdca26"
             ],
             [
              1,
              "#f0f921"
             ]
            ],
            "type": "contour"
           }
          ],
          "contourcarpet": [
           {
            "colorbar": {
             "outlinewidth": 0,
             "ticks": ""
            },
            "type": "contourcarpet"
           }
          ],
          "heatmap": [
           {
            "colorbar": {
             "outlinewidth": 0,
             "ticks": ""
            },
            "colorscale": [
             [
              0,
              "#0d0887"
             ],
             [
              0.1111111111111111,
              "#46039f"
             ],
             [
              0.2222222222222222,
              "#7201a8"
             ],
             [
              0.3333333333333333,
              "#9c179e"
             ],
             [
              0.4444444444444444,
              "#bd3786"
             ],
             [
              0.5555555555555556,
              "#d8576b"
             ],
             [
              0.6666666666666666,
              "#ed7953"
             ],
             [
              0.7777777777777778,
              "#fb9f3a"
             ],
             [
              0.8888888888888888,
              "#fdca26"
             ],
             [
              1,
              "#f0f921"
             ]
            ],
            "type": "heatmap"
           }
          ],
          "heatmapgl": [
           {
            "colorbar": {
             "outlinewidth": 0,
             "ticks": ""
            },
            "colorscale": [
             [
              0,
              "#0d0887"
             ],
             [
              0.1111111111111111,
              "#46039f"
             ],
             [
              0.2222222222222222,
              "#7201a8"
             ],
             [
              0.3333333333333333,
              "#9c179e"
             ],
             [
              0.4444444444444444,
              "#bd3786"
             ],
             [
              0.5555555555555556,
              "#d8576b"
             ],
             [
              0.6666666666666666,
              "#ed7953"
             ],
             [
              0.7777777777777778,
              "#fb9f3a"
             ],
             [
              0.8888888888888888,
              "#fdca26"
             ],
             [
              1,
              "#f0f921"
             ]
            ],
            "type": "heatmapgl"
           }
          ],
          "histogram": [
           {
            "marker": {
             "pattern": {
              "fillmode": "overlay",
              "size": 10,
              "solidity": 0.2
             }
            },
            "type": "histogram"
           }
          ],
          "histogram2d": [
           {
            "colorbar": {
             "outlinewidth": 0,
             "ticks": ""
            },
            "colorscale": [
             [
              0,
              "#0d0887"
             ],
             [
              0.1111111111111111,
              "#46039f"
             ],
             [
              0.2222222222222222,
              "#7201a8"
             ],
             [
              0.3333333333333333,
              "#9c179e"
             ],
             [
              0.4444444444444444,
              "#bd3786"
             ],
             [
              0.5555555555555556,
              "#d8576b"
             ],
             [
              0.6666666666666666,
              "#ed7953"
             ],
             [
              0.7777777777777778,
              "#fb9f3a"
             ],
             [
              0.8888888888888888,
              "#fdca26"
             ],
             [
              1,
              "#f0f921"
             ]
            ],
            "type": "histogram2d"
           }
          ],
          "histogram2dcontour": [
           {
            "colorbar": {
             "outlinewidth": 0,
             "ticks": ""
            },
            "colorscale": [
             [
              0,
              "#0d0887"
             ],
             [
              0.1111111111111111,
              "#46039f"
             ],
             [
              0.2222222222222222,
              "#7201a8"
             ],
             [
              0.3333333333333333,
              "#9c179e"
             ],
             [
              0.4444444444444444,
              "#bd3786"
             ],
             [
              0.5555555555555556,
              "#d8576b"
             ],
             [
              0.6666666666666666,
              "#ed7953"
             ],
             [
              0.7777777777777778,
              "#fb9f3a"
             ],
             [
              0.8888888888888888,
              "#fdca26"
             ],
             [
              1,
              "#f0f921"
             ]
            ],
            "type": "histogram2dcontour"
           }
          ],
          "mesh3d": [
           {
            "colorbar": {
             "outlinewidth": 0,
             "ticks": ""
            },
            "type": "mesh3d"
           }
          ],
          "parcoords": [
           {
            "line": {
             "colorbar": {
              "outlinewidth": 0,
              "ticks": ""
             }
            },
            "type": "parcoords"
           }
          ],
          "pie": [
           {
            "automargin": true,
            "type": "pie"
           }
          ],
          "scatter": [
           {
            "fillpattern": {
             "fillmode": "overlay",
             "size": 10,
             "solidity": 0.2
            },
            "type": "scatter"
           }
          ],
          "scatter3d": [
           {
            "line": {
             "colorbar": {
              "outlinewidth": 0,
              "ticks": ""
             }
            },
            "marker": {
             "colorbar": {
              "outlinewidth": 0,
              "ticks": ""
             }
            },
            "type": "scatter3d"
           }
          ],
          "scattercarpet": [
           {
            "marker": {
             "colorbar": {
              "outlinewidth": 0,
              "ticks": ""
             }
            },
            "type": "scattercarpet"
           }
          ],
          "scattergeo": [
           {
            "marker": {
             "colorbar": {
              "outlinewidth": 0,
              "ticks": ""
             }
            },
            "type": "scattergeo"
           }
          ],
          "scattergl": [
           {
            "marker": {
             "colorbar": {
              "outlinewidth": 0,
              "ticks": ""
             }
            },
            "type": "scattergl"
           }
          ],
          "scattermapbox": [
           {
            "marker": {
             "colorbar": {
              "outlinewidth": 0,
              "ticks": ""
             }
            },
            "type": "scattermapbox"
           }
          ],
          "scatterpolar": [
           {
            "marker": {
             "colorbar": {
              "outlinewidth": 0,
              "ticks": ""
             }
            },
            "type": "scatterpolar"
           }
          ],
          "scatterpolargl": [
           {
            "marker": {
             "colorbar": {
              "outlinewidth": 0,
              "ticks": ""
             }
            },
            "type": "scatterpolargl"
           }
          ],
          "scatterternary": [
           {
            "marker": {
             "colorbar": {
              "outlinewidth": 0,
              "ticks": ""
             }
            },
            "type": "scatterternary"
           }
          ],
          "surface": [
           {
            "colorbar": {
             "outlinewidth": 0,
             "ticks": ""
            },
            "colorscale": [
             [
              0,
              "#0d0887"
             ],
             [
              0.1111111111111111,
              "#46039f"
             ],
             [
              0.2222222222222222,
              "#7201a8"
             ],
             [
              0.3333333333333333,
              "#9c179e"
             ],
             [
              0.4444444444444444,
              "#bd3786"
             ],
             [
              0.5555555555555556,
              "#d8576b"
             ],
             [
              0.6666666666666666,
              "#ed7953"
             ],
             [
              0.7777777777777778,
              "#fb9f3a"
             ],
             [
              0.8888888888888888,
              "#fdca26"
             ],
             [
              1,
              "#f0f921"
             ]
            ],
            "type": "surface"
           }
          ],
          "table": [
           {
            "cells": {
             "fill": {
              "color": "#EBF0F8"
             },
             "line": {
              "color": "white"
             }
            },
            "header": {
             "fill": {
              "color": "#C8D4E3"
             },
             "line": {
              "color": "white"
             }
            },
            "type": "table"
           }
          ]
         },
         "layout": {
          "annotationdefaults": {
           "arrowcolor": "#2a3f5f",
           "arrowhead": 0,
           "arrowwidth": 1
          },
          "autotypenumbers": "strict",
          "coloraxis": {
           "colorbar": {
            "outlinewidth": 0,
            "ticks": ""
           }
          },
          "colorscale": {
           "diverging": [
            [
             0,
             "#8e0152"
            ],
            [
             0.1,
             "#c51b7d"
            ],
            [
             0.2,
             "#de77ae"
            ],
            [
             0.3,
             "#f1b6da"
            ],
            [
             0.4,
             "#fde0ef"
            ],
            [
             0.5,
             "#f7f7f7"
            ],
            [
             0.6,
             "#e6f5d0"
            ],
            [
             0.7,
             "#b8e186"
            ],
            [
             0.8,
             "#7fbc41"
            ],
            [
             0.9,
             "#4d9221"
            ],
            [
             1,
             "#276419"
            ]
           ],
           "sequential": [
            [
             0,
             "#0d0887"
            ],
            [
             0.1111111111111111,
             "#46039f"
            ],
            [
             0.2222222222222222,
             "#7201a8"
            ],
            [
             0.3333333333333333,
             "#9c179e"
            ],
            [
             0.4444444444444444,
             "#bd3786"
            ],
            [
             0.5555555555555556,
             "#d8576b"
            ],
            [
             0.6666666666666666,
             "#ed7953"
            ],
            [
             0.7777777777777778,
             "#fb9f3a"
            ],
            [
             0.8888888888888888,
             "#fdca26"
            ],
            [
             1,
             "#f0f921"
            ]
           ],
           "sequentialminus": [
            [
             0,
             "#0d0887"
            ],
            [
             0.1111111111111111,
             "#46039f"
            ],
            [
             0.2222222222222222,
             "#7201a8"
            ],
            [
             0.3333333333333333,
             "#9c179e"
            ],
            [
             0.4444444444444444,
             "#bd3786"
            ],
            [
             0.5555555555555556,
             "#d8576b"
            ],
            [
             0.6666666666666666,
             "#ed7953"
            ],
            [
             0.7777777777777778,
             "#fb9f3a"
            ],
            [
             0.8888888888888888,
             "#fdca26"
            ],
            [
             1,
             "#f0f921"
            ]
           ]
          },
          "colorway": [
           "#636efa",
           "#EF553B",
           "#00cc96",
           "#ab63fa",
           "#FFA15A",
           "#19d3f3",
           "#FF6692",
           "#B6E880",
           "#FF97FF",
           "#FECB52"
          ],
          "font": {
           "color": "#2a3f5f"
          },
          "geo": {
           "bgcolor": "white",
           "lakecolor": "white",
           "landcolor": "#E5ECF6",
           "showlakes": true,
           "showland": true,
           "subunitcolor": "white"
          },
          "hoverlabel": {
           "align": "left"
          },
          "hovermode": "closest",
          "mapbox": {
           "style": "light"
          },
          "paper_bgcolor": "white",
          "plot_bgcolor": "#E5ECF6",
          "polar": {
           "angularaxis": {
            "gridcolor": "white",
            "linecolor": "white",
            "ticks": ""
           },
           "bgcolor": "#E5ECF6",
           "radialaxis": {
            "gridcolor": "white",
            "linecolor": "white",
            "ticks": ""
           }
          },
          "scene": {
           "xaxis": {
            "backgroundcolor": "#E5ECF6",
            "gridcolor": "white",
            "gridwidth": 2,
            "linecolor": "white",
            "showbackground": true,
            "ticks": "",
            "zerolinecolor": "white"
           },
           "yaxis": {
            "backgroundcolor": "#E5ECF6",
            "gridcolor": "white",
            "gridwidth": 2,
            "linecolor": "white",
            "showbackground": true,
            "ticks": "",
            "zerolinecolor": "white"
           },
           "zaxis": {
            "backgroundcolor": "#E5ECF6",
            "gridcolor": "white",
            "gridwidth": 2,
            "linecolor": "white",
            "showbackground": true,
            "ticks": "",
            "zerolinecolor": "white"
           }
          },
          "shapedefaults": {
           "line": {
            "color": "#2a3f5f"
           }
          },
          "ternary": {
           "aaxis": {
            "gridcolor": "white",
            "linecolor": "white",
            "ticks": ""
           },
           "baxis": {
            "gridcolor": "white",
            "linecolor": "white",
            "ticks": ""
           },
           "bgcolor": "#E5ECF6",
           "caxis": {
            "gridcolor": "white",
            "linecolor": "white",
            "ticks": ""
           }
          },
          "title": {
           "x": 0.05
          },
          "xaxis": {
           "automargin": true,
           "gridcolor": "white",
           "linecolor": "white",
           "ticks": "",
           "title": {
            "standoff": 15
           },
           "zerolinecolor": "white",
           "zerolinewidth": 2
          },
          "yaxis": {
           "automargin": true,
           "gridcolor": "white",
           "linecolor": "white",
           "ticks": "",
           "title": {
            "standoff": 15
           },
           "zerolinecolor": "white",
           "zerolinewidth": 2
          }
         }
        },
        "title": {
         "text": "Distribution of age"
        },
        "xaxis": {
         "anchor": "y2",
         "domain": [
          0,
          1
         ],
         "zeroline": false
        },
        "yaxis": {
         "anchor": "free",
         "domain": [
          0,
          1
         ],
         "position": 0
        }
       }
      }
     },
     "metadata": {},
     "output_type": "display_data"
    }
   ],
   "source": [
    "fig = ff.create_distplot([x], ['Age'], show_rug=False)\n",
    "fig.update_layout(title = \"Distribution of age\")\n",
    "fig.show()"
   ]
  },
  {
   "cell_type": "markdown",
   "metadata": {},
   "source": [
    "From the graph above we have following observations:\n",
    "1. The average value is around 54 years\n",
    "2. The centrally located vale is median which is 55\n",
    "3. The most frequent values is 58\n",
    "    <p>Now we can see that the curve is not a perfect gaussian curve or bell shaped curve. The tail of the curve is towards left so it is a left skew curve (negative value above). So how does these values justify the curve shape? If we arrange our values for mean, median and mode we see that:\n",
    "    <p>Mode > Median > Mean (shows left skewness)\n",
    "    <p>Mode < Median < Mean (shows right skewness)\n",
    "    <p>Mode = Median = Mean (perfect bell shape curve)\n",
    "    <p>Hence these values provides the knowledge about the shape of the data distribution curve. Which makes it easier to deal with the data. Also, we see that mean is nearly equal to median which can tell us that there maybe no outliers present. Let us confirm it."
   ]
  },
  {
   "cell_type": "code",
   "execution_count": 17,
   "metadata": {},
   "outputs": [
    {
     "data": {
      "image/png": "[encoded data removed]",
      "text/plain": [
       "<Figure size 2000x500 with 1 Axes>"
      ]
     },
     "metadata": {},
     "output_type": "display_data"
    }
   ],
   "source": [
    "# plt.boxplot(df['age'], labels=['Age'])\n",
    "ax = sns.boxplot(data=x, orient=\"h\", palette=\"Set2\")\n",
    "plt.rcParams['figure.figsize']=(20,5)\n",
    "plt.title('Age Boxplot')\n",
    "plt.show()"
   ]
  },
  {
   "cell_type": "code",
   "execution_count": 13,
   "metadata": {},
   "outputs": [
    {
     "data": {
      "application/vnd.plotly.v1+json": {
       "config": {
        "plotlyServerURL": "https://plot.ly"
       },
       "data": [
        {
         "alignmentgroup": "True",
         "hovertemplate": "age=%{x}<extra></extra>",
         "legendgroup": "",
         "marker": {
          "color": "#636efa"
         },
         "name": "",
         "notched": false,
         "offsetgroup": "",
         "orientation": "h",
         "showlegend": false,
         "type": "box",
         "x": [
          63,
          37,
          41,
          56,
          57,
          57,
          56,
          44,
          52,
          57,
          54,
          48,
          49,
          64,
          58,
          50,
          58,
          66,
          43,
          69,
          59,
          44,
          42,
          61,
          40,
          71,
          59,
          51,
          65,
          53,
          41,
          65,
          44,
          54,
          51,
          46,
          54,
          54,
          65,
          65,
          51,
          48,
          45,
          53,
          39,
          52,
          44,
          47,
          53,
          53,
          51,
          66,
          62,
          44,
          63,
          52,
          48,
          45,
          34,
          57,
          71,
          54,
          52,
          41,
          58,
          35,
          51,
          45,
          44,
          62,
          54,
          51,
          29,
          51,
          43,
          55,
          51,
          59,
          52,
          58,
          41,
          45,
          60,
          52,
          42,
          67,
          68,
          46,
          54,
          58,
          48,
          57,
          52,
          54,
          45,
          53,
          62,
          52,
          43,
          53,
          42,
          59,
          63,
          42,
          50,
          68,
          69,
          45,
          50,
          50,
          64,
          57,
          64,
          43,
          55,
          37,
          41,
          56,
          46,
          46,
          64,
          59,
          41,
          54,
          39,
          34,
          47,
          67,
          52,
          74,
          54,
          49,
          42,
          41,
          41,
          49,
          60,
          62,
          57,
          64,
          51,
          43,
          42,
          67,
          76,
          70,
          44,
          60,
          44,
          42,
          66,
          71,
          64,
          66,
          39,
          58,
          47,
          35,
          58,
          56,
          56,
          55,
          41,
          38,
          38,
          67,
          67,
          62,
          63,
          53,
          56,
          48,
          58,
          58,
          60,
          40,
          60,
          64,
          43,
          57,
          55,
          65,
          61,
          58,
          50,
          44,
          60,
          54,
          50,
          41,
          51,
          58,
          54,
          60,
          60,
          59,
          46,
          67,
          62,
          65,
          44,
          60,
          58,
          68,
          62,
          52,
          59,
          60,
          49,
          59,
          57,
          61,
          39,
          61,
          56,
          43,
          62,
          63,
          65,
          48,
          63,
          55,
          65,
          56,
          54,
          70,
          62,
          35,
          59,
          64,
          47,
          57,
          55,
          64,
          70,
          51,
          58,
          60,
          77,
          35,
          70,
          59,
          64,
          57,
          56,
          48,
          56,
          66,
          54,
          69,
          51,
          43,
          62,
          67,
          59,
          45,
          58,
          50,
          62,
          38,
          66,
          52,
          53,
          63,
          54,
          66,
          55,
          49,
          54,
          56,
          46,
          61,
          67,
          58,
          47,
          52,
          58,
          57,
          58,
          61,
          42,
          52,
          59,
          40,
          61,
          46,
          59,
          57,
          57,
          55,
          61,
          58,
          58,
          67,
          44,
          63,
          63,
          59,
          57,
          45,
          68,
          57,
          57
         ],
         "x0": " ",
         "xaxis": "x",
         "y0": " ",
         "yaxis": "y"
        }
       ],
       "layout": {
        "boxmode": "group",
        "legend": {
         "tracegroupgap": 0
        },
        "template": {
         "data": {
          "bar": [
           {
            "error_x": {
             "color": "#2a3f5f"
            },
            "error_y": {
             "color": "#2a3f5f"
            },
            "marker": {
             "line": {
              "color": "#E5ECF6",
              "width": 0.5
             },
             "pattern": {
              "fillmode": "overlay",
              "size": 10,
              "solidity": 0.2
             }
            },
            "type": "bar"
           }
          ],
          "barpolar": [
           {
            "marker": {
             "line": {
              "color": "#E5ECF6",
              "width": 0.5
             },
             "pattern": {
              "fillmode": "overlay",
              "size": 10,
              "solidity": 0.2
             }
            },
            "type": "barpolar"
           }
          ],
          "carpet": [
           {
            "aaxis": {
             "endlinecolor": "#2a3f5f",
             "gridcolor": "white",
             "linecolor": "white",
             "minorgridcolor": "white",
             "startlinecolor": "#2a3f5f"
            },
            "baxis": {
             "endlinecolor": "#2a3f5f",
             "gridcolor": "white",
             "linecolor": "white",
             "minorgridcolor": "white",
             "startlinecolor": "#2a3f5f"
            },
            "type": "carpet"
           }
          ],
          "choropleth": [
           {
            "colorbar": {
             "outlinewidth": 0,
             "ticks": ""
            },
            "type": "choropleth"
           }
          ],
          "contour": [
           {
            "colorbar": {
             "outlinewidth": 0,
             "ticks": ""
            },
            "colorscale": [
             [
              0,
              "#0d0887"
             ],
             [
              0.1111111111111111,
              "#46039f"
             ],
             [
              0.2222222222222222,
              "#7201a8"
             ],
             [
              0.3333333333333333,
              "#9c179e"
             ],
             [
              0.4444444444444444,
              "#bd3786"
             ],
             [
              0.5555555555555556,
              "#d8576b"
             ],
             [
              0.6666666666666666,
              "#ed7953"
             ],
             [
              0.7777777777777778,
              "#fb9f3a"
             ],
             [
              0.8888888888888888,
              "#fdca26"
             ],
             [
              1,
              "#f0f921"
             ]
            ],
            "type": "contour"
           }
          ],
          "contourcarpet": [
           {
            "colorbar": {
             "outlinewidth": 0,
             "ticks": ""
            },
            "type": "contourcarpet"
           }
          ],
          "heatmap": [
           {
            "colorbar": {
             "outlinewidth": 0,
             "ticks": ""
            },
            "colorscale": [
             [
              0,
              "#0d0887"
             ],
             [
              0.1111111111111111,
              "#46039f"
             ],
             [
              0.2222222222222222,
              "#7201a8"
             ],
             [
              0.3333333333333333,
              "#9c179e"
             ],
             [
              0.4444444444444444,
              "#bd3786"
             ],
             [
              0.5555555555555556,
              "#d8576b"
             ],
             [
              0.6666666666666666,
              "#ed7953"
             ],
             [
              0.7777777777777778,
              "#fb9f3a"
             ],
             [
              0.8888888888888888,
              "#fdca26"
             ],
             [
              1,
              "#f0f921"
             ]
            ],
            "type": "heatmap"
           }
          ],
          "heatmapgl": [
           {
            "colorbar": {
             "outlinewidth": 0,
             "ticks": ""
            },
            "colorscale": [
             [
              0,
              "#0d0887"
             ],
             [
              0.1111111111111111,
              "#46039f"
             ],
             [
              0.2222222222222222,
              "#7201a8"
             ],
             [
              0.3333333333333333,
              "#9c179e"
             ],
             [
              0.4444444444444444,
              "#bd3786"
             ],
             [
              0.5555555555555556,
              "#d8576b"
             ],
             [
              0.6666666666666666,
              "#ed7953"
             ],
             [
              0.7777777777777778,
              "#fb9f3a"
             ],
             [
              0.8888888888888888,
              "#fdca26"
             ],
             [
              1,
              "#f0f921"
             ]
            ],
            "type": "heatmapgl"
           }
          ],
          "histogram": [
           {
            "marker": {
             "pattern": {
              "fillmode": "overlay",
              "size": 10,
              "solidity": 0.2
             }
            },
            "type": "histogram"
           }
          ],
          "histogram2d": [
           {
            "colorbar": {
             "outlinewidth": 0,
             "ticks": ""
            },
            "colorscale": [
             [
              0,
              "#0d0887"
             ],
             [
              0.1111111111111111,
              "#46039f"
             ],
             [
              0.2222222222222222,
              "#7201a8"
             ],
             [
              0.3333333333333333,
              "#9c179e"
             ],
             [
              0.4444444444444444,
              "#bd3786"
             ],
             [
              0.5555555555555556,
              "#d8576b"
             ],
             [
              0.6666666666666666,
              "#ed7953"
             ],
             [
              0.7777777777777778,
              "#fb9f3a"
             ],
             [
              0.8888888888888888,
              "#fdca26"
             ],
             [
              1,
              "#f0f921"
             ]
            ],
            "type": "histogram2d"
           }
          ],
          "histogram2dcontour": [
           {
            "colorbar": {
             "outlinewidth": 0,
             "ticks": ""
            },
            "colorscale": [
             [
              0,
              "#0d0887"
             ],
             [
              0.1111111111111111,
              "#46039f"
             ],
             [
              0.2222222222222222,
              "#7201a8"
             ],
             [
              0.3333333333333333,
              "#9c179e"
             ],
             [
              0.4444444444444444,
              "#bd3786"
             ],
             [
              0.5555555555555556,
              "#d8576b"
             ],
             [
              0.6666666666666666,
              "#ed7953"
             ],
             [
              0.7777777777777778,
              "#fb9f3a"
             ],
             [
              0.8888888888888888,
              "#fdca26"
             ],
             [
              1,
              "#f0f921"
             ]
            ],
            "type": "histogram2dcontour"
           }
          ],
          "mesh3d": [
           {
            "colorbar": {
             "outlinewidth": 0,
             "ticks": ""
            },
            "type": "mesh3d"
           }
          ],
          "parcoords": [
           {
            "line": {
             "colorbar": {
              "outlinewidth": 0,
              "ticks": ""
             }
            },
            "type": "parcoords"
           }
          ],
          "pie": [
           {
            "automargin": true,
            "type": "pie"
           }
          ],
          "scatter": [
           {
            "fillpattern": {
             "fillmode": "overlay",
             "size": 10,
             "solidity": 0.2
            },
            "type": "scatter"
           }
          ],
          "scatter3d": [
           {
            "line": {
             "colorbar": {
              "outlinewidth": 0,
              "ticks": ""
             }
            },
            "marker": {
             "colorbar": {
              "outlinewidth": 0,
              "ticks": ""
             }
            },
            "type": "scatter3d"
           }
          ],
          "scattercarpet": [
           {
            "marker": {
             "colorbar": {
              "outlinewidth": 0,
              "ticks": ""
             }
            },
            "type": "scattercarpet"
           }
          ],
          "scattergeo": [
           {
            "marker": {
             "colorbar": {
              "outlinewidth": 0,
              "ticks": ""
             }
            },
            "type": "scattergeo"
           }
          ],
          "scattergl": [
           {
            "marker": {
             "colorbar": {
              "outlinewidth": 0,
              "ticks": ""
             }
            },
            "type": "scattergl"
           }
          ],
          "scattermapbox": [
           {
            "marker": {
             "colorbar": {
              "outlinewidth": 0,
              "ticks": ""
             }
            },
            "type": "scattermapbox"
           }
          ],
          "scatterpolar": [
           {
            "marker": {
             "colorbar": {
              "outlinewidth": 0,
              "ticks": ""
             }
            },
            "type": "scatterpolar"
           }
          ],
          "scatterpolargl": [
           {
            "marker": {
             "colorbar": {
              "outlinewidth": 0,
              "ticks": ""
             }
            },
            "type": "scatterpolargl"
           }
          ],
          "scatterternary": [
           {
            "marker": {
             "colorbar": {
              "outlinewidth": 0,
              "ticks": ""
             }
            },
            "type": "scatterternary"
           }
          ],
          "surface": [
           {
            "colorbar": {
             "outlinewidth": 0,
             "ticks": ""
            },
            "colorscale": [
             [
              0,
              "#0d0887"
             ],
             [
              0.1111111111111111,
              "#46039f"
             ],
             [
              0.2222222222222222,
              "#7201a8"
             ],
             [
              0.3333333333333333,
              "#9c179e"
             ],
             [
              0.4444444444444444,
              "#bd3786"
             ],
             [
              0.5555555555555556,
              "#d8576b"
             ],
             [
              0.6666666666666666,
              "#ed7953"
             ],
             [
              0.7777777777777778,
              "#fb9f3a"
             ],
             [
              0.8888888888888888,
              "#fdca26"
             ],
             [
              1,
              "#f0f921"
             ]
            ],
            "type": "surface"
           }
          ],
          "table": [
           {
            "cells": {
             "fill": {
              "color": "#EBF0F8"
             },
             "line": {
              "color": "white"
             }
            },
            "header": {
             "fill": {
              "color": "#C8D4E3"
             },
             "line": {
              "color": "white"
             }
            },
            "type": "table"
           }
          ]
         },
         "layout": {
          "annotationdefaults": {
           "arrowcolor": "#2a3f5f",
           "arrowhead": 0,
           "arrowwidth": 1
          },
          "autotypenumbers": "strict",
          "coloraxis": {
           "colorbar": {
            "outlinewidth": 0,
            "ticks": ""
           }
          },
          "colorscale": {
           "diverging": [
            [
             0,
             "#8e0152"
            ],
            [
             0.1,
             "#c51b7d"
            ],
            [
             0.2,
             "#de77ae"
            ],
            [
             0.3,
             "#f1b6da"
            ],
            [
             0.4,
             "#fde0ef"
            ],
            [
             0.5,
             "#f7f7f7"
            ],
            [
             0.6,
             "#e6f5d0"
            ],
            [
             0.7,
             "#b8e186"
            ],
            [
             0.8,
             "#7fbc41"
            ],
            [
             0.9,
             "#4d9221"
            ],
            [
             1,
             "#276419"
            ]
           ],
           "sequential": [
            [
             0,
             "#0d0887"
            ],
            [
             0.1111111111111111,
             "#46039f"
            ],
            [
             0.2222222222222222,
             "#7201a8"
            ],
            [
             0.3333333333333333,
             "#9c179e"
            ],
            [
             0.4444444444444444,
             "#bd3786"
            ],
            [
             0.5555555555555556,
             "#d8576b"
            ],
            [
             0.6666666666666666,
             "#ed7953"
            ],
            [
             0.7777777777777778,
             "#fb9f3a"
            ],
            [
             0.8888888888888888,
             "#fdca26"
            ],
            [
             1,
             "#f0f921"
            ]
           ],
           "sequentialminus": [
            [
             0,
             "#0d0887"
            ],
            [
             0.1111111111111111,
             "#46039f"
            ],
            [
             0.2222222222222222,
             "#7201a8"
            ],
            [
             0.3333333333333333,
             "#9c179e"
            ],
            [
             0.4444444444444444,
             "#bd3786"
            ],
            [
             0.5555555555555556,
             "#d8576b"
            ],
            [
             0.6666666666666666,
             "#ed7953"
            ],
            [
             0.7777777777777778,
             "#fb9f3a"
            ],
            [
             0.8888888888888888,
             "#fdca26"
            ],
            [
             1,
             "#f0f921"
            ]
           ]
          },
          "colorway": [
           "#636efa",
           "#EF553B",
           "#00cc96",
           "#ab63fa",
           "#FFA15A",
           "#19d3f3",
           "#FF6692",
           "#B6E880",
           "#FF97FF",
           "#FECB52"
          ],
          "font": {
           "color": "#2a3f5f"
          },
          "geo": {
           "bgcolor": "white",
           "lakecolor": "white",
           "landcolor": "#E5ECF6",
           "showlakes": true,
           "showland": true,
           "subunitcolor": "white"
          },
          "hoverlabel": {
           "align": "left"
          },
          "hovermode": "closest",
          "mapbox": {
           "style": "light"
          },
          "paper_bgcolor": "white",
          "plot_bgcolor": "#E5ECF6",
          "polar": {
           "angularaxis": {
            "gridcolor": "white",
            "linecolor": "white",
            "ticks": ""
           },
           "bgcolor": "#E5ECF6",
           "radialaxis": {
            "gridcolor": "white",
            "linecolor": "white",
            "ticks": ""
           }
          },
          "scene": {
           "xaxis": {
            "backgroundcolor": "#E5ECF6",
            "gridcolor": "white",
            "gridwidth": 2,
            "linecolor": "white",
            "showbackground": true,
            "ticks": "",
            "zerolinecolor": "white"
           },
           "yaxis": {
            "backgroundcolor": "#E5ECF6",
            "gridcolor": "white",
            "gridwidth": 2,
            "linecolor": "white",
            "showbackground": true,
            "ticks": "",
            "zerolinecolor": "white"
           },
           "zaxis": {
            "backgroundcolor": "#E5ECF6",
            "gridcolor": "white",
            "gridwidth": 2,
            "linecolor": "white",
            "showbackground": true,
            "ticks": "",
            "zerolinecolor": "white"
           }
          },
          "shapedefaults": {
           "line": {
            "color": "#2a3f5f"
           }
          },
          "ternary": {
           "aaxis": {
            "gridcolor": "white",
            "linecolor": "white",
            "ticks": ""
           },
           "baxis": {
            "gridcolor": "white",
            "linecolor": "white",
            "ticks": ""
           },
           "bgcolor": "#E5ECF6",
           "caxis": {
            "gridcolor": "white",
            "linecolor": "white",
            "ticks": ""
           }
          },
          "title": {
           "x": 0.05
          },
          "xaxis": {
           "automargin": true,
           "gridcolor": "white",
           "linecolor": "white",
           "ticks": "",
           "title": {
            "standoff": 15
           },
           "zerolinecolor": "white",
           "zerolinewidth": 2
          },
          "yaxis": {
           "automargin": true,
           "gridcolor": "white",
           "linecolor": "white",
           "ticks": "",
           "title": {
            "standoff": 15
           },
           "zerolinecolor": "white",
           "zerolinewidth": 2
          }
         }
        },
        "title": {
         "text": "distribution of age"
        },
        "xaxis": {
         "anchor": "y",
         "domain": [
          0,
          1
         ],
         "title": {
          "text": "age"
         }
        },
        "yaxis": {
         "anchor": "x",
         "domain": [
          0,
          1
         ]
        }
       }
      }
     },
     "metadata": {},
     "output_type": "display_data"
    }
   ],
   "source": [
    "# boxplot represent presence or absence of outliers\n",
    "fig = px.box(df, x = \"age\", title = \"distribution of age\")\n",
    "fig.show()"
   ]
  },
  {
   "cell_type": "markdown",
   "metadata": {},
   "source": [
    "# Spread\n",
    "It is a variability of the data. This spread is the distribution of the data around the central tendency. It can be measured using the following metrics:\n",
    "\n",
    "1. Range\n",
    "2. Quartile\n",
    "3. Variance\n",
    "4. Standard Deviation"
   ]
  },
  {
   "cell_type": "markdown",
   "metadata": {},
   "source": [
    "Range: It can be measured as the difference between the largest and smallest values"
   ]
  },
  {
   "cell_type": "code",
   "execution_count": 18,
   "metadata": {},
   "outputs": [
    {
     "name": "stdout",
     "output_type": "stream",
     "text": [
      "The range of the cholestrol level is: 438\n"
     ]
    }
   ],
   "source": [
    "range_chol = df[\"chol\"].max() - df[\"chol\"].min()\n",
    "print(\"The range of the cholestrol level is:\",range_chol)"
   ]
  },
  {
   "cell_type": "code",
   "execution_count": 19,
   "metadata": {},
   "outputs": [
    {
     "data": {
      "application/vnd.plotly.v1+json": {
       "config": {
        "plotlyServerURL": "https://plot.ly"
       },
       "data": [
        {
         "autobinx": false,
         "histnorm": "probability density",
         "legendgroup": "cholestrol",
         "marker": {
          "color": "rgb(31, 119, 180)"
         },
         "name": "cholestrol",
         "opacity": 0.7,
         "type": "histogram",
         "x": [
          233,
          250,
          204,
          236,
          354,
          192,
          294,
          263,
          199,
          168,
          239,
          275,
          266,
          211,
          283,
          219,
          340,
          226,
          247,
          239,
          234,
          233,
          226,
          243,
          199,
          302,
          212,
          175,
          417,
          197,
          198,
          177,
          219,
          273,
          213,
          177,
          304,
          232,
          269,
          360,
          308,
          245,
          208,
          264,
          321,
          325,
          235,
          257,
          216,
          234,
          256,
          302,
          231,
          141,
          252,
          201,
          222,
          260,
          182,
          303,
          265,
          309,
          186,
          203,
          211,
          183,
          222,
          234,
          220,
          209,
          258,
          227,
          204,
          261,
          213,
          250,
          245,
          221,
          205,
          240,
          250,
          308,
          318,
          298,
          265,
          564,
          277,
          197,
          214,
          248,
          255,
          207,
          223,
          288,
          160,
          226,
          394,
          233,
          315,
          246,
          244,
          270,
          195,
          240,
          196,
          211,
          234,
          236,
          244,
          254,
          325,
          126,
          313,
          211,
          262,
          215,
          214,
          193,
          204,
          243,
          303,
          271,
          268,
          267,
          199,
          210,
          204,
          277,
          196,
          269,
          201,
          271,
          295,
          235,
          306,
          269,
          178,
          208,
          201,
          263,
          295,
          303,
          209,
          223,
          197,
          245,
          242,
          240,
          226,
          180,
          228,
          149,
          227,
          278,
          220,
          197,
          253,
          192,
          220,
          221,
          240,
          342,
          157,
          175,
          175,
          286,
          229,
          268,
          254,
          203,
          256,
          229,
          284,
          224,
          206,
          167,
          230,
          335,
          177,
          276,
          353,
          225,
          330,
          230,
          243,
          290,
          253,
          266,
          233,
          172,
          305,
          216,
          188,
          282,
          185,
          326,
          231,
          254,
          267,
          248,
          197,
          258,
          270,
          274,
          164,
          255,
          239,
          258,
          188,
          177,
          229,
          260,
          219,
          307,
          249,
          341,
          263,
          330,
          254,
          256,
          407,
          217,
          282,
          288,
          239,
          174,
          281,
          198,
          288,
          309,
          243,
          289,
          289,
          246,
          322,
          299,
          300,
          293,
          304,
          282,
          269,
          249,
          212,
          274,
          184,
          274,
          409,
          246,
          283,
          254,
          298,
          247,
          294,
          299,
          273,
          309,
          259,
          200,
          244,
          231,
          228,
          230,
          282,
          269,
          206,
          212,
          327,
          149,
          286,
          283,
          249,
          234,
          237,
          234,
          275,
          212,
          218,
          261,
          319,
          166,
          315,
          204,
          218,
          223,
          207,
          311,
          204,
          232,
          335,
          205,
          203,
          318,
          225,
          212,
          169,
          187,
          197,
          176,
          241,
          264,
          193,
          131,
          236
         ],
         "xaxis": "x",
         "xbins": {
          "end": 564,
          "size": 1,
          "start": 126
         },
         "yaxis": "y"
        },
        {
         "legendgroup": "cholestrol",
         "marker": {
          "color": "rgb(31, 119, 180)"
         },
         "mode": "lines",
         "name": "cholestrol",
         "showlegend": false,
         "type": "scatter",
         "x": [
          126,
          126.876,
          127.752,
          128.628,
          129.504,
          130.38,
          131.256,
          132.132,
          133.008,
          133.88400000000001,
          134.76,
          135.636,
          136.512,
          137.388,
          138.264,
          139.14,
          140.016,
          140.892,
          141.768,
          142.644,
          143.52,
          144.39600000000002,
          145.272,
          146.148,
          147.024,
          147.9,
          148.776,
          149.652,
          150.528,
          151.404,
          152.28,
          153.156,
          154.032,
          154.90800000000002,
          155.784,
          156.66,
          157.536,
          158.412,
          159.288,
          160.164,
          161.04,
          161.916,
          162.792,
          163.668,
          164.54399999999998,
          165.42000000000002,
          166.296,
          167.172,
          168.048,
          168.924,
          169.8,
          170.676,
          171.552,
          172.428,
          173.304,
          174.18,
          175.05599999999998,
          175.93200000000002,
          176.808,
          177.684,
          178.56,
          179.436,
          180.312,
          181.188,
          182.064,
          182.94,
          183.816,
          184.692,
          185.56799999999998,
          186.44400000000002,
          187.32,
          188.196,
          189.072,
          189.948,
          190.824,
          191.7,
          192.576,
          193.452,
          194.328,
          195.204,
          196.07999999999998,
          196.95600000000002,
          197.832,
          198.708,
          199.584,
          200.45999999999998,
          201.336,
          202.212,
          203.088,
          203.964,
          204.84,
          205.716,
          206.59199999999998,
          207.46800000000002,
          208.344,
          209.22,
          210.096,
          210.97199999999998,
          211.848,
          212.724,
          213.6,
          214.476,
          215.352,
          216.228,
          217.10399999999998,
          217.98000000000002,
          218.856,
          219.732,
          220.608,
          221.48399999999998,
          222.36,
          223.236,
          224.112,
          224.988,
          225.864,
          226.74,
          227.61599999999999,
          228.49200000000002,
          229.368,
          230.244,
          231.12,
          231.99599999999998,
          232.872,
          233.748,
          234.624,
          235.5,
          236.376,
          237.252,
          238.128,
          239.00400000000002,
          239.88,
          240.756,
          241.632,
          242.50799999999998,
          243.38400000000001,
          244.26,
          245.136,
          246.012,
          246.888,
          247.764,
          248.64,
          249.51600000000002,
          250.392,
          251.268,
          252.144,
          253.01999999999998,
          253.89600000000002,
          254.772,
          255.648,
          256.524,
          257.4,
          258.276,
          259.152,
          260.028,
          260.904,
          261.78,
          262.656,
          263.53200000000004,
          264.408,
          265.284,
          266.15999999999997,
          267.036,
          267.91200000000003,
          268.788,
          269.664,
          270.53999999999996,
          271.416,
          272.29200000000003,
          273.168,
          274.044,
          274.91999999999996,
          275.796,
          276.672,
          277.548,
          278.424,
          279.3,
          280.176,
          281.052,
          281.928,
          282.804,
          283.68,
          284.55600000000004,
          285.432,
          286.308,
          287.18399999999997,
          288.06,
          288.93600000000004,
          289.812,
          290.688,
          291.56399999999996,
          292.44,
          293.31600000000003,
          294.192,
          295.068,
          295.94399999999996,
          296.82,
          297.696,
          298.572,
          299.448,
          300.324,
          301.2,
          302.076,
          302.952,
          303.828,
          304.704,
          305.58000000000004,
          306.456,
          307.332,
          308.20799999999997,
          309.084,
          309.96000000000004,
          310.836,
          311.712,
          312.58799999999997,
          313.464,
          314.34000000000003,
          315.216,
          316.092,
          316.96799999999996,
          317.844,
          318.72,
          319.596,
          320.472,
          321.348,
          322.224,
          323.1,
          323.976,
          324.852,
          325.728,
          326.60400000000004,
          327.48,
          328.356,
          329.23199999999997,
          330.108,
          330.98400000000004,
          331.86,
          332.736,
          333.61199999999997,
          334.488,
          335.36400000000003,
          336.24,
          337.116,
          337.99199999999996,
          338.868,
          339.744,
          340.62,
          341.496,
          342.372,
          343.248,
          344.124,
          345,
          345.876,
          346.752,
          347.628,
          348.504,
          349.38,
          350.256,
          351.132,
          352.00800000000004,
          352.884,
          353.76,
          354.63599999999997,
          355.512,
          356.38800000000003,
          357.264,
          358.14,
          359.01599999999996,
          359.892,
          360.76800000000003,
          361.644,
          362.52,
          363.39599999999996,
          364.272,
          365.148,
          366.024,
          366.9,
          367.776,
          368.652,
          369.528,
          370.404,
          371.28,
          372.156,
          373.03200000000004,
          373.908,
          374.784,
          375.65999999999997,
          376.536,
          377.41200000000003,
          378.288,
          379.164,
          380.03999999999996,
          380.916,
          381.79200000000003,
          382.668,
          383.544,
          384.42,
          385.296,
          386.172,
          387.048,
          387.924,
          388.8,
          389.676,
          390.552,
          391.428,
          392.304,
          393.18,
          394.056,
          394.932,
          395.808,
          396.684,
          397.56,
          398.436,
          399.312,
          400.188,
          401.064,
          401.94,
          402.816,
          403.692,
          404.568,
          405.444,
          406.32,
          407.196,
          408.072,
          408.948,
          409.824,
          410.7,
          411.576,
          412.452,
          413.328,
          414.204,
          415.08,
          415.956,
          416.832,
          417.708,
          418.584,
          419.46,
          420.336,
          421.212,
          422.088,
          422.964,
          423.84,
          424.716,
          425.592,
          426.468,
          427.344,
          428.22,
          429.096,
          429.972,
          430.848,
          431.724,
          432.6,
          433.476,
          434.352,
          435.228,
          436.104,
          436.98,
          437.856,
          438.732,
          439.608,
          440.484,
          441.36,
          442.236,
          443.112,
          443.988,
          444.864,
          445.74,
          446.616,
          447.492,
          448.368,
          449.244,
          450.12,
          450.996,
          451.872,
          452.748,
          453.624,
          454.5,
          455.376,
          456.252,
          457.128,
          458.004,
          458.88,
          459.756,
          460.632,
          461.508,
          462.384,
          463.26,
          464.136,
          465.012,
          465.888,
          466.764,
          467.64,
          468.516,
          469.392,
          470.268,
          471.144,
          472.02,
          472.896,
          473.772,
          474.648,
          475.524,
          476.4,
          477.276,
          478.152,
          479.028,
          479.904,
          480.78,
          481.656,
          482.532,
          483.408,
          484.284,
          485.16,
          486.036,
          486.912,
          487.788,
          488.664,
          489.54,
          490.416,
          491.292,
          492.168,
          493.044,
          493.92,
          494.796,
          495.672,
          496.548,
          497.424,
          498.3,
          499.176,
          500.052,
          500.928,
          501.804,
          502.68,
          503.556,
          504.432,
          505.308,
          506.184,
          507.06,
          507.936,
          508.812,
          509.688,
          510.564,
          511.44,
          512.316,
          513.192,
          514.068,
          514.944,
          515.8199999999999,
          516.696,
          517.572,
          518.448,
          519.3240000000001,
          520.2,
          521.076,
          521.952,
          522.828,
          523.704,
          524.5799999999999,
          525.456,
          526.332,
          527.2080000000001,
          528.0840000000001,
          528.96,
          529.836,
          530.712,
          531.588,
          532.4639999999999,
          533.3399999999999,
          534.216,
          535.092,
          535.9680000000001,
          536.844,
          537.72,
          538.596,
          539.472,
          540.348,
          541.2239999999999,
          542.1,
          542.976,
          543.852,
          544.7280000000001,
          545.604,
          546.48,
          547.356,
          548.232,
          549.108,
          549.9839999999999,
          550.86,
          551.736,
          552.6120000000001,
          553.488,
          554.364,
          555.24,
          556.116,
          556.992,
          557.8679999999999,
          558.744,
          559.62,
          560.496,
          561.3720000000001,
          562.248,
          563.124
         ],
         "xaxis": "x",
         "y": [
          0.00032345758155982626,
          0.00033872217664405725,
          0.00035445905450977826,
          0.0003706967632080767,
          0.00038746765990881754,
          0.0004048079566527339,
          0.000422757717573408,
          0.00044136080524695,
          0.0004606647744875305,
          0.0004807207126205483,
          0.0005015830260260835,
          0.0005233091735465099,
          0.000545959348186186,
          0.0005695961093898214,
          0.0005942839690596273,
          0.0006200889353492092,
          0.0006470780191418974,
          0.0006753187089690076,
          0.0007048784209337785,
          0.0007358239309620615,
          0.0007682207973823778,
          0.0008021327824252468,
          0.0008376212817036045,
          0.000874744771070561,
          0.0009135582804261265,
          0.0009541129040400585,
          0.0009964553567544784,
          0.0010406275850113385,
          0.001086666441003494,
          0.0011346034273666287,
          0.0011844645187105733,
          0.0012362700649377282,
          0.0012900347797253568,
          0.0013457678157782983,
          0.0014034729265172048,
          0.0014631487117922983,
          0.0015247889430484564,
          0.0015883829611667874,
          0.0016539161380293647,
          0.001721370390761066,
          0.0017907247356628122,
          0.0018619558671316317,
          0.0019350387454328106,
          0.002009947176111421,
          0.0020866543631630954,
          0.002165133417876787,
          0.002245357805554338,
          0.002327301713129386,
          0.0024109403220622626,
          0.0024962499727737455,
          0.0025832082092760544,
          0.0026717936955243378,
          0.0027619859982889452,
          0.002853765234963143,
          0.002947111588583521,
          0.0030420046963480665,
          0.0031384229219569757,
          0.0032363425260531035,
          0.003335736752778544,
          0.0034365748538686975,
          0.003538821074654681,
          0.003642433628731135,
          0.003747363689771134,
          0.0038535544299524733,
          0.003960940134640685,
          0.00406944542231569,
          0.0041789845972186575,
          0.004289461159847586,
          0.004400767497285051,
          0.004512784771466002,
          0.0046253830189799455,
          0.004738421470964702,
          0.004851749096221174,
          0.0049652053650115395,
          0.005078621225255741,
          0.005191820277180972,
          0.0053046201270729254,
          0.005416833895788768,
          0.0055282718532734705,
          0.005638743146609799,
          0.005748057586247621,
          0.0058560274530928625,
          0.005962469288158751,
          0.0060672056265291185,
          0.006170066638462685,
          0.006270891642553574,
          0.006369530458902145,
          0.006465844574156985,
          0.006559708094954295,
          0.006651008471568884,
          0.006739646979353241,
          0.006825538951608117,
          0.0069086137637277625,
          0.006988814574616792,
          0.007066097837308523,
          0.007140432596260894,
          0.007211799593809573,
          0.007280190212585057,
          0.007345605284235524,
          0.007408053797451365,
          0.0074675515399994785,
          0.007524119710211148,
          0.007577783533126892,
          0.0076285709153062495,
          0.007676511170218625,
          0.007721633843218254,
          0.007763967661476514,
          0.007803539630017406,
          0.007840374290313385,
          0.007874493152894638,
          0.007905914310256277,
          0.007934652231168553,
          0.007960717732451906,
          0.007984118119514091,
          0.008004857482586836,
          0.008022937131759196,
          0.008038356150676823,
          0.008051112046234469,
          0.008061201469784014,
          0.00806862098434053,
          0.008073367851997965,
          0.008075440816247422,
          0.008074840855084024,
          0.008071571882637154,
          0.00806564137948424,
          0.00805706093472546,
          0.008045846686201067,
          0.008032019648819048,
          0.008015605924714828,
          0.007996636792773423,
          0.007975148678796605,
          0.007951183011187246,
          0.007924785970352764,
          0.007896008143011127,
          0.007864904095142197,
          0.007831531879403731,
          0.007795952494378793,
          0.007758229314010866,
          0.007718427506001195,
          0.007676613457792439,
          0.007632854228061017,
          0.007587217040421582,
          0.007539768834353899,
          0.007490575886255007,
          0.0074397035110622695,
          0.007387215852161529,
          0.007333175764368701,
          0.007277644791737245,
          0.007220683238881651,
          0.007162350331503243,
          0.007102704458941196,
          0.007041803488922772,
          0.006979705142324734,
          0.006916467413742052,
          0.006852149022043814,
          0.006786809873919208,
          0.006720511522710644,
          0.006653317604611155,
          0.006585294234577085,
          0.006516510345065363,
          0.006447037951930417,
          0.006376952333475161,
          0.006306332110706326,
          0.0062352592192407305,
          0.006163818765991938,
          0.006092098766664974,
          0.006020189763132861,
          0.005948184322885535,
          0.005876176425852838,
          0.005804260746933602,
          0.005732531845434777,
          0.0056610832752697834,
          0.005590006632116225,
          0.005519390555730806,
          0.00544931970721381,
          0.005379873742164408,
          0.005311126301340855,
          0.005243144040616149,
          0.005175985721692538,
          0.005109701384209403,
          0.0050443316185666024,
          0.004979906957013889,
          0.0049164473983669965,
          0.004853962079149214,
          0.0047924491010825805,
          0.004731895521729335,
          0.004672277511784887,
          0.004613560679123505,
          0.004555700556277274,
          0.0044986432446664885,
          0.004442326205675676,
          0.004386679185658367,
          0.004331625259227642,
          0.004277081972810867,
          0.004222962568472793,
          0.004169177266485067,
          0.004115634584077841,
          0.0040622426672705814,
          0.004008910612655271,
          0.003955549756489653,
          0.0039020749094357474,
          0.003848405516717977,
          0.0037944667253355636,
          0.0037401903421926414,
          0.003685515669545892,
          0.0036303902069449783,
          0.0035747702117821735,
          0.003518621113597585,
          0.003461917780328062,
          0.0034046446376649253,
          0.00334679564552616,
          0.003288374138286134,
          0.003229392537780654,
          0.0031698719501689764,
          0.0031098416594460207,
          0.0030493385317315737,
          0.002988406345401307,
          0.002927095062663389,
          0.002865460058332383,
          0.0028035613213268267,
          0.0027414626438474034,
          0.0026792308123165507,
          0.0026169348130208477,
          0.0025546450640454993,
          0.0024924326835773438,
          0.002430368803034153,
          0.0023685239318075577,
          0.002306967378735856,
          0.002245766733799739,
          0.0021849874120010797,
          0.00212469225997813,
          0.0020649412246597563,
          0.002005791082186732,
          0.0019472952244436572,
          0.001889503499855646,
          0.0018324621046071994,
          0.0017762135201277694,
          0.0017207964925440666,
          0.0016662460498026639,
          0.0016125935522949568,
          0.0015598667730425517,
          0.0015080900037975813,
          0.001457284183751874,
          0.0014074670479040372,
          0.0013586532924812066,
          0.00131085475513064,
          0.0012640806078684104,
          0.0012183375609858757,
          0.0011736300762601618,
          0.001129960587889993,
          0.0010873297295835502,
          0.0010457365661656229,
          0.0010051788279570306,
          0.0009656531460216723,
          0.0009271552861903576,
          0.0008896803795726136,
          0.0008532231470737911,
          0.0008177781152630294,
          0.0007833398208031698,
          0.0007499030005708915,
          0.0007174627645767742,
          0.0006860147488490563,
          0.0006555552455782456,
          0.0006260813080348177,
          0.0005975908280680164,
          0.0005700825843662753,
          0.0005435562601012914,
          0.0005180124290778194,
          0.0004934525100574801,
          0.00046987868950202683,
          0.0004472938135741915,
          0.0004257012508254938,
          0.0004051047275736977,
          0.00038550813851224167,
          0.00036691533558473745,
          0.0003493298985869715,
          0.0003327548913155815,
          0.0003171926073583672,
          0.00030264430981055213,
          0.00028910996930129885,
          0.00027658800472528204,
          0.00026507503099823114,
          0.0002545656179978679,
          0.0002450520646203581,
          0.00023652419158637304,
          0.000228969156280756,
          0.0002223712925172992,
          0.00021671197769715004,
          0.00021196952938798812,
          0.0002081191329027887,
          0.0002051328010123385,
          0.0002029793664941073,
          0.0002016245078094399,
          0.0002010308078174306,
          0.0002011578450816539,
          0.00020196231700752196,
          0.00020339819376412484,
          0.0002054169016939803,
          0.0002079675346946979,
          0.00021099709186458136,
          0.00021445073953515036,
          0.0002182720956625266,
          0.00022240353441148987,
          0.00022678650863590738,
          0.00023136188783286256,
          0.00023607030902178246,
          0.00024085253787182114,
          0.00024564983726983584,
          0.00025040434038789807,
          0.00025505942517548886,
          0.00025956008707070475,
          0.0002638533066018882,
          0.00026788840844193043,
          0.00027161740838912215,
          0.00027499534468824,
          0.0002779805900813861,
          0.00028053514099752463,
          0.000282624880359816,
          0.0002842198106168934,
          0.00028529425379309316,
          0.0002858270156066294,
          0.000285801511025236,
          0.00028520584901522923,
          0.0002840328746894371,
          0.0002822801675669072,
          0.0002799499952154518,
          0.00027704922214760275,
          0.0002735891744702378,
          0.00026958546143531354,
          0.0002650577556899197,
          0.00026002953466361373,
          0.00025452778614479325,
          0.00024858268167093613,
          0.00024222722187580662,
          0.00023549685838717506,
          0.00022842909723976219,
          0.0002210630890505021,
          0.00021343921138940148,
          0.00020559864886449792,
          0.00019758297642137384,
          0.00018943375123680006,
          0.00018119211836554054,
          0.00017289843498464964,
          0.00016459191767891136,
          0.00015631031673436654,
          0.000148089620866086,
          0.00013996379521475692,
          0.00013196455481838263,
          0.00012412117511540933,
          0.00011646034037863352,
          0.00010900603032996424,
          0.00010177944455846971,
          0.00009479896377075871,
          0.0000880801463552806,
          0.00008163575825018512,
          0.00007547583367599649,
          0.00006960776393553873,
          0.00006403641119818063,
          0.00005876424397557648,
          0.00005379149086158906,
          0.00004911630904816173,
          0.0000447349641380193,
          0.000040642017849221445,
          0.00003683052033954478,
          0.000033292204063218904,
          0.000030017676300775877,
          0.00002699660776633381,
          0.000024217914986980943,
          0.000021669934457577573,
          0.000019340586893048382,
          0.000017217530221377866,
          0.000015288300276952842,
          0.000013540438459327293,
          0.000011961605911430236,
          0.000010539684039212592,
          0.00000926286143814065,
          0.00000811970750817067,
          0.000007099233226212587,
          0.0000061909397027471395,
          0.000005384855277200961,
          0.000004671562005571419,
          0.0000040422124649131705,
          0.0000034885378444646846,
          0.000003002848314578499,
          0.0000025780266647319363,
          0.0000022075161834088895,
          0.0000018853037183388673,
          0.0000016058988082608453,
          0.000001364309719772319,
          0.0000011560171575475008,
          9.76946345697323e-7,
          8.234381045210155e-7,
          6.922194723498138e-7,
          5.803743483277788e-7,
          4.853145602741748e-7,
          4.047516934186574e-7,
          3.3666995173269106e-7,
          2.793002644966598e-7,
          2.310957971155201e-7,
          1.9070897730411618e-7,
          1.5697010570672566e-7,
          1.2886758374705345e-7,
          1.0552976085312533e-7,
          8.620837789792041e-8,
          7.026356339670382e-8,
          5.715032330941117e-8,
          4.64064537808128e-8,
          3.764179836546184e-8,
          3.0528766779694106e-8,
          2.479403055914659e-8,
          2.0211311756095538e-8,
          1.6595183590044745e-8,
          1.3795806400398305e-8,
          1.1694528006670568e-8,
          1.0200284356480999e-8,
          9.246743862948978e-9,
          8.790146858322143e-9,
          8.807799902641965e-9,
          9.297193089533612e-9,
          1.0275716807280292e-8,
          1.1780962475902183e-8,
          1.3871599430910343e-8,
          1.6628827205230217e-8,
          2.0158408814137045e-8,
          2.459329611009021e-8,
          3.0096862672756207e-8,
          3.686676285154312e-8,
          4.513943728966534e-8,
          5.519528532549594e-8,
          6.736452287547322e-8,
          8.203374053487226e-8,
          9.96531704704757e-8,
          1.2074466201228272e-7,
          1.4591035448605803e-7,
          1.7584202159808545e-7,
          2.1133104446066454e-7,
          2.5327895005760603e-7,
          3.027084285865797e-7,
          3.607747167568822e-7,
          4.287772049421932e-7,
          5.081710943775154e-7,
          6.005788967655662e-7,
          7.078015332756986e-7,
          8.318287536853142e-7,
          9.748485601869467e-7,
          0.0000011392552851791883,
          0.0000013276559393389952,
          0.0000015428744167372944,
          0.0000017879531191310861,
          0.000002066151543355177,
          0.0000023809413655188225,
          0.000002735997555076862,
          0.0000031351850623435827,
          0.00000358254064612222,
          0.000004082249445144576,
          0.000004638615949048792,
          0.000005256029092481282,
          0.000005938921280037214,
          0.000006691721250188295,
          0.0000075188008026271255,
          0.000008424415544604661,
          0.000009412639956280604,
          0.000010487297230697643,
          0.000011651884507956555,
          0.000012909494292169406,
          0.000014262733009888495,
          0.000015713637835567834,
          0.00001726359306840018,
          0.00001891324749052074,
          0.00002066243426378487,
          0.00002251009502590622,
          0.000024454209921528487,
          0.000026491735345081075,
          0.000028618551175789464,
          0.00003082941924744543,
          0.000033117954713884556,
          0.000035476611843974123,
          0.000037896685606906694,
          0.00004036833019064119,
          0.00004288059533571964,
          0.00004542148106712594,
          0.00004797801107340166,
          0.00005053632462133665,
          0.000053081786513811886,
          0.00005559911420644333,
          0.00005807252080508304,
          0.000060485872281033,
          0.00006282285687441542,
          0.00006506716431883978,
          0.00006720267222240113,
          0.00006921363669037488,
          0.00007108488408219062,
          0.00007280200066634683,
          0.00007435151687738264,
          0.00007572108289255536,
          0.00007689963233418005,
          0.00007787753106637234,
          0.00007864670828970464,
          0.00007920076743952983,
          0.00007953507475690691
         ],
         "yaxis": "y"
        }
       ],
       "layout": {
        "barmode": "overlay",
        "hovermode": "closest",
        "legend": {
         "traceorder": "reversed"
        },
        "template": {
         "data": {
          "bar": [
           {
            "error_x": {
             "color": "#2a3f5f"
            },
            "error_y": {
             "color": "#2a3f5f"
            },
            "marker": {
             "line": {
              "color": "#E5ECF6",
              "width": 0.5
             },
             "pattern": {
              "fillmode": "overlay",
              "size": 10,
              "solidity": 0.2
             }
            },
            "type": "bar"
           }
          ],
          "barpolar": [
           {
            "marker": {
             "line": {
              "color": "#E5ECF6",
              "width": 0.5
             },
             "pattern": {
              "fillmode": "overlay",
              "size": 10,
              "solidity": 0.2
             }
            },
            "type": "barpolar"
           }
          ],
          "carpet": [
           {
            "aaxis": {
             "endlinecolor": "#2a3f5f",
             "gridcolor": "white",
             "linecolor": "white",
             "minorgridcolor": "white",
             "startlinecolor": "#2a3f5f"
            },
            "baxis": {
             "endlinecolor": "#2a3f5f",
             "gridcolor": "white",
             "linecolor": "white",
             "minorgridcolor": "white",
             "startlinecolor": "#2a3f5f"
            },
            "type": "carpet"
           }
          ],
          "choropleth": [
           {
            "colorbar": {
             "outlinewidth": 0,
             "ticks": ""
            },
            "type": "choropleth"
           }
          ],
          "contour": [
           {
            "colorbar": {
             "outlinewidth": 0,
             "ticks": ""
            },
            "colorscale": [
             [
              0,
              "#0d0887"
             ],
             [
              0.1111111111111111,
              "#46039f"
             ],
             [
              0.2222222222222222,
              "#7201a8"
             ],
             [
              0.3333333333333333,
              "#9c179e"
             ],
             [
              0.4444444444444444,
              "#bd3786"
             ],
             [
              0.5555555555555556,
              "#d8576b"
             ],
             [
              0.6666666666666666,
              "#ed7953"
             ],
             [
              0.7777777777777778,
              "#fb9f3a"
             ],
             [
              0.8888888888888888,
              "#fdca26"
             ],
             [
              1,
              "#f0f921"
             ]
            ],
            "type": "contour"
           }
          ],
          "contourcarpet": [
           {
            "colorbar": {
             "outlinewidth": 0,
             "ticks": ""
            },
            "type": "contourcarpet"
           }
          ],
          "heatmap": [
           {
            "colorbar": {
             "outlinewidth": 0,
             "ticks": ""
            },
            "colorscale": [
             [
              0,
              "#0d0887"
             ],
             [
              0.1111111111111111,
              "#46039f"
             ],
             [
              0.2222222222222222,
              "#7201a8"
             ],
             [
              0.3333333333333333,
              "#9c179e"
             ],
             [
              0.4444444444444444,
              "#bd3786"
             ],
             [
              0.5555555555555556,
              "#d8576b"
             ],
             [
              0.6666666666666666,
              "#ed7953"
             ],
             [
              0.7777777777777778,
              "#fb9f3a"
             ],
             [
              0.8888888888888888,
              "#fdca26"
             ],
             [
              1,
              "#f0f921"
             ]
            ],
            "type": "heatmap"
           }
          ],
          "heatmapgl": [
           {
            "colorbar": {
             "outlinewidth": 0,
             "ticks": ""
            },
            "colorscale": [
             [
              0,
              "#0d0887"
             ],
             [
              0.1111111111111111,
              "#46039f"
             ],
             [
              0.2222222222222222,
              "#7201a8"
             ],
             [
              0.3333333333333333,
              "#9c179e"
             ],
             [
              0.4444444444444444,
              "#bd3786"
             ],
             [
              0.5555555555555556,
              "#d8576b"
             ],
             [
              0.6666666666666666,
              "#ed7953"
             ],
             [
              0.7777777777777778,
              "#fb9f3a"
             ],
             [
              0.8888888888888888,
              "#fdca26"
             ],
             [
              1,
              "#f0f921"
             ]
            ],
            "type": "heatmapgl"
           }
          ],
          "histogram": [
           {
            "marker": {
             "pattern": {
              "fillmode": "overlay",
              "size": 10,
              "solidity": 0.2
             }
            },
            "type": "histogram"
           }
          ],
          "histogram2d": [
           {
            "colorbar": {
             "outlinewidth": 0,
             "ticks": ""
            },
            "colorscale": [
             [
              0,
              "#0d0887"
             ],
             [
              0.1111111111111111,
              "#46039f"
             ],
             [
              0.2222222222222222,
              "#7201a8"
             ],
             [
              0.3333333333333333,
              "#9c179e"
             ],
             [
              0.4444444444444444,
              "#bd3786"
             ],
             [
              0.5555555555555556,
              "#d8576b"
             ],
             [
              0.6666666666666666,
              "#ed7953"
             ],
             [
              0.7777777777777778,
              "#fb9f3a"
             ],
             [
              0.8888888888888888,
              "#fdca26"
             ],
             [
              1,
              "#f0f921"
             ]
            ],
            "type": "histogram2d"
           }
          ],
          "histogram2dcontour": [
           {
            "colorbar": {
             "outlinewidth": 0,
             "ticks": ""
            },
            "colorscale": [
             [
              0,
              "#0d0887"
             ],
             [
              0.1111111111111111,
              "#46039f"
             ],
             [
              0.2222222222222222,
              "#7201a8"
             ],
             [
              0.3333333333333333,
              "#9c179e"
             ],
             [
              0.4444444444444444,
              "#bd3786"
             ],
             [
              0.5555555555555556,
              "#d8576b"
             ],
             [
              0.6666666666666666,
              "#ed7953"
             ],
             [
              0.7777777777777778,
              "#fb9f3a"
             ],
             [
              0.8888888888888888,
              "#fdca26"
             ],
             [
              1,
              "#f0f921"
             ]
            ],
            "type": "histogram2dcontour"
           }
          ],
          "mesh3d": [
           {
            "colorbar": {
             "outlinewidth": 0,
             "ticks": ""
            },
            "type": "mesh3d"
           }
          ],
          "parcoords": [
           {
            "line": {
             "colorbar": {
              "outlinewidth": 0,
              "ticks": ""
             }
            },
            "type": "parcoords"
           }
          ],
          "pie": [
           {
            "automargin": true,
            "type": "pie"
           }
          ],
          "scatter": [
           {
            "fillpattern": {
             "fillmode": "overlay",
             "size": 10,
             "solidity": 0.2
            },
            "type": "scatter"
           }
          ],
          "scatter3d": [
           {
            "line": {
             "colorbar": {
              "outlinewidth": 0,
              "ticks": ""
             }
            },
            "marker": {
             "colorbar": {
              "outlinewidth": 0,
              "ticks": ""
             }
            },
            "type": "scatter3d"
           }
          ],
          "scattercarpet": [
           {
            "marker": {
             "colorbar": {
              "outlinewidth": 0,
              "ticks": ""
             }
            },
            "type": "scattercarpet"
           }
          ],
          "scattergeo": [
           {
            "marker": {
             "colorbar": {
              "outlinewidth": 0,
              "ticks": ""
             }
            },
            "type": "scattergeo"
           }
          ],
          "scattergl": [
           {
            "marker": {
             "colorbar": {
              "outlinewidth": 0,
              "ticks": ""
             }
            },
            "type": "scattergl"
           }
          ],
          "scattermapbox": [
           {
            "marker": {
             "colorbar": {
              "outlinewidth": 0,
              "ticks": ""
             }
            },
            "type": "scattermapbox"
           }
          ],
          "scatterpolar": [
           {
            "marker": {
             "colorbar": {
              "outlinewidth": 0,
              "ticks": ""
             }
            },
            "type": "scatterpolar"
           }
          ],
          "scatterpolargl": [
           {
            "marker": {
             "colorbar": {
              "outlinewidth": 0,
              "ticks": ""
             }
            },
            "type": "scatterpolargl"
           }
          ],
          "scatterternary": [
           {
            "marker": {
             "colorbar": {
              "outlinewidth": 0,
              "ticks": ""
             }
            },
            "type": "scatterternary"
           }
          ],
          "surface": [
           {
            "colorbar": {
             "outlinewidth": 0,
             "ticks": ""
            },
            "colorscale": [
             [
              0,
              "#0d0887"
             ],
             [
              0.1111111111111111,
              "#46039f"
             ],
             [
              0.2222222222222222,
              "#7201a8"
             ],
             [
              0.3333333333333333,
              "#9c179e"
             ],
             [
              0.4444444444444444,
              "#bd3786"
             ],
             [
              0.5555555555555556,
              "#d8576b"
             ],
             [
              0.6666666666666666,
              "#ed7953"
             ],
             [
              0.7777777777777778,
              "#fb9f3a"
             ],
             [
              0.8888888888888888,
              "#fdca26"
             ],
             [
              1,
              "#f0f921"
             ]
            ],
            "type": "surface"
           }
          ],
          "table": [
           {
            "cells": {
             "fill": {
              "color": "#EBF0F8"
             },
             "line": {
              "color": "white"
             }
            },
            "header": {
             "fill": {
              "color": "#C8D4E3"
             },
             "line": {
              "color": "white"
             }
            },
            "type": "table"
           }
          ]
         },
         "layout": {
          "annotationdefaults": {
           "arrowcolor": "#2a3f5f",
           "arrowhead": 0,
           "arrowwidth": 1
          },
          "autotypenumbers": "strict",
          "coloraxis": {
           "colorbar": {
            "outlinewidth": 0,
            "ticks": ""
           }
          },
          "colorscale": {
           "diverging": [
            [
             0,
             "#8e0152"
            ],
            [
             0.1,
             "#c51b7d"
            ],
            [
             0.2,
             "#de77ae"
            ],
            [
             0.3,
             "#f1b6da"
            ],
            [
             0.4,
             "#fde0ef"
            ],
            [
             0.5,
             "#f7f7f7"
            ],
            [
             0.6,
             "#e6f5d0"
            ],
            [
             0.7,
             "#b8e186"
            ],
            [
             0.8,
             "#7fbc41"
            ],
            [
             0.9,
             "#4d9221"
            ],
            [
             1,
             "#276419"
            ]
           ],
           "sequential": [
            [
             0,
             "#0d0887"
            ],
            [
             0.1111111111111111,
             "#46039f"
            ],
            [
             0.2222222222222222,
             "#7201a8"
            ],
            [
             0.3333333333333333,
             "#9c179e"
            ],
            [
             0.4444444444444444,
             "#bd3786"
            ],
            [
             0.5555555555555556,
             "#d8576b"
            ],
            [
             0.6666666666666666,
             "#ed7953"
            ],
            [
             0.7777777777777778,
             "#fb9f3a"
            ],
            [
             0.8888888888888888,
             "#fdca26"
            ],
            [
             1,
             "#f0f921"
            ]
           ],
           "sequentialminus": [
            [
             0,
             "#0d0887"
            ],
            [
             0.1111111111111111,
             "#46039f"
            ],
            [
             0.2222222222222222,
             "#7201a8"
            ],
            [
             0.3333333333333333,
             "#9c179e"
            ],
            [
             0.4444444444444444,
             "#bd3786"
            ],
            [
             0.5555555555555556,
             "#d8576b"
            ],
            [
             0.6666666666666666,
             "#ed7953"
            ],
            [
             0.7777777777777778,
             "#fb9f3a"
            ],
            [
             0.8888888888888888,
             "#fdca26"
            ],
            [
             1,
             "#f0f921"
            ]
           ]
          },
          "colorway": [
           "#636efa",
           "#EF553B",
           "#00cc96",
           "#ab63fa",
           "#FFA15A",
           "#19d3f3",
           "#FF6692",
           "#B6E880",
           "#FF97FF",
           "#FECB52"
          ],
          "font": {
           "color": "#2a3f5f"
          },
          "geo": {
           "bgcolor": "white",
           "lakecolor": "white",
           "landcolor": "#E5ECF6",
           "showlakes": true,
           "showland": true,
           "subunitcolor": "white"
          },
          "hoverlabel": {
           "align": "left"
          },
          "hovermode": "closest",
          "mapbox": {
           "style": "light"
          },
          "paper_bgcolor": "white",
          "plot_bgcolor": "#E5ECF6",
          "polar": {
           "angularaxis": {
            "gridcolor": "white",
            "linecolor": "white",
            "ticks": ""
           },
           "bgcolor": "#E5ECF6",
           "radialaxis": {
            "gridcolor": "white",
            "linecolor": "white",
            "ticks": ""
           }
          },
          "scene": {
           "xaxis": {
            "backgroundcolor": "#E5ECF6",
            "gridcolor": "white",
            "gridwidth": 2,
            "linecolor": "white",
            "showbackground": true,
            "ticks": "",
            "zerolinecolor": "white"
           },
           "yaxis": {
            "backgroundcolor": "#E5ECF6",
            "gridcolor": "white",
            "gridwidth": 2,
            "linecolor": "white",
            "showbackground": true,
            "ticks": "",
            "zerolinecolor": "white"
           },
           "zaxis": {
            "backgroundcolor": "#E5ECF6",
            "gridcolor": "white",
            "gridwidth": 2,
            "linecolor": "white",
            "showbackground": true,
            "ticks": "",
            "zerolinecolor": "white"
           }
          },
          "shapedefaults": {
           "line": {
            "color": "#2a3f5f"
           }
          },
          "ternary": {
           "aaxis": {
            "gridcolor": "white",
            "linecolor": "white",
            "ticks": ""
           },
           "baxis": {
            "gridcolor": "white",
            "linecolor": "white",
            "ticks": ""
           },
           "bgcolor": "#E5ECF6",
           "caxis": {
            "gridcolor": "white",
            "linecolor": "white",
            "ticks": ""
           }
          },
          "title": {
           "x": 0.05
          },
          "xaxis": {
           "automargin": true,
           "gridcolor": "white",
           "linecolor": "white",
           "ticks": "",
           "title": {
            "standoff": 15
           },
           "zerolinecolor": "white",
           "zerolinewidth": 2
          },
          "yaxis": {
           "automargin": true,
           "gridcolor": "white",
           "linecolor": "white",
           "ticks": "",
           "title": {
            "standoff": 15
           },
           "zerolinecolor": "white",
           "zerolinewidth": 2
          }
         }
        },
        "title": {
         "text": "Distribution of cholestrol levels"
        },
        "xaxis": {
         "anchor": "y2",
         "domain": [
          0,
          1
         ],
         "zeroline": false
        },
        "yaxis": {
         "anchor": "free",
         "domain": [
          0,
          1
         ],
         "position": 0
        }
       }
      }
     },
     "metadata": {},
     "output_type": "display_data"
    }
   ],
   "source": [
    "x = df[\"chol\"]\n",
    "hist_data = [x]\n",
    "group_labels = ['cholestrol'] # name of the dataset\n",
    "\n",
    "fig = ff.create_distplot(hist_data, group_labels, show_rug=False)\n",
    "fig.update_layout(title = \"Distribution of cholestrol levels\")\n",
    "fig.show()"
   ]
  },
  {
   "cell_type": "markdown",
   "metadata": {},
   "source": [
    "Here the values are concentrated between 200-300 but we see the range is 438. The reason is because of outliers in the data. <br>\n",
    "The curve is right skewed curve. Here as a practice you can calculate the central tendency and see the above equation for right skew matches.\n"
   ]
  },
  {
   "cell_type": "markdown",
   "metadata": {},
   "source": [
    "\n",
    "<b>Quartiles</b>: As a name suggest it represent quarter of the data and divides the data in 4 equal parts. Namely 25%(Q1), 50%(Q2), 75%(Q3). The data is arranged in ascending order which is the reason median and Q2 are equal.<br>\n",
    "<b>IQR</b> is a range between Q1 and Q3. <br>\n",
    "IQR is preferred over a range as it is not influence by outliers. IQR is used to measure variability by splitting a data set into four equal quartiles.<br>\n",
    "Find Outlier = [(Q1 – 1.5 IQR), (Q3 + 1.5 IQR)]<br>\n",
    "Any number not in range is outlier<br>\n",
    "The quartiles and outliers can be explained with the help of box plot.<br>"
   ]
  },
  {
   "cell_type": "code",
   "execution_count": 20,
   "metadata": {},
   "outputs": [
    {
     "data": {
      "application/vnd.plotly.v1+json": {
       "config": {
        "plotlyServerURL": "https://plot.ly"
       },
       "data": [
        {
         "alignmentgroup": "True",
         "hovertemplate": "chol=%{x}<extra></extra>",
         "legendgroup": "",
         "marker": {
          "color": "#636efa"
         },
         "name": "",
         "notched": false,
         "offsetgroup": "",
         "orientation": "h",
         "showlegend": false,
         "type": "box",
         "x": [
          233,
          250,
          204,
          236,
          354,
          192,
          294,
          263,
          199,
          168,
          239,
          275,
          266,
          211,
          283,
          219,
          340,
          226,
          247,
          239,
          234,
          233,
          226,
          243,
          199,
          302,
          212,
          175,
          417,
          197,
          198,
          177,
          219,
          273,
          213,
          177,
          304,
          232,
          269,
          360,
          308,
          245,
          208,
          264,
          321,
          325,
          235,
          257,
          216,
          234,
          256,
          302,
          231,
          141,
          252,
          201,
          222,
          260,
          182,
          303,
          265,
          309,
          186,
          203,
          211,
          183,
          222,
          234,
          220,
          209,
          258,
          227,
          204,
          261,
          213,
          250,
          245,
          221,
          205,
          240,
          250,
          308,
          318,
          298,
          265,
          564,
          277,
          197,
          214,
          248,
          255,
          207,
          223,
          288,
          160,
          226,
          394,
          233,
          315,
          246,
          244,
          270,
          195,
          240,
          196,
          211,
          234,
          236,
          244,
          254,
          325,
          126,
          313,
          211,
          262,
          215,
          214,
          193,
          204,
          243,
          303,
          271,
          268,
          267,
          199,
          210,
          204,
          277,
          196,
          269,
          201,
          271,
          295,
          235,
          306,
          269,
          178,
          208,
          201,
          263,
          295,
          303,
          209,
          223,
          197,
          245,
          242,
          240,
          226,
          180,
          228,
          149,
          227,
          278,
          220,
          197,
          253,
          192,
          220,
          221,
          240,
          342,
          157,
          175,
          175,
          286,
          229,
          268,
          254,
          203,
          256,
          229,
          284,
          224,
          206,
          167,
          230,
          335,
          177,
          276,
          353,
          225,
          330,
          230,
          243,
          290,
          253,
          266,
          233,
          172,
          305,
          216,
          188,
          282,
          185,
          326,
          231,
          254,
          267,
          248,
          197,
          258,
          270,
          274,
          164,
          255,
          239,
          258,
          188,
          177,
          229,
          260,
          219,
          307,
          249,
          341,
          263,
          330,
          254,
          256,
          407,
          217,
          282,
          288,
          239,
          174,
          281,
          198,
          288,
          309,
          243,
          289,
          289,
          246,
          322,
          299,
          300,
          293,
          304,
          282,
          269,
          249,
          212,
          274,
          184,
          274,
          409,
          246,
          283,
          254,
          298,
          247,
          294,
          299,
          273,
          309,
          259,
          200,
          244,
          231,
          228,
          230,
          282,
          269,
          206,
          212,
          327,
          149,
          286,
          283,
          249,
          234,
          237,
          234,
          275,
          212,
          218,
          261,
          319,
          166,
          315,
          204,
          218,
          223,
          207,
          311,
          204,
          232,
          335,
          205,
          203,
          318,
          225,
          212,
          169,
          187,
          197,
          176,
          241,
          264,
          193,
          131,
          236
         ],
         "x0": " ",
         "xaxis": "x",
         "y0": " ",
         "yaxis": "y"
        }
       ],
       "layout": {
        "boxmode": "group",
        "legend": {
         "tracegroupgap": 0
        },
        "template": {
         "data": {
          "bar": [
           {
            "error_x": {
             "color": "#2a3f5f"
            },
            "error_y": {
             "color": "#2a3f5f"
            },
            "marker": {
             "line": {
              "color": "#E5ECF6",
              "width": 0.5
             },
             "pattern": {
              "fillmode": "overlay",
              "size": 10,
              "solidity": 0.2
             }
            },
            "type": "bar"
           }
          ],
          "barpolar": [
           {
            "marker": {
             "line": {
              "color": "#E5ECF6",
              "width": 0.5
             },
             "pattern": {
              "fillmode": "overlay",
              "size": 10,
              "solidity": 0.2
             }
            },
            "type": "barpolar"
           }
          ],
          "carpet": [
           {
            "aaxis": {
             "endlinecolor": "#2a3f5f",
             "gridcolor": "white",
             "linecolor": "white",
             "minorgridcolor": "white",
             "startlinecolor": "#2a3f5f"
            },
            "baxis": {
             "endlinecolor": "#2a3f5f",
             "gridcolor": "white",
             "linecolor": "white",
             "minorgridcolor": "white",
             "startlinecolor": "#2a3f5f"
            },
            "type": "carpet"
           }
          ],
          "choropleth": [
           {
            "colorbar": {
             "outlinewidth": 0,
             "ticks": ""
            },
            "type": "choropleth"
           }
          ],
          "contour": [
           {
            "colorbar": {
             "outlinewidth": 0,
             "ticks": ""
            },
            "colorscale": [
             [
              0,
              "#0d0887"
             ],
             [
              0.1111111111111111,
              "#46039f"
             ],
             [
              0.2222222222222222,
              "#7201a8"
             ],
             [
              0.3333333333333333,
              "#9c179e"
             ],
             [
              0.4444444444444444,
              "#bd3786"
             ],
             [
              0.5555555555555556,
              "#d8576b"
             ],
             [
              0.6666666666666666,
              "#ed7953"
             ],
             [
              0.7777777777777778,
              "#fb9f3a"
             ],
             [
              0.8888888888888888,
              "#fdca26"
             ],
             [
              1,
              "#f0f921"
             ]
            ],
            "type": "contour"
           }
          ],
          "contourcarpet": [
           {
            "colorbar": {
             "outlinewidth": 0,
             "ticks": ""
            },
            "type": "contourcarpet"
           }
          ],
          "heatmap": [
           {
            "colorbar": {
             "outlinewidth": 0,
             "ticks": ""
            },
            "colorscale": [
             [
              0,
              "#0d0887"
             ],
             [
              0.1111111111111111,
              "#46039f"
             ],
             [
              0.2222222222222222,
              "#7201a8"
             ],
             [
              0.3333333333333333,
              "#9c179e"
             ],
             [
              0.4444444444444444,
              "#bd3786"
             ],
             [
              0.5555555555555556,
              "#d8576b"
             ],
             [
              0.6666666666666666,
              "#ed7953"
             ],
             [
              0.7777777777777778,
              "#fb9f3a"
             ],
             [
              0.8888888888888888,
              "#fdca26"
             ],
             [
              1,
              "#f0f921"
             ]
            ],
            "type": "heatmap"
           }
          ],
          "heatmapgl": [
           {
            "colorbar": {
             "outlinewidth": 0,
             "ticks": ""
            },
            "colorscale": [
             [
              0,
              "#0d0887"
             ],
             [
              0.1111111111111111,
              "#46039f"
             ],
             [
              0.2222222222222222,
              "#7201a8"
             ],
             [
              0.3333333333333333,
              "#9c179e"
             ],
             [
              0.4444444444444444,
              "#bd3786"
             ],
             [
              0.5555555555555556,
              "#d8576b"
             ],
             [
              0.6666666666666666,
              "#ed7953"
             ],
             [
              0.7777777777777778,
              "#fb9f3a"
             ],
             [
              0.8888888888888888,
              "#fdca26"
             ],
             [
              1,
              "#f0f921"
             ]
            ],
            "type": "heatmapgl"
           }
          ],
          "histogram": [
           {
            "marker": {
             "pattern": {
              "fillmode": "overlay",
              "size": 10,
              "solidity": 0.2
             }
            },
            "type": "histogram"
           }
          ],
          "histogram2d": [
           {
            "colorbar": {
             "outlinewidth": 0,
             "ticks": ""
            },
            "colorscale": [
             [
              0,
              "#0d0887"
             ],
             [
              0.1111111111111111,
              "#46039f"
             ],
             [
              0.2222222222222222,
              "#7201a8"
             ],
             [
              0.3333333333333333,
              "#9c179e"
             ],
             [
              0.4444444444444444,
              "#bd3786"
             ],
             [
              0.5555555555555556,
              "#d8576b"
             ],
             [
              0.6666666666666666,
              "#ed7953"
             ],
             [
              0.7777777777777778,
              "#fb9f3a"
             ],
             [
              0.8888888888888888,
              "#fdca26"
             ],
             [
              1,
              "#f0f921"
             ]
            ],
            "type": "histogram2d"
           }
          ],
          "histogram2dcontour": [
           {
            "colorbar": {
             "outlinewidth": 0,
             "ticks": ""
            },
            "colorscale": [
             [
              0,
              "#0d0887"
             ],
             [
              0.1111111111111111,
              "#46039f"
             ],
             [
              0.2222222222222222,
              "#7201a8"
             ],
             [
              0.3333333333333333,
              "#9c179e"
             ],
             [
              0.4444444444444444,
              "#bd3786"
             ],
             [
              0.5555555555555556,
              "#d8576b"
             ],
             [
              0.6666666666666666,
              "#ed7953"
             ],
             [
              0.7777777777777778,
              "#fb9f3a"
             ],
             [
              0.8888888888888888,
              "#fdca26"
             ],
             [
              1,
              "#f0f921"
             ]
            ],
            "type": "histogram2dcontour"
           }
          ],
          "mesh3d": [
           {
            "colorbar": {
             "outlinewidth": 0,
             "ticks": ""
            },
            "type": "mesh3d"
           }
          ],
          "parcoords": [
           {
            "line": {
             "colorbar": {
              "outlinewidth": 0,
              "ticks": ""
             }
            },
            "type": "parcoords"
           }
          ],
          "pie": [
           {
            "automargin": true,
            "type": "pie"
           }
          ],
          "scatter": [
           {
            "fillpattern": {
             "fillmode": "overlay",
             "size": 10,
             "solidity": 0.2
            },
            "type": "scatter"
           }
          ],
          "scatter3d": [
           {
            "line": {
             "colorbar": {
              "outlinewidth": 0,
              "ticks": ""
             }
            },
            "marker": {
             "colorbar": {
              "outlinewidth": 0,
              "ticks": ""
             }
            },
            "type": "scatter3d"
           }
          ],
          "scattercarpet": [
           {
            "marker": {
             "colorbar": {
              "outlinewidth": 0,
              "ticks": ""
             }
            },
            "type": "scattercarpet"
           }
          ],
          "scattergeo": [
           {
            "marker": {
             "colorbar": {
              "outlinewidth": 0,
              "ticks": ""
             }
            },
            "type": "scattergeo"
           }
          ],
          "scattergl": [
           {
            "marker": {
             "colorbar": {
              "outlinewidth": 0,
              "ticks": ""
             }
            },
            "type": "scattergl"
           }
          ],
          "scattermapbox": [
           {
            "marker": {
             "colorbar": {
              "outlinewidth": 0,
              "ticks": ""
             }
            },
            "type": "scattermapbox"
           }
          ],
          "scatterpolar": [
           {
            "marker": {
             "colorbar": {
              "outlinewidth": 0,
              "ticks": ""
             }
            },
            "type": "scatterpolar"
           }
          ],
          "scatterpolargl": [
           {
            "marker": {
             "colorbar": {
              "outlinewidth": 0,
              "ticks": ""
             }
            },
            "type": "scatterpolargl"
           }
          ],
          "scatterternary": [
           {
            "marker": {
             "colorbar": {
              "outlinewidth": 0,
              "ticks": ""
             }
            },
            "type": "scatterternary"
           }
          ],
          "surface": [
           {
            "colorbar": {
             "outlinewidth": 0,
             "ticks": ""
            },
            "colorscale": [
             [
              0,
              "#0d0887"
             ],
             [
              0.1111111111111111,
              "#46039f"
             ],
             [
              0.2222222222222222,
              "#7201a8"
             ],
             [
              0.3333333333333333,
              "#9c179e"
             ],
             [
              0.4444444444444444,
              "#bd3786"
             ],
             [
              0.5555555555555556,
              "#d8576b"
             ],
             [
              0.6666666666666666,
              "#ed7953"
             ],
             [
              0.7777777777777778,
              "#fb9f3a"
             ],
             [
              0.8888888888888888,
              "#fdca26"
             ],
             [
              1,
              "#f0f921"
             ]
            ],
            "type": "surface"
           }
          ],
          "table": [
           {
            "cells": {
             "fill": {
              "color": "#EBF0F8"
             },
             "line": {
              "color": "white"
             }
            },
            "header": {
             "fill": {
              "color": "#C8D4E3"
             },
             "line": {
              "color": "white"
             }
            },
            "type": "table"
           }
          ]
         },
         "layout": {
          "annotationdefaults": {
           "arrowcolor": "#2a3f5f",
           "arrowhead": 0,
           "arrowwidth": 1
          },
          "autotypenumbers": "strict",
          "coloraxis": {
           "colorbar": {
            "outlinewidth": 0,
            "ticks": ""
           }
          },
          "colorscale": {
           "diverging": [
            [
             0,
             "#8e0152"
            ],
            [
             0.1,
             "#c51b7d"
            ],
            [
             0.2,
             "#de77ae"
            ],
            [
             0.3,
             "#f1b6da"
            ],
            [
             0.4,
             "#fde0ef"
            ],
            [
             0.5,
             "#f7f7f7"
            ],
            [
             0.6,
             "#e6f5d0"
            ],
            [
             0.7,
             "#b8e186"
            ],
            [
             0.8,
             "#7fbc41"
            ],
            [
             0.9,
             "#4d9221"
            ],
            [
             1,
             "#276419"
            ]
           ],
           "sequential": [
            [
             0,
             "#0d0887"
            ],
            [
             0.1111111111111111,
             "#46039f"
            ],
            [
             0.2222222222222222,
             "#7201a8"
            ],
            [
             0.3333333333333333,
             "#9c179e"
            ],
            [
             0.4444444444444444,
             "#bd3786"
            ],
            [
             0.5555555555555556,
             "#d8576b"
            ],
            [
             0.6666666666666666,
             "#ed7953"
            ],
            [
             0.7777777777777778,
             "#fb9f3a"
            ],
            [
             0.8888888888888888,
             "#fdca26"
            ],
            [
             1,
             "#f0f921"
            ]
           ],
           "sequentialminus": [
            [
             0,
             "#0d0887"
            ],
            [
             0.1111111111111111,
             "#46039f"
            ],
            [
             0.2222222222222222,
             "#7201a8"
            ],
            [
             0.3333333333333333,
             "#9c179e"
            ],
            [
             0.4444444444444444,
             "#bd3786"
            ],
            [
             0.5555555555555556,
             "#d8576b"
            ],
            [
             0.6666666666666666,
             "#ed7953"
            ],
            [
             0.7777777777777778,
             "#fb9f3a"
            ],
            [
             0.8888888888888888,
             "#fdca26"
            ],
            [
             1,
             "#f0f921"
            ]
           ]
          },
          "colorway": [
           "#636efa",
           "#EF553B",
           "#00cc96",
           "#ab63fa",
           "#FFA15A",
           "#19d3f3",
           "#FF6692",
           "#B6E880",
           "#FF97FF",
           "#FECB52"
          ],
          "font": {
           "color": "#2a3f5f"
          },
          "geo": {
           "bgcolor": "white",
           "lakecolor": "white",
           "landcolor": "#E5ECF6",
           "showlakes": true,
           "showland": true,
           "subunitcolor": "white"
          },
          "hoverlabel": {
           "align": "left"
          },
          "hovermode": "closest",
          "mapbox": {
           "style": "light"
          },
          "paper_bgcolor": "white",
          "plot_bgcolor": "#E5ECF6",
          "polar": {
           "angularaxis": {
            "gridcolor": "white",
            "linecolor": "white",
            "ticks": ""
           },
           "bgcolor": "#E5ECF6",
           "radialaxis": {
            "gridcolor": "white",
            "linecolor": "white",
            "ticks": ""
           }
          },
          "scene": {
           "xaxis": {
            "backgroundcolor": "#E5ECF6",
            "gridcolor": "white",
            "gridwidth": 2,
            "linecolor": "white",
            "showbackground": true,
            "ticks": "",
            "zerolinecolor": "white"
           },
           "yaxis": {
            "backgroundcolor": "#E5ECF6",
            "gridcolor": "white",
            "gridwidth": 2,
            "linecolor": "white",
            "showbackground": true,
            "ticks": "",
            "zerolinecolor": "white"
           },
           "zaxis": {
            "backgroundcolor": "#E5ECF6",
            "gridcolor": "white",
            "gridwidth": 2,
            "linecolor": "white",
            "showbackground": true,
            "ticks": "",
            "zerolinecolor": "white"
           }
          },
          "shapedefaults": {
           "line": {
            "color": "#2a3f5f"
           }
          },
          "ternary": {
           "aaxis": {
            "gridcolor": "white",
            "linecolor": "white",
            "ticks": ""
           },
           "baxis": {
            "gridcolor": "white",
            "linecolor": "white",
            "ticks": ""
           },
           "bgcolor": "#E5ECF6",
           "caxis": {
            "gridcolor": "white",
            "linecolor": "white",
            "ticks": ""
           }
          },
          "title": {
           "x": 0.05
          },
          "xaxis": {
           "automargin": true,
           "gridcolor": "white",
           "linecolor": "white",
           "ticks": "",
           "title": {
            "standoff": 15
           },
           "zerolinecolor": "white",
           "zerolinewidth": 2
          },
          "yaxis": {
           "automargin": true,
           "gridcolor": "white",
           "linecolor": "white",
           "ticks": "",
           "title": {
            "standoff": 15
           },
           "zerolinecolor": "white",
           "zerolinewidth": 2
          }
         }
        },
        "title": {
         "text": "Distribution of cholestrol levels"
        },
        "xaxis": {
         "anchor": "y",
         "domain": [
          0,
          1
         ],
         "title": {
          "text": "chol"
         }
        },
        "yaxis": {
         "anchor": "x",
         "domain": [
          0,
          1
         ]
        }
       }
      }
     },
     "metadata": {},
     "output_type": "display_data"
    }
   ],
   "source": [
    "fig = px.box(df, x = \"chol\", title = \"Distribution of cholestrol levels\")\n",
    "fig.show()"
   ]
  },
  {
   "cell_type": "code",
   "execution_count": 21,
   "metadata": {},
   "outputs": [
    {
     "data": {
      "text/plain": [
       "count    303.000000\n",
       "mean     246.264026\n",
       "std       51.830751\n",
       "min      126.000000\n",
       "25%      211.000000\n",
       "50%      240.000000\n",
       "75%      274.500000\n",
       "max      564.000000\n",
       "Name: chol, dtype: float64"
      ]
     },
     "execution_count": 21,
     "metadata": {},
     "output_type": "execute_result"
    }
   ],
   "source": [
    "df.chol.describe()"
   ]
  },
  {
   "cell_type": "code",
   "execution_count": 22,
   "metadata": {},
   "outputs": [
    {
     "name": "stdout",
     "output_type": "stream",
     "text": [
      "The numbers outside the range of 115.75 and 369.75 will be considered as outliers\n",
      "The box plot verify our calculation. All the number greater than 369.75 are shown as outliers.\n"
     ]
    }
   ],
   "source": [
    "# Outlier calculation\n",
    "#IQR = Q3 - Q1\n",
    "Q1 = 211.0\n",
    "Q2 = 240.0\n",
    "Q3 = 274.5\n",
    "IQR = 274.5 - 211\n",
    "outlier1 = (Q1 - 1.5 * IQR)\n",
    "outlier2 = (Q3 + 1.5 * IQR)\n",
    "print(f\"The numbers outside the range of {outlier1} and {outlier2} will be considered as outliers\")\n",
    "print(\"The box plot verify our calculation. All the number greater than 369.75 are shown as outliers.\")"
   ]
  },
  {
   "cell_type": "markdown",
   "metadata": {},
   "source": [
    "<b>Variance:</b> It is a statistical parameter used to quantify spread. It measures how far each number in the set from the mean and thus from every other number in the set. Observation near to mean value gets the lower result and far from means gets higher value.<br>\n",
    "<br>\n",
    "1. A high variance indicates that the numbers are far from the mean and far from each other.<br>\n",
    "2. A low variance indicates that the numbers are close to the mean and to each other.<br>\n",
    "3. If variance is 0 that means that all the numbers in the dataset are the identical.<br>\n",
    "4. The valid variance is always a positive number (0 or more).<br>\n",
    "<b>Standard Deviation:</b> It is a square root of variance. It is more commonly used because the unit measure is easy to calculate spread.<br>\n",
    "For example in variance the unit is kg2 whereas in standard deviation it is kg.<br>"
   ]
  },
  {
   "cell_type": "code",
   "execution_count": 23,
   "metadata": {},
   "outputs": [
    {
     "name": "stdout",
     "output_type": "stream",
     "text": [
      "Variance:  2686.42674797281\n",
      "Standard Deviation:  51.83075098793003\n"
     ]
    }
   ],
   "source": [
    "# case of very high variance as per the plot above\n",
    "print(\"Variance: \",df[\"chol\"].var())\n",
    "print(\"Standard Deviation: \", df[\"chol\"].std())"
   ]
  },
  {
   "cell_type": "markdown",
   "metadata": {},
   "source": [
    "# Normalization\n",
    "In it values are shifted and rescaled so that they end up ranging between 0 and 1. It is also known as Min-Max scaling. When the curve does not follow the gaussian distribution it is good to do normalization."
   ]
  },
  {
   "cell_type": "code",
   "execution_count": 24,
   "metadata": {},
   "outputs": [],
   "source": [
    "df[\"normalized_chol\"]=(df[\"chol\"]-df[\"chol\"].min())/(df[\"chol\"].max()-df[\"chol\"].min())"
   ]
  },
  {
   "cell_type": "code",
   "execution_count": 25,
   "metadata": {},
   "outputs": [
    {
     "data": {
      "application/vnd.plotly.v1+json": {
       "config": {
        "plotlyServerURL": "https://plot.ly"
       },
       "data": [
        {
         "autobinx": false,
         "histnorm": "probability density",
         "legendgroup": "normalized cholestrol",
         "marker": {
          "color": "rgb(31, 119, 180)"
         },
         "name": "normalized cholestrol",
         "opacity": 0.7,
         "type": "histogram",
         "x": [
          0.24429223744292236,
          0.2831050228310502,
          0.1780821917808219,
          0.2511415525114155,
          0.5205479452054794,
          0.1506849315068493,
          0.3835616438356164,
          0.3127853881278539,
          0.16666666666666666,
          0.0958904109589041,
          0.2579908675799087,
          0.3401826484018265,
          0.319634703196347,
          0.19406392694063926,
          0.3584474885844749,
          0.21232876712328766,
          0.4885844748858447,
          0.228310502283105,
          0.2762557077625571,
          0.2579908675799087,
          0.2465753424657534,
          0.24429223744292236,
          0.228310502283105,
          0.2671232876712329,
          0.16666666666666666,
          0.4018264840182648,
          0.1963470319634703,
          0.11187214611872145,
          0.6643835616438356,
          0.16210045662100456,
          0.1643835616438356,
          0.11643835616438356,
          0.21232876712328766,
          0.3356164383561644,
          0.19863013698630136,
          0.11643835616438356,
          0.4063926940639269,
          0.2420091324200913,
          0.3264840182648402,
          0.5342465753424658,
          0.4155251141552511,
          0.271689497716895,
          0.1872146118721461,
          0.3150684931506849,
          0.4452054794520548,
          0.454337899543379,
          0.24885844748858446,
          0.2990867579908676,
          0.2054794520547945,
          0.2465753424657534,
          0.2968036529680365,
          0.4018264840182648,
          0.23972602739726026,
          0.03424657534246575,
          0.2876712328767123,
          0.17123287671232876,
          0.2191780821917808,
          0.3059360730593607,
          0.1278538812785388,
          0.4041095890410959,
          0.317351598173516,
          0.4178082191780822,
          0.136986301369863,
          0.17579908675799086,
          0.19406392694063926,
          0.13013698630136986,
          0.2191780821917808,
          0.2465753424657534,
          0.2146118721461187,
          0.18949771689497716,
          0.3013698630136986,
          0.23059360730593606,
          0.1780821917808219,
          0.3082191780821918,
          0.19863013698630136,
          0.2831050228310502,
          0.271689497716895,
          0.21689497716894976,
          0.18036529680365296,
          0.2602739726027397,
          0.2831050228310502,
          0.4155251141552511,
          0.4383561643835616,
          0.3926940639269406,
          0.317351598173516,
          1,
          0.3447488584474886,
          0.16210045662100456,
          0.2009132420091324,
          0.2785388127853881,
          0.2945205479452055,
          0.18493150684931506,
          0.22146118721461186,
          0.3698630136986301,
          0.0776255707762557,
          0.228310502283105,
          0.6118721461187214,
          0.24429223744292236,
          0.4315068493150685,
          0.273972602739726,
          0.2694063926940639,
          0.3287671232876712,
          0.15753424657534246,
          0.2602739726027397,
          0.1598173515981735,
          0.19406392694063926,
          0.2465753424657534,
          0.2511415525114155,
          0.2694063926940639,
          0.2922374429223744,
          0.454337899543379,
          0,
          0.4269406392694064,
          0.19406392694063926,
          0.3105022831050228,
          0.20319634703196346,
          0.2009132420091324,
          0.15296803652968036,
          0.1780821917808219,
          0.2671232876712329,
          0.4041095890410959,
          0.3310502283105023,
          0.3242009132420091,
          0.3219178082191781,
          0.16666666666666666,
          0.1917808219178082,
          0.1780821917808219,
          0.3447488584474886,
          0.1598173515981735,
          0.3264840182648402,
          0.17123287671232876,
          0.3310502283105023,
          0.3858447488584475,
          0.24885844748858446,
          0.410958904109589,
          0.3264840182648402,
          0.1187214611872146,
          0.1872146118721461,
          0.17123287671232876,
          0.3127853881278539,
          0.3858447488584475,
          0.4041095890410959,
          0.18949771689497716,
          0.22146118721461186,
          0.16210045662100456,
          0.271689497716895,
          0.2648401826484018,
          0.2602739726027397,
          0.228310502283105,
          0.1232876712328767,
          0.2328767123287671,
          0.05251141552511415,
          0.23059360730593606,
          0.3470319634703196,
          0.2146118721461187,
          0.16210045662100456,
          0.2899543378995434,
          0.1506849315068493,
          0.2146118721461187,
          0.21689497716894976,
          0.2602739726027397,
          0.4931506849315068,
          0.07077625570776255,
          0.11187214611872145,
          0.11187214611872145,
          0.365296803652968,
          0.23515981735159816,
          0.3242009132420091,
          0.2922374429223744,
          0.17579908675799086,
          0.2968036529680365,
          0.23515981735159816,
          0.3607305936073059,
          0.2237442922374429,
          0.182648401826484,
          0.09360730593607305,
          0.2374429223744292,
          0.4771689497716895,
          0.11643835616438356,
          0.3424657534246575,
          0.5182648401826484,
          0.22602739726027396,
          0.4657534246575342,
          0.2374429223744292,
          0.2671232876712329,
          0.3744292237442922,
          0.2899543378995434,
          0.319634703196347,
          0.24429223744292236,
          0.1050228310502283,
          0.408675799086758,
          0.2054794520547945,
          0.1415525114155251,
          0.3561643835616438,
          0.13470319634703196,
          0.45662100456621,
          0.23972602739726026,
          0.2922374429223744,
          0.3219178082191781,
          0.2785388127853881,
          0.16210045662100456,
          0.3013698630136986,
          0.3287671232876712,
          0.3378995433789954,
          0.0867579908675799,
          0.2945205479452055,
          0.2579908675799087,
          0.3013698630136986,
          0.1415525114155251,
          0.11643835616438356,
          0.23515981735159816,
          0.3059360730593607,
          0.21232876712328766,
          0.4132420091324201,
          0.2808219178082192,
          0.4908675799086758,
          0.3127853881278539,
          0.4657534246575342,
          0.2922374429223744,
          0.2968036529680365,
          0.6415525114155252,
          0.20776255707762556,
          0.3561643835616438,
          0.3698630136986301,
          0.2579908675799087,
          0.1095890410958904,
          0.3538812785388128,
          0.1643835616438356,
          0.3698630136986301,
          0.4178082191780822,
          0.2671232876712329,
          0.3721461187214612,
          0.3721461187214612,
          0.273972602739726,
          0.4474885844748858,
          0.3949771689497717,
          0.3972602739726027,
          0.3812785388127854,
          0.4063926940639269,
          0.3561643835616438,
          0.3264840182648402,
          0.2808219178082192,
          0.1963470319634703,
          0.3378995433789954,
          0.1324200913242009,
          0.3378995433789954,
          0.6461187214611872,
          0.273972602739726,
          0.3584474885844749,
          0.2922374429223744,
          0.3926940639269406,
          0.2762557077625571,
          0.3835616438356164,
          0.3949771689497717,
          0.3356164383561644,
          0.4178082191780822,
          0.3036529680365297,
          0.1689497716894977,
          0.2694063926940639,
          0.23972602739726026,
          0.2328767123287671,
          0.2374429223744292,
          0.3561643835616438,
          0.3264840182648402,
          0.182648401826484,
          0.1963470319634703,
          0.4589041095890411,
          0.05251141552511415,
          0.365296803652968,
          0.3584474885844749,
          0.2808219178082192,
          0.2465753424657534,
          0.2534246575342466,
          0.2465753424657534,
          0.3401826484018265,
          0.1963470319634703,
          0.2100456621004566,
          0.3082191780821918,
          0.4406392694063927,
          0.091324200913242,
          0.4315068493150685,
          0.1780821917808219,
          0.2100456621004566,
          0.22146118721461186,
          0.18493150684931506,
          0.4223744292237443,
          0.1780821917808219,
          0.2420091324200913,
          0.4771689497716895,
          0.18036529680365296,
          0.17579908675799086,
          0.4383561643835616,
          0.22602739726027396,
          0.1963470319634703,
          0.09817351598173515,
          0.13926940639269406,
          0.16210045662100456,
          0.1141552511415525,
          0.2625570776255708,
          0.3150684931506849,
          0.15296803652968036,
          0.01141552511415525,
          0.2511415525114155
         ],
         "xaxis": "x",
         "xbins": {
          "end": 1,
          "size": 1,
          "start": 0
         },
         "yaxis": "y"
        },
        {
         "legendgroup": "normalized cholestrol",
         "marker": {
          "color": "rgb(31, 119, 180)"
         },
         "mode": "lines",
         "name": "normalized cholestrol",
         "showlegend": false,
         "type": "scatter",
         "x": [
          0,
          0.002,
          0.004,
          0.006,
          0.008,
          0.01,
          0.012,
          0.014,
          0.016,
          0.018,
          0.02,
          0.022,
          0.024,
          0.026,
          0.028,
          0.03,
          0.032,
          0.034,
          0.036,
          0.038,
          0.04,
          0.042,
          0.044,
          0.046,
          0.048,
          0.05,
          0.052,
          0.054,
          0.056,
          0.058,
          0.06,
          0.062,
          0.064,
          0.066,
          0.068,
          0.07,
          0.072,
          0.074,
          0.076,
          0.078,
          0.08,
          0.082,
          0.084,
          0.086,
          0.088,
          0.09,
          0.092,
          0.094,
          0.096,
          0.098,
          0.1,
          0.102,
          0.104,
          0.106,
          0.108,
          0.11,
          0.112,
          0.114,
          0.116,
          0.118,
          0.12,
          0.122,
          0.124,
          0.126,
          0.128,
          0.13,
          0.132,
          0.134,
          0.136,
          0.138,
          0.14,
          0.142,
          0.144,
          0.146,
          0.148,
          0.15,
          0.152,
          0.154,
          0.156,
          0.158,
          0.16,
          0.162,
          0.164,
          0.166,
          0.168,
          0.17,
          0.172,
          0.174,
          0.176,
          0.178,
          0.18,
          0.182,
          0.184,
          0.186,
          0.188,
          0.19,
          0.192,
          0.194,
          0.196,
          0.198,
          0.2,
          0.202,
          0.204,
          0.206,
          0.208,
          0.21,
          0.212,
          0.214,
          0.216,
          0.218,
          0.22,
          0.222,
          0.224,
          0.226,
          0.228,
          0.23,
          0.232,
          0.234,
          0.236,
          0.238,
          0.24,
          0.242,
          0.244,
          0.246,
          0.248,
          0.25,
          0.252,
          0.254,
          0.256,
          0.258,
          0.26,
          0.262,
          0.264,
          0.266,
          0.268,
          0.27,
          0.272,
          0.274,
          0.276,
          0.278,
          0.28,
          0.282,
          0.284,
          0.286,
          0.288,
          0.29,
          0.292,
          0.294,
          0.296,
          0.298,
          0.3,
          0.302,
          0.304,
          0.306,
          0.308,
          0.31,
          0.312,
          0.314,
          0.316,
          0.318,
          0.32,
          0.322,
          0.324,
          0.326,
          0.328,
          0.33,
          0.332,
          0.334,
          0.336,
          0.338,
          0.34,
          0.342,
          0.344,
          0.346,
          0.348,
          0.35,
          0.352,
          0.354,
          0.356,
          0.358,
          0.36,
          0.362,
          0.364,
          0.366,
          0.368,
          0.37,
          0.372,
          0.374,
          0.376,
          0.378,
          0.38,
          0.382,
          0.384,
          0.386,
          0.388,
          0.39,
          0.392,
          0.394,
          0.396,
          0.398,
          0.4,
          0.402,
          0.404,
          0.406,
          0.408,
          0.41,
          0.412,
          0.414,
          0.416,
          0.418,
          0.42,
          0.422,
          0.424,
          0.426,
          0.428,
          0.43,
          0.432,
          0.434,
          0.436,
          0.438,
          0.44,
          0.442,
          0.444,
          0.446,
          0.448,
          0.45,
          0.452,
          0.454,
          0.456,
          0.458,
          0.46,
          0.462,
          0.464,
          0.466,
          0.468,
          0.47,
          0.472,
          0.474,
          0.476,
          0.478,
          0.48,
          0.482,
          0.484,
          0.486,
          0.488,
          0.49,
          0.492,
          0.494,
          0.496,
          0.498,
          0.5,
          0.502,
          0.504,
          0.506,
          0.508,
          0.51,
          0.512,
          0.514,
          0.516,
          0.518,
          0.52,
          0.522,
          0.524,
          0.526,
          0.528,
          0.53,
          0.532,
          0.534,
          0.536,
          0.538,
          0.54,
          0.542,
          0.544,
          0.546,
          0.548,
          0.55,
          0.552,
          0.554,
          0.556,
          0.558,
          0.56,
          0.562,
          0.564,
          0.566,
          0.568,
          0.57,
          0.572,
          0.574,
          0.576,
          0.578,
          0.58,
          0.582,
          0.584,
          0.586,
          0.588,
          0.59,
          0.592,
          0.594,
          0.596,
          0.598,
          0.6,
          0.602,
          0.604,
          0.606,
          0.608,
          0.61,
          0.612,
          0.614,
          0.616,
          0.618,
          0.62,
          0.622,
          0.624,
          0.626,
          0.628,
          0.63,
          0.632,
          0.634,
          0.636,
          0.638,
          0.64,
          0.642,
          0.644,
          0.646,
          0.648,
          0.65,
          0.652,
          0.654,
          0.656,
          0.658,
          0.66,
          0.662,
          0.664,
          0.666,
          0.668,
          0.67,
          0.672,
          0.674,
          0.676,
          0.678,
          0.68,
          0.682,
          0.684,
          0.686,
          0.688,
          0.69,
          0.692,
          0.694,
          0.696,
          0.698,
          0.7,
          0.702,
          0.704,
          0.706,
          0.708,
          0.71,
          0.712,
          0.714,
          0.716,
          0.718,
          0.72,
          0.722,
          0.724,
          0.726,
          0.728,
          0.73,
          0.732,
          0.734,
          0.736,
          0.738,
          0.74,
          0.742,
          0.744,
          0.746,
          0.748,
          0.75,
          0.752,
          0.754,
          0.756,
          0.758,
          0.76,
          0.762,
          0.764,
          0.766,
          0.768,
          0.77,
          0.772,
          0.774,
          0.776,
          0.778,
          0.78,
          0.782,
          0.784,
          0.786,
          0.788,
          0.79,
          0.792,
          0.794,
          0.796,
          0.798,
          0.8,
          0.802,
          0.804,
          0.806,
          0.808,
          0.81,
          0.812,
          0.814,
          0.816,
          0.818,
          0.82,
          0.822,
          0.824,
          0.826,
          0.828,
          0.83,
          0.832,
          0.834,
          0.836,
          0.838,
          0.84,
          0.842,
          0.844,
          0.846,
          0.848,
          0.85,
          0.852,
          0.854,
          0.856,
          0.858,
          0.86,
          0.862,
          0.864,
          0.866,
          0.868,
          0.87,
          0.872,
          0.874,
          0.876,
          0.878,
          0.88,
          0.882,
          0.884,
          0.886,
          0.888,
          0.89,
          0.892,
          0.894,
          0.896,
          0.898,
          0.9,
          0.902,
          0.904,
          0.906,
          0.908,
          0.91,
          0.912,
          0.914,
          0.916,
          0.918,
          0.92,
          0.922,
          0.924,
          0.926,
          0.928,
          0.93,
          0.932,
          0.934,
          0.936,
          0.938,
          0.94,
          0.942,
          0.944,
          0.946,
          0.948,
          0.95,
          0.952,
          0.954,
          0.956,
          0.958,
          0.96,
          0.962,
          0.964,
          0.966,
          0.968,
          0.97,
          0.972,
          0.974,
          0.976,
          0.978,
          0.98,
          0.982,
          0.984,
          0.986,
          0.988,
          0.99,
          0.992,
          0.994,
          0.996,
          0.998
         ],
         "xaxis": "x",
         "y": [
          0.14167442072320408,
          0.1483603133700972,
          0.15525306587528306,
          0.16236518228513783,
          0.16971083504006215,
          0.17730588501389757,
          0.18516788029715267,
          0.1933160326981642,
          0.20177117122553853,
          0.2105556721277999,
          0.2196933653994247,
          0.2292094180133714,
          0.23913019450554945,
          0.24948309591274168,
          0.26029637844811676,
          0.27159895368295367,
          0.28342017238415146,
          0.2957895945284255,
          0.3087367483689948,
          0.322290881761383,
          0.3364807092534814,
          0.35133415870225804,
          0.3668781213861788,
          0.38313820972890533,
          0.4001385268266436,
          0.41790145196954553,
          0.4364474462584614,
          0.4557948822349663,
          0.4759599011595311,
          0.4969563011865838,
          0.5187954591952323,
          0.5414862884427247,
          0.5650352335197057,
          0.5894463033108943,
          0.6147211418145362,
          0.6408591357650264,
          0.6678575570552235,
          0.6957117369910527,
          0.7244152684568613,
          0.7539602311533459,
          0.784337434220312,
          0.8155366698036536,
          0.8475469704995704,
          0.8803568631368015,
          0.9139546110654355,
          0.9483284370300319,
          0.9834667188328001,
          1.0193581503506712,
          1.0559918610632701,
          1.0933574880748993,
          1.131445195662912,
          1.170245638639661,
          1.2097498672505578,
          1.2499491729138577,
          1.2908348757995822,
          1.3323980570004526,
          1.3746292398171602,
          1.4175180264112568,
          1.4610526977170006,
          1.5052197859944907,
          1.5500036306987495,
          1.5953859293842367,
          1.6413452961197563,
          1.6878568403191845,
          1.7348917789726208,
          1.782417094974272,
          1.8303952535817711,
          1.8787839880132435,
          1.927536163810853,
          1.9765997299021072,
          2.0259177623132176,
          2.075428604282541,
          2.1250661041448757,
          2.1747599498750545,
          2.224436096662013,
          2.2740172814052664,
          2.323423615657942,
          2.3725732463554823,
          2.421383071733779,
          2.469769498215089,
          2.5176492227764555,
          2.564940024454677,
          2.6115615482135346,
          2.6574360644197523,
          2.702489187646657,
          2.746650539438471,
          2.7898543409991383,
          2.8320399234807625,
          2.873152145589981,
          2.9131417105471717,
          2.9519653769567236,
          2.989586060804353,
          3.0259728285127636,
          3.061100783682153,
          3.094950852741128,
          3.127509477162267,
          3.1587682220885958,
          3.188723313112257,
          3.21737511449516,
          3.2447275632836985,
          3.270787574519771,
          3.2955644330724847,
          3.319069187509576,
          3.3413140609041356,
          3.3623118925557574,
          3.382075623329598,
          3.4006178357267154,
          3.417950357947624,
          3.4340839391572633,
          3.449028000967852,
          3.462790467892255,
          3.475377677251833,
          3.4867943668139407,
          3.4970437363471727,
          3.506127577373033,
          3.5140464637105184,
          3.5207999939964467,
          3.5263870762506997,
          3.530806243765396,
          3.5340559911411473,
          3.5361351191751096,
          3.537043077516367,
          3.536780294526801,
          3.5353484845950702,
          3.5327509242140995,
          3.5289926894097485,
          3.52408084855607,
          3.5180246061827427,
          3.5108353950250892,
          3.5025269152347596,
          3.4931151213129126,
          3.482618158900009,
          3.471056255014513,
          3.4584515666388755,
          3.444827993672277,
          3.430210963178832,
          3.4146271925379126,
          3.398104439536763,
          3.380671247628527,
          3.362356694513085,
          3.3431901518907243,
          3.3232010637046536,
          3.302418749447008,
          3.28087223817969,
          3.258590137845278,
          3.2356005432467523,
          3.211930984793491,
          3.187608418780917,
          3.162659258630161,
          3.13710944519842,
          3.110984553016242,
          3.084309928148175,
          3.0571108523382295,
          3.0294127272190203,
          3.0012412716551884,
          2.9726227247766133,
          2.9435840469472603,
          2.914153110819694,
          2.88435887474476,
          2.85423153113863,
          2.8238026229455184,
          2.7931051220621206,
          2.7621734644893703,
          2.731043538027437,
          2.6997526195044665,
          2.668339259799254,
          2.636843116252196,
          2.605304733423865,
          2.5737652745235455,
          2.5422662071569153,
          2.510848948300428,
          2.479554474568163,
          2.4484229048669084,
          2.417493063410092,
          2.38680203175965,
          2.356384699068012,
          2.3262733199872936,
          2.2964970897898738,
          2.267081746101333,
          2.238049206283717,
          2.2094172489321733,
          2.181199247172086,
          2.1534039604847433,
          2.1260353906673544,
          2.099092706274169,
          2.072570238517449,
          2.046457550161778,
          2.020739577456093,
          1.9953968436494438,
          1.9704057411639246,
          1.9457388780859468,
          1.9213654833183635,
          1.8972518635417064,
          1.8733619040911589,
          1.8496576049910811,
          1.8260996427204592,
          1.8026479478260942,
          1.7792622882645162,
          1.7559028483430088,
          1.732530793342466,
          1.7091088103328564,
          1.6856016163224719,
          1.661976425696976,
          1.6382033698803777,
          1.614255863261102,
          1.5901109106419011,
          1.5657493527605912,
          1.5411560477557424,
          1.5163199877836904,
          1.4912343512972364,
          1.4658964927404612,
          1.440307872569327,
          1.4144739315479262,
          1.3884039141740103,
          1.3621106468373547,
          1.3356102768984301,
          1.3089219792857743,
          1.2820676374465627,
          1.255071505549582,
          1.2279598587411489,
          1.200760638005165,
          1.173503095794648,
          1.1462174481031289,
          1.1189345380519289,
          1.0916855154068756,
          1.0645015357289591,
          1.0374134821317107,
          1.0104517118863017,
          0.9836458294042849,
          0.957024486456474,
          0.9306152098704208,
          0.9044442564009726,
          0.8785364939977864,
          0.8529153083063223,
          0.8276025329367747,
          0.8026184018179522,
          0.7779815218159627,
          0.7537088637343013,
          0.7298157698135657,
          0.7063159759051919,
          0.6832216465926378,
          0.6605434216633402,
          0.6382904724833214,
          0.6164705669819674,
          0.59509014210677,
          0.57415438274722,
          0.5536673062463634,
          0.533631851711814,
          0.5140499734019502,
          0.4949227374958174,
          0.47625042155759617,
          0.45803261598054246,
          0.44026832664518034,
          0.42295607795749224,
          0.40609401535137674,
          0.389680006252806,
          0.373711738418319,
          0.3581868144852066,
          0.3431028415117884,
          0.3284575142500505,
          0.314248690884627,
          0.30047445999588596,
          0.2871331975632716,
          0.27422361291925135,
          0.2617447826937917,
          0.2496961719524287,
          0.23807764192436495,
          0.22688944393608468,
          0.21613219940517653,
          0.20580686600188752,
          0.19591469034549586,
          0.18645714786156542,
          0.17743587067727903,
          0.16885256466836204,
          0.16070891698611456,
          0.15300649558109314,
          0.14574664239622492,
          0.1389303620229645,
          0.132558207697022,
          0.12663016655396853,
          0.12114554606967325,
          0.11610286357722517,
          0.11149974068306624,
          0.10733280430371699,
          0.1035975959148312,
          0.10028849045097109,
          0.09739862612257727,
          0.09491984623135184,
          0.09284265387193882,
          0.09115618021142154,
          0.08984816684340413,
          0.088904962524419,
          0.08831153442053448,
          0.08805149382403453,
          0.08810713614576438,
          0.0884594948492946,
          0.08908840886868663,
          0.08997260294196331,
          0.09108978019627757,
          0.09241672623668663,
          0.09392942391639582,
          0.09560317790018652,
          0.09741274807223256,
          0.09933249078252729,
          0.1013365068707938,
          0.10339879535154071,
          0.10549341158785772,
          0.10759462872418789,
          0.10967710108989931,
          0.1117160282268641,
          0.11368731813696868,
          0.11556774829162696,
          0.11733512289756548,
          0.11896842487443544,
          0.12044796097344924,
          0.1217554984556471,
          0.12287439175691577,
          0.12378969759759943,
          0.12448827705019941,
          0.12495888316137481,
          0.1251922328357036,
          0.12518106182905336,
          0.1249201618686704,
          0.12440639911397346,
          0.12363871339430536,
          0.12261809790436788,
          0.12134755930065001,
          0.11983205841796404,
          0.11807843210866734,
          0.1160952969921848,
          0.11389293618266283,
          0.11148317033141952,
          0.10887921457186998,
          0.10609552318160351,
          0.10314762397358267,
          0.10005194459101582,
          0.09682563300411992,
          0.09348637458855781,
          0.09005220820265034,
          0.08654134367256149,
          0.08297198304171816,
          0.07936214784410653,
          0.07572951452327631,
          0.07209125994336318,
          0.0684639187296526,
          0.06486325393934592,
          0.06130414230406381,
          0.05780047501045157,
          0.05436507470054951,
          0.05100962908584146,
          0.04774464128452454,
          0.04457939671660992,
          0.041521946131592324,
          0.03857910410361308,
          0.035756462113581244,
          0.03305841515008662,
          0.030488200603766134,
          0.028047948104803256,
          0.0257387388613025,
          0.023560672997375996,
          0.02151294336309483,
          0.019593914292452455,
          0.017801203817958983,
          0.016131767908720614,
          0.014581985379689879,
          0.013147742219739831,
          0.011824514201654203,
          0.010607446764297654,
          0.009491431292418973,
          0.008471177059155255,
          0.007541278236963502,
          0.006696275521305343,
          0.005930712045185397,
          0.0052391833892064445,
          0.004616381609175157,
          0.004057133309905605,
          0.0035564318885787536,
          0.00310946415308114,
          0.002711631589803248,
          0.002358566611414044,
          0.0020461441584402806,
          0.0017704890596319507,
          0.001527979575875531,
          0.001315247561785369,
          0.0011291756791525877,
          0.0009668920883330935,
          0.0008257630286324234,
          0.0007033836780182502,
          0.0005975676572602688,
          0.0005063355150058054,
          0.00042790249941542733,
          0.00036066588978020484,
          0.00030319212888921856,
          0.00025420396456756394,
          0.0002125677774000886,
          0.000177281241717372,
          0.00014746143885891868,
          0.00012233351584953702,
          0.00010121995913659904,
          0.00008353053205920283,
          0.00006875290629954582,
          0.0000564440016812094,
          0.000046222035253668913,
          0.00003775926951928965,
          0.000030775440767755854,
          0.000025031841609521746,
          0.000020326026755995716,
          0.00001648710768407229,
          0.000013371599849506205,
          0.000010859785384906206,
          0.000008852554549169972,
          0.000007268690412439705,
          0.00000604256320337447,
          0.000005122203266921777,
          0.000004467724548138696,
          0.000004050073811971694,
          0.000003850084323945132,
          0.0000038578163573572155,
          0.000004072170573215743,
          0.000004500763961588823,
          0.000005160061564445169,
          0.000006075760550738741,
          0.000007283426315890843,
          0.00000882938306059203,
          0.000010771863696219657,
          0.000013182425850667406,
          0.00001614764212897609,
          0.00001977107353287369,
          0.000024175534972567562,
          0.000029505661019457666,
          0.000035930778354274517,
          0.00004364808866606893,
          0.00005288616196138047,
          0.00006390873526489422,
          0.00007701880545996142,
          0.0000925629974737722,
          0.0001109361801252328,
          0.00013258629172092185,
          0.00015801932593951617,
          0.00018780441576468065,
          0.0002225789393373542,
          0.00026305355678331793,
          0.00031001707157475594,
          0.0003643409941141713,
          0.0004269836693618867,
          0.0004989938149084898,
          0.0005815133014304797,
          0.0006757789945309415,
          0.000783123466179431,
          0.0009049743759895673,
          0.001042852318097244,
          0.0011983669291236766,
          0.001373211057306502,
          0.0015691528030015599,
          0.0017880252569733544,
          0.0020317137856834047,
          0.0023021407425068206,
          0.00260124752065632,
          0.0029309739075824726,
          0.0032932347515506805,
          0.0036898940085368414,
          0.004122736300850937,
          0.0045934361870456,
          0.005103525414485006,
          0.005654358499970239,
          0.006247077058331283,
          0.006882573371978754,
          0.007561453763959323,
          0.008284002400848032,
          0.00905014620753772,
          0.009859421621346981,
          0.010710943945629534,
          0.011603380081145566,
          0.012534925414995847,
          0.013503285630381159,
          0.014505664164681503,
          0.015538755987660732,
          0.0165987482958252,
          0.017681328623500758,
          0.018781700757045133,
          0.019894608707401226,
          0.021014368850149998,
          0.022134910184145526,
          0.023249822493049677,
          0.024352412022422245,
          0.025435764112626293,
          0.02649281205909252,
          0.02751641131099388,
          0.028499417971651755,
          0.029434770433411694,
          0.03031557287038419,
          0.031135179227999594,
          0.031887276291859994,
          0.03256596439229368,
          0.03316583430693924,
          0.033682038962370854,
          0.03411035860707114,
          0.03444725823089063,
          0.03468993613851406,
          0.03483636274352522
         ],
         "yaxis": "y"
        }
       ],
       "layout": {
        "barmode": "overlay",
        "hovermode": "closest",
        "legend": {
         "traceorder": "reversed"
        },
        "template": {
         "data": {
          "bar": [
           {
            "error_x": {
             "color": "#2a3f5f"
            },
            "error_y": {
             "color": "#2a3f5f"
            },
            "marker": {
             "line": {
              "color": "#E5ECF6",
              "width": 0.5
             },
             "pattern": {
              "fillmode": "overlay",
              "size": 10,
              "solidity": 0.2
             }
            },
            "type": "bar"
           }
          ],
          "barpolar": [
           {
            "marker": {
             "line": {
              "color": "#E5ECF6",
              "width": 0.5
             },
             "pattern": {
              "fillmode": "overlay",
              "size": 10,
              "solidity": 0.2
             }
            },
            "type": "barpolar"
           }
          ],
          "carpet": [
           {
            "aaxis": {
             "endlinecolor": "#2a3f5f",
             "gridcolor": "white",
             "linecolor": "white",
             "minorgridcolor": "white",
             "startlinecolor": "#2a3f5f"
            },
            "baxis": {
             "endlinecolor": "#2a3f5f",
             "gridcolor": "white",
             "linecolor": "white",
             "minorgridcolor": "white",
             "startlinecolor": "#2a3f5f"
            },
            "type": "carpet"
           }
          ],
          "choropleth": [
           {
            "colorbar": {
             "outlinewidth": 0,
             "ticks": ""
            },
            "type": "choropleth"
           }
          ],
          "contour": [
           {
            "colorbar": {
             "outlinewidth": 0,
             "ticks": ""
            },
            "colorscale": [
             [
              0,
              "#0d0887"
             ],
             [
              0.1111111111111111,
              "#46039f"
             ],
             [
              0.2222222222222222,
              "#7201a8"
             ],
             [
              0.3333333333333333,
              "#9c179e"
             ],
             [
              0.4444444444444444,
              "#bd3786"
             ],
             [
              0.5555555555555556,
              "#d8576b"
             ],
             [
              0.6666666666666666,
              "#ed7953"
             ],
             [
              0.7777777777777778,
              "#fb9f3a"
             ],
             [
              0.8888888888888888,
              "#fdca26"
             ],
             [
              1,
              "#f0f921"
             ]
            ],
            "type": "contour"
           }
          ],
          "contourcarpet": [
           {
            "colorbar": {
             "outlinewidth": 0,
             "ticks": ""
            },
            "type": "contourcarpet"
           }
          ],
          "heatmap": [
           {
            "colorbar": {
             "outlinewidth": 0,
             "ticks": ""
            },
            "colorscale": [
             [
              0,
              "#0d0887"
             ],
             [
              0.1111111111111111,
              "#46039f"
             ],
             [
              0.2222222222222222,
              "#7201a8"
             ],
             [
              0.3333333333333333,
              "#9c179e"
             ],
             [
              0.4444444444444444,
              "#bd3786"
             ],
             [
              0.5555555555555556,
              "#d8576b"
             ],
             [
              0.6666666666666666,
              "#ed7953"
             ],
             [
              0.7777777777777778,
              "#fb9f3a"
             ],
             [
              0.8888888888888888,
              "#fdca26"
             ],
             [
              1,
              "#f0f921"
             ]
            ],
            "type": "heatmap"
           }
          ],
          "heatmapgl": [
           {
            "colorbar": {
             "outlinewidth": 0,
             "ticks": ""
            },
            "colorscale": [
             [
              0,
              "#0d0887"
             ],
             [
              0.1111111111111111,
              "#46039f"
             ],
             [
              0.2222222222222222,
              "#7201a8"
             ],
             [
              0.3333333333333333,
              "#9c179e"
             ],
             [
              0.4444444444444444,
              "#bd3786"
             ],
             [
              0.5555555555555556,
              "#d8576b"
             ],
             [
              0.6666666666666666,
              "#ed7953"
             ],
             [
              0.7777777777777778,
              "#fb9f3a"
             ],
             [
              0.8888888888888888,
              "#fdca26"
             ],
             [
              1,
              "#f0f921"
             ]
            ],
            "type": "heatmapgl"
           }
          ],
          "histogram": [
           {
            "marker": {
             "pattern": {
              "fillmode": "overlay",
              "size": 10,
              "solidity": 0.2
             }
            },
            "type": "histogram"
           }
          ],
          "histogram2d": [
           {
            "colorbar": {
             "outlinewidth": 0,
             "ticks": ""
            },
            "colorscale": [
             [
              0,
              "#0d0887"
             ],
             [
              0.1111111111111111,
              "#46039f"
             ],
             [
              0.2222222222222222,
              "#7201a8"
             ],
             [
              0.3333333333333333,
              "#9c179e"
             ],
             [
              0.4444444444444444,
              "#bd3786"
             ],
             [
              0.5555555555555556,
              "#d8576b"
             ],
             [
              0.6666666666666666,
              "#ed7953"
             ],
             [
              0.7777777777777778,
              "#fb9f3a"
             ],
             [
              0.8888888888888888,
              "#fdca26"
             ],
             [
              1,
              "#f0f921"
             ]
            ],
            "type": "histogram2d"
           }
          ],
          "histogram2dcontour": [
           {
            "colorbar": {
             "outlinewidth": 0,
             "ticks": ""
            },
            "colorscale": [
             [
              0,
              "#0d0887"
             ],
             [
              0.1111111111111111,
              "#46039f"
             ],
             [
              0.2222222222222222,
              "#7201a8"
             ],
             [
              0.3333333333333333,
              "#9c179e"
             ],
             [
              0.4444444444444444,
              "#bd3786"
             ],
             [
              0.5555555555555556,
              "#d8576b"
             ],
             [
              0.6666666666666666,
              "#ed7953"
             ],
             [
              0.7777777777777778,
              "#fb9f3a"
             ],
             [
              0.8888888888888888,
              "#fdca26"
             ],
             [
              1,
              "#f0f921"
             ]
            ],
            "type": "histogram2dcontour"
           }
          ],
          "mesh3d": [
           {
            "colorbar": {
             "outlinewidth": 0,
             "ticks": ""
            },
            "type": "mesh3d"
           }
          ],
          "parcoords": [
           {
            "line": {
             "colorbar": {
              "outlinewidth": 0,
              "ticks": ""
             }
            },
            "type": "parcoords"
           }
          ],
          "pie": [
           {
            "automargin": true,
            "type": "pie"
           }
          ],
          "scatter": [
           {
            "fillpattern": {
             "fillmode": "overlay",
             "size": 10,
             "solidity": 0.2
            },
            "type": "scatter"
           }
          ],
          "scatter3d": [
           {
            "line": {
             "colorbar": {
              "outlinewidth": 0,
              "ticks": ""
             }
            },
            "marker": {
             "colorbar": {
              "outlinewidth": 0,
              "ticks": ""
             }
            },
            "type": "scatter3d"
           }
          ],
          "scattercarpet": [
           {
            "marker": {
             "colorbar": {
              "outlinewidth": 0,
              "ticks": ""
             }
            },
            "type": "scattercarpet"
           }
          ],
          "scattergeo": [
           {
            "marker": {
             "colorbar": {
              "outlinewidth": 0,
              "ticks": ""
             }
            },
            "type": "scattergeo"
           }
          ],
          "scattergl": [
           {
            "marker": {
             "colorbar": {
              "outlinewidth": 0,
              "ticks": ""
             }
            },
            "type": "scattergl"
           }
          ],
          "scattermapbox": [
           {
            "marker": {
             "colorbar": {
              "outlinewidth": 0,
              "ticks": ""
             }
            },
            "type": "scattermapbox"
           }
          ],
          "scatterpolar": [
           {
            "marker": {
             "colorbar": {
              "outlinewidth": 0,
              "ticks": ""
             }
            },
            "type": "scatterpolar"
           }
          ],
          "scatterpolargl": [
           {
            "marker": {
             "colorbar": {
              "outlinewidth": 0,
              "ticks": ""
             }
            },
            "type": "scatterpolargl"
           }
          ],
          "scatterternary": [
           {
            "marker": {
             "colorbar": {
              "outlinewidth": 0,
              "ticks": ""
             }
            },
            "type": "scatterternary"
           }
          ],
          "surface": [
           {
            "colorbar": {
             "outlinewidth": 0,
             "ticks": ""
            },
            "colorscale": [
             [
              0,
              "#0d0887"
             ],
             [
              0.1111111111111111,
              "#46039f"
             ],
             [
              0.2222222222222222,
              "#7201a8"
             ],
             [
              0.3333333333333333,
              "#9c179e"
             ],
             [
              0.4444444444444444,
              "#bd3786"
             ],
             [
              0.5555555555555556,
              "#d8576b"
             ],
             [
              0.6666666666666666,
              "#ed7953"
             ],
             [
              0.7777777777777778,
              "#fb9f3a"
             ],
             [
              0.8888888888888888,
              "#fdca26"
             ],
             [
              1,
              "#f0f921"
             ]
            ],
            "type": "surface"
           }
          ],
          "table": [
           {
            "cells": {
             "fill": {
              "color": "#EBF0F8"
             },
             "line": {
              "color": "white"
             }
            },
            "header": {
             "fill": {
              "color": "#C8D4E3"
             },
             "line": {
              "color": "white"
             }
            },
            "type": "table"
           }
          ]
         },
         "layout": {
          "annotationdefaults": {
           "arrowcolor": "#2a3f5f",
           "arrowhead": 0,
           "arrowwidth": 1
          },
          "autotypenumbers": "strict",
          "coloraxis": {
           "colorbar": {
            "outlinewidth": 0,
            "ticks": ""
           }
          },
          "colorscale": {
           "diverging": [
            [
             0,
             "#8e0152"
            ],
            [
             0.1,
             "#c51b7d"
            ],
            [
             0.2,
             "#de77ae"
            ],
            [
             0.3,
             "#f1b6da"
            ],
            [
             0.4,
             "#fde0ef"
            ],
            [
             0.5,
             "#f7f7f7"
            ],
            [
             0.6,
             "#e6f5d0"
            ],
            [
             0.7,
             "#b8e186"
            ],
            [
             0.8,
             "#7fbc41"
            ],
            [
             0.9,
             "#4d9221"
            ],
            [
             1,
             "#276419"
            ]
           ],
           "sequential": [
            [
             0,
             "#0d0887"
            ],
            [
             0.1111111111111111,
             "#46039f"
            ],
            [
             0.2222222222222222,
             "#7201a8"
            ],
            [
             0.3333333333333333,
             "#9c179e"
            ],
            [
             0.4444444444444444,
             "#bd3786"
            ],
            [
             0.5555555555555556,
             "#d8576b"
            ],
            [
             0.6666666666666666,
             "#ed7953"
            ],
            [
             0.7777777777777778,
             "#fb9f3a"
            ],
            [
             0.8888888888888888,
             "#fdca26"
            ],
            [
             1,
             "#f0f921"
            ]
           ],
           "sequentialminus": [
            [
             0,
             "#0d0887"
            ],
            [
             0.1111111111111111,
             "#46039f"
            ],
            [
             0.2222222222222222,
             "#7201a8"
            ],
            [
             0.3333333333333333,
             "#9c179e"
            ],
            [
             0.4444444444444444,
             "#bd3786"
            ],
            [
             0.5555555555555556,
             "#d8576b"
            ],
            [
             0.6666666666666666,
             "#ed7953"
            ],
            [
             0.7777777777777778,
             "#fb9f3a"
            ],
            [
             0.8888888888888888,
             "#fdca26"
            ],
            [
             1,
             "#f0f921"
            ]
           ]
          },
          "colorway": [
           "#636efa",
           "#EF553B",
           "#00cc96",
           "#ab63fa",
           "#FFA15A",
           "#19d3f3",
           "#FF6692",
           "#B6E880",
           "#FF97FF",
           "#FECB52"
          ],
          "font": {
           "color": "#2a3f5f"
          },
          "geo": {
           "bgcolor": "white",
           "lakecolor": "white",
           "landcolor": "#E5ECF6",
           "showlakes": true,
           "showland": true,
           "subunitcolor": "white"
          },
          "hoverlabel": {
           "align": "left"
          },
          "hovermode": "closest",
          "mapbox": {
           "style": "light"
          },
          "paper_bgcolor": "white",
          "plot_bgcolor": "#E5ECF6",
          "polar": {
           "angularaxis": {
            "gridcolor": "white",
            "linecolor": "white",
            "ticks": ""
           },
           "bgcolor": "#E5ECF6",
           "radialaxis": {
            "gridcolor": "white",
            "linecolor": "white",
            "ticks": ""
           }
          },
          "scene": {
           "xaxis": {
            "backgroundcolor": "#E5ECF6",
            "gridcolor": "white",
            "gridwidth": 2,
            "linecolor": "white",
            "showbackground": true,
            "ticks": "",
            "zerolinecolor": "white"
           },
           "yaxis": {
            "backgroundcolor": "#E5ECF6",
            "gridcolor": "white",
            "gridwidth": 2,
            "linecolor": "white",
            "showbackground": true,
            "ticks": "",
            "zerolinecolor": "white"
           },
           "zaxis": {
            "backgroundcolor": "#E5ECF6",
            "gridcolor": "white",
            "gridwidth": 2,
            "linecolor": "white",
            "showbackground": true,
            "ticks": "",
            "zerolinecolor": "white"
           }
          },
          "shapedefaults": {
           "line": {
            "color": "#2a3f5f"
           }
          },
          "ternary": {
           "aaxis": {
            "gridcolor": "white",
            "linecolor": "white",
            "ticks": ""
           },
           "baxis": {
            "gridcolor": "white",
            "linecolor": "white",
            "ticks": ""
           },
           "bgcolor": "#E5ECF6",
           "caxis": {
            "gridcolor": "white",
            "linecolor": "white",
            "ticks": ""
           }
          },
          "title": {
           "x": 0.05
          },
          "xaxis": {
           "automargin": true,
           "gridcolor": "white",
           "linecolor": "white",
           "ticks": "",
           "title": {
            "standoff": 15
           },
           "zerolinecolor": "white",
           "zerolinewidth": 2
          },
          "yaxis": {
           "automargin": true,
           "gridcolor": "white",
           "linecolor": "white",
           "ticks": "",
           "title": {
            "standoff": 15
           },
           "zerolinecolor": "white",
           "zerolinewidth": 2
          }
         }
        },
        "title": {
         "text": "Distribution of normalized cholestrol levels"
        },
        "xaxis": {
         "anchor": "y2",
         "domain": [
          0,
          1
         ],
         "zeroline": false
        },
        "yaxis": {
         "anchor": "free",
         "domain": [
          0,
          1
         ],
         "position": 0
        }
       }
      }
     },
     "metadata": {},
     "output_type": "display_data"
    }
   ],
   "source": [
    "x = df[\"normalized_chol\"]\n",
    "hist_data = [x]\n",
    "group_labels = ['normalized cholestrol'] # name of the dataset\n",
    "\n",
    "fig = ff.create_distplot(hist_data, group_labels, show_rug=False)\n",
    "fig.update_layout(title = \"Distribution of normalized cholestrol levels\")\n",
    "fig.show()"
   ]
  },
  {
   "cell_type": "markdown",
   "metadata": {},
   "source": [
    "Compared to the above curve (Fig:1) we conclude following:\n",
    "\n",
    "1. The spread is less now\n",
    "2. The height of the curve is increased\n",
    "3. All values as in range of 0 to 1"
   ]
  },
  {
   "cell_type": "markdown",
   "metadata": {},
   "source": [
    "# PMF"
   ]
  },
  {
   "cell_type": "markdown",
   "metadata": {},
   "source": [
    "Probability mass function (PMF) maps each value to its corresponding probability. PMF is plotted for discrete distributions.\n",
    "However, when there are too many values in the sample, it becomes difficult to read and interpret the PMF plot. Because with the decrease in the probability of each values, the random noise increases."
   ]
  },
  {
   "cell_type": "code",
   "execution_count": 26,
   "metadata": {},
   "outputs": [
    {
     "data": {
      "text/plain": [
       "204    0.019802\n",
       "197    0.019802\n",
       "234    0.019802\n",
       "269    0.016502\n",
       "254    0.016502\n",
       "         ...   \n",
       "284    0.003300\n",
       "224    0.003300\n",
       "167    0.003300\n",
       "276    0.003300\n",
       "131    0.003300\n",
       "Name: chol, Length: 152, dtype: float64"
      ]
     },
     "execution_count": 26,
     "metadata": {},
     "output_type": "execute_result"
    }
   ],
   "source": [
    "chol_pmf = df[\"chol\"].value_counts(normalize = True)\n",
    "chol_pmf"
   ]
  },
  {
   "cell_type": "code",
   "execution_count": 27,
   "metadata": {},
   "outputs": [
    {
     "data": {
      "application/vnd.plotly.v1+json": {
       "config": {
        "plotlyServerURL": "https://plot.ly"
       },
       "data": [
        {
         "alignmentgroup": "True",
         "hovertemplate": "x=%{x}<br>y=%{y}<extra></extra>",
         "legendgroup": "",
         "marker": {
          "color": "#636efa",
          "pattern": {
           "shape": ""
          }
         },
         "name": "",
         "offsetgroup": "",
         "orientation": "v",
         "showlegend": false,
         "textposition": "auto",
         "type": "bar",
         "x": [
          204,
          197,
          234,
          269,
          254,
          212,
          211,
          240,
          177,
          243,
          226,
          233,
          239,
          282,
          230,
          244,
          256,
          246,
          201,
          236,
          250,
          288,
          303,
          245,
          223,
          309,
          203,
          220,
          249,
          258,
          175,
          263,
          229,
          199,
          274,
          219,
          283,
          231,
          248,
          255,
          207,
          214,
          277,
          315,
          298,
          289,
          270,
          196,
          206,
          286,
          188,
          253,
          225,
          149,
          228,
          295,
          330,
          267,
          268,
          271,
          193,
          335,
          299,
          318,
          209,
          205,
          216,
          273,
          198,
          232,
          221,
          308,
          208,
          264,
          302,
          325,
          247,
          235,
          304,
          213,
          218,
          227,
          222,
          260,
          266,
          275,
          261,
          265,
          294,
          192,
          241,
          307,
          176,
          164,
          185,
          169,
          326,
          187,
          311,
          341,
          407,
          409,
          172,
          259,
          200,
          327,
          184,
          237,
          293,
          319,
          300,
          322,
          166,
          281,
          174,
          217,
          305,
          394,
          290,
          141,
          160,
          564,
          183,
          186,
          182,
          252,
          257,
          353,
          321,
          360,
          417,
          340,
          168,
          354,
          195,
          126,
          313,
          262,
          215,
          210,
          306,
          178,
          242,
          180,
          278,
          342,
          157,
          284,
          224,
          167,
          276,
          131
         ],
         "xaxis": "x",
         "y": [
          0.019801980198019802,
          0.019801980198019802,
          0.019801980198019802,
          0.0165016501650165,
          0.0165016501650165,
          0.0165016501650165,
          0.013201320132013201,
          0.013201320132013201,
          0.013201320132013201,
          0.013201320132013201,
          0.013201320132013201,
          0.013201320132013201,
          0.013201320132013201,
          0.013201320132013201,
          0.009900990099009901,
          0.009900990099009901,
          0.009900990099009901,
          0.009900990099009901,
          0.009900990099009901,
          0.009900990099009901,
          0.009900990099009901,
          0.009900990099009901,
          0.009900990099009901,
          0.009900990099009901,
          0.009900990099009901,
          0.009900990099009901,
          0.009900990099009901,
          0.009900990099009901,
          0.009900990099009901,
          0.009900990099009901,
          0.009900990099009901,
          0.009900990099009901,
          0.009900990099009901,
          0.009900990099009901,
          0.009900990099009901,
          0.009900990099009901,
          0.009900990099009901,
          0.009900990099009901,
          0.006600660066006601,
          0.006600660066006601,
          0.006600660066006601,
          0.006600660066006601,
          0.006600660066006601,
          0.006600660066006601,
          0.006600660066006601,
          0.006600660066006601,
          0.006600660066006601,
          0.006600660066006601,
          0.006600660066006601,
          0.006600660066006601,
          0.006600660066006601,
          0.006600660066006601,
          0.006600660066006601,
          0.006600660066006601,
          0.006600660066006601,
          0.006600660066006601,
          0.006600660066006601,
          0.006600660066006601,
          0.006600660066006601,
          0.006600660066006601,
          0.006600660066006601,
          0.006600660066006601,
          0.006600660066006601,
          0.006600660066006601,
          0.006600660066006601,
          0.006600660066006601,
          0.006600660066006601,
          0.006600660066006601,
          0.006600660066006601,
          0.006600660066006601,
          0.006600660066006601,
          0.006600660066006601,
          0.006600660066006601,
          0.006600660066006601,
          0.006600660066006601,
          0.006600660066006601,
          0.006600660066006601,
          0.006600660066006601,
          0.006600660066006601,
          0.006600660066006601,
          0.006600660066006601,
          0.006600660066006601,
          0.006600660066006601,
          0.006600660066006601,
          0.006600660066006601,
          0.006600660066006601,
          0.006600660066006601,
          0.006600660066006601,
          0.006600660066006601,
          0.006600660066006601,
          0.0033003300330033004,
          0.0033003300330033004,
          0.0033003300330033004,
          0.0033003300330033004,
          0.0033003300330033004,
          0.0033003300330033004,
          0.0033003300330033004,
          0.0033003300330033004,
          0.0033003300330033004,
          0.0033003300330033004,
          0.0033003300330033004,
          0.0033003300330033004,
          0.0033003300330033004,
          0.0033003300330033004,
          0.0033003300330033004,
          0.0033003300330033004,
          0.0033003300330033004,
          0.0033003300330033004,
          0.0033003300330033004,
          0.0033003300330033004,
          0.0033003300330033004,
          0.0033003300330033004,
          0.0033003300330033004,
          0.0033003300330033004,
          0.0033003300330033004,
          0.0033003300330033004,
          0.0033003300330033004,
          0.0033003300330033004,
          0.0033003300330033004,
          0.0033003300330033004,
          0.0033003300330033004,
          0.0033003300330033004,
          0.0033003300330033004,
          0.0033003300330033004,
          0.0033003300330033004,
          0.0033003300330033004,
          0.0033003300330033004,
          0.0033003300330033004,
          0.0033003300330033004,
          0.0033003300330033004,
          0.0033003300330033004,
          0.0033003300330033004,
          0.0033003300330033004,
          0.0033003300330033004,
          0.0033003300330033004,
          0.0033003300330033004,
          0.0033003300330033004,
          0.0033003300330033004,
          0.0033003300330033004,
          0.0033003300330033004,
          0.0033003300330033004,
          0.0033003300330033004,
          0.0033003300330033004,
          0.0033003300330033004,
          0.0033003300330033004,
          0.0033003300330033004,
          0.0033003300330033004,
          0.0033003300330033004,
          0.0033003300330033004,
          0.0033003300330033004,
          0.0033003300330033004,
          0.0033003300330033004
         ],
         "yaxis": "y"
        }
       ],
       "layout": {
        "barmode": "relative",
        "legend": {
         "tracegroupgap": 0
        },
        "margin": {
         "t": 60
        },
        "template": {
         "data": {
          "bar": [
           {
            "error_x": {
             "color": "#2a3f5f"
            },
            "error_y": {
             "color": "#2a3f5f"
            },
            "marker": {
             "line": {
              "color": "#E5ECF6",
              "width": 0.5
             },
             "pattern": {
              "fillmode": "overlay",
              "size": 10,
              "solidity": 0.2
             }
            },
            "type": "bar"
           }
          ],
          "barpolar": [
           {
            "marker": {
             "line": {
              "color": "#E5ECF6",
              "width": 0.5
             },
             "pattern": {
              "fillmode": "overlay",
              "size": 10,
              "solidity": 0.2
             }
            },
            "type": "barpolar"
           }
          ],
          "carpet": [
           {
            "aaxis": {
             "endlinecolor": "#2a3f5f",
             "gridcolor": "white",
             "linecolor": "white",
             "minorgridcolor": "white",
             "startlinecolor": "#2a3f5f"
            },
            "baxis": {
             "endlinecolor": "#2a3f5f",
             "gridcolor": "white",
             "linecolor": "white",
             "minorgridcolor": "white",
             "startlinecolor": "#2a3f5f"
            },
            "type": "carpet"
           }
          ],
          "choropleth": [
           {
            "colorbar": {
             "outlinewidth": 0,
             "ticks": ""
            },
            "type": "choropleth"
           }
          ],
          "contour": [
           {
            "colorbar": {
             "outlinewidth": 0,
             "ticks": ""
            },
            "colorscale": [
             [
              0,
              "#0d0887"
             ],
             [
              0.1111111111111111,
              "#46039f"
             ],
             [
              0.2222222222222222,
              "#7201a8"
             ],
             [
              0.3333333333333333,
              "#9c179e"
             ],
             [
              0.4444444444444444,
              "#bd3786"
             ],
             [
              0.5555555555555556,
              "#d8576b"
             ],
             [
              0.6666666666666666,
              "#ed7953"
             ],
             [
              0.7777777777777778,
              "#fb9f3a"
             ],
             [
              0.8888888888888888,
              "#fdca26"
             ],
             [
              1,
              "#f0f921"
             ]
            ],
            "type": "contour"
           }
          ],
          "contourcarpet": [
           {
            "colorbar": {
             "outlinewidth": 0,
             "ticks": ""
            },
            "type": "contourcarpet"
           }
          ],
          "heatmap": [
           {
            "colorbar": {
             "outlinewidth": 0,
             "ticks": ""
            },
            "colorscale": [
             [
              0,
              "#0d0887"
             ],
             [
              0.1111111111111111,
              "#46039f"
             ],
             [
              0.2222222222222222,
              "#7201a8"
             ],
             [
              0.3333333333333333,
              "#9c179e"
             ],
             [
              0.4444444444444444,
              "#bd3786"
             ],
             [
              0.5555555555555556,
              "#d8576b"
             ],
             [
              0.6666666666666666,
              "#ed7953"
             ],
             [
              0.7777777777777778,
              "#fb9f3a"
             ],
             [
              0.8888888888888888,
              "#fdca26"
             ],
             [
              1,
              "#f0f921"
             ]
            ],
            "type": "heatmap"
           }
          ],
          "heatmapgl": [
           {
            "colorbar": {
             "outlinewidth": 0,
             "ticks": ""
            },
            "colorscale": [
             [
              0,
              "#0d0887"
             ],
             [
              0.1111111111111111,
              "#46039f"
             ],
             [
              0.2222222222222222,
              "#7201a8"
             ],
             [
              0.3333333333333333,
              "#9c179e"
             ],
             [
              0.4444444444444444,
              "#bd3786"
             ],
             [
              0.5555555555555556,
              "#d8576b"
             ],
             [
              0.6666666666666666,
              "#ed7953"
             ],
             [
              0.7777777777777778,
              "#fb9f3a"
             ],
             [
              0.8888888888888888,
              "#fdca26"
             ],
             [
              1,
              "#f0f921"
             ]
            ],
            "type": "heatmapgl"
           }
          ],
          "histogram": [
           {
            "marker": {
             "pattern": {
              "fillmode": "overlay",
              "size": 10,
              "solidity": 0.2
             }
            },
            "type": "histogram"
           }
          ],
          "histogram2d": [
           {
            "colorbar": {
             "outlinewidth": 0,
             "ticks": ""
            },
            "colorscale": [
             [
              0,
              "#0d0887"
             ],
             [
              0.1111111111111111,
              "#46039f"
             ],
             [
              0.2222222222222222,
              "#7201a8"
             ],
             [
              0.3333333333333333,
              "#9c179e"
             ],
             [
              0.4444444444444444,
              "#bd3786"
             ],
             [
              0.5555555555555556,
              "#d8576b"
             ],
             [
              0.6666666666666666,
              "#ed7953"
             ],
             [
              0.7777777777777778,
              "#fb9f3a"
             ],
             [
              0.8888888888888888,
              "#fdca26"
             ],
             [
              1,
              "#f0f921"
             ]
            ],
            "type": "histogram2d"
           }
          ],
          "histogram2dcontour": [
           {
            "colorbar": {
             "outlinewidth": 0,
             "ticks": ""
            },
            "colorscale": [
             [
              0,
              "#0d0887"
             ],
             [
              0.1111111111111111,
              "#46039f"
             ],
             [
              0.2222222222222222,
              "#7201a8"
             ],
             [
              0.3333333333333333,
              "#9c179e"
             ],
             [
              0.4444444444444444,
              "#bd3786"
             ],
             [
              0.5555555555555556,
              "#d8576b"
             ],
             [
              0.6666666666666666,
              "#ed7953"
             ],
             [
              0.7777777777777778,
              "#fb9f3a"
             ],
             [
              0.8888888888888888,
              "#fdca26"
             ],
             [
              1,
              "#f0f921"
             ]
            ],
            "type": "histogram2dcontour"
           }
          ],
          "mesh3d": [
           {
            "colorbar": {
             "outlinewidth": 0,
             "ticks": ""
            },
            "type": "mesh3d"
           }
          ],
          "parcoords": [
           {
            "line": {
             "colorbar": {
              "outlinewidth": 0,
              "ticks": ""
             }
            },
            "type": "parcoords"
           }
          ],
          "pie": [
           {
            "automargin": true,
            "type": "pie"
           }
          ],
          "scatter": [
           {
            "fillpattern": {
             "fillmode": "overlay",
             "size": 10,
             "solidity": 0.2
            },
            "type": "scatter"
           }
          ],
          "scatter3d": [
           {
            "line": {
             "colorbar": {
              "outlinewidth": 0,
              "ticks": ""
             }
            },
            "marker": {
             "colorbar": {
              "outlinewidth": 0,
              "ticks": ""
             }
            },
            "type": "scatter3d"
           }
          ],
          "scattercarpet": [
           {
            "marker": {
             "colorbar": {
              "outlinewidth": 0,
              "ticks": ""
             }
            },
            "type": "scattercarpet"
           }
          ],
          "scattergeo": [
           {
            "marker": {
             "colorbar": {
              "outlinewidth": 0,
              "ticks": ""
             }
            },
            "type": "scattergeo"
           }
          ],
          "scattergl": [
           {
            "marker": {
             "colorbar": {
              "outlinewidth": 0,
              "ticks": ""
             }
            },
            "type": "scattergl"
           }
          ],
          "scattermapbox": [
           {
            "marker": {
             "colorbar": {
              "outlinewidth": 0,
              "ticks": ""
             }
            },
            "type": "scattermapbox"
           }
          ],
          "scatterpolar": [
           {
            "marker": {
             "colorbar": {
              "outlinewidth": 0,
              "ticks": ""
             }
            },
            "type": "scatterpolar"
           }
          ],
          "scatterpolargl": [
           {
            "marker": {
             "colorbar": {
              "outlinewidth": 0,
              "ticks": ""
             }
            },
            "type": "scatterpolargl"
           }
          ],
          "scatterternary": [
           {
            "marker": {
             "colorbar": {
              "outlinewidth": 0,
              "ticks": ""
             }
            },
            "type": "scatterternary"
           }
          ],
          "surface": [
           {
            "colorbar": {
             "outlinewidth": 0,
             "ticks": ""
            },
            "colorscale": [
             [
              0,
              "#0d0887"
             ],
             [
              0.1111111111111111,
              "#46039f"
             ],
             [
              0.2222222222222222,
              "#7201a8"
             ],
             [
              0.3333333333333333,
              "#9c179e"
             ],
             [
              0.4444444444444444,
              "#bd3786"
             ],
             [
              0.5555555555555556,
              "#d8576b"
             ],
             [
              0.6666666666666666,
              "#ed7953"
             ],
             [
              0.7777777777777778,
              "#fb9f3a"
             ],
             [
              0.8888888888888888,
              "#fdca26"
             ],
             [
              1,
              "#f0f921"
             ]
            ],
            "type": "surface"
           }
          ],
          "table": [
           {
            "cells": {
             "fill": {
              "color": "#EBF0F8"
             },
             "line": {
              "color": "white"
             }
            },
            "header": {
             "fill": {
              "color": "#C8D4E3"
             },
             "line": {
              "color": "white"
             }
            },
            "type": "table"
           }
          ]
         },
         "layout": {
          "annotationdefaults": {
           "arrowcolor": "#2a3f5f",
           "arrowhead": 0,
           "arrowwidth": 1
          },
          "autotypenumbers": "strict",
          "coloraxis": {
           "colorbar": {
            "outlinewidth": 0,
            "ticks": ""
           }
          },
          "colorscale": {
           "diverging": [
            [
             0,
             "#8e0152"
            ],
            [
             0.1,
             "#c51b7d"
            ],
            [
             0.2,
             "#de77ae"
            ],
            [
             0.3,
             "#f1b6da"
            ],
            [
             0.4,
             "#fde0ef"
            ],
            [
             0.5,
             "#f7f7f7"
            ],
            [
             0.6,
             "#e6f5d0"
            ],
            [
             0.7,
             "#b8e186"
            ],
            [
             0.8,
             "#7fbc41"
            ],
            [
             0.9,
             "#4d9221"
            ],
            [
             1,
             "#276419"
            ]
           ],
           "sequential": [
            [
             0,
             "#0d0887"
            ],
            [
             0.1111111111111111,
             "#46039f"
            ],
            [
             0.2222222222222222,
             "#7201a8"
            ],
            [
             0.3333333333333333,
             "#9c179e"
            ],
            [
             0.4444444444444444,
             "#bd3786"
            ],
            [
             0.5555555555555556,
             "#d8576b"
            ],
            [
             0.6666666666666666,
             "#ed7953"
            ],
            [
             0.7777777777777778,
             "#fb9f3a"
            ],
            [
             0.8888888888888888,
             "#fdca26"
            ],
            [
             1,
             "#f0f921"
            ]
           ],
           "sequentialminus": [
            [
             0,
             "#0d0887"
            ],
            [
             0.1111111111111111,
             "#46039f"
            ],
            [
             0.2222222222222222,
             "#7201a8"
            ],
            [
             0.3333333333333333,
             "#9c179e"
            ],
            [
             0.4444444444444444,
             "#bd3786"
            ],
            [
             0.5555555555555556,
             "#d8576b"
            ],
            [
             0.6666666666666666,
             "#ed7953"
            ],
            [
             0.7777777777777778,
             "#fb9f3a"
            ],
            [
             0.8888888888888888,
             "#fdca26"
            ],
            [
             1,
             "#f0f921"
            ]
           ]
          },
          "colorway": [
           "#636efa",
           "#EF553B",
           "#00cc96",
           "#ab63fa",
           "#FFA15A",
           "#19d3f3",
           "#FF6692",
           "#B6E880",
           "#FF97FF",
           "#FECB52"
          ],
          "font": {
           "color": "#2a3f5f"
          },
          "geo": {
           "bgcolor": "white",
           "lakecolor": "white",
           "landcolor": "#E5ECF6",
           "showlakes": true,
           "showland": true,
           "subunitcolor": "white"
          },
          "hoverlabel": {
           "align": "left"
          },
          "hovermode": "closest",
          "mapbox": {
           "style": "light"
          },
          "paper_bgcolor": "white",
          "plot_bgcolor": "#E5ECF6",
          "polar": {
           "angularaxis": {
            "gridcolor": "white",
            "linecolor": "white",
            "ticks": ""
           },
           "bgcolor": "#E5ECF6",
           "radialaxis": {
            "gridcolor": "white",
            "linecolor": "white",
            "ticks": ""
           }
          },
          "scene": {
           "xaxis": {
            "backgroundcolor": "#E5ECF6",
            "gridcolor": "white",
            "gridwidth": 2,
            "linecolor": "white",
            "showbackground": true,
            "ticks": "",
            "zerolinecolor": "white"
           },
           "yaxis": {
            "backgroundcolor": "#E5ECF6",
            "gridcolor": "white",
            "gridwidth": 2,
            "linecolor": "white",
            "showbackground": true,
            "ticks": "",
            "zerolinecolor": "white"
           },
           "zaxis": {
            "backgroundcolor": "#E5ECF6",
            "gridcolor": "white",
            "gridwidth": 2,
            "linecolor": "white",
            "showbackground": true,
            "ticks": "",
            "zerolinecolor": "white"
           }
          },
          "shapedefaults": {
           "line": {
            "color": "#2a3f5f"
           }
          },
          "ternary": {
           "aaxis": {
            "gridcolor": "white",
            "linecolor": "white",
            "ticks": ""
           },
           "baxis": {
            "gridcolor": "white",
            "linecolor": "white",
            "ticks": ""
           },
           "bgcolor": "#E5ECF6",
           "caxis": {
            "gridcolor": "white",
            "linecolor": "white",
            "ticks": ""
           }
          },
          "title": {
           "x": 0.05
          },
          "xaxis": {
           "automargin": true,
           "gridcolor": "white",
           "linecolor": "white",
           "ticks": "",
           "title": {
            "standoff": 15
           },
           "zerolinecolor": "white",
           "zerolinewidth": 2
          },
          "yaxis": {
           "automargin": true,
           "gridcolor": "white",
           "linecolor": "white",
           "ticks": "",
           "title": {
            "standoff": 15
           },
           "zerolinecolor": "white",
           "zerolinewidth": 2
          }
         }
        },
        "title": {
         "text": "PMF distribution of the cholestrol values"
        },
        "xaxis": {
         "anchor": "y",
         "domain": [
          0,
          1
         ],
         "title": {
          "text": "Index number"
         }
        },
        "yaxis": {
         "anchor": "x",
         "domain": [
          0,
          1
         ],
         "title": {
          "text": "Normalized cholestrol values"
         }
        }
       }
      }
     },
     "metadata": {},
     "output_type": "display_data"
    }
   ],
   "source": [
    "fig = px.bar(x=chol_pmf.index, y =chol_pmf.values)\n",
    "fig.update_layout(yaxis_title = \"Normalized cholestrol values\",\n",
    "                 xaxis_title = \"Index number\",\n",
    "                 title = \"PMF distribution of the cholestrol values\")\n",
    "fig.show()"
   ]
  },
  {
   "cell_type": "markdown",
   "metadata": {},
   "source": [
    "The above notebook shows the various parametrs for the descriptive analysis of the data. The ideas for the notebook is taken from the book \"Think Stats: Probability and Statistics for Programmers by Allen B. Downey\". While writing the notebook the help from various articles from Medium and Analytics Vidhya was also taken.\n",
    "I hope you enjoy this notebook. Please share your thoughts in comments and upvote if you find the work useful."
   ]
  }
 ],
 "metadata": {
  "kernelspec": {
   "display_name": "Python 3.7.3 64-bit",
   "language": "python",
   "name": "python3"
  },
  "language_info": {
   "codemirror_mode": {
    "name": "ipython",
    "version": 3
   },
   "file_extension": ".py",
   "mimetype": "text/x-python",
   "name": "python",
   "nbconvert_exporter": "python",
   "pygments_lexer": "ipython3",
   "version": "3.7.3"
  },
  "orig_nbformat": 4,
  "vscode": {
   "interpreter": {
    "hash": "916dbcbb3f70747c44a77c7bcd40155683ae19c65e1c03b4aa3499c5328201f1"
   }
  }
 },
 "nbformat": 4,
 "nbformat_minor": 2
}
