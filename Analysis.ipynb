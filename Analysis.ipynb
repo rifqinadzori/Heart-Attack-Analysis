{
 "cells": [
  {
   "cell_type": "markdown",
   "metadata": {},
   "source": [
    "# Heart Attack Analysis"
   ]
  },
  {
   "cell_type": "markdown",
   "metadata": {},
   "source": [
    "<b>Dataset Information:</b>\n",
    "\n",
    "1. age : Age of the patient\n",
    "2. sex : Sex of the patient\n",
    "3. cp : Chest Pain type chest pain type\n",
    "    - 1: typical angina\n",
    "    - 2: atypical angina\n",
    "    - 3: non-anginal pain\n",
    "    - 4: asymptomatic\n",
    "4. trtbps : Resting blood pressure (in mm Hg)\n",
    "5. chol : Cholestoral in mg/dl fetched via BMI sensor\n",
    "6. fbs : (fasting blood sugar > 120 mg/dl) (1 = true; 0 = false)\n",
    "7. restecg : Resting electrocardiographic results\n",
    "    - 0: normal\n",
    "    - 1: having ST-T wave abnormality (T wave inversions and/or ST elevation or depression of > 0.05 mV)\n",
    "    - 2: showing probable or definite left ventricular hypertrophy by Estes' criteria\n",
    "8. thalach : maximum heart rate achieved\n",
    "9. exng: Exercise induced angina (1 = yes; 0 = no)\n",
    "10. oldpeak : Previous peak\n",
    "11. slp: Slope\n",
    "12. ca: number of major vessels (0-4)\n",
    "13. thall: Thalium Stress Test result ~ (0,3)\n",
    "14. output: Target variable"
   ]
  },
  {
   "cell_type": "code",
   "execution_count": 3,
   "metadata": {},
   "outputs": [],
   "source": [
    "import numpy as np # linear algebra\n",
    "import pandas as pd # data processing, CSV file I/O (e.g. pd.read_csv)\n",
    "import plotly.express as px\n",
    "from scipy.stats import skew, kurtosis\n",
    "import plotly.figure_factory as ff\n",
    "import matplotlib.pyplot as plt\n",
    "import seaborn as sns\n",
    "import warnings\n",
    "warnings.filterwarnings(\"ignore\")"
   ]
  },
  {
   "cell_type": "code",
   "execution_count": 4,
   "metadata": {},
   "outputs": [
    {
     "data": {
      "text/html": [
       "<div>\n",
       "<style scoped>\n",
       "    .dataframe tbody tr th:only-of-type {\n",
       "        vertical-align: middle;\n",
       "    }\n",
       "\n",
       "    .dataframe tbody tr th {\n",
       "        vertical-align: top;\n",
       "    }\n",
       "\n",
       "    .dataframe thead th {\n",
       "        text-align: right;\n",
       "    }\n",
       "</style>\n",
       "<table border=\"1\" class=\"dataframe\">\n",
       "  <thead>\n",
       "    <tr style=\"text-align: right;\">\n",
       "      <th></th>\n",
       "      <th>age</th>\n",
       "      <th>sex</th>\n",
       "      <th>cp</th>\n",
       "      <th>trtbps</th>\n",
       "      <th>chol</th>\n",
       "      <th>fbs</th>\n",
       "      <th>restecg</th>\n",
       "      <th>thalach</th>\n",
       "      <th>exng</th>\n",
       "      <th>oldpeak</th>\n",
       "      <th>slp</th>\n",
       "      <th>ca</th>\n",
       "      <th>thall</th>\n",
       "      <th>output</th>\n",
       "    </tr>\n",
       "  </thead>\n",
       "  <tbody>\n",
       "    <tr>\n",
       "      <th>0</th>\n",
       "      <td>63</td>\n",
       "      <td>1</td>\n",
       "      <td>3</td>\n",
       "      <td>145</td>\n",
       "      <td>233</td>\n",
       "      <td>1</td>\n",
       "      <td>0</td>\n",
       "      <td>150</td>\n",
       "      <td>0</td>\n",
       "      <td>2.3</td>\n",
       "      <td>0</td>\n",
       "      <td>0</td>\n",
       "      <td>1</td>\n",
       "      <td>1</td>\n",
       "    </tr>\n",
       "    <tr>\n",
       "      <th>1</th>\n",
       "      <td>37</td>\n",
       "      <td>1</td>\n",
       "      <td>2</td>\n",
       "      <td>130</td>\n",
       "      <td>250</td>\n",
       "      <td>0</td>\n",
       "      <td>1</td>\n",
       "      <td>187</td>\n",
       "      <td>0</td>\n",
       "      <td>3.5</td>\n",
       "      <td>0</td>\n",
       "      <td>0</td>\n",
       "      <td>2</td>\n",
       "      <td>1</td>\n",
       "    </tr>\n",
       "    <tr>\n",
       "      <th>2</th>\n",
       "      <td>41</td>\n",
       "      <td>0</td>\n",
       "      <td>1</td>\n",
       "      <td>130</td>\n",
       "      <td>204</td>\n",
       "      <td>0</td>\n",
       "      <td>0</td>\n",
       "      <td>172</td>\n",
       "      <td>0</td>\n",
       "      <td>1.4</td>\n",
       "      <td>2</td>\n",
       "      <td>0</td>\n",
       "      <td>2</td>\n",
       "      <td>1</td>\n",
       "    </tr>\n",
       "    <tr>\n",
       "      <th>3</th>\n",
       "      <td>56</td>\n",
       "      <td>1</td>\n",
       "      <td>1</td>\n",
       "      <td>120</td>\n",
       "      <td>236</td>\n",
       "      <td>0</td>\n",
       "      <td>1</td>\n",
       "      <td>178</td>\n",
       "      <td>0</td>\n",
       "      <td>0.8</td>\n",
       "      <td>2</td>\n",
       "      <td>0</td>\n",
       "      <td>2</td>\n",
       "      <td>1</td>\n",
       "    </tr>\n",
       "    <tr>\n",
       "      <th>4</th>\n",
       "      <td>57</td>\n",
       "      <td>0</td>\n",
       "      <td>0</td>\n",
       "      <td>120</td>\n",
       "      <td>354</td>\n",
       "      <td>0</td>\n",
       "      <td>1</td>\n",
       "      <td>163</td>\n",
       "      <td>1</td>\n",
       "      <td>0.6</td>\n",
       "      <td>2</td>\n",
       "      <td>0</td>\n",
       "      <td>2</td>\n",
       "      <td>1</td>\n",
       "    </tr>\n",
       "  </tbody>\n",
       "</table>\n",
       "</div>"
      ],
      "text/plain": [
       "   age  sex  cp  trtbps  chol  fbs  restecg  thalach  exng  oldpeak  slp  ca  \\\n",
       "0   63    1   3     145   233    1        0      150     0      2.3    0   0   \n",
       "1   37    1   2     130   250    0        1      187     0      3.5    0   0   \n",
       "2   41    0   1     130   204    0        0      172     0      1.4    2   0   \n",
       "3   56    1   1     120   236    0        1      178     0      0.8    2   0   \n",
       "4   57    0   0     120   354    0        1      163     1      0.6    2   0   \n",
       "\n",
       "   thall  output  \n",
       "0      1       1  \n",
       "1      2       1  \n",
       "2      2       1  \n",
       "3      2       1  \n",
       "4      2       1  "
      ]
     },
     "execution_count": 4,
     "metadata": {},
     "output_type": "execute_result"
    }
   ],
   "source": [
    "#Reading the dataset\n",
    "df = pd.read_csv(\"heart.csv\")\n",
    "df.rename({'caa':'ca','thalachh':'thalach'},axis=1, inplace=True) #rename column\n",
    "df.head()"
   ]
  },
  {
   "cell_type": "code",
   "execution_count": 5,
   "metadata": {},
   "outputs": [
    {
     "data": {
      "text/plain": [
       "(303, 14)"
      ]
     },
     "execution_count": 5,
     "metadata": {},
     "output_type": "execute_result"
    }
   ],
   "source": [
    "#Checking dimension of dataset\n",
    "df.shape"
   ]
  },
  {
   "cell_type": "code",
   "execution_count": 6,
   "metadata": {},
   "outputs": [
    {
     "name": "stdout",
     "output_type": "stream",
     "text": [
      "<class 'pandas.core.frame.DataFrame'>\n",
      "RangeIndex: 303 entries, 0 to 302\n",
      "Data columns (total 14 columns):\n",
      " #   Column   Non-Null Count  Dtype  \n",
      "---  ------   --------------  -----  \n",
      " 0   age      303 non-null    int64  \n",
      " 1   sex      303 non-null    int64  \n",
      " 2   cp       303 non-null    int64  \n",
      " 3   trtbps   303 non-null    int64  \n",
      " 4   chol     303 non-null    int64  \n",
      " 5   fbs      303 non-null    int64  \n",
      " 6   restecg  303 non-null    int64  \n",
      " 7   thalach  303 non-null    int64  \n",
      " 8   exng     303 non-null    int64  \n",
      " 9   oldpeak  303 non-null    float64\n",
      " 10  slp      303 non-null    int64  \n",
      " 11  ca       303 non-null    int64  \n",
      " 12  thall    303 non-null    int64  \n",
      " 13  output   303 non-null    int64  \n",
      "dtypes: float64(1), int64(13)\n",
      "memory usage: 33.3 KB\n"
     ]
    }
   ],
   "source": [
    "#Checking For datatypes of the attributes\n",
    "df.info()"
   ]
  },
  {
   "cell_type": "markdown",
   "metadata": {},
   "source": [
    "<b>All attributes are of type 'int' except 'oldpeak'"
   ]
  },
  {
   "cell_type": "code",
   "execution_count": 7,
   "metadata": {},
   "outputs": [
    {
     "data": {
      "text/plain": [
       "age        0.0\n",
       "sex        0.0\n",
       "cp         0.0\n",
       "trtbps     0.0\n",
       "chol       0.0\n",
       "fbs        0.0\n",
       "restecg    0.0\n",
       "thalach    0.0\n",
       "exng       0.0\n",
       "oldpeak    0.0\n",
       "slp        0.0\n",
       "ca         0.0\n",
       "thall      0.0\n",
       "output     0.0\n",
       "dtype: float64"
      ]
     },
     "execution_count": 7,
     "metadata": {},
     "output_type": "execute_result"
    }
   ],
   "source": [
    "#Checking for null values\n",
    "df.isnull().sum()/len(df)*100"
   ]
  },
  {
   "cell_type": "markdown",
   "metadata": {},
   "source": [
    "<b> No null values"
   ]
  },
  {
   "cell_type": "code",
   "execution_count": 8,
   "metadata": {},
   "outputs": [
    {
     "data": {
      "text/html": [
       "<div>\n",
       "<style scoped>\n",
       "    .dataframe tbody tr th:only-of-type {\n",
       "        vertical-align: middle;\n",
       "    }\n",
       "\n",
       "    .dataframe tbody tr th {\n",
       "        vertical-align: top;\n",
       "    }\n",
       "\n",
       "    .dataframe thead th {\n",
       "        text-align: right;\n",
       "    }\n",
       "</style>\n",
       "<table border=\"1\" class=\"dataframe\">\n",
       "  <thead>\n",
       "    <tr style=\"text-align: right;\">\n",
       "      <th></th>\n",
       "      <th>age</th>\n",
       "      <th>sex</th>\n",
       "      <th>cp</th>\n",
       "      <th>trtbps</th>\n",
       "      <th>chol</th>\n",
       "      <th>fbs</th>\n",
       "      <th>restecg</th>\n",
       "      <th>thalach</th>\n",
       "      <th>exng</th>\n",
       "      <th>oldpeak</th>\n",
       "      <th>slp</th>\n",
       "      <th>ca</th>\n",
       "      <th>thall</th>\n",
       "      <th>output</th>\n",
       "    </tr>\n",
       "  </thead>\n",
       "  <tbody>\n",
       "    <tr>\n",
       "      <th>164</th>\n",
       "      <td>38</td>\n",
       "      <td>1</td>\n",
       "      <td>2</td>\n",
       "      <td>138</td>\n",
       "      <td>175</td>\n",
       "      <td>0</td>\n",
       "      <td>1</td>\n",
       "      <td>173</td>\n",
       "      <td>0</td>\n",
       "      <td>0.0</td>\n",
       "      <td>2</td>\n",
       "      <td>4</td>\n",
       "      <td>2</td>\n",
       "      <td>1</td>\n",
       "    </tr>\n",
       "  </tbody>\n",
       "</table>\n",
       "</div>"
      ],
      "text/plain": [
       "     age  sex  cp  trtbps  chol  fbs  restecg  thalach  exng  oldpeak  slp  \\\n",
       "164   38    1   2     138   175    0        1      173     0      0.0    2   \n",
       "\n",
       "     ca  thall  output  \n",
       "164   4      2       1  "
      ]
     },
     "execution_count": 8,
     "metadata": {},
     "output_type": "execute_result"
    }
   ],
   "source": [
    "#Checking for duplicate rows\n",
    "df[df.duplicated()]"
   ]
  },
  {
   "cell_type": "markdown",
   "metadata": {},
   "source": [
    "<b>There is one duplicate value"
   ]
  },
  {
   "cell_type": "code",
   "execution_count": 9,
   "metadata": {},
   "outputs": [],
   "source": [
    "#Remove the duplicate\n",
    "df.drop_duplicates(keep='first',inplace=True)"
   ]
  },
  {
   "cell_type": "code",
   "execution_count": 10,
   "metadata": {},
   "outputs": [
    {
     "data": {
      "text/plain": [
       "(302, 14)"
      ]
     },
     "execution_count": 10,
     "metadata": {},
     "output_type": "execute_result"
    }
   ],
   "source": [
    "#Checking new shape\n",
    "df.shape"
   ]
  },
  {
   "cell_type": "code",
   "execution_count": 11,
   "metadata": {},
   "outputs": [
    {
     "data": {
      "text/html": [
       "<div>\n",
       "<style scoped>\n",
       "    .dataframe tbody tr th:only-of-type {\n",
       "        vertical-align: middle;\n",
       "    }\n",
       "\n",
       "    .dataframe tbody tr th {\n",
       "        vertical-align: top;\n",
       "    }\n",
       "\n",
       "    .dataframe thead th {\n",
       "        text-align: right;\n",
       "    }\n",
       "</style>\n",
       "<table border=\"1\" class=\"dataframe\">\n",
       "  <thead>\n",
       "    <tr style=\"text-align: right;\">\n",
       "      <th></th>\n",
       "      <th>age</th>\n",
       "      <th>sex</th>\n",
       "      <th>cp</th>\n",
       "      <th>trtbps</th>\n",
       "      <th>chol</th>\n",
       "      <th>fbs</th>\n",
       "      <th>restecg</th>\n",
       "      <th>thalach</th>\n",
       "      <th>exng</th>\n",
       "      <th>oldpeak</th>\n",
       "      <th>slp</th>\n",
       "      <th>ca</th>\n",
       "      <th>thall</th>\n",
       "      <th>output</th>\n",
       "    </tr>\n",
       "  </thead>\n",
       "  <tbody>\n",
       "    <tr>\n",
       "      <th>count</th>\n",
       "      <td>302.00000</td>\n",
       "      <td>302.000000</td>\n",
       "      <td>302.000000</td>\n",
       "      <td>302.000000</td>\n",
       "      <td>302.000000</td>\n",
       "      <td>302.000000</td>\n",
       "      <td>302.000000</td>\n",
       "      <td>302.000000</td>\n",
       "      <td>302.000000</td>\n",
       "      <td>302.000000</td>\n",
       "      <td>302.000000</td>\n",
       "      <td>302.000000</td>\n",
       "      <td>302.000000</td>\n",
       "      <td>302.000000</td>\n",
       "    </tr>\n",
       "    <tr>\n",
       "      <th>mean</th>\n",
       "      <td>54.42053</td>\n",
       "      <td>0.682119</td>\n",
       "      <td>0.963576</td>\n",
       "      <td>131.602649</td>\n",
       "      <td>246.500000</td>\n",
       "      <td>0.149007</td>\n",
       "      <td>0.526490</td>\n",
       "      <td>149.569536</td>\n",
       "      <td>0.327815</td>\n",
       "      <td>1.043046</td>\n",
       "      <td>1.397351</td>\n",
       "      <td>0.718543</td>\n",
       "      <td>2.314570</td>\n",
       "      <td>0.543046</td>\n",
       "    </tr>\n",
       "    <tr>\n",
       "      <th>std</th>\n",
       "      <td>9.04797</td>\n",
       "      <td>0.466426</td>\n",
       "      <td>1.032044</td>\n",
       "      <td>17.563394</td>\n",
       "      <td>51.753489</td>\n",
       "      <td>0.356686</td>\n",
       "      <td>0.526027</td>\n",
       "      <td>22.903527</td>\n",
       "      <td>0.470196</td>\n",
       "      <td>1.161452</td>\n",
       "      <td>0.616274</td>\n",
       "      <td>1.006748</td>\n",
       "      <td>0.613026</td>\n",
       "      <td>0.498970</td>\n",
       "    </tr>\n",
       "    <tr>\n",
       "      <th>min</th>\n",
       "      <td>29.00000</td>\n",
       "      <td>0.000000</td>\n",
       "      <td>0.000000</td>\n",
       "      <td>94.000000</td>\n",
       "      <td>126.000000</td>\n",
       "      <td>0.000000</td>\n",
       "      <td>0.000000</td>\n",
       "      <td>71.000000</td>\n",
       "      <td>0.000000</td>\n",
       "      <td>0.000000</td>\n",
       "      <td>0.000000</td>\n",
       "      <td>0.000000</td>\n",
       "      <td>0.000000</td>\n",
       "      <td>0.000000</td>\n",
       "    </tr>\n",
       "    <tr>\n",
       "      <th>25%</th>\n",
       "      <td>48.00000</td>\n",
       "      <td>0.000000</td>\n",
       "      <td>0.000000</td>\n",
       "      <td>120.000000</td>\n",
       "      <td>211.000000</td>\n",
       "      <td>0.000000</td>\n",
       "      <td>0.000000</td>\n",
       "      <td>133.250000</td>\n",
       "      <td>0.000000</td>\n",
       "      <td>0.000000</td>\n",
       "      <td>1.000000</td>\n",
       "      <td>0.000000</td>\n",
       "      <td>2.000000</td>\n",
       "      <td>0.000000</td>\n",
       "    </tr>\n",
       "    <tr>\n",
       "      <th>50%</th>\n",
       "      <td>55.50000</td>\n",
       "      <td>1.000000</td>\n",
       "      <td>1.000000</td>\n",
       "      <td>130.000000</td>\n",
       "      <td>240.500000</td>\n",
       "      <td>0.000000</td>\n",
       "      <td>1.000000</td>\n",
       "      <td>152.500000</td>\n",
       "      <td>0.000000</td>\n",
       "      <td>0.800000</td>\n",
       "      <td>1.000000</td>\n",
       "      <td>0.000000</td>\n",
       "      <td>2.000000</td>\n",
       "      <td>1.000000</td>\n",
       "    </tr>\n",
       "    <tr>\n",
       "      <th>75%</th>\n",
       "      <td>61.00000</td>\n",
       "      <td>1.000000</td>\n",
       "      <td>2.000000</td>\n",
       "      <td>140.000000</td>\n",
       "      <td>274.750000</td>\n",
       "      <td>0.000000</td>\n",
       "      <td>1.000000</td>\n",
       "      <td>166.000000</td>\n",
       "      <td>1.000000</td>\n",
       "      <td>1.600000</td>\n",
       "      <td>2.000000</td>\n",
       "      <td>1.000000</td>\n",
       "      <td>3.000000</td>\n",
       "      <td>1.000000</td>\n",
       "    </tr>\n",
       "    <tr>\n",
       "      <th>max</th>\n",
       "      <td>77.00000</td>\n",
       "      <td>1.000000</td>\n",
       "      <td>3.000000</td>\n",
       "      <td>200.000000</td>\n",
       "      <td>564.000000</td>\n",
       "      <td>1.000000</td>\n",
       "      <td>2.000000</td>\n",
       "      <td>202.000000</td>\n",
       "      <td>1.000000</td>\n",
       "      <td>6.200000</td>\n",
       "      <td>2.000000</td>\n",
       "      <td>4.000000</td>\n",
       "      <td>3.000000</td>\n",
       "      <td>1.000000</td>\n",
       "    </tr>\n",
       "  </tbody>\n",
       "</table>\n",
       "</div>"
      ],
      "text/plain": [
       "             age         sex          cp      trtbps        chol         fbs  \\\n",
       "count  302.00000  302.000000  302.000000  302.000000  302.000000  302.000000   \n",
       "mean    54.42053    0.682119    0.963576  131.602649  246.500000    0.149007   \n",
       "std      9.04797    0.466426    1.032044   17.563394   51.753489    0.356686   \n",
       "min     29.00000    0.000000    0.000000   94.000000  126.000000    0.000000   \n",
       "25%     48.00000    0.000000    0.000000  120.000000  211.000000    0.000000   \n",
       "50%     55.50000    1.000000    1.000000  130.000000  240.500000    0.000000   \n",
       "75%     61.00000    1.000000    2.000000  140.000000  274.750000    0.000000   \n",
       "max     77.00000    1.000000    3.000000  200.000000  564.000000    1.000000   \n",
       "\n",
       "          restecg     thalach        exng     oldpeak         slp          ca  \\\n",
       "count  302.000000  302.000000  302.000000  302.000000  302.000000  302.000000   \n",
       "mean     0.526490  149.569536    0.327815    1.043046    1.397351    0.718543   \n",
       "std      0.526027   22.903527    0.470196    1.161452    0.616274    1.006748   \n",
       "min      0.000000   71.000000    0.000000    0.000000    0.000000    0.000000   \n",
       "25%      0.000000  133.250000    0.000000    0.000000    1.000000    0.000000   \n",
       "50%      1.000000  152.500000    0.000000    0.800000    1.000000    0.000000   \n",
       "75%      1.000000  166.000000    1.000000    1.600000    2.000000    1.000000   \n",
       "max      2.000000  202.000000    1.000000    6.200000    2.000000    4.000000   \n",
       "\n",
       "            thall      output  \n",
       "count  302.000000  302.000000  \n",
       "mean     2.314570    0.543046  \n",
       "std      0.613026    0.498970  \n",
       "min      0.000000    0.000000  \n",
       "25%      2.000000    0.000000  \n",
       "50%      2.000000    1.000000  \n",
       "75%      3.000000    1.000000  \n",
       "max      3.000000    1.000000  "
      ]
     },
     "execution_count": 11,
     "metadata": {},
     "output_type": "execute_result"
    }
   ],
   "source": [
    "# Checking statistical data\n",
    "df.describe()"
   ]
  },
  {
   "cell_type": "markdown",
   "metadata": {},
   "source": [
    "# Exploratory Data Analysis"
   ]
  },
  {
   "cell_type": "code",
   "execution_count": 12,
   "metadata": {},
   "outputs": [
    {
     "data": {
      "image/png": "[encoded data removed]",
      "text/plain": [
       "<Figure size 640x480 with 2 Axes>"
      ]
     },
     "metadata": {},
     "output_type": "display_data"
    }
   ],
   "source": [
    "# Computing the correlation matrix\n",
    "sns.heatmap(df.corr(), annot=True)\n",
    "plt.rcParams['figure.figsize']=(20,5)"
   ]
  },
  {
   "cell_type": "markdown",
   "metadata": {},
   "source": [
    "<b>Insight</b>\n",
    "<ul>\n",
    "<li>The heatmap matrix suggests that there might be some correlation between output and cp, thalachh and slp</li>\n",
    "</ul>"
   ]
  },
  {
   "cell_type": "code",
   "execution_count": 13,
   "metadata": {},
   "outputs": [
    {
     "name": "stdout",
     "output_type": "stream",
     "text": [
      "Number of people having sex as 0 are 96 and Number of people having sex as 1 are 206\n"
     ]
    },
    {
     "data": {
      "image/png": "[encoded data removed]",
      "text/plain": [
       "<Figure size 2000x500 with 1 Axes>"
      ]
     },
     "metadata": {},
     "output_type": "display_data"
    }
   ],
   "source": [
    "#Breakdown Gender\n",
    "x=(df['sex'].value_counts())\n",
    "print(f'Number of people having sex as 0 are {x[0]} and Number of people having sex as 1 are {x[1]}')\n",
    "sns.countplot(data=df, x=\"sex\",order=df['sex'].value_counts().index,palette='Paired')\n",
    "plt.rcParams['figure.figsize']=(5,5)\n",
    "plt.show()"
   ]
  },
  {
   "cell_type": "markdown",
   "metadata": {},
   "source": [
    "<b>Insight</b>\n",
    "<ul>\n",
    "<li>People having gender as 0 (woman) are less than twice the people having gender as 1 (man)</li>\n",
    "</ul>"
   ]
  },
  {
   "cell_type": "code",
   "execution_count": 14,
   "metadata": {},
   "outputs": [
    {
     "name": "stdout",
     "output_type": "stream",
     "text": [
      "0    143\n",
      "2     86\n",
      "1     50\n",
      "3     23\n",
      "Name: cp, dtype: int64\n"
     ]
    },
    {
     "data": {
      "image/png": "[encoded data removed]",
      "text/plain": [
       "<Figure size 500x500 with 1 Axes>"
      ]
     },
     "metadata": {},
     "output_type": "display_data"
    }
   ],
   "source": [
    "#Breakdown for chest pain\n",
    "x=(df['cp'].value_counts())\n",
    "print(x)\n",
    "sns.countplot(data=df, x=\"cp\", order=df['cp'].value_counts().index, palette='Paired')\n",
    "plt.show()"
   ]
  },
  {
   "cell_type": "markdown",
   "metadata": {},
   "source": [
    "<b>Insight</b>\n",
    "<ul>\n",
    "<li>It can be observed people have chest pain of type 0 i.e 'Typical Angina' is the highest.</li>\n",
    "<li>It can be observed people have chest pain of type 3 i.e 'Asymptomatic' is the lowest</li>\n",
    "<li>It can also be observed people with chest pain of type 0 is almost 50% of all the people.</li>\n",
    "</ul>"
   ]
  },
  {
   "cell_type": "code",
   "execution_count": 15,
   "metadata": {},
   "outputs": [
    {
     "name": "stdout",
     "output_type": "stream",
     "text": [
      "0    257\n",
      "1     45\n",
      "Name: fbs, dtype: int64\n"
     ]
    },
    {
     "data": {
      "image/png": "[encoded data removed]",
      "text/plain": [
       "<Figure size 500x500 with 1 Axes>"
      ]
     },
     "metadata": {},
     "output_type": "display_data"
    }
   ],
   "source": [
    "#Breakdown of FBS\n",
    "x=(df['fbs'].value_counts())\n",
    "print(x)\n",
    "sns.countplot(data=df, x=\"fbs\",palette='Paired')\n",
    "plt.show()"
   ]
  },
  {
   "cell_type": "markdown",
   "metadata": {},
   "source": [
    "<b>Insight</b>\n",
    "<ul>\n",
    "<li>FBS with value 0 is significantly higher than value 1.</li>\n",
    "<ul>"
   ]
  },
  {
   "cell_type": "code",
   "execution_count": 16,
   "metadata": {},
   "outputs": [
    {
     "name": "stdout",
     "output_type": "stream",
     "text": [
      "1    151\n",
      "0    147\n",
      "2      4\n",
      "Name: restecg, dtype: int64\n"
     ]
    },
    {
     "data": {
      "image/png": "[encoded data removed]",
      "text/plain": [
       "<Figure size 500x500 with 1 Axes>"
      ]
     },
     "metadata": {},
     "output_type": "display_data"
    }
   ],
   "source": [
    "#Breakdown of ECG\n",
    "x=(df['restecg'].value_counts())\n",
    "print(x)\n",
    "sns.countplot(data=df, x=\"restecg\", order=df['restecg'].value_counts().index, palette='Paired')\n",
    "plt.show()"
   ]
  },
  {
   "cell_type": "markdown",
   "metadata": {},
   "source": [
    "<b>Insight</b>\n",
    "<ul>\n",
    "<li>ECG count is almost the same for type 0 and 1. Also, for type 2 is very lowest comparison to type 0 and 1.</li>\n",
    "<ul>"
   ]
  },
  {
   "cell_type": "code",
   "execution_count": 79,
   "metadata": {},
   "outputs": [
    {
     "data": {
      "text/plain": [
       "<AxesSubplot:xlabel='age', ylabel='Density'>"
      ]
     },
     "execution_count": 79,
     "metadata": {},
     "output_type": "execute_result"
    },
    {
     "data": {
      "image/png": "[encoded data removed]",
      "text/plain": [
       "<Figure size 1500x1000 with 1 Axes>"
      ]
     },
     "metadata": {},
     "output_type": "display_data"
    }
   ],
   "source": [
    "#Density distribution for Age\n",
    "fig = plt.figure(figsize=(15,10))\n",
    "gs = fig.add_gridspec(2,2)\n",
    "gs.update(wspace=0.5, hspace=0.5)\n",
    "ax1 = fig.add_subplot(gs[0,1])\n",
    "\n",
    "background_color = \"#ffe6e6\"\n",
    "fig.patch.set_facecolor(background_color) \n",
    "ax1.set_facecolor(background_color)\n",
    "sns.distplot(df.age, color=\"red\", label=\"Age\", kde= True)\n",
    "# plt.legend()"
   ]
  },
  {
   "cell_type": "markdown",
   "metadata": {},
   "source": [
    "<b>Insight</b>\n",
    "<ul>\n",
    "<li>Density distribution is highest for age group 55 to 60</li>\n",
    "<ul>"
   ]
  },
  {
   "cell_type": "code",
   "execution_count": 78,
   "metadata": {},
   "outputs": [
    {
     "data": {
      "text/plain": [
       "<AxesSubplot:xlabel='trtbps', ylabel='Density'>"
      ]
     },
     "execution_count": 78,
     "metadata": {},
     "output_type": "execute_result"
    },
    {
     "data": {
      "image/png": "[encoded data removed]",
      "text/plain": [
       "<Figure size 1500x1000 with 1 Axes>"
      ]
     },
     "metadata": {},
     "output_type": "display_data"
    }
   ],
   "source": [
    "#Density distribution for Blood Pressure\n",
    "fig = plt.figure(figsize=(15,10))\n",
    "gs = fig.add_gridspec(2,2)\n",
    "gs.update(wspace=0.5, hspace=0.5)\n",
    "ax1 = fig.add_subplot(gs[0,1])\n",
    "\n",
    "background_color = \"#ffe6e6\"\n",
    "fig.patch.set_facecolor(background_color) \n",
    "ax1.set_facecolor(background_color)\n",
    "\n",
    "sns.distplot(df.trtbps , color=\"green\", label=\"Resting Blood Pressure\", kde= True)"
   ]
  },
  {
   "cell_type": "markdown",
   "metadata": {},
   "source": [
    "<b>Insight</b>\n",
    "<ul>\n",
    "<li>Trtbs (Blood Pressure) has the highest count around 130</li>\n",
    "<ul>"
   ]
  },
  {
   "cell_type": "code",
   "execution_count": 99,
   "metadata": {},
   "outputs": [
    {
     "data": {
      "text/plain": [
       "Text(0, 0.5, 'Density')"
      ]
     },
     "execution_count": 99,
     "metadata": {},
     "output_type": "execute_result"
    },
    {
     "data": {
      "image/png": "[encoded data removed]",
      "text/plain": [
       "<Figure size 1800x1800 with 1 Axes>"
      ]
     },
     "metadata": {},
     "output_type": "display_data"
    }
   ],
   "source": [
    "#Distribution of Age according to target variable\n",
    "fig = plt.figure(figsize=(18,18))\n",
    "gs = fig.add_gridspec(5,2)\n",
    "gs.update(wspace=0.5, hspace=0.5)\n",
    "ax1 = fig.add_subplot(gs[0,1])\n",
    "\n",
    "background_color = \"#ffe6e6\"\n",
    "fig.patch.set_facecolor(background_color) \n",
    "ax1.set_facecolor(background_color) \n",
    "\n",
    "# Age\n",
    "ax1.grid(color='#000000', linestyle=':', axis='y', zorder=0,  dashes=(1,5))\n",
    "sns.kdeplot(ax=ax1, data=df, x='age',hue=\"output\", fill=True,palette=[\"#ff0000\",\"#228c22\"], alpha=.5, linewidth=0)\n",
    "ax1.set_xlabel(\"Age\")\n",
    "ax1.set_ylabel(\"Density\")"
   ]
  },
  {
   "cell_type": "code",
   "execution_count": 101,
   "metadata": {},
   "outputs": [
    {
     "data": {
      "image/png": "[encoded data removed]",
      "text/plain": [
       "<Figure size 1200x1800 with 10 Axes>"
      ]
     },
     "metadata": {},
     "output_type": "display_data"
    }
   ],
   "source": [
    "fig = plt.figure(figsize=(12,18))\n",
    "gs = fig.add_gridspec(5,2)\n",
    "gs.update(wspace=0.5, hspace=0.5)\n",
    "ax0 = fig.add_subplot(gs[0,0])\n",
    "ax1 = fig.add_subplot(gs[0,1])\n",
    "ax2 = fig.add_subplot(gs[1,0])\n",
    "ax3 = fig.add_subplot(gs[1,1])\n",
    "ax4 = fig.add_subplot(gs[2,0])\n",
    "ax5 = fig.add_subplot(gs[2,1])\n",
    "ax6 = fig.add_subplot(gs[3,0])\n",
    "ax7 = fig.add_subplot(gs[3,1])\n",
    "ax8 = fig.add_subplot(gs[4,0])\n",
    "ax9 = fig.add_subplot(gs[4,1])\n",
    "\n",
    "background_color = \"#ffe6e6\"\n",
    "color_palette = [\"#800000\",\"#8000ff\",\"#6aac90\",\"#5833ff\",\"#da8829\"]\n",
    "fig.patch.set_facecolor(background_color) \n",
    "ax0.set_facecolor(background_color) \n",
    "ax1.set_facecolor(background_color) \n",
    "ax2.set_facecolor(background_color)\n",
    "ax3.set_facecolor(background_color)\n",
    "ax4.set_facecolor(background_color)\n",
    "ax5.set_facecolor(background_color) \n",
    "ax6.set_facecolor(background_color) \n",
    "ax7.set_facecolor(background_color)\n",
    "ax8.set_facecolor(background_color)\n",
    "ax9.set_facecolor(background_color)\n",
    "\n",
    "# Age title\n",
    "ax0.text(0.5,0.5,\"Distribution of age\\naccording to\\n target variable\\n\",\n",
    "        horizontalalignment = 'center',\n",
    "        verticalalignment = 'center',\n",
    "        fontsize = 18,\n",
    "        fontweight='bold',\n",
    "        fontfamily='serif',\n",
    "        color='#000000')\n",
    "ax0.spines[\"bottom\"].set_visible(False)\n",
    "ax0.set_xticklabels([])\n",
    "ax0.set_yticklabels([])\n",
    "ax0.tick_params(left=False, bottom=False)\n",
    "\n",
    "# Age\n",
    "ax1.grid(color='#000000', linestyle=':', axis='y', zorder=0,  dashes=(1,5))\n",
    "sns.kdeplot(ax=ax1, data=df, x='age',hue=\"output\", fill=True,palette=[\"#de0a26\",\"#228c22\"], alpha=.5, linewidth=0)\n",
    "ax1.set_xlabel(\"\")\n",
    "ax1.set_ylabel(\"\")\n",
    "\n",
    "# TrTbps title\n",
    "ax2.text(0.5,0.5,\"Distribution of trtbps\\naccording to\\n target variable\\n\",\n",
    "        horizontalalignment = 'center',\n",
    "        verticalalignment = 'center',\n",
    "        fontsize = 18,\n",
    "        fontweight='bold',\n",
    "        fontfamily='serif',\n",
    "        color='#000000')\n",
    "ax2.spines[\"bottom\"].set_visible(False)\n",
    "ax2.set_xticklabels([])\n",
    "ax2.set_yticklabels([])\n",
    "ax2.tick_params(left=False, bottom=False)\n",
    "\n",
    "# TrTbps\n",
    "ax3.grid(color='#000000', linestyle=':', axis='y', zorder=0,  dashes=(1,5))\n",
    "sns.kdeplot(ax=ax3, data=df, x='trtbps',hue=\"output\", fill=True,palette=[\"#de0a26\",\"#228c22\"], alpha=.5, linewidth=0)\n",
    "ax3.set_xlabel(\"\")\n",
    "ax3.set_ylabel(\"\")\n",
    "\n",
    "# Chol title\n",
    "ax4.text(0.5,0.5,\"Distribution of chol\\naccording to\\n target variable\\n\",\n",
    "        horizontalalignment = 'center',\n",
    "        verticalalignment = 'center',\n",
    "        fontsize = 18,\n",
    "        fontweight='bold',\n",
    "        fontfamily='serif',\n",
    "        color='#000000')\n",
    "ax4.spines[\"bottom\"].set_visible(False)\n",
    "ax4.set_xticklabels([])\n",
    "ax4.set_yticklabels([])\n",
    "ax4.tick_params(left=False, bottom=False)\n",
    "\n",
    "# Chol\n",
    "ax5.grid(color='#000000', linestyle=':', axis='y', zorder=0,  dashes=(1,5))\n",
    "sns.kdeplot(ax=ax5, data=df, x='chol',hue=\"output\", fill=True,palette=[\"#de0a26\",\"#228c22\"], alpha=.5, linewidth=0)\n",
    "ax5.set_xlabel(\"\")\n",
    "ax5.set_ylabel(\"\")\n",
    "\n",
    "# Thalachh title\n",
    "ax6.text(0.5,0.5,\"Distribution of thalach\\naccording to\\n target variable\\n\",\n",
    "        horizontalalignment = 'center',\n",
    "        verticalalignment = 'center',\n",
    "        fontsize = 18,\n",
    "        fontweight='bold',\n",
    "        fontfamily='serif',\n",
    "        color='#000000')\n",
    "ax6.spines[\"bottom\"].set_visible(False)\n",
    "ax6.set_xticklabels([])\n",
    "ax6.set_yticklabels([])\n",
    "ax6.tick_params(left=False, bottom=False)\n",
    "\n",
    "# Thalachh\n",
    "ax7.grid(color='#000000', linestyle=':', axis='y', zorder=0,  dashes=(1,5))\n",
    "sns.kdeplot(ax=ax7, data=df, x='thalach',hue=\"output\", fill=True,palette=[\"#de0a26\",\"#228c22\"], alpha=.5, linewidth=0)\n",
    "ax7.set_xlabel(\"\")\n",
    "ax7.set_ylabel(\"\")\n",
    "\n",
    "# Oldpeak title\n",
    "ax8.text(0.5,0.5,\"Distribution of oldpeak\\naccording to\\n target variable\\n\",\n",
    "        horizontalalignment = 'center',\n",
    "        verticalalignment = 'center',\n",
    "        fontsize = 18,\n",
    "        fontweight='bold',\n",
    "        fontfamily='serif',\n",
    "        color='#000000')\n",
    "ax8.spines[\"bottom\"].set_visible(False)\n",
    "ax8.set_xticklabels([])\n",
    "ax8.set_yticklabels([])\n",
    "ax8.tick_params(left=False, bottom=False)\n",
    "\n",
    "# Oldpeak\n",
    "ax9.grid(color='#000000', linestyle=':', axis='y', zorder=0,  dashes=(1,5))\n",
    "sns.kdeplot(ax=ax9, data=df, x='oldpeak',hue=\"output\", fill=True,palette=[\"#de0a26\",\"#228c22\"], alpha=.5, linewidth=0)\n",
    "ax9.set_xlabel(\"\")\n",
    "ax9.set_ylabel(\"\")\n",
    "\n",
    "for i in [\"top\",\"left\",\"right\"]:\n",
    "    ax0.spines[i].set_visible(False)\n",
    "    ax1.spines[i].set_visible(False)\n",
    "    ax2.spines[i].set_visible(False)\n",
    "    ax3.spines[i].set_visible(False)\n",
    "    ax4.spines[i].set_visible(False)\n",
    "    ax5.spines[i].set_visible(False)\n",
    "    ax6.spines[i].set_visible(False)\n",
    "    ax7.spines[i].set_visible(False)\n",
    "    ax8.spines[i].set_visible(False)\n",
    "    ax9.spines[i].set_visible(False)"
   ]
  },
  {
   "cell_type": "markdown",
   "metadata": {},
   "source": [
    "<b>Insight</b>\n",
    "<ul>\n",
    "<li>It is intuitive that elder people might have higher chances of heart attack but according to the distribution plot of age vs output, it is evident that this isn't the case. So, based on this distribution, we conclude that younger people have higher chances of heart attack</li>\n",
    "<li>According to the distribution plot of thalachh vs output, people with higher maximum heart rate achieved have higher chances of heart attack.</li>\n",
    "<li>According to the distribution plot of oldpeak vs output, people with lower pevious peak achieved have higher chances of heart attack.</li>\n",
    "<ul>"
   ]
  },
  {
   "cell_type": "markdown",
   "metadata": {},
   "source": [
    "# Central Tendency\n",
    "It is measured using 3M's that is mean, median and mode.\n",
    "\n",
    "1. Mean: It is defined as the average of the values present.\n",
    "2. Median: It is the centrally located value of the dataset when arranged in ascending order.\n",
    "3. Mode: It is the most frequent value in the dataset.\n",
    "   Now the question arises how are these values useful in data analysis of data science. To answer it let us see the following graph."
   ]
  },
  {
   "cell_type": "code",
   "execution_count": 20,
   "metadata": {},
   "outputs": [
    {
     "name": "stdout",
     "output_type": "stream",
     "text": [
      "Mean of age: 54.420529801324506\n",
      "Median of age: 55.5\n",
      "Mode of age: 0    58\n",
      "dtype: int64\n",
      "Skewness:  -0.20272991021357126\n"
     ]
    },
    {
     "data": {
      "text/plain": [
       "<Figure size 1000x1000 with 0 Axes>"
      ]
     },
     "metadata": {},
     "output_type": "display_data"
    },
    {
     "data": {
      "image/png": "[encoded data removed]",
      "text/plain": [
       "<Figure size 500x500 with 1 Axes>"
      ]
     },
     "metadata": {},
     "output_type": "display_data"
    }
   ],
   "source": [
    "plt.figure(figsize=(10,10))\n",
    "sns.displot(df['age'], label=\"Age\", color='green', kde= True)\n",
    "plt.legend()\n",
    "plt.xlabel('Age')\n",
    "plt.title('Distribution of Age')\n",
    "\n",
    "# for patch in plt.gca().patches:\n",
    "#     plt.text(patch.get_x() + patch.get_width() / 2,\n",
    "#              patch.get_height(),\n",
    "#              str(patch.get_height()),\n",
    "#              ha='center',\n",
    "#              va='bottom')\n",
    "\n",
    "print(\"Mean of age:\", df[\"age\"].mean())\n",
    "print(\"Median of age:\", df[\"age\"].median())\n",
    "print(\"Mode of age:\", df[\"age\"].mode())\n",
    "print(\"Skewness: \", skew(df[\"age\"]))"
   ]
  },
  {
   "cell_type": "markdown",
   "metadata": {},
   "source": [
    "Density distribution is highest for age group 55 to 60"
   ]
  },
  {
   "cell_type": "code",
   "execution_count": 21,
   "metadata": {},
   "outputs": [
    {
     "data": {
      "text/plain": [
       "<matplotlib.legend.Legend at 0x7f8bbcfd0080>"
      ]
     },
     "execution_count": 21,
     "metadata": {},
     "output_type": "execute_result"
    },
    {
     "data": {
      "text/plain": [
       "<Figure size 2000x2000 with 0 Axes>"
      ]
     },
     "metadata": {},
     "output_type": "display_data"
    },
    {
     "data": {
      "image/png": "[encoded data removed]",
      "text/plain": [
       "<Figure size 500x500 with 1 Axes>"
      ]
     },
     "metadata": {},
     "output_type": "display_data"
    }
   ],
   "source": [
    "plt.figure(figsize=(20,20))\n",
    "sns.displot(df['trtbps'] , color=\"blue\", label=\"Resting Blood Pressure\", kde= True)\n",
    "plt.legend()"
   ]
  },
  {
   "cell_type": "markdown",
   "metadata": {},
   "source": [
    "Trtbs has the highest count around 130"
   ]
  },
  {
   "cell_type": "code",
   "execution_count": 22,
   "metadata": {},
   "outputs": [
    {
     "data": {
      "application/vnd.plotly.v1+json": {
       "config": {
        "plotlyServerURL": "https://plot.ly"
       },
       "data": [
        {
         "autobinx": false,
         "histnorm": "probability density",
         "legendgroup": "Age",
         "marker": {
          "color": "rgb(31, 119, 180)"
         },
         "name": "Age",
         "opacity": 0.7,
         "type": "histogram",
         "x": [
          151,
          147,
          4
         ],
         "xaxis": "x",
         "xbins": {
          "end": 151,
          "size": 1,
          "start": 4
         },
         "yaxis": "y"
        },
        {
         "legendgroup": "Age",
         "marker": {
          "color": "rgb(31, 119, 180)"
         },
         "mode": "lines",
         "name": "Age",
         "showlegend": false,
         "type": "scatter",
         "x": [
          4,
          4.294,
          4.588,
          4.882,
          5.176,
          5.47,
          5.764,
          6.058,
          6.352,
          6.646,
          6.9399999999999995,
          7.234,
          7.5280000000000005,
          7.822,
          8.116,
          8.41,
          8.704,
          8.998000000000001,
          9.292,
          9.586,
          9.879999999999999,
          10.174,
          10.468,
          10.762,
          11.056000000000001,
          11.35,
          11.644,
          11.937999999999999,
          12.232,
          12.526,
          12.82,
          13.114,
          13.408,
          13.702,
          13.996,
          14.29,
          14.584,
          14.878,
          15.172,
          15.466,
          15.76,
          16.054000000000002,
          16.348,
          16.642,
          16.936,
          17.23,
          17.524,
          17.817999999999998,
          18.112000000000002,
          18.406,
          18.7,
          18.994,
          19.288,
          19.582,
          19.875999999999998,
          20.17,
          20.464,
          20.758,
          21.052,
          21.346,
          21.64,
          21.934,
          22.228,
          22.522,
          22.816,
          23.11,
          23.404,
          23.698,
          23.992,
          24.286,
          24.58,
          24.874,
          25.168,
          25.462,
          25.756,
          26.05,
          26.344,
          26.638,
          26.932,
          27.226,
          27.52,
          27.814,
          28.108,
          28.402,
          28.696,
          28.99,
          29.284,
          29.578,
          29.872,
          30.166,
          30.46,
          30.754,
          31.048,
          31.342,
          31.636,
          31.93,
          32.224000000000004,
          32.518,
          32.812,
          33.106,
          33.4,
          33.694,
          33.988,
          34.282,
          34.576,
          34.870000000000005,
          35.164,
          35.458,
          35.751999999999995,
          36.046,
          36.34,
          36.634,
          36.928,
          37.222,
          37.516,
          37.81,
          38.104,
          38.398,
          38.692,
          38.986,
          39.28,
          39.574,
          39.868,
          40.162,
          40.456,
          40.75,
          41.044,
          41.338,
          41.632,
          41.926,
          42.22,
          42.514,
          42.808,
          43.102,
          43.396,
          43.69,
          43.984,
          44.278,
          44.572,
          44.866,
          45.16,
          45.454,
          45.748,
          46.042,
          46.336,
          46.63,
          46.924,
          47.218,
          47.512,
          47.806,
          48.1,
          48.394,
          48.688,
          48.982,
          49.276,
          49.57,
          49.864,
          50.158,
          50.452,
          50.746,
          51.04,
          51.334,
          51.628,
          51.922,
          52.216,
          52.51,
          52.804,
          53.098,
          53.392,
          53.686,
          53.98,
          54.274,
          54.568,
          54.862,
          55.156,
          55.45,
          55.744,
          56.038,
          56.332,
          56.626,
          56.92,
          57.214,
          57.508,
          57.802,
          58.096,
          58.39,
          58.684,
          58.978,
          59.272,
          59.566,
          59.86,
          60.154,
          60.448,
          60.742,
          61.036,
          61.33,
          61.624,
          61.918,
          62.212,
          62.506,
          62.8,
          63.094,
          63.388,
          63.682,
          63.976,
          64.27000000000001,
          64.564,
          64.858,
          65.152,
          65.446,
          65.74000000000001,
          66.03399999999999,
          66.328,
          66.622,
          66.916,
          67.21000000000001,
          67.50399999999999,
          67.798,
          68.092,
          68.386,
          68.68,
          68.974,
          69.268,
          69.562,
          69.856,
          70.15,
          70.444,
          70.738,
          71.032,
          71.326,
          71.62,
          71.914,
          72.208,
          72.502,
          72.796,
          73.09,
          73.384,
          73.678,
          73.972,
          74.266,
          74.56,
          74.854,
          75.148,
          75.442,
          75.736,
          76.03,
          76.324,
          76.618,
          76.912,
          77.206,
          77.5,
          77.794,
          78.088,
          78.382,
          78.676,
          78.97,
          79.264,
          79.558,
          79.852,
          80.146,
          80.44,
          80.734,
          81.028,
          81.322,
          81.616,
          81.91,
          82.204,
          82.498,
          82.792,
          83.086,
          83.38,
          83.674,
          83.968,
          84.262,
          84.556,
          84.85,
          85.144,
          85.438,
          85.732,
          86.026,
          86.32,
          86.614,
          86.908,
          87.202,
          87.496,
          87.79,
          88.084,
          88.378,
          88.672,
          88.966,
          89.26,
          89.554,
          89.848,
          90.142,
          90.436,
          90.73,
          91.024,
          91.318,
          91.612,
          91.906,
          92.2,
          92.494,
          92.788,
          93.082,
          93.376,
          93.67,
          93.964,
          94.258,
          94.552,
          94.846,
          95.14,
          95.434,
          95.728,
          96.022,
          96.316,
          96.61,
          96.904,
          97.198,
          97.492,
          97.786,
          98.08,
          98.374,
          98.668,
          98.962,
          99.256,
          99.55,
          99.844,
          100.138,
          100.432,
          100.726,
          101.02,
          101.314,
          101.608,
          101.902,
          102.196,
          102.49,
          102.784,
          103.078,
          103.372,
          103.666,
          103.96,
          104.254,
          104.548,
          104.842,
          105.136,
          105.43,
          105.724,
          106.018,
          106.312,
          106.606,
          106.9,
          107.194,
          107.488,
          107.782,
          108.076,
          108.37,
          108.664,
          108.958,
          109.252,
          109.546,
          109.84,
          110.134,
          110.428,
          110.722,
          111.016,
          111.31,
          111.604,
          111.898,
          112.192,
          112.486,
          112.78,
          113.074,
          113.368,
          113.662,
          113.956,
          114.25,
          114.544,
          114.838,
          115.132,
          115.426,
          115.72,
          116.014,
          116.308,
          116.602,
          116.896,
          117.19,
          117.484,
          117.778,
          118.072,
          118.366,
          118.66,
          118.954,
          119.248,
          119.542,
          119.836,
          120.13,
          120.424,
          120.718,
          121.012,
          121.306,
          121.6,
          121.894,
          122.188,
          122.482,
          122.776,
          123.07,
          123.364,
          123.658,
          123.952,
          124.246,
          124.54,
          124.834,
          125.128,
          125.422,
          125.716,
          126.01,
          126.304,
          126.598,
          126.892,
          127.186,
          127.48,
          127.774,
          128.06799999999998,
          128.362,
          128.656,
          128.95,
          129.244,
          129.538,
          129.832,
          130.126,
          130.42000000000002,
          130.714,
          131.00799999999998,
          131.30200000000002,
          131.596,
          131.89,
          132.184,
          132.478,
          132.772,
          133.066,
          133.36,
          133.654,
          133.948,
          134.242,
          134.536,
          134.83,
          135.124,
          135.418,
          135.712,
          136.006,
          136.3,
          136.594,
          136.888,
          137.182,
          137.476,
          137.77,
          138.064,
          138.358,
          138.652,
          138.946,
          139.24,
          139.534,
          139.828,
          140.122,
          140.416,
          140.71,
          141.004,
          141.298,
          141.592,
          141.886,
          142.18,
          142.474,
          142.768,
          143.062,
          143.356,
          143.65,
          143.944,
          144.238,
          144.532,
          144.826,
          145.12,
          145.414,
          145.708,
          146.002,
          146.296,
          146.59,
          146.884,
          147.178,
          147.472,
          147.766,
          148.06,
          148.354,
          148.648,
          148.942,
          149.236,
          149.53,
          149.824,
          150.118,
          150.412,
          150.706
         ],
         "xaxis": "x",
         "y": [
          0.002365201168268209,
          0.0023688430481452172,
          0.0023724741862894013,
          0.0023760947001734037,
          0.002379704708950655,
          0.002383304333441496,
          0.0023868936961190246,
          0.00239047292109465,
          0.0023940421341033706,
          0.002397601462488763,
          0.002401151035187698,
          0.0024046909827147695,
          0.0024082214371464487,
          0.002411742532104961,
          0.0024152544027418845,
          0.0024187571857214743,
          0.0024222510192037135,
          0.0024257360428270934,
          0.002429212397691119,
          0.0024326802263385464,
          0.002436139672737359,
          0.0024395908822624633,
          0.002443034001677135,
          0.002446469179114191,
          0.002449896564056908,
          0.0024533163073196733,
          0.002456728561028386,
          0.0024601334786005964,
          0.002463531214725393,
          0.002466921925343038,
          0.002470305767624352,
          0.0024736828999498504,
          0.002477053481888632,
          0.0024804176741770254,
          0.0024837756386969956,
          0.0024871275384543024,
          0.0024904735375564343,
          0.002493813801190292,
          0.002497148495599652,
          0.0025004777880623906,
          0.002503801846867487,
          0.002507120841291791,
          0.002510434941576577,
          0.002513744318903873,
          0.0025170491453725685,
          0.002520349593974314,
          0.002523645838569199,
          0.002526938053861225,
          0.002530226415373572,
          0.0025335110994236538,
          0.0025367922830979777,
          0.0025400701442268043,
          0.0025433448613586046,
          0.0025466166137343314,
          0.002549885581261498,
          0.0025531519444880668,
          0.0025564158845761556,
          0.002559677583275565,
          0.00256293722289712,
          0.002566194986285848,
          0.0025694510567939735,
          0.0025727056182537527,
          0.0025759588549501356,
          0.0025792109515932735,
          0.0025824620932908627,
          0.0025857124655203328,
          0.0025889622541008855,
          0.0025922116451653856,
          0.0025954608251321006,
          0.002598709980676307,
          0.0026019592987017543,
          0.0026052089663119917,
          0.0026084591707815716,
          0.0026117100995271185,
          0.0026149619400782785,
          0.002618214880048547,
          0.00262146910710598,
          0.0026247248089437967,
          0.002627982173250866,
          0.0026312413876820972,
          0.00263450263982872,
          0.0026377661171884774,
          0.002641032007135717,
          0.0026443004968913966,
          0.002647571773493005,
          0.0026508460237643972,
          0.00265412343428556,
          0.0026574041913622944,
          0.002660688480995835,
          0.0026639764888524023,
          0.0026672684002326938,
          0.0026705644000413168,
          0.0026738646727561687,
          0.0026771694023977697,
          0.0026804787724985487,
          0.0026837929660720886,
          0.002687112165582337,
          0.002690436552912784,
          0.0026937663093356086,
          0.0026971016154808073,
          0.0027004426513052987,
          0.002703789596062016,
          0.002707142628268984,
          0.002710501925678395,
          0.00271386766524568,
          0.002717240023098581,
          0.0027206191745062294,
          0.002724005293848239,
          0.002727398554583812,
          0.0027307991292208605,
          0.0027342071892851607,
          0.002737622905289525,
          0.0027410464467030188,
          0.0027444779819202018,
          0.0027479176782304214,
          0.002751365701787147,
          0.0027548222175773542,
          0.002758287389390969,
          0.0027617613797903643,
          0.0027652443500799278,
          0.0027687364602756908,
          0.002772237869075037,
          0.002775748733826483,
          0.0027792692104995423,
          0.002782799453654678,
          0.0027863396164133423,
          0.0027898898504281145,
          0.0027934503058529353,
          0.0027970211313134486,
          0.0028006024738774483,
          0.002804194479025443,
          0.0028077972906213316,
          0.002811411050883209,
          0.002815035900354287,
          0.0028186719778739598,
          0.0028223194205489934,
          0.002825978363724859,
          0.0028296489409572103,
          0.002833331283983511,
          0.00283702552269481,
          0.002840731785107682,
          0.0028444501973363193,
          0.002848180883564799,
          0.0028519239660195162,
          0.002855679564941791,
          0.002859447798560657,
          0.0028632287830658324,
          0.0028670226325808765,
          0.0028708294591365414,
          0.002874649372644318,
          0.0028784824808701817,
          0.002882328889408545,
          0.0028861887016564153,
          0.0028900620187877714,
          0.002893948939728149,
          0.0028978495611294555,
          0.002901763977345007,
          0.00290569228040479,
          0.002909634559990969,
          0.002913590903413614,
          0.00291756139558669,
          0.0029215461190042727,
          0.00292554515371703,
          0.002929558577308944,
          0.0029335864648743033,
          0.0029376288889949413,
          0.002941685919717755,
          0.002945757624532484,
          0.0029498440683497656,
          0.0029539453134794632,
          0.0029580614196092784,
          0.0029621924437836502,
          0.0029663384403829304,
          0.0029704994611028665,
          0.002974675554934367,
          0.002978866768143568,
          0.0029830731442522115,
          0.002987294724018311,
          0.002991531545417148,
          0.0029957836436225603,
          0.003000051050988565,
          0.0030043337970312844,
          0.0030086319084112094,
          0.0030129454089157745,
          0.003017274319442277,
          0.003021618657981115,
          0.0030259784395993703,
          0.0030303536764247248,
          0.0030347443776297237,
          0.003039150549416376,
          0.003043572195001112,
          0.003048009314600084,
          0.003052461905414823,
          0.0030569299616182563,
          0.0030614134743410792,
          0.0030659124316584864,
          0.0030704268185772774,
          0.0030749566170233224,
          0.0030795018058294016,
          0.0030840623607234115,
          0.0030886382543169563,
          0.0030932294560943084,
          0.0030978359324017515,
          0.003102457646437312,
          0.0031070945582408623,
          0.003111746624684628,
          0.0031164137994640667,
          0.003121096033089158,
          0.0031257932728760655,
          0.003130505462939216,
          0.003135232544183758,
          0.0031399744542984324,
          0.00314473112774884,
          0.0031495024957711145,
          0.003154288486365996,
          0.0031590890242933186,
          0.0031639040310669016,
          0.003168733424949854,
          0.0031735771209502875,
          0.003178435030817449,
          0.003183307063038261,
          0.0031881931228342833,
          0.0031930931121590916,
          0.0031980069296960734,
          0.0032029344708566472,
          0.0032078756277788972,
          0.0032128302893266398,
          0.0032177983410889063,
          0.0032227796653798504,
          0.003227774141239088,
          0.003232781644432454,
          0.003237802047453197,
          0.003242835219523591,
          0.0032478810265969844,
          0.0032529393313602737,
          0.0032580099932368097,
          0.0032630928683897347,
          0.003268187809725743,
          0.0032732946668992888,
          0.0032784132863172073,
          0.003283543511143779,
          0.0032886851813062274,
          0.003293838133500638,
          0.0032990022011983233,
          0.0033041772146526127,
          0.0033093630009060713,
          0.0033145593837981616,
          0.003319766183973327,
          0.003324983218889515,
          0.003330210302827128,
          0.003335447246898402,
          0.003340693859057224,
          0.003345949944109378,
          0.0033512153037232135,
          0.0033564897364407502,
          0.003361773037689214,
          0.003367064999792989,
          0.0033723654119860117,
          0.0033776740604245783,
          0.003382990728200582,
          0.0033883151953551832,
          0.0033936472388928877,
          0.003398986632796055,
          0.003404333148039831,
          0.003409686552607494,
          0.003415046611506223,
          0.003420413086783281,
          0.0034257857375426157,
          0.003431164319961872,
          0.0034365485873098225,
          0.003441938289964203,
          0.00344733317542996,
          0.0034527329883579042,
          0.0034581374705637794,
          0.003463546361047718,
          0.0034689593960141128,
          0.0034743763088918864,
          0.003479796830355154,
          0.0034852206883442868,
          0.003490647608087369,
          0.003496077312122041,
          0.003501509520317743,
          0.0035069439498983355,
          0.003512380315465108,
          0.003517818329020172,
          0.0035232576999902317,
          0.0035286981352507323,
          0.003534139339150386,
          0.003539581013536061,
          0.0035450228577780523,
          0.0035504645687957103,
          0.003555905841083433,
          0.003561346366737027,
          0.003566785835480414,
          0.003572223934692704,
          0.0035776603494356114,
          0.003583094762481226,
          0.0035885268543401233,
          0.0035939563032898235,
          0.0035993827854035863,
          0.003604805974579536,
          0.0036102255425701306,
          0.0036156411590119505,
          0.0036210524914558123,
          0.003626459205397213,
          0.003631860964307081,
          0.0036372574296628496,
          0.00364264826097984,
          0.0036480331158429465,
          0.0036534116499386347,
          0.003658783517087227,
          0.0036641483692754937,
          0.0036695058566895327,
          0.003674855627747934,
          0.0036801973291352317,
          0.0036855306058356354,
          0.0036908551011670338,
          0.0036961704568152743,
          0.003701476312868706,
          0.0037067723078529876,
          0.0037120580787661553,
          0.003717333261113941,
          0.0037225974889453454,
          0.003727850394888452,
          0.00373309161018649,
          0.003738320764734121,
          0.0037435374871139723,
          0.003748741404633391,
          0.003753932143361417,
          0.003759109328165984,
          0.003764272582751327,
          0.0037694215296956023,
          0.003774555790488712,
          0.003779674985570326,
          0.003784778734368101,
          0.0037898666553360877,
          0.003794938365993328,
          0.0037999934829626245,
          0.003805031622009492,
          0.003810052398081279,
          0.0038150554253464503,
          0.0038200403172340357,
          0.003825006686473228,
          0.00382995414513314,
          0.0038348823046626974,
          0.003839790775930681,
          0.003844679169265893,
          0.003849547094497469,
          0.003854394160995299,
          0.003859219977710577,
          0.0038640241532164644,
          0.00386880629574886,
          0.0038735660132472754,
          0.0038783029133958105,
          0.00388301660366422,
          0.00388770669134907,
          0.0038923727836149757,
          0.0038970144875359195,
          0.0039016314101366386,
          0.00390622315843408,
          0.003910789339478916,
          0.0039153295603971214,
          0.003919843428431596,
          0.003924330550983827,
          0.003928790535655612,
          0.0039332229902907835,
          0.003937627523017003,
          0.003942003742287539,
          0.003946351256923092,
          0.003950669676153618,
          0.003954958609660164,
          0.003959217667616706,
          0.0039634464607319776,
          0.0039676446002912995,
          0.003971811698198385,
          0.0039759473670171325,
          0.003980051220013388,
          0.003984122871196679,
          0.003988161935361911,
          0.003992168028131027,
          0.00399614076599461,
          0.004000079766353444,
          0.004003984647560009,
          0.004007855028959916,
          0.004011690530933275,
          0.0040154907749359835,
          0.00401925538354094,
          0.004022983980479171,
          0.004026676190680866,
          0.004030331640316321,
          0.004033949956836776,
          0.004037530769015151,
          0.004041073706986664,
          0.004044578402289337,
          0.0040480444879043825,
          0.00405147159829645,
          0.004054859369453755,
          0.004058207438928061,
          0.004061515445874516,
          0.004064783031091352,
          0.004068009837059416,
          0.004071195507981554,
          0.0040743396898218235,
          0.004077442030344544,
          0.004080502179153166,
          0.004083519787728964,
          0.0040864945094695486,
          0.004089425999727182,
          0.004092313915846907,
          0.00409515791720447,
          0.004097957665244047,
          0.0041007128235157515,
          0.0041034230577129405,
          0.004106088035709287,
          0.004108707427595644,
          0.004111280905716671,
          0.004113808144707225,
          0.004116288821528528,
          0.004118722615504074,
          0.004121109208355301,
          0.00412344828423701,
          0.004125739529772521,
          0.004127982634088576,
          0.004130177288849976,
          0.004132323188293941,
          0.004134420029264206,
          0.004136467511244832,
          0.004138465336393733,
          0.004140413209575927,
          0.004142310838396477,
          0.004144157933233158,
          0.004145954207268805,
          0.004147699376523372,
          0.004149393159885673,
          0.004151035279144818,
          0.00415262545902133,
          0.00415416342719794,
          0.004155648914350064,
          0.0041570816541759495,
          0.00415846138342649,
          0.004159787841934702,
          0.004161060772644876,
          0.004162279921641365,
          0.004163445038177043,
          0.00416455587470141,
          0.004165612186888339,
          0.004166613733663474,
          0.004167560277231263,
          0.004168451583101631,
          0.004169287420116282,
          0.004170067560474636,
          0.004170791779759393,
          0.004171459856961721,
          0.004172071574506057,
          0.00417262671827454,
          0.004173125077631049,
          0.004173566445444853,
          0.0041739506181138804,
          0.004174277395587581,
          0.004174546581389398,
          0.004174757982638848,
          0.004174911410073191,
          0.004175006678068694,
          0.004175043604661496,
          0.00417502201156806,
          0.004174941724205219,
          0.004174802571709795,
          0.004174604386957815,
          0.0041743470065833095,
          0.004174030270996677,
          0.004173654024402641,
          0.004173218114817776,
          0.004172722394087609,
          0.004172166717903286,
          0.0041715509458178255,
          0.004170874941261919,
          0.004170138571559316,
          0.004169341707941757,
          0.004168484225563494,
          0.0041675660035153436,
          0.00416658692483832,
          0.00416554687653683,
          0.004164445749591403,
          0.004163283438971004,
          0.004162059843644885,
          0.0041607748665940004,
          0.004159428414821963,
          0.004158020399365565,
          0.004156550735304845,
          0.004155019341772705,
          0.0041534261419640724,
          0.004151771063144623,
          0.004150054036659039,
          0.004148274997938821,
          0.004146433886509646,
          0.004144530645998271,
          0.004142565224138983,
          0.004140537572779594,
          0.0041384476478869845,
          0.004136295409552185
         ],
         "yaxis": "y"
        }
       ],
       "layout": {
        "barmode": "overlay",
        "hovermode": "closest",
        "legend": {
         "traceorder": "reversed"
        },
        "template": {
         "data": {
          "bar": [
           {
            "error_x": {
             "color": "#2a3f5f"
            },
            "error_y": {
             "color": "#2a3f5f"
            },
            "marker": {
             "line": {
              "color": "#E5ECF6",
              "width": 0.5
             },
             "pattern": {
              "fillmode": "overlay",
              "size": 10,
              "solidity": 0.2
             }
            },
            "type": "bar"
           }
          ],
          "barpolar": [
           {
            "marker": {
             "line": {
              "color": "#E5ECF6",
              "width": 0.5
             },
             "pattern": {
              "fillmode": "overlay",
              "size": 10,
              "solidity": 0.2
             }
            },
            "type": "barpolar"
           }
          ],
          "carpet": [
           {
            "aaxis": {
             "endlinecolor": "#2a3f5f",
             "gridcolor": "white",
             "linecolor": "white",
             "minorgridcolor": "white",
             "startlinecolor": "#2a3f5f"
            },
            "baxis": {
             "endlinecolor": "#2a3f5f",
             "gridcolor": "white",
             "linecolor": "white",
             "minorgridcolor": "white",
             "startlinecolor": "#2a3f5f"
            },
            "type": "carpet"
           }
          ],
          "choropleth": [
           {
            "colorbar": {
             "outlinewidth": 0,
             "ticks": ""
            },
            "type": "choropleth"
           }
          ],
          "contour": [
           {
            "colorbar": {
             "outlinewidth": 0,
             "ticks": ""
            },
            "colorscale": [
             [
              0,
              "#0d0887"
             ],
             [
              0.1111111111111111,
              "#46039f"
             ],
             [
              0.2222222222222222,
              "#7201a8"
             ],
             [
              0.3333333333333333,
              "#9c179e"
             ],
             [
              0.4444444444444444,
              "#bd3786"
             ],
             [
              0.5555555555555556,
              "#d8576b"
             ],
             [
              0.6666666666666666,
              "#ed7953"
             ],
             [
              0.7777777777777778,
              "#fb9f3a"
             ],
             [
              0.8888888888888888,
              "#fdca26"
             ],
             [
              1,
              "#f0f921"
             ]
            ],
            "type": "contour"
           }
          ],
          "contourcarpet": [
           {
            "colorbar": {
             "outlinewidth": 0,
             "ticks": ""
            },
            "type": "contourcarpet"
           }
          ],
          "heatmap": [
           {
            "colorbar": {
             "outlinewidth": 0,
             "ticks": ""
            },
            "colorscale": [
             [
              0,
              "#0d0887"
             ],
             [
              0.1111111111111111,
              "#46039f"
             ],
             [
              0.2222222222222222,
              "#7201a8"
             ],
             [
              0.3333333333333333,
              "#9c179e"
             ],
             [
              0.4444444444444444,
              "#bd3786"
             ],
             [
              0.5555555555555556,
              "#d8576b"
             ],
             [
              0.6666666666666666,
              "#ed7953"
             ],
             [
              0.7777777777777778,
              "#fb9f3a"
             ],
             [
              0.8888888888888888,
              "#fdca26"
             ],
             [
              1,
              "#f0f921"
             ]
            ],
            "type": "heatmap"
           }
          ],
          "heatmapgl": [
           {
            "colorbar": {
             "outlinewidth": 0,
             "ticks": ""
            },
            "colorscale": [
             [
              0,
              "#0d0887"
             ],
             [
              0.1111111111111111,
              "#46039f"
             ],
             [
              0.2222222222222222,
              "#7201a8"
             ],
             [
              0.3333333333333333,
              "#9c179e"
             ],
             [
              0.4444444444444444,
              "#bd3786"
             ],
             [
              0.5555555555555556,
              "#d8576b"
             ],
             [
              0.6666666666666666,
              "#ed7953"
             ],
             [
              0.7777777777777778,
              "#fb9f3a"
             ],
             [
              0.8888888888888888,
              "#fdca26"
             ],
             [
              1,
              "#f0f921"
             ]
            ],
            "type": "heatmapgl"
           }
          ],
          "histogram": [
           {
            "marker": {
             "pattern": {
              "fillmode": "overlay",
              "size": 10,
              "solidity": 0.2
             }
            },
            "type": "histogram"
           }
          ],
          "histogram2d": [
           {
            "colorbar": {
             "outlinewidth": 0,
             "ticks": ""
            },
            "colorscale": [
             [
              0,
              "#0d0887"
             ],
             [
              0.1111111111111111,
              "#46039f"
             ],
             [
              0.2222222222222222,
              "#7201a8"
             ],
             [
              0.3333333333333333,
              "#9c179e"
             ],
             [
              0.4444444444444444,
              "#bd3786"
             ],
             [
              0.5555555555555556,
              "#d8576b"
             ],
             [
              0.6666666666666666,
              "#ed7953"
             ],
             [
              0.7777777777777778,
              "#fb9f3a"
             ],
             [
              0.8888888888888888,
              "#fdca26"
             ],
             [
              1,
              "#f0f921"
             ]
            ],
            "type": "histogram2d"
           }
          ],
          "histogram2dcontour": [
           {
            "colorbar": {
             "outlinewidth": 0,
             "ticks": ""
            },
            "colorscale": [
             [
              0,
              "#0d0887"
             ],
             [
              0.1111111111111111,
              "#46039f"
             ],
             [
              0.2222222222222222,
              "#7201a8"
             ],
             [
              0.3333333333333333,
              "#9c179e"
             ],
             [
              0.4444444444444444,
              "#bd3786"
             ],
             [
              0.5555555555555556,
              "#d8576b"
             ],
             [
              0.6666666666666666,
              "#ed7953"
             ],
             [
              0.7777777777777778,
              "#fb9f3a"
             ],
             [
              0.8888888888888888,
              "#fdca26"
             ],
             [
              1,
              "#f0f921"
             ]
            ],
            "type": "histogram2dcontour"
           }
          ],
          "mesh3d": [
           {
            "colorbar": {
             "outlinewidth": 0,
             "ticks": ""
            },
            "type": "mesh3d"
           }
          ],
          "parcoords": [
           {
            "line": {
             "colorbar": {
              "outlinewidth": 0,
              "ticks": ""
             }
            },
            "type": "parcoords"
           }
          ],
          "pie": [
           {
            "automargin": true,
            "type": "pie"
           }
          ],
          "scatter": [
           {
            "fillpattern": {
             "fillmode": "overlay",
             "size": 10,
             "solidity": 0.2
            },
            "type": "scatter"
           }
          ],
          "scatter3d": [
           {
            "line": {
             "colorbar": {
              "outlinewidth": 0,
              "ticks": ""
             }
            },
            "marker": {
             "colorbar": {
              "outlinewidth": 0,
              "ticks": ""
             }
            },
            "type": "scatter3d"
           }
          ],
          "scattercarpet": [
           {
            "marker": {
             "colorbar": {
              "outlinewidth": 0,
              "ticks": ""
             }
            },
            "type": "scattercarpet"
           }
          ],
          "scattergeo": [
           {
            "marker": {
             "colorbar": {
              "outlinewidth": 0,
              "ticks": ""
             }
            },
            "type": "scattergeo"
           }
          ],
          "scattergl": [
           {
            "marker": {
             "colorbar": {
              "outlinewidth": 0,
              "ticks": ""
             }
            },
            "type": "scattergl"
           }
          ],
          "scattermapbox": [
           {
            "marker": {
             "colorbar": {
              "outlinewidth": 0,
              "ticks": ""
             }
            },
            "type": "scattermapbox"
           }
          ],
          "scatterpolar": [
           {
            "marker": {
             "colorbar": {
              "outlinewidth": 0,
              "ticks": ""
             }
            },
            "type": "scatterpolar"
           }
          ],
          "scatterpolargl": [
           {
            "marker": {
             "colorbar": {
              "outlinewidth": 0,
              "ticks": ""
             }
            },
            "type": "scatterpolargl"
           }
          ],
          "scatterternary": [
           {
            "marker": {
             "colorbar": {
              "outlinewidth": 0,
              "ticks": ""
             }
            },
            "type": "scatterternary"
           }
          ],
          "surface": [
           {
            "colorbar": {
             "outlinewidth": 0,
             "ticks": ""
            },
            "colorscale": [
             [
              0,
              "#0d0887"
             ],
             [
              0.1111111111111111,
              "#46039f"
             ],
             [
              0.2222222222222222,
              "#7201a8"
             ],
             [
              0.3333333333333333,
              "#9c179e"
             ],
             [
              0.4444444444444444,
              "#bd3786"
             ],
             [
              0.5555555555555556,
              "#d8576b"
             ],
             [
              0.6666666666666666,
              "#ed7953"
             ],
             [
              0.7777777777777778,
              "#fb9f3a"
             ],
             [
              0.8888888888888888,
              "#fdca26"
             ],
             [
              1,
              "#f0f921"
             ]
            ],
            "type": "surface"
           }
          ],
          "table": [
           {
            "cells": {
             "fill": {
              "color": "#EBF0F8"
             },
             "line": {
              "color": "white"
             }
            },
            "header": {
             "fill": {
              "color": "#C8D4E3"
             },
             "line": {
              "color": "white"
             }
            },
            "type": "table"
           }
          ]
         },
         "layout": {
          "annotationdefaults": {
           "arrowcolor": "#2a3f5f",
           "arrowhead": 0,
           "arrowwidth": 1
          },
          "autotypenumbers": "strict",
          "coloraxis": {
           "colorbar": {
            "outlinewidth": 0,
            "ticks": ""
           }
          },
          "colorscale": {
           "diverging": [
            [
             0,
             "#8e0152"
            ],
            [
             0.1,
             "#c51b7d"
            ],
            [
             0.2,
             "#de77ae"
            ],
            [
             0.3,
             "#f1b6da"
            ],
            [
             0.4,
             "#fde0ef"
            ],
            [
             0.5,
             "#f7f7f7"
            ],
            [
             0.6,
             "#e6f5d0"
            ],
            [
             0.7,
             "#b8e186"
            ],
            [
             0.8,
             "#7fbc41"
            ],
            [
             0.9,
             "#4d9221"
            ],
            [
             1,
             "#276419"
            ]
           ],
           "sequential": [
            [
             0,
             "#0d0887"
            ],
            [
             0.1111111111111111,
             "#46039f"
            ],
            [
             0.2222222222222222,
             "#7201a8"
            ],
            [
             0.3333333333333333,
             "#9c179e"
            ],
            [
             0.4444444444444444,
             "#bd3786"
            ],
            [
             0.5555555555555556,
             "#d8576b"
            ],
            [
             0.6666666666666666,
             "#ed7953"
            ],
            [
             0.7777777777777778,
             "#fb9f3a"
            ],
            [
             0.8888888888888888,
             "#fdca26"
            ],
            [
             1,
             "#f0f921"
            ]
           ],
           "sequentialminus": [
            [
             0,
             "#0d0887"
            ],
            [
             0.1111111111111111,
             "#46039f"
            ],
            [
             0.2222222222222222,
             "#7201a8"
            ],
            [
             0.3333333333333333,
             "#9c179e"
            ],
            [
             0.4444444444444444,
             "#bd3786"
            ],
            [
             0.5555555555555556,
             "#d8576b"
            ],
            [
             0.6666666666666666,
             "#ed7953"
            ],
            [
             0.7777777777777778,
             "#fb9f3a"
            ],
            [
             0.8888888888888888,
             "#fdca26"
            ],
            [
             1,
             "#f0f921"
            ]
           ]
          },
          "colorway": [
           "#636efa",
           "#EF553B",
           "#00cc96",
           "#ab63fa",
           "#FFA15A",
           "#19d3f3",
           "#FF6692",
           "#B6E880",
           "#FF97FF",
           "#FECB52"
          ],
          "font": {
           "color": "#2a3f5f"
          },
          "geo": {
           "bgcolor": "white",
           "lakecolor": "white",
           "landcolor": "#E5ECF6",
           "showlakes": true,
           "showland": true,
           "subunitcolor": "white"
          },
          "hoverlabel": {
           "align": "left"
          },
          "hovermode": "closest",
          "mapbox": {
           "style": "light"
          },
          "paper_bgcolor": "white",
          "plot_bgcolor": "#E5ECF6",
          "polar": {
           "angularaxis": {
            "gridcolor": "white",
            "linecolor": "white",
            "ticks": ""
           },
           "bgcolor": "#E5ECF6",
           "radialaxis": {
            "gridcolor": "white",
            "linecolor": "white",
            "ticks": ""
           }
          },
          "scene": {
           "xaxis": {
            "backgroundcolor": "#E5ECF6",
            "gridcolor": "white",
            "gridwidth": 2,
            "linecolor": "white",
            "showbackground": true,
            "ticks": "",
            "zerolinecolor": "white"
           },
           "yaxis": {
            "backgroundcolor": "#E5ECF6",
            "gridcolor": "white",
            "gridwidth": 2,
            "linecolor": "white",
            "showbackground": true,
            "ticks": "",
            "zerolinecolor": "white"
           },
           "zaxis": {
            "backgroundcolor": "#E5ECF6",
            "gridcolor": "white",
            "gridwidth": 2,
            "linecolor": "white",
            "showbackground": true,
            "ticks": "",
            "zerolinecolor": "white"
           }
          },
          "shapedefaults": {
           "line": {
            "color": "#2a3f5f"
           }
          },
          "ternary": {
           "aaxis": {
            "gridcolor": "white",
            "linecolor": "white",
            "ticks": ""
           },
           "baxis": {
            "gridcolor": "white",
            "linecolor": "white",
            "ticks": ""
           },
           "bgcolor": "#E5ECF6",
           "caxis": {
            "gridcolor": "white",
            "linecolor": "white",
            "ticks": ""
           }
          },
          "title": {
           "x": 0.05
          },
          "xaxis": {
           "automargin": true,
           "gridcolor": "white",
           "linecolor": "white",
           "ticks": "",
           "title": {
            "standoff": 15
           },
           "zerolinecolor": "white",
           "zerolinewidth": 2
          },
          "yaxis": {
           "automargin": true,
           "gridcolor": "white",
           "linecolor": "white",
           "ticks": "",
           "title": {
            "standoff": 15
           },
           "zerolinecolor": "white",
           "zerolinewidth": 2
          }
         }
        },
        "title": {
         "text": "Distribution of age"
        },
        "xaxis": {
         "anchor": "y2",
         "domain": [
          0,
          1
         ],
         "zeroline": false
        },
        "yaxis": {
         "anchor": "free",
         "domain": [
          0,
          1
         ],
         "position": 0
        }
       }
      }
     },
     "metadata": {},
     "output_type": "display_data"
    }
   ],
   "source": [
    "fig = ff.create_distplot([x], ['Age'], show_rug=False)\n",
    "fig.update_layout(title = \"Distribution of age\")\n",
    "fig.show()"
   ]
  },
  {
   "cell_type": "markdown",
   "metadata": {},
   "source": [
    "From the graph above we have following observations:\n",
    "1. The average value is around 54 years\n",
    "2. The centrally located vale is median which is 55\n",
    "3. The most frequent values is 58\n",
    "    <p>Now we can see that the curve is not a perfect gaussian curve or bell shaped curve. The tail of the curve is towards left so it is a left skew curve (negative value above). So how does these values justify the curve shape? If we arrange our values for mean, median and mode we see that:\n",
    "    <p>Mode > Median > Mean (shows left skewness)\n",
    "    <p>Mode < Median < Mean (shows right skewness)\n",
    "    <p>Mode = Median = Mean (perfect bell shape curve)\n",
    "    <p>Hence these values provides the knowledge about the shape of the data distribution curve. Which makes it easier to deal with the data. Also, we see that mean is nearly equal to median which can tell us that there maybe no outliers present. Let us confirm it."
   ]
  },
  {
   "cell_type": "code",
   "execution_count": 23,
   "metadata": {},
   "outputs": [
    {
     "data": {
      "image/png": "[encoded data removed]",
      "text/plain": [
       "<Figure size 500x500 with 1 Axes>"
      ]
     },
     "metadata": {},
     "output_type": "display_data"
    }
   ],
   "source": [
    "# plt.boxplot(df['age'], labels=['Age'])\n",
    "ax = sns.boxplot(data=x, orient=\"h\", palette=\"Set2\")\n",
    "plt.rcParams['figure.figsize']=(20,5)\n",
    "plt.title('Age Boxplot')\n",
    "plt.show()"
   ]
  },
  {
   "cell_type": "code",
   "execution_count": 24,
   "metadata": {},
   "outputs": [
    {
     "data": {
      "application/vnd.plotly.v1+json": {
       "config": {
        "plotlyServerURL": "https://plot.ly"
       },
       "data": [
        {
         "alignmentgroup": "True",
         "hovertemplate": "age=%{x}<extra></extra>",
         "legendgroup": "",
         "marker": {
          "color": "#636efa"
         },
         "name": "",
         "notched": false,
         "offsetgroup": "",
         "orientation": "h",
         "showlegend": false,
         "type": "box",
         "x": [
          63,
          37,
          41,
          56,
          57,
          57,
          56,
          44,
          52,
          57,
          54,
          48,
          49,
          64,
          58,
          50,
          58,
          66,
          43,
          69,
          59,
          44,
          42,
          61,
          40,
          71,
          59,
          51,
          65,
          53,
          41,
          65,
          44,
          54,
          51,
          46,
          54,
          54,
          65,
          65,
          51,
          48,
          45,
          53,
          39,
          52,
          44,
          47,
          53,
          53,
          51,
          66,
          62,
          44,
          63,
          52,
          48,
          45,
          34,
          57,
          71,
          54,
          52,
          41,
          58,
          35,
          51,
          45,
          44,
          62,
          54,
          51,
          29,
          51,
          43,
          55,
          51,
          59,
          52,
          58,
          41,
          45,
          60,
          52,
          42,
          67,
          68,
          46,
          54,
          58,
          48,
          57,
          52,
          54,
          45,
          53,
          62,
          52,
          43,
          53,
          42,
          59,
          63,
          42,
          50,
          68,
          69,
          45,
          50,
          50,
          64,
          57,
          64,
          43,
          55,
          37,
          41,
          56,
          46,
          46,
          64,
          59,
          41,
          54,
          39,
          34,
          47,
          67,
          52,
          74,
          54,
          49,
          42,
          41,
          41,
          49,
          60,
          62,
          57,
          64,
          51,
          43,
          42,
          67,
          76,
          70,
          44,
          60,
          44,
          42,
          66,
          71,
          64,
          66,
          39,
          58,
          47,
          35,
          58,
          56,
          56,
          55,
          41,
          38,
          67,
          67,
          62,
          63,
          53,
          56,
          48,
          58,
          58,
          60,
          40,
          60,
          64,
          43,
          57,
          55,
          65,
          61,
          58,
          50,
          44,
          60,
          54,
          50,
          41,
          51,
          58,
          54,
          60,
          60,
          59,
          46,
          67,
          62,
          65,
          44,
          60,
          58,
          68,
          62,
          52,
          59,
          60,
          49,
          59,
          57,
          61,
          39,
          61,
          56,
          43,
          62,
          63,
          65,
          48,
          63,
          55,
          65,
          56,
          54,
          70,
          62,
          35,
          59,
          64,
          47,
          57,
          55,
          64,
          70,
          51,
          58,
          60,
          77,
          35,
          70,
          59,
          64,
          57,
          56,
          48,
          56,
          66,
          54,
          69,
          51,
          43,
          62,
          67,
          59,
          45,
          58,
          50,
          62,
          38,
          66,
          52,
          53,
          63,
          54,
          66,
          55,
          49,
          54,
          56,
          46,
          61,
          67,
          58,
          47,
          52,
          58,
          57,
          58,
          61,
          42,
          52,
          59,
          40,
          61,
          46,
          59,
          57,
          57,
          55,
          61,
          58,
          58,
          67,
          44,
          63,
          63,
          59,
          57,
          45,
          68,
          57,
          57
         ],
         "x0": " ",
         "xaxis": "x",
         "y0": " ",
         "yaxis": "y"
        }
       ],
       "layout": {
        "boxmode": "group",
        "legend": {
         "tracegroupgap": 0
        },
        "template": {
         "data": {
          "bar": [
           {
            "error_x": {
             "color": "#2a3f5f"
            },
            "error_y": {
             "color": "#2a3f5f"
            },
            "marker": {
             "line": {
              "color": "#E5ECF6",
              "width": 0.5
             },
             "pattern": {
              "fillmode": "overlay",
              "size": 10,
              "solidity": 0.2
             }
            },
            "type": "bar"
           }
          ],
          "barpolar": [
           {
            "marker": {
             "line": {
              "color": "#E5ECF6",
              "width": 0.5
             },
             "pattern": {
              "fillmode": "overlay",
              "size": 10,
              "solidity": 0.2
             }
            },
            "type": "barpolar"
           }
          ],
          "carpet": [
           {
            "aaxis": {
             "endlinecolor": "#2a3f5f",
             "gridcolor": "white",
             "linecolor": "white",
             "minorgridcolor": "white",
             "startlinecolor": "#2a3f5f"
            },
            "baxis": {
             "endlinecolor": "#2a3f5f",
             "gridcolor": "white",
             "linecolor": "white",
             "minorgridcolor": "white",
             "startlinecolor": "#2a3f5f"
            },
            "type": "carpet"
           }
          ],
          "choropleth": [
           {
            "colorbar": {
             "outlinewidth": 0,
             "ticks": ""
            },
            "type": "choropleth"
           }
          ],
          "contour": [
           {
            "colorbar": {
             "outlinewidth": 0,
             "ticks": ""
            },
            "colorscale": [
             [
              0,
              "#0d0887"
             ],
             [
              0.1111111111111111,
              "#46039f"
             ],
             [
              0.2222222222222222,
              "#7201a8"
             ],
             [
              0.3333333333333333,
              "#9c179e"
             ],
             [
              0.4444444444444444,
              "#bd3786"
             ],
             [
              0.5555555555555556,
              "#d8576b"
             ],
             [
              0.6666666666666666,
              "#ed7953"
             ],
             [
              0.7777777777777778,
              "#fb9f3a"
             ],
             [
              0.8888888888888888,
              "#fdca26"
             ],
             [
              1,
              "#f0f921"
             ]
            ],
            "type": "contour"
           }
          ],
          "contourcarpet": [
           {
            "colorbar": {
             "outlinewidth": 0,
             "ticks": ""
            },
            "type": "contourcarpet"
           }
          ],
          "heatmap": [
           {
            "colorbar": {
             "outlinewidth": 0,
             "ticks": ""
            },
            "colorscale": [
             [
              0,
              "#0d0887"
             ],
             [
              0.1111111111111111,
              "#46039f"
             ],
             [
              0.2222222222222222,
              "#7201a8"
             ],
             [
              0.3333333333333333,
              "#9c179e"
             ],
             [
              0.4444444444444444,
              "#bd3786"
             ],
             [
              0.5555555555555556,
              "#d8576b"
             ],
             [
              0.6666666666666666,
              "#ed7953"
             ],
             [
              0.7777777777777778,
              "#fb9f3a"
             ],
             [
              0.8888888888888888,
              "#fdca26"
             ],
             [
              1,
              "#f0f921"
             ]
            ],
            "type": "heatmap"
           }
          ],
          "heatmapgl": [
           {
            "colorbar": {
             "outlinewidth": 0,
             "ticks": ""
            },
            "colorscale": [
             [
              0,
              "#0d0887"
             ],
             [
              0.1111111111111111,
              "#46039f"
             ],
             [
              0.2222222222222222,
              "#7201a8"
             ],
             [
              0.3333333333333333,
              "#9c179e"
             ],
             [
              0.4444444444444444,
              "#bd3786"
             ],
             [
              0.5555555555555556,
              "#d8576b"
             ],
             [
              0.6666666666666666,
              "#ed7953"
             ],
             [
              0.7777777777777778,
              "#fb9f3a"
             ],
             [
              0.8888888888888888,
              "#fdca26"
             ],
             [
              1,
              "#f0f921"
             ]
            ],
            "type": "heatmapgl"
           }
          ],
          "histogram": [
           {
            "marker": {
             "pattern": {
              "fillmode": "overlay",
              "size": 10,
              "solidity": 0.2
             }
            },
            "type": "histogram"
           }
          ],
          "histogram2d": [
           {
            "colorbar": {
             "outlinewidth": 0,
             "ticks": ""
            },
            "colorscale": [
             [
              0,
              "#0d0887"
             ],
             [
              0.1111111111111111,
              "#46039f"
             ],
             [
              0.2222222222222222,
              "#7201a8"
             ],
             [
              0.3333333333333333,
              "#9c179e"
             ],
             [
              0.4444444444444444,
              "#bd3786"
             ],
             [
              0.5555555555555556,
              "#d8576b"
             ],
             [
              0.6666666666666666,
              "#ed7953"
             ],
             [
              0.7777777777777778,
              "#fb9f3a"
             ],
             [
              0.8888888888888888,
              "#fdca26"
             ],
             [
              1,
              "#f0f921"
             ]
            ],
            "type": "histogram2d"
           }
          ],
          "histogram2dcontour": [
           {
            "colorbar": {
             "outlinewidth": 0,
             "ticks": ""
            },
            "colorscale": [
             [
              0,
              "#0d0887"
             ],
             [
              0.1111111111111111,
              "#46039f"
             ],
             [
              0.2222222222222222,
              "#7201a8"
             ],
             [
              0.3333333333333333,
              "#9c179e"
             ],
             [
              0.4444444444444444,
              "#bd3786"
             ],
             [
              0.5555555555555556,
              "#d8576b"
             ],
             [
              0.6666666666666666,
              "#ed7953"
             ],
             [
              0.7777777777777778,
              "#fb9f3a"
             ],
             [
              0.8888888888888888,
              "#fdca26"
             ],
             [
              1,
              "#f0f921"
             ]
            ],
            "type": "histogram2dcontour"
           }
          ],
          "mesh3d": [
           {
            "colorbar": {
             "outlinewidth": 0,
             "ticks": ""
            },
            "type": "mesh3d"
           }
          ],
          "parcoords": [
           {
            "line": {
             "colorbar": {
              "outlinewidth": 0,
              "ticks": ""
             }
            },
            "type": "parcoords"
           }
          ],
          "pie": [
           {
            "automargin": true,
            "type": "pie"
           }
          ],
          "scatter": [
           {
            "fillpattern": {
             "fillmode": "overlay",
             "size": 10,
             "solidity": 0.2
            },
            "type": "scatter"
           }
          ],
          "scatter3d": [
           {
            "line": {
             "colorbar": {
              "outlinewidth": 0,
              "ticks": ""
             }
            },
            "marker": {
             "colorbar": {
              "outlinewidth": 0,
              "ticks": ""
             }
            },
            "type": "scatter3d"
           }
          ],
          "scattercarpet": [
           {
            "marker": {
             "colorbar": {
              "outlinewidth": 0,
              "ticks": ""
             }
            },
            "type": "scattercarpet"
           }
          ],
          "scattergeo": [
           {
            "marker": {
             "colorbar": {
              "outlinewidth": 0,
              "ticks": ""
             }
            },
            "type": "scattergeo"
           }
          ],
          "scattergl": [
           {
            "marker": {
             "colorbar": {
              "outlinewidth": 0,
              "ticks": ""
             }
            },
            "type": "scattergl"
           }
          ],
          "scattermapbox": [
           {
            "marker": {
             "colorbar": {
              "outlinewidth": 0,
              "ticks": ""
             }
            },
            "type": "scattermapbox"
           }
          ],
          "scatterpolar": [
           {
            "marker": {
             "colorbar": {
              "outlinewidth": 0,
              "ticks": ""
             }
            },
            "type": "scatterpolar"
           }
          ],
          "scatterpolargl": [
           {
            "marker": {
             "colorbar": {
              "outlinewidth": 0,
              "ticks": ""
             }
            },
            "type": "scatterpolargl"
           }
          ],
          "scatterternary": [
           {
            "marker": {
             "colorbar": {
              "outlinewidth": 0,
              "ticks": ""
             }
            },
            "type": "scatterternary"
           }
          ],
          "surface": [
           {
            "colorbar": {
             "outlinewidth": 0,
             "ticks": ""
            },
            "colorscale": [
             [
              0,
              "#0d0887"
             ],
             [
              0.1111111111111111,
              "#46039f"
             ],
             [
              0.2222222222222222,
              "#7201a8"
             ],
             [
              0.3333333333333333,
              "#9c179e"
             ],
             [
              0.4444444444444444,
              "#bd3786"
             ],
             [
              0.5555555555555556,
              "#d8576b"
             ],
             [
              0.6666666666666666,
              "#ed7953"
             ],
             [
              0.7777777777777778,
              "#fb9f3a"
             ],
             [
              0.8888888888888888,
              "#fdca26"
             ],
             [
              1,
              "#f0f921"
             ]
            ],
            "type": "surface"
           }
          ],
          "table": [
           {
            "cells": {
             "fill": {
              "color": "#EBF0F8"
             },
             "line": {
              "color": "white"
             }
            },
            "header": {
             "fill": {
              "color": "#C8D4E3"
             },
             "line": {
              "color": "white"
             }
            },
            "type": "table"
           }
          ]
         },
         "layout": {
          "annotationdefaults": {
           "arrowcolor": "#2a3f5f",
           "arrowhead": 0,
           "arrowwidth": 1
          },
          "autotypenumbers": "strict",
          "coloraxis": {
           "colorbar": {
            "outlinewidth": 0,
            "ticks": ""
           }
          },
          "colorscale": {
           "diverging": [
            [
             0,
             "#8e0152"
            ],
            [
             0.1,
             "#c51b7d"
            ],
            [
             0.2,
             "#de77ae"
            ],
            [
             0.3,
             "#f1b6da"
            ],
            [
             0.4,
             "#fde0ef"
            ],
            [
             0.5,
             "#f7f7f7"
            ],
            [
             0.6,
             "#e6f5d0"
            ],
            [
             0.7,
             "#b8e186"
            ],
            [
             0.8,
             "#7fbc41"
            ],
            [
             0.9,
             "#4d9221"
            ],
            [
             1,
             "#276419"
            ]
           ],
           "sequential": [
            [
             0,
             "#0d0887"
            ],
            [
             0.1111111111111111,
             "#46039f"
            ],
            [
             0.2222222222222222,
             "#7201a8"
            ],
            [
             0.3333333333333333,
             "#9c179e"
            ],
            [
             0.4444444444444444,
             "#bd3786"
            ],
            [
             0.5555555555555556,
             "#d8576b"
            ],
            [
             0.6666666666666666,
             "#ed7953"
            ],
            [
             0.7777777777777778,
             "#fb9f3a"
            ],
            [
             0.8888888888888888,
             "#fdca26"
            ],
            [
             1,
             "#f0f921"
            ]
           ],
           "sequentialminus": [
            [
             0,
             "#0d0887"
            ],
            [
             0.1111111111111111,
             "#46039f"
            ],
            [
             0.2222222222222222,
             "#7201a8"
            ],
            [
             0.3333333333333333,
             "#9c179e"
            ],
            [
             0.4444444444444444,
             "#bd3786"
            ],
            [
             0.5555555555555556,
             "#d8576b"
            ],
            [
             0.6666666666666666,
             "#ed7953"
            ],
            [
             0.7777777777777778,
             "#fb9f3a"
            ],
            [
             0.8888888888888888,
             "#fdca26"
            ],
            [
             1,
             "#f0f921"
            ]
           ]
          },
          "colorway": [
           "#636efa",
           "#EF553B",
           "#00cc96",
           "#ab63fa",
           "#FFA15A",
           "#19d3f3",
           "#FF6692",
           "#B6E880",
           "#FF97FF",
           "#FECB52"
          ],
          "font": {
           "color": "#2a3f5f"
          },
          "geo": {
           "bgcolor": "white",
           "lakecolor": "white",
           "landcolor": "#E5ECF6",
           "showlakes": true,
           "showland": true,
           "subunitcolor": "white"
          },
          "hoverlabel": {
           "align": "left"
          },
          "hovermode": "closest",
          "mapbox": {
           "style": "light"
          },
          "paper_bgcolor": "white",
          "plot_bgcolor": "#E5ECF6",
          "polar": {
           "angularaxis": {
            "gridcolor": "white",
            "linecolor": "white",
            "ticks": ""
           },
           "bgcolor": "#E5ECF6",
           "radialaxis": {
            "gridcolor": "white",
            "linecolor": "white",
            "ticks": ""
           }
          },
          "scene": {
           "xaxis": {
            "backgroundcolor": "#E5ECF6",
            "gridcolor": "white",
            "gridwidth": 2,
            "linecolor": "white",
            "showbackground": true,
            "ticks": "",
            "zerolinecolor": "white"
           },
           "yaxis": {
            "backgroundcolor": "#E5ECF6",
            "gridcolor": "white",
            "gridwidth": 2,
            "linecolor": "white",
            "showbackground": true,
            "ticks": "",
            "zerolinecolor": "white"
           },
           "zaxis": {
            "backgroundcolor": "#E5ECF6",
            "gridcolor": "white",
            "gridwidth": 2,
            "linecolor": "white",
            "showbackground": true,
            "ticks": "",
            "zerolinecolor": "white"
           }
          },
          "shapedefaults": {
           "line": {
            "color": "#2a3f5f"
           }
          },
          "ternary": {
           "aaxis": {
            "gridcolor": "white",
            "linecolor": "white",
            "ticks": ""
           },
           "baxis": {
            "gridcolor": "white",
            "linecolor": "white",
            "ticks": ""
           },
           "bgcolor": "#E5ECF6",
           "caxis": {
            "gridcolor": "white",
            "linecolor": "white",
            "ticks": ""
           }
          },
          "title": {
           "x": 0.05
          },
          "xaxis": {
           "automargin": true,
           "gridcolor": "white",
           "linecolor": "white",
           "ticks": "",
           "title": {
            "standoff": 15
           },
           "zerolinecolor": "white",
           "zerolinewidth": 2
          },
          "yaxis": {
           "automargin": true,
           "gridcolor": "white",
           "linecolor": "white",
           "ticks": "",
           "title": {
            "standoff": 15
           },
           "zerolinecolor": "white",
           "zerolinewidth": 2
          }
         }
        },
        "title": {
         "text": "distribution of age"
        },
        "xaxis": {
         "anchor": "y",
         "domain": [
          0,
          1
         ],
         "title": {
          "text": "age"
         }
        },
        "yaxis": {
         "anchor": "x",
         "domain": [
          0,
          1
         ]
        }
       }
      }
     },
     "metadata": {},
     "output_type": "display_data"
    }
   ],
   "source": [
    "# boxplot represent presence or absence of outliers\n",
    "fig = px.box(df, x = \"age\", title = \"distribution of age\")\n",
    "fig.show()"
   ]
  },
  {
   "cell_type": "markdown",
   "metadata": {},
   "source": [
    "# Spread\n",
    "It is a variability of the data. This spread is the distribution of the data around the central tendency. It can be measured using the following metrics:\n",
    "\n",
    "1. Range\n",
    "2. Quartile\n",
    "3. Variance\n",
    "4. Standard Deviation"
   ]
  },
  {
   "cell_type": "markdown",
   "metadata": {},
   "source": [
    "Range: It can be measured as the difference between the largest and smallest values"
   ]
  },
  {
   "cell_type": "code",
   "execution_count": 25,
   "metadata": {},
   "outputs": [
    {
     "name": "stdout",
     "output_type": "stream",
     "text": [
      "The range of the cholestrol level is: 438\n"
     ]
    }
   ],
   "source": [
    "range_chol = df[\"chol\"].max() - df[\"chol\"].min()\n",
    "print(\"The range of the cholestrol level is:\",range_chol)"
   ]
  },
  {
   "cell_type": "code",
   "execution_count": 26,
   "metadata": {},
   "outputs": [
    {
     "data": {
      "application/vnd.plotly.v1+json": {
       "config": {
        "plotlyServerURL": "https://plot.ly"
       },
       "data": [
        {
         "autobinx": false,
         "histnorm": "probability density",
         "legendgroup": "cholestrol",
         "marker": {
          "color": "rgb(31, 119, 180)"
         },
         "name": "cholestrol",
         "opacity": 0.7,
         "type": "histogram",
         "x": [
          233,
          250,
          204,
          236,
          354,
          192,
          294,
          263,
          199,
          168,
          239,
          275,
          266,
          211,
          283,
          219,
          340,
          226,
          247,
          239,
          234,
          233,
          226,
          243,
          199,
          302,
          212,
          175,
          417,
          197,
          198,
          177,
          219,
          273,
          213,
          177,
          304,
          232,
          269,
          360,
          308,
          245,
          208,
          264,
          321,
          325,
          235,
          257,
          216,
          234,
          256,
          302,
          231,
          141,
          252,
          201,
          222,
          260,
          182,
          303,
          265,
          309,
          186,
          203,
          211,
          183,
          222,
          234,
          220,
          209,
          258,
          227,
          204,
          261,
          213,
          250,
          245,
          221,
          205,
          240,
          250,
          308,
          318,
          298,
          265,
          564,
          277,
          197,
          214,
          248,
          255,
          207,
          223,
          288,
          160,
          226,
          394,
          233,
          315,
          246,
          244,
          270,
          195,
          240,
          196,
          211,
          234,
          236,
          244,
          254,
          325,
          126,
          313,
          211,
          262,
          215,
          214,
          193,
          204,
          243,
          303,
          271,
          268,
          267,
          199,
          210,
          204,
          277,
          196,
          269,
          201,
          271,
          295,
          235,
          306,
          269,
          178,
          208,
          201,
          263,
          295,
          303,
          209,
          223,
          197,
          245,
          242,
          240,
          226,
          180,
          228,
          149,
          227,
          278,
          220,
          197,
          253,
          192,
          220,
          221,
          240,
          342,
          157,
          175,
          286,
          229,
          268,
          254,
          203,
          256,
          229,
          284,
          224,
          206,
          167,
          230,
          335,
          177,
          276,
          353,
          225,
          330,
          230,
          243,
          290,
          253,
          266,
          233,
          172,
          305,
          216,
          188,
          282,
          185,
          326,
          231,
          254,
          267,
          248,
          197,
          258,
          270,
          274,
          164,
          255,
          239,
          258,
          188,
          177,
          229,
          260,
          219,
          307,
          249,
          341,
          263,
          330,
          254,
          256,
          407,
          217,
          282,
          288,
          239,
          174,
          281,
          198,
          288,
          309,
          243,
          289,
          289,
          246,
          322,
          299,
          300,
          293,
          304,
          282,
          269,
          249,
          212,
          274,
          184,
          274,
          409,
          246,
          283,
          254,
          298,
          247,
          294,
          299,
          273,
          309,
          259,
          200,
          244,
          231,
          228,
          230,
          282,
          269,
          206,
          212,
          327,
          149,
          286,
          283,
          249,
          234,
          237,
          234,
          275,
          212,
          218,
          261,
          319,
          166,
          315,
          204,
          218,
          223,
          207,
          311,
          204,
          232,
          335,
          205,
          203,
          318,
          225,
          212,
          169,
          187,
          197,
          176,
          241,
          264,
          193,
          131,
          236
         ],
         "xaxis": "x",
         "xbins": {
          "end": 564,
          "size": 1,
          "start": 126
         },
         "yaxis": "y"
        },
        {
         "legendgroup": "cholestrol",
         "marker": {
          "color": "rgb(31, 119, 180)"
         },
         "mode": "lines",
         "name": "cholestrol",
         "showlegend": false,
         "type": "scatter",
         "x": [
          126,
          126.876,
          127.752,
          128.628,
          129.504,
          130.38,
          131.256,
          132.132,
          133.008,
          133.88400000000001,
          134.76,
          135.636,
          136.512,
          137.388,
          138.264,
          139.14,
          140.016,
          140.892,
          141.768,
          142.644,
          143.52,
          144.39600000000002,
          145.272,
          146.148,
          147.024,
          147.9,
          148.776,
          149.652,
          150.528,
          151.404,
          152.28,
          153.156,
          154.032,
          154.90800000000002,
          155.784,
          156.66,
          157.536,
          158.412,
          159.288,
          160.164,
          161.04,
          161.916,
          162.792,
          163.668,
          164.54399999999998,
          165.42000000000002,
          166.296,
          167.172,
          168.048,
          168.924,
          169.8,
          170.676,
          171.552,
          172.428,
          173.304,
          174.18,
          175.05599999999998,
          175.93200000000002,
          176.808,
          177.684,
          178.56,
          179.436,
          180.312,
          181.188,
          182.064,
          182.94,
          183.816,
          184.692,
          185.56799999999998,
          186.44400000000002,
          187.32,
          188.196,
          189.072,
          189.948,
          190.824,
          191.7,
          192.576,
          193.452,
          194.328,
          195.204,
          196.07999999999998,
          196.95600000000002,
          197.832,
          198.708,
          199.584,
          200.45999999999998,
          201.336,
          202.212,
          203.088,
          203.964,
          204.84,
          205.716,
          206.59199999999998,
          207.46800000000002,
          208.344,
          209.22,
          210.096,
          210.97199999999998,
          211.848,
          212.724,
          213.6,
          214.476,
          215.352,
          216.228,
          217.10399999999998,
          217.98000000000002,
          218.856,
          219.732,
          220.608,
          221.48399999999998,
          222.36,
          223.236,
          224.112,
          224.988,
          225.864,
          226.74,
          227.61599999999999,
          228.49200000000002,
          229.368,
          230.244,
          231.12,
          231.99599999999998,
          232.872,
          233.748,
          234.624,
          235.5,
          236.376,
          237.252,
          238.128,
          239.00400000000002,
          239.88,
          240.756,
          241.632,
          242.50799999999998,
          243.38400000000001,
          244.26,
          245.136,
          246.012,
          246.888,
          247.764,
          248.64,
          249.51600000000002,
          250.392,
          251.268,
          252.144,
          253.01999999999998,
          253.89600000000002,
          254.772,
          255.648,
          256.524,
          257.4,
          258.276,
          259.152,
          260.028,
          260.904,
          261.78,
          262.656,
          263.53200000000004,
          264.408,
          265.284,
          266.15999999999997,
          267.036,
          267.91200000000003,
          268.788,
          269.664,
          270.53999999999996,
          271.416,
          272.29200000000003,
          273.168,
          274.044,
          274.91999999999996,
          275.796,
          276.672,
          277.548,
          278.424,
          279.3,
          280.176,
          281.052,
          281.928,
          282.804,
          283.68,
          284.55600000000004,
          285.432,
          286.308,
          287.18399999999997,
          288.06,
          288.93600000000004,
          289.812,
          290.688,
          291.56399999999996,
          292.44,
          293.31600000000003,
          294.192,
          295.068,
          295.94399999999996,
          296.82,
          297.696,
          298.572,
          299.448,
          300.324,
          301.2,
          302.076,
          302.952,
          303.828,
          304.704,
          305.58000000000004,
          306.456,
          307.332,
          308.20799999999997,
          309.084,
          309.96000000000004,
          310.836,
          311.712,
          312.58799999999997,
          313.464,
          314.34000000000003,
          315.216,
          316.092,
          316.96799999999996,
          317.844,
          318.72,
          319.596,
          320.472,
          321.348,
          322.224,
          323.1,
          323.976,
          324.852,
          325.728,
          326.60400000000004,
          327.48,
          328.356,
          329.23199999999997,
          330.108,
          330.98400000000004,
          331.86,
          332.736,
          333.61199999999997,
          334.488,
          335.36400000000003,
          336.24,
          337.116,
          337.99199999999996,
          338.868,
          339.744,
          340.62,
          341.496,
          342.372,
          343.248,
          344.124,
          345,
          345.876,
          346.752,
          347.628,
          348.504,
          349.38,
          350.256,
          351.132,
          352.00800000000004,
          352.884,
          353.76,
          354.63599999999997,
          355.512,
          356.38800000000003,
          357.264,
          358.14,
          359.01599999999996,
          359.892,
          360.76800000000003,
          361.644,
          362.52,
          363.39599999999996,
          364.272,
          365.148,
          366.024,
          366.9,
          367.776,
          368.652,
          369.528,
          370.404,
          371.28,
          372.156,
          373.03200000000004,
          373.908,
          374.784,
          375.65999999999997,
          376.536,
          377.41200000000003,
          378.288,
          379.164,
          380.03999999999996,
          380.916,
          381.79200000000003,
          382.668,
          383.544,
          384.42,
          385.296,
          386.172,
          387.048,
          387.924,
          388.8,
          389.676,
          390.552,
          391.428,
          392.304,
          393.18,
          394.056,
          394.932,
          395.808,
          396.684,
          397.56,
          398.436,
          399.312,
          400.188,
          401.064,
          401.94,
          402.816,
          403.692,
          404.568,
          405.444,
          406.32,
          407.196,
          408.072,
          408.948,
          409.824,
          410.7,
          411.576,
          412.452,
          413.328,
          414.204,
          415.08,
          415.956,
          416.832,
          417.708,
          418.584,
          419.46,
          420.336,
          421.212,
          422.088,
          422.964,
          423.84,
          424.716,
          425.592,
          426.468,
          427.344,
          428.22,
          429.096,
          429.972,
          430.848,
          431.724,
          432.6,
          433.476,
          434.352,
          435.228,
          436.104,
          436.98,
          437.856,
          438.732,
          439.608,
          440.484,
          441.36,
          442.236,
          443.112,
          443.988,
          444.864,
          445.74,
          446.616,
          447.492,
          448.368,
          449.244,
          450.12,
          450.996,
          451.872,
          452.748,
          453.624,
          454.5,
          455.376,
          456.252,
          457.128,
          458.004,
          458.88,
          459.756,
          460.632,
          461.508,
          462.384,
          463.26,
          464.136,
          465.012,
          465.888,
          466.764,
          467.64,
          468.516,
          469.392,
          470.268,
          471.144,
          472.02,
          472.896,
          473.772,
          474.648,
          475.524,
          476.4,
          477.276,
          478.152,
          479.028,
          479.904,
          480.78,
          481.656,
          482.532,
          483.408,
          484.284,
          485.16,
          486.036,
          486.912,
          487.788,
          488.664,
          489.54,
          490.416,
          491.292,
          492.168,
          493.044,
          493.92,
          494.796,
          495.672,
          496.548,
          497.424,
          498.3,
          499.176,
          500.052,
          500.928,
          501.804,
          502.68,
          503.556,
          504.432,
          505.308,
          506.184,
          507.06,
          507.936,
          508.812,
          509.688,
          510.564,
          511.44,
          512.316,
          513.192,
          514.068,
          514.944,
          515.8199999999999,
          516.696,
          517.572,
          518.448,
          519.3240000000001,
          520.2,
          521.076,
          521.952,
          522.828,
          523.704,
          524.5799999999999,
          525.456,
          526.332,
          527.2080000000001,
          528.0840000000001,
          528.96,
          529.836,
          530.712,
          531.588,
          532.4639999999999,
          533.3399999999999,
          534.216,
          535.092,
          535.9680000000001,
          536.844,
          537.72,
          538.596,
          539.472,
          540.348,
          541.2239999999999,
          542.1,
          542.976,
          543.852,
          544.7280000000001,
          545.604,
          546.48,
          547.356,
          548.232,
          549.108,
          549.9839999999999,
          550.86,
          551.736,
          552.6120000000001,
          553.488,
          554.364,
          555.24,
          556.116,
          556.992,
          557.8679999999999,
          558.744,
          559.62,
          560.496,
          561.3720000000001,
          562.248,
          563.124
         ],
         "xaxis": "x",
         "y": [
          0.00032341462065187045,
          0.00033855677387717713,
          0.0003541474851415007,
          0.00037021252288367025,
          0.000386781270693024,
          0.0004038867755767623,
          0.00042156575090313876,
          0.0004398585321243837,
          0.000458808984036585,
          0.00047846435902801164,
          0.0004988751064949747,
          0.0005200946343574621,
          0.0005421790243771545,
          0.0005651867037591962,
          0.0005891780762968586,
          0.0006142151170845892,
          0.0006403609355687672,
          0.0006676793124143097,
          0.0006962342163258568,
          0.000726089307559733,
          0.0007573074353818118,
          0.0007899501371501286,
          0.0008240771470125315,
          0.0008597459223916161,
          0.0008970111964646886,
          0.0009359245647198346,
          0.0009765341133662069,
          0.0010188840968859349,
          0.001063014671328657,
          0.0011089616890637064,
          0.0011567565596212295,
          0.001206426179978679,
          0.001257992936197723,
          0.0013114747767084814,
          0.0013668853558016015,
          0.0014242342440584244,
          0.0014835272005669653,
          0.0015447664998845274,
          0.001607951304868802,
          0.0016730780747655043,
          0.0017401409963702973,
          0.0018091324247359699,
          0.0018800433188304233,
          0.001952863656821151,
          0.002027582815316682,
          0.0021041898969747772,
          0.002182673991422017,
          0.002263024355437952,
          0.0023452304998436333,
          0.0024292821724896415,
          0.0025151692291360693,
          0.0026028813868150904,
          0.0026924078574076934,
          0.0027837368625779468,
          0.0028768550348047864,
          0.0029717467129355196,
          0.0030683931443514683,
          0.0031667716093724562,
          0.003266854486818867,
          0.003368608282586111,
          0.0034719926455575737,
          0.0035769593970912793,
          0.0036834516015763277,
          0.0037914027060986194,
          0.0039007357770308396,
          0.004011362860341902,
          0.004123184490600567,
          0.004236089371047693,
          0.004349954243776631,
          0.004464643965062079,
          0.004580011796306262,
          0.004695899916043338,
          0.0048121401530876835,
          0.0049285549353775115,
          0.005044958443505125,
          0.005161157952501016,
          0.005276955340310055,
          0.005392148736719447,
          0.005506534282413978,
          0.005619907964473939,
          0.00573206749210357,
          0.005842814174770299,
          0.005951954764304845,
          0.006059303222892627,
          0.006164682380276052,
          0.006267925445857138,
          0.006368877344680459,
          0.006467395850399913,
          0.006563352493177842,
          0.006656633225894878,
          0.0067471388379137355,
          0.006834785111772414,
          0.006919502724410617,
          0.007001236900680919,
          0.007079946832791904,
          0.007155604884809939,
          0.007228195606258845,
          0.007297714583070424,
          0.007364167157543093,
          0.0074275670514750885,
          0.007487934928195624,
          0.007545296929791996,
          0.007599683225424384,
          0.00765112660526087,
          0.007699661152310987,
          0.007745321021367279,
          0.007788139350486568,
          0.007828147326077204,
          0.00786537341784435,
          0.007899842794727713,
          0.007931576927700084,
          0.007960593380031078,
          0.00798690578051024,
          0.00801052397030608,
          0.008031454309741634,
          0.00804970012740496,
          0.008065262290778457,
          0.008078139875035303,
          0.008088330904866764,
          0.008095833143194125,
          0.008100644900391122,
          0.008102765838172312,
          0.008102197743555242,
          0.008098945250214004,
          0.008093016487035849,
          0.008084423636677917,
          0.008073183390296172,
          0.008059317288273889,
          0.008042851940598622,
          0.008023819124408693,
          0.00800225576004202,
          0.007978203770563201,
          0.00795170983312165,
          0.00792282503351488,
          0.007891604437923304,
          0.00785810659788308,
          0.007822393006127873,
          0.007784527521928371,
          0.007744575784977071,
          0.007702604636708901,
          0.00765868156723331,
          0.007612874204814521,
          0.007565249863119144,
          0.007515875159313313,
          0.007464815713600821,
          0.007412135938027601,
          0.007357898919414021,
          0.0073021663982027855,
          0.007244998841910499,
          0.007186455608830582,
          0.007126595194737205,
          0.007065475552659798,
          0.007003154473407834,
          0.0069396900124856385,
          0.006875140947401905,
          0.006809567248187854,
          0.006743030543222869,
          0.006675594562243976,
          0.006607325538691091,
          0.006538292554306152,
          0.006468567810142229,
          0.006398226809816025,
          0.006327348442913672,
          0.006256014958882397,
          0.006184311824450758,
          0.0061123274605496755,
          0.00604015285778453,
          0.0059678810726584335,
          0.005895606609891125,
          0.005823424699239866,
          0.005751430478132295,
          0.005679718094093723,
          0.00560837974332833,
          0.005537504663832838,
          0.0054671781030335145,
          0.005397480281099072,
          0.005328485371763283,
          0.005260260522670266,
          0.005192864936926393,
          0.00512634903670618,
          0.005060753728434747,
          0.00499610978728087,
          0.004932437376482493,
          0.0048697457144396845,
          0.0048080328996058744,
          0.004747285900053269,
          0.004687480711255205,
          0.004628582682193311,
          0.004570547006441405,
          0.004513319371481269,
          0.004456836756247848,
          0.004401028363859723,
          0.00434581667373581,
          0.00429111859489715,
          0.00423684670025742,
          0.004182910520165257,
          0.004129217872408575,
          0.004075676205348366,
          0.0040221939308266,
          0.003968681723984195,
          0.003915053768114514,
          0.003861228924134303,
          0.0038071318061360946,
          0.00375269374674021,
          0.003697853638530065,
          0.0036425586406607048,
          0.0035867647427045594,
          0.0035304371808613836,
          0.0034735507047338,
          0.003416089695878405,
          0.0033580481422121953,
          0.003299429475017497,
          0.0032402462776866467,
          0.0031805198774292427,
          0.0031202798328910466,
          0.0030595633319759875,
          0.0029984145151050095,
          0.002936883739684233,
          0.002875026801697405,
          0.002812904130102986,
          0.002750579969134191,
          0.002688121562707279,
          0.0026255983539861636,
          0.0025630812117783757,
          0.0025006416939037084,
          0.0024383513560365336,
          0.002376281112831477,
          0.0023145006564509944,
          0.0022530779359724888,
          0.0021920786996033714,
          0.0021315661002127236,
          0.0020716003634269277,
          0.0020122385164545228,
          0.0019535341749167706,
          0.0018955373842692539,
          0.0018382945119043929,
          0.0017818481857153632,
          0.0017262372747628215,
          0.0016714969076969623,
          0.0016176585247237962,
          0.0015647499591399088,
          0.001512795544765609,
          0.0014618162459546738,
          0.0014118298072226146,
          0.001362850919890519,
          0.0013148914034659157,
          0.0012679603997593496,
          0.0012220645779514414,
          0.0011772083489726378,
          0.0011333940876327327,
          0.0010906223609409352,
          0.0010488921609949887,
          0.0010082011406995545,
          0.000968545850411273,
          0.0009299219734166334,
          0.000892324557944667,
          0.0008557482432172172,
          0.0008201874768623303,
          0.0007856367208769766,
          0.000752090643238891,
          0.0007195442922456975,
          0.0006879932507120125,
          0.0006574337672883226,
          0.0006278628623813409,
          0.000599278406453726,
          0.000571679168857016,
          0.000545064835797583,
          0.0005194359965411177,
          0.0004947940975134504,
          0.000471141364539384,
          0.0004484806940608588,
          0.00042681551477386106,
          0.0004061496217035689,
          0.0003864869852829819,
          0.0003678315384966134,
          0.0003501869455848347,
          0.00033355635616482516,
          0.00031794214890254105,
          0.000303345669060897,
          0.0002897669643496242,
          0.0002772045235120725,
          0.00026565502200641476,
          0.00025511307897852566,
          0.0002455710294889543,
          0.0002370187156561856,
          0.0002294433000236993,
          0.00022282910406091908,
          0.00021715747428017876,
          0.00021240667800555662,
          0.0002085518303764338,
          0.00020556485371972516,
          0.00020341446998939236,
          0.0002020662265579989,
          0.00020148255525896392,
          0.00020162286422403873,
          0.00020244366174093097,
          0.00020389871107143995,
          0.0002059392149199479,
          0.00020851402802307112,
          0.00021156989613999242,
          0.00021505171955489956,
          0.00021890283905294595,
          0.00022306534219402617,
          0.00022748038757941446,
          0.00023208854468056476,
          0.00023683014667358972,
          0.00024164565359480143,
          0.0002464760230011635,
          0.0002512630851851012,
          0.0002559499198578233,
          0.00026048123108263514,
          0.0002648037171145919,
          0.00026886643169125933,
          0.000272621133228413,
          0.000276022618311834,
          0.0002790290358497615,
          0.000281602178267987,
          0.000283707746198045,
          0.00028531558323497736,
          0.00028639987752963577,
          0.00028693932723485824,
          0.0002869172671466359,
          0.000286321754269945,
          0.0002851456104914051,
          0.00028338642105223545,
          0.00028104648807777147,
          0.0002781327390246229,
          0.00027465659054213095,
          0.00027063376889823566,
          0.000266084088777173,
          0.0002610311929027435,
          0.0002555022555611274,
          0.0002495276536764209,
          0.00024314060961590946,
          0.0002363768103574919,
          0.00022927400802688364,
          0.0002218716070977541,
          0.00021421024373619821,
          0.0002063313628571139,
          0.00019827679844183874,
          0.00019008836254417165,
          0.0001818074481889436,
          0.00017347465104920097,
          0.00016512941438297625,
          0.00015680970122886745,
          0.0001485516973130452,
          0.0001403895475225379,
          0.00013235512816488676,
          0.00012447785657765183,
          0.00011678453898777361,
          0.00010929925686524168,
          0.000102043291381932,
          0.00009503508498778065,
          0.00008829023856422099,
          0.00008182154211889075,
          0.00007563903655404241,
          0.00006975010367988269,
          0.00006415958135719877,
          0.00005886990044306416,
          0.0000538812400790122,
          0.000049191697801048074,
          0.0000447974709614741,
          0.00004069304602877567,
          0.00003687139246736961,
          0.00003332415808651856,
          0.00003004186297922611,
          0.00002701408943889851,
          0.00002422966553539061,
          0.000021676840344190278,
          0.000019343449144584088,
          0.000017217067226979058,
          0.000015285151268904792,
          0.000013535167547278851,
          0.00001195470654577643,
          0.000010531583786052724,
          0.000009253926956565684,
          0.00000811024963018991,
          0.000007089512050039653,
          0.000006181169621107535,
          0.000005375209873478016,
          0.0000046621787616980775,
          0.0000040331972357086684,
          0.0000034799690633918296,
          0.000002994780905504473,
          0.000002570495643078703,
          0.0000022005399379902703,
          0.0000018788869721460798,
          0.0000016000352624499385,
          0.0000013589843901290782,
          0.000001151208416787897,
          9.726276881469654e-7,
          8.195796520719114e-7,
          6.88789242188125e-7,
          5.773393038448081e-7,
          4.82641466901111e-7,
          4.024078009498011e-7,
          3.346235241088377e-7,
          2.7752097709227874e-7,
          2.2955502038738518e-7,
          1.8937996428651797e-7,
          1.5582809934233464e-7,
          1.2788985847872966e-7,
          1.0469561131830533e-7,
          8.549906600305071e-8,
          6.966223353686678e-8,
          5.664189406277033e-8,
          4.597749306728381e-8,
          3.7280387827088936e-8,
          3.022436002434809e-8,
          2.453730891322627e-8,
          1.9994040296311256e-8,
          1.641006946689993e-8,
          1.3636360822662029e-8,
          1.1554932721606689e-8,
          1.0075263028902336e-8,
          9.131438421125096e-9,
          8.679998630376628e-9,
          8.698435207859865e-9,
          9.184312870198666e-9,
          1.015498988438034e-8,
          1.1647922083301446e-8,
          1.3721542825296628e-8,
          1.6456718361989882e-8,
          1.9958784501576175e-8,
          2.4360175985731172e-8,
          2.982366446544931e-8,
          3.6546224181119295e-8,
          4.476354623034553e-8,
          5.4755222437447156e-8,
          6.685061810624574e-8,
          8.143544912206892e-8,
          9.895907274919049e-8,
          1.1994249283254224e-7,
          1.4498706875982522e-7,
          1.7478390330126625e-7,
          2.1012386718742325e-7,
          2.5190819793193266e-7,
          3.01159586944633e-7,
          3.590336424839218e-7,
          4.2683058663674143e-7,
          5.060070125763576e-7,
          5.981874942477361e-7,
          7.05175804922138e-7,
          8.289654644547441e-7,
          9.717492984313806e-7,
          0.0000011359276567231603,
          0.0000013241149054507426,
          0.0000015391437763035317,
          0.0000017840671319976658,
          0.0000020621566879171758,
          0.000002376898219256373,
          0.0000027319827818784066,
          0.000003131293485199257,
          0.0000035788873781932797,
          0.000004078972046430657,
          0.000004635876570019478,
          0.000005254016560267453,
          0.000005937853077274556,
          0.000006691845331563912,
          0.000007520397189814321,
          0.00000842779763680167,
          0.000009418155491215308,
          0.000010495328829943875,
          0.000011662849740930919,
          0.000012923845195419012,
          0.000014280955002396922,
          0.00001573624797690244,
          0.000017291137614670196,
          0.000018946298713301247,
          0.00002070158650935339,
          0.000022555960006187548,
          0.00002450741124386697,
          0.000026552902305093383,
          0.00002868831185573756,
          0.000030908392981439975,
          0.00003320674400029221,
          0.000035575793804170275,
          0.00003800680310745081,
          0.000040489882762470495,
          0.00004301403003853785,
          0.000045567183459222036,
          0.00004813629645618614,
          0.000050707429733474636,
          0.00005326586185156253,
          0.00005579621714443633,
          0.00005828260968505374,
          0.0000607088016249639,
          0.00006305837386314693,
          0.00006531490665772568,
          0.00006746216749230144,
          0.00006948430325569482,
          0.00007136603359832563,
          0.00007309284219748367,
          0.0000746511626028968,
          0.0000760285553470453,
          0.00007721387309338692,
          0.0000781974107596967,
          0.00007897103779063107,
          0.00007952831005881757,
          0.00007986455924063925
         ],
         "yaxis": "y"
        }
       ],
       "layout": {
        "barmode": "overlay",
        "hovermode": "closest",
        "legend": {
         "traceorder": "reversed"
        },
        "template": {
         "data": {
          "bar": [
           {
            "error_x": {
             "color": "#2a3f5f"
            },
            "error_y": {
             "color": "#2a3f5f"
            },
            "marker": {
             "line": {
              "color": "#E5ECF6",
              "width": 0.5
             },
             "pattern": {
              "fillmode": "overlay",
              "size": 10,
              "solidity": 0.2
             }
            },
            "type": "bar"
           }
          ],
          "barpolar": [
           {
            "marker": {
             "line": {
              "color": "#E5ECF6",
              "width": 0.5
             },
             "pattern": {
              "fillmode": "overlay",
              "size": 10,
              "solidity": 0.2
             }
            },
            "type": "barpolar"
           }
          ],
          "carpet": [
           {
            "aaxis": {
             "endlinecolor": "#2a3f5f",
             "gridcolor": "white",
             "linecolor": "white",
             "minorgridcolor": "white",
             "startlinecolor": "#2a3f5f"
            },
            "baxis": {
             "endlinecolor": "#2a3f5f",
             "gridcolor": "white",
             "linecolor": "white",
             "minorgridcolor": "white",
             "startlinecolor": "#2a3f5f"
            },
            "type": "carpet"
           }
          ],
          "choropleth": [
           {
            "colorbar": {
             "outlinewidth": 0,
             "ticks": ""
            },
            "type": "choropleth"
           }
          ],
          "contour": [
           {
            "colorbar": {
             "outlinewidth": 0,
             "ticks": ""
            },
            "colorscale": [
             [
              0,
              "#0d0887"
             ],
             [
              0.1111111111111111,
              "#46039f"
             ],
             [
              0.2222222222222222,
              "#7201a8"
             ],
             [
              0.3333333333333333,
              "#9c179e"
             ],
             [
              0.4444444444444444,
              "#bd3786"
             ],
             [
              0.5555555555555556,
              "#d8576b"
             ],
             [
              0.6666666666666666,
              "#ed7953"
             ],
             [
              0.7777777777777778,
              "#fb9f3a"
             ],
             [
              0.8888888888888888,
              "#fdca26"
             ],
             [
              1,
              "#f0f921"
             ]
            ],
            "type": "contour"
           }
          ],
          "contourcarpet": [
           {
            "colorbar": {
             "outlinewidth": 0,
             "ticks": ""
            },
            "type": "contourcarpet"
           }
          ],
          "heatmap": [
           {
            "colorbar": {
             "outlinewidth": 0,
             "ticks": ""
            },
            "colorscale": [
             [
              0,
              "#0d0887"
             ],
             [
              0.1111111111111111,
              "#46039f"
             ],
             [
              0.2222222222222222,
              "#7201a8"
             ],
             [
              0.3333333333333333,
              "#9c179e"
             ],
             [
              0.4444444444444444,
              "#bd3786"
             ],
             [
              0.5555555555555556,
              "#d8576b"
             ],
             [
              0.6666666666666666,
              "#ed7953"
             ],
             [
              0.7777777777777778,
              "#fb9f3a"
             ],
             [
              0.8888888888888888,
              "#fdca26"
             ],
             [
              1,
              "#f0f921"
             ]
            ],
            "type": "heatmap"
           }
          ],
          "heatmapgl": [
           {
            "colorbar": {
             "outlinewidth": 0,
             "ticks": ""
            },
            "colorscale": [
             [
              0,
              "#0d0887"
             ],
             [
              0.1111111111111111,
              "#46039f"
             ],
             [
              0.2222222222222222,
              "#7201a8"
             ],
             [
              0.3333333333333333,
              "#9c179e"
             ],
             [
              0.4444444444444444,
              "#bd3786"
             ],
             [
              0.5555555555555556,
              "#d8576b"
             ],
             [
              0.6666666666666666,
              "#ed7953"
             ],
             [
              0.7777777777777778,
              "#fb9f3a"
             ],
             [
              0.8888888888888888,
              "#fdca26"
             ],
             [
              1,
              "#f0f921"
             ]
            ],
            "type": "heatmapgl"
           }
          ],
          "histogram": [
           {
            "marker": {
             "pattern": {
              "fillmode": "overlay",
              "size": 10,
              "solidity": 0.2
             }
            },
            "type": "histogram"
           }
          ],
          "histogram2d": [
           {
            "colorbar": {
             "outlinewidth": 0,
             "ticks": ""
            },
            "colorscale": [
             [
              0,
              "#0d0887"
             ],
             [
              0.1111111111111111,
              "#46039f"
             ],
             [
              0.2222222222222222,
              "#7201a8"
             ],
             [
              0.3333333333333333,
              "#9c179e"
             ],
             [
              0.4444444444444444,
              "#bd3786"
             ],
             [
              0.5555555555555556,
              "#d8576b"
             ],
             [
              0.6666666666666666,
              "#ed7953"
             ],
             [
              0.7777777777777778,
              "#fb9f3a"
             ],
             [
              0.8888888888888888,
              "#fdca26"
             ],
             [
              1,
              "#f0f921"
             ]
            ],
            "type": "histogram2d"
           }
          ],
          "histogram2dcontour": [
           {
            "colorbar": {
             "outlinewidth": 0,
             "ticks": ""
            },
            "colorscale": [
             [
              0,
              "#0d0887"
             ],
             [
              0.1111111111111111,
              "#46039f"
             ],
             [
              0.2222222222222222,
              "#7201a8"
             ],
             [
              0.3333333333333333,
              "#9c179e"
             ],
             [
              0.4444444444444444,
              "#bd3786"
             ],
             [
              0.5555555555555556,
              "#d8576b"
             ],
             [
              0.6666666666666666,
              "#ed7953"
             ],
             [
              0.7777777777777778,
              "#fb9f3a"
             ],
             [
              0.8888888888888888,
              "#fdca26"
             ],
             [
              1,
              "#f0f921"
             ]
            ],
            "type": "histogram2dcontour"
           }
          ],
          "mesh3d": [
           {
            "colorbar": {
             "outlinewidth": 0,
             "ticks": ""
            },
            "type": "mesh3d"
           }
          ],
          "parcoords": [
           {
            "line": {
             "colorbar": {
              "outlinewidth": 0,
              "ticks": ""
             }
            },
            "type": "parcoords"
           }
          ],
          "pie": [
           {
            "automargin": true,
            "type": "pie"
           }
          ],
          "scatter": [
           {
            "fillpattern": {
             "fillmode": "overlay",
             "size": 10,
             "solidity": 0.2
            },
            "type": "scatter"
           }
          ],
          "scatter3d": [
           {
            "line": {
             "colorbar": {
              "outlinewidth": 0,
              "ticks": ""
             }
            },
            "marker": {
             "colorbar": {
              "outlinewidth": 0,
              "ticks": ""
             }
            },
            "type": "scatter3d"
           }
          ],
          "scattercarpet": [
           {
            "marker": {
             "colorbar": {
              "outlinewidth": 0,
              "ticks": ""
             }
            },
            "type": "scattercarpet"
           }
          ],
          "scattergeo": [
           {
            "marker": {
             "colorbar": {
              "outlinewidth": 0,
              "ticks": ""
             }
            },
            "type": "scattergeo"
           }
          ],
          "scattergl": [
           {
            "marker": {
             "colorbar": {
              "outlinewidth": 0,
              "ticks": ""
             }
            },
            "type": "scattergl"
           }
          ],
          "scattermapbox": [
           {
            "marker": {
             "colorbar": {
              "outlinewidth": 0,
              "ticks": ""
             }
            },
            "type": "scattermapbox"
           }
          ],
          "scatterpolar": [
           {
            "marker": {
             "colorbar": {
              "outlinewidth": 0,
              "ticks": ""
             }
            },
            "type": "scatterpolar"
           }
          ],
          "scatterpolargl": [
           {
            "marker": {
             "colorbar": {
              "outlinewidth": 0,
              "ticks": ""
             }
            },
            "type": "scatterpolargl"
           }
          ],
          "scatterternary": [
           {
            "marker": {
             "colorbar": {
              "outlinewidth": 0,
              "ticks": ""
             }
            },
            "type": "scatterternary"
           }
          ],
          "surface": [
           {
            "colorbar": {
             "outlinewidth": 0,
             "ticks": ""
            },
            "colorscale": [
             [
              0,
              "#0d0887"
             ],
             [
              0.1111111111111111,
              "#46039f"
             ],
             [
              0.2222222222222222,
              "#7201a8"
             ],
             [
              0.3333333333333333,
              "#9c179e"
             ],
             [
              0.4444444444444444,
              "#bd3786"
             ],
             [
              0.5555555555555556,
              "#d8576b"
             ],
             [
              0.6666666666666666,
              "#ed7953"
             ],
             [
              0.7777777777777778,
              "#fb9f3a"
             ],
             [
              0.8888888888888888,
              "#fdca26"
             ],
             [
              1,
              "#f0f921"
             ]
            ],
            "type": "surface"
           }
          ],
          "table": [
           {
            "cells": {
             "fill": {
              "color": "#EBF0F8"
             },
             "line": {
              "color": "white"
             }
            },
            "header": {
             "fill": {
              "color": "#C8D4E3"
             },
             "line": {
              "color": "white"
             }
            },
            "type": "table"
           }
          ]
         },
         "layout": {
          "annotationdefaults": {
           "arrowcolor": "#2a3f5f",
           "arrowhead": 0,
           "arrowwidth": 1
          },
          "autotypenumbers": "strict",
          "coloraxis": {
           "colorbar": {
            "outlinewidth": 0,
            "ticks": ""
           }
          },
          "colorscale": {
           "diverging": [
            [
             0,
             "#8e0152"
            ],
            [
             0.1,
             "#c51b7d"
            ],
            [
             0.2,
             "#de77ae"
            ],
            [
             0.3,
             "#f1b6da"
            ],
            [
             0.4,
             "#fde0ef"
            ],
            [
             0.5,
             "#f7f7f7"
            ],
            [
             0.6,
             "#e6f5d0"
            ],
            [
             0.7,
             "#b8e186"
            ],
            [
             0.8,
             "#7fbc41"
            ],
            [
             0.9,
             "#4d9221"
            ],
            [
             1,
             "#276419"
            ]
           ],
           "sequential": [
            [
             0,
             "#0d0887"
            ],
            [
             0.1111111111111111,
             "#46039f"
            ],
            [
             0.2222222222222222,
             "#7201a8"
            ],
            [
             0.3333333333333333,
             "#9c179e"
            ],
            [
             0.4444444444444444,
             "#bd3786"
            ],
            [
             0.5555555555555556,
             "#d8576b"
            ],
            [
             0.6666666666666666,
             "#ed7953"
            ],
            [
             0.7777777777777778,
             "#fb9f3a"
            ],
            [
             0.8888888888888888,
             "#fdca26"
            ],
            [
             1,
             "#f0f921"
            ]
           ],
           "sequentialminus": [
            [
             0,
             "#0d0887"
            ],
            [
             0.1111111111111111,
             "#46039f"
            ],
            [
             0.2222222222222222,
             "#7201a8"
            ],
            [
             0.3333333333333333,
             "#9c179e"
            ],
            [
             0.4444444444444444,
             "#bd3786"
            ],
            [
             0.5555555555555556,
             "#d8576b"
            ],
            [
             0.6666666666666666,
             "#ed7953"
            ],
            [
             0.7777777777777778,
             "#fb9f3a"
            ],
            [
             0.8888888888888888,
             "#fdca26"
            ],
            [
             1,
             "#f0f921"
            ]
           ]
          },
          "colorway": [
           "#636efa",
           "#EF553B",
           "#00cc96",
           "#ab63fa",
           "#FFA15A",
           "#19d3f3",
           "#FF6692",
           "#B6E880",
           "#FF97FF",
           "#FECB52"
          ],
          "font": {
           "color": "#2a3f5f"
          },
          "geo": {
           "bgcolor": "white",
           "lakecolor": "white",
           "landcolor": "#E5ECF6",
           "showlakes": true,
           "showland": true,
           "subunitcolor": "white"
          },
          "hoverlabel": {
           "align": "left"
          },
          "hovermode": "closest",
          "mapbox": {
           "style": "light"
          },
          "paper_bgcolor": "white",
          "plot_bgcolor": "#E5ECF6",
          "polar": {
           "angularaxis": {
            "gridcolor": "white",
            "linecolor": "white",
            "ticks": ""
           },
           "bgcolor": "#E5ECF6",
           "radialaxis": {
            "gridcolor": "white",
            "linecolor": "white",
            "ticks": ""
           }
          },
          "scene": {
           "xaxis": {
            "backgroundcolor": "#E5ECF6",
            "gridcolor": "white",
            "gridwidth": 2,
            "linecolor": "white",
            "showbackground": true,
            "ticks": "",
            "zerolinecolor": "white"
           },
           "yaxis": {
            "backgroundcolor": "#E5ECF6",
            "gridcolor": "white",
            "gridwidth": 2,
            "linecolor": "white",
            "showbackground": true,
            "ticks": "",
            "zerolinecolor": "white"
           },
           "zaxis": {
            "backgroundcolor": "#E5ECF6",
            "gridcolor": "white",
            "gridwidth": 2,
            "linecolor": "white",
            "showbackground": true,
            "ticks": "",
            "zerolinecolor": "white"
           }
          },
          "shapedefaults": {
           "line": {
            "color": "#2a3f5f"
           }
          },
          "ternary": {
           "aaxis": {
            "gridcolor": "white",
            "linecolor": "white",
            "ticks": ""
           },
           "baxis": {
            "gridcolor": "white",
            "linecolor": "white",
            "ticks": ""
           },
           "bgcolor": "#E5ECF6",
           "caxis": {
            "gridcolor": "white",
            "linecolor": "white",
            "ticks": ""
           }
          },
          "title": {
           "x": 0.05
          },
          "xaxis": {
           "automargin": true,
           "gridcolor": "white",
           "linecolor": "white",
           "ticks": "",
           "title": {
            "standoff": 15
           },
           "zerolinecolor": "white",
           "zerolinewidth": 2
          },
          "yaxis": {
           "automargin": true,
           "gridcolor": "white",
           "linecolor": "white",
           "ticks": "",
           "title": {
            "standoff": 15
           },
           "zerolinecolor": "white",
           "zerolinewidth": 2
          }
         }
        },
        "title": {
         "text": "Distribution of cholestrol levels"
        },
        "xaxis": {
         "anchor": "y2",
         "domain": [
          0,
          1
         ],
         "zeroline": false
        },
        "yaxis": {
         "anchor": "free",
         "domain": [
          0,
          1
         ],
         "position": 0
        }
       }
      }
     },
     "metadata": {},
     "output_type": "display_data"
    }
   ],
   "source": [
    "x = df[\"chol\"]\n",
    "hist_data = [x]\n",
    "group_labels = ['cholestrol'] # name of the dataset\n",
    "\n",
    "fig = ff.create_distplot(hist_data, group_labels, show_rug=False)\n",
    "fig.update_layout(title = \"Distribution of cholestrol levels\")\n",
    "fig.show()"
   ]
  },
  {
   "cell_type": "markdown",
   "metadata": {},
   "source": [
    "Here the values are concentrated between 200-300 but we see the range is 438. The reason is because of outliers in the data. <br>\n",
    "The curve is right skewed curve. Here as a practice you can calculate the central tendency and see the above equation for right skew matches.\n"
   ]
  },
  {
   "cell_type": "markdown",
   "metadata": {},
   "source": [
    "\n",
    "<b>Quartiles</b>: As a name suggest it represent quarter of the data and divides the data in 4 equal parts. Namely 25%(Q1), 50%(Q2), 75%(Q3). The data is arranged in ascending order which is the reason median and Q2 are equal.<br>\n",
    "<b>IQR</b> is a range between Q1 and Q3. <br>\n",
    "IQR is preferred over a range as it is not influence by outliers. IQR is used to measure variability by splitting a data set into four equal quartiles.<br>\n",
    "Find Outlier = [(Q1 – 1.5 IQR), (Q3 + 1.5 IQR)]<br>\n",
    "Any number not in range is outlier<br>\n",
    "The quartiles and outliers can be explained with the help of box plot.<br>"
   ]
  },
  {
   "cell_type": "code",
   "execution_count": 27,
   "metadata": {},
   "outputs": [
    {
     "data": {
      "application/vnd.plotly.v1+json": {
       "config": {
        "plotlyServerURL": "https://plot.ly"
       },
       "data": [
        {
         "alignmentgroup": "True",
         "hovertemplate": "chol=%{x}<extra></extra>",
         "legendgroup": "",
         "marker": {
          "color": "#636efa"
         },
         "name": "",
         "notched": false,
         "offsetgroup": "",
         "orientation": "h",
         "showlegend": false,
         "type": "box",
         "x": [
          233,
          250,
          204,
          236,
          354,
          192,
          294,
          263,
          199,
          168,
          239,
          275,
          266,
          211,
          283,
          219,
          340,
          226,
          247,
          239,
          234,
          233,
          226,
          243,
          199,
          302,
          212,
          175,
          417,
          197,
          198,
          177,
          219,
          273,
          213,
          177,
          304,
          232,
          269,
          360,
          308,
          245,
          208,
          264,
          321,
          325,
          235,
          257,
          216,
          234,
          256,
          302,
          231,
          141,
          252,
          201,
          222,
          260,
          182,
          303,
          265,
          309,
          186,
          203,
          211,
          183,
          222,
          234,
          220,
          209,
          258,
          227,
          204,
          261,
          213,
          250,
          245,
          221,
          205,
          240,
          250,
          308,
          318,
          298,
          265,
          564,
          277,
          197,
          214,
          248,
          255,
          207,
          223,
          288,
          160,
          226,
          394,
          233,
          315,
          246,
          244,
          270,
          195,
          240,
          196,
          211,
          234,
          236,
          244,
          254,
          325,
          126,
          313,
          211,
          262,
          215,
          214,
          193,
          204,
          243,
          303,
          271,
          268,
          267,
          199,
          210,
          204,
          277,
          196,
          269,
          201,
          271,
          295,
          235,
          306,
          269,
          178,
          208,
          201,
          263,
          295,
          303,
          209,
          223,
          197,
          245,
          242,
          240,
          226,
          180,
          228,
          149,
          227,
          278,
          220,
          197,
          253,
          192,
          220,
          221,
          240,
          342,
          157,
          175,
          286,
          229,
          268,
          254,
          203,
          256,
          229,
          284,
          224,
          206,
          167,
          230,
          335,
          177,
          276,
          353,
          225,
          330,
          230,
          243,
          290,
          253,
          266,
          233,
          172,
          305,
          216,
          188,
          282,
          185,
          326,
          231,
          254,
          267,
          248,
          197,
          258,
          270,
          274,
          164,
          255,
          239,
          258,
          188,
          177,
          229,
          260,
          219,
          307,
          249,
          341,
          263,
          330,
          254,
          256,
          407,
          217,
          282,
          288,
          239,
          174,
          281,
          198,
          288,
          309,
          243,
          289,
          289,
          246,
          322,
          299,
          300,
          293,
          304,
          282,
          269,
          249,
          212,
          274,
          184,
          274,
          409,
          246,
          283,
          254,
          298,
          247,
          294,
          299,
          273,
          309,
          259,
          200,
          244,
          231,
          228,
          230,
          282,
          269,
          206,
          212,
          327,
          149,
          286,
          283,
          249,
          234,
          237,
          234,
          275,
          212,
          218,
          261,
          319,
          166,
          315,
          204,
          218,
          223,
          207,
          311,
          204,
          232,
          335,
          205,
          203,
          318,
          225,
          212,
          169,
          187,
          197,
          176,
          241,
          264,
          193,
          131,
          236
         ],
         "x0": " ",
         "xaxis": "x",
         "y0": " ",
         "yaxis": "y"
        }
       ],
       "layout": {
        "boxmode": "group",
        "legend": {
         "tracegroupgap": 0
        },
        "template": {
         "data": {
          "bar": [
           {
            "error_x": {
             "color": "#2a3f5f"
            },
            "error_y": {
             "color": "#2a3f5f"
            },
            "marker": {
             "line": {
              "color": "#E5ECF6",
              "width": 0.5
             },
             "pattern": {
              "fillmode": "overlay",
              "size": 10,
              "solidity": 0.2
             }
            },
            "type": "bar"
           }
          ],
          "barpolar": [
           {
            "marker": {
             "line": {
              "color": "#E5ECF6",
              "width": 0.5
             },
             "pattern": {
              "fillmode": "overlay",
              "size": 10,
              "solidity": 0.2
             }
            },
            "type": "barpolar"
           }
          ],
          "carpet": [
           {
            "aaxis": {
             "endlinecolor": "#2a3f5f",
             "gridcolor": "white",
             "linecolor": "white",
             "minorgridcolor": "white",
             "startlinecolor": "#2a3f5f"
            },
            "baxis": {
             "endlinecolor": "#2a3f5f",
             "gridcolor": "white",
             "linecolor": "white",
             "minorgridcolor": "white",
             "startlinecolor": "#2a3f5f"
            },
            "type": "carpet"
           }
          ],
          "choropleth": [
           {
            "colorbar": {
             "outlinewidth": 0,
             "ticks": ""
            },
            "type": "choropleth"
           }
          ],
          "contour": [
           {
            "colorbar": {
             "outlinewidth": 0,
             "ticks": ""
            },
            "colorscale": [
             [
              0,
              "#0d0887"
             ],
             [
              0.1111111111111111,
              "#46039f"
             ],
             [
              0.2222222222222222,
              "#7201a8"
             ],
             [
              0.3333333333333333,
              "#9c179e"
             ],
             [
              0.4444444444444444,
              "#bd3786"
             ],
             [
              0.5555555555555556,
              "#d8576b"
             ],
             [
              0.6666666666666666,
              "#ed7953"
             ],
             [
              0.7777777777777778,
              "#fb9f3a"
             ],
             [
              0.8888888888888888,
              "#fdca26"
             ],
             [
              1,
              "#f0f921"
             ]
            ],
            "type": "contour"
           }
          ],
          "contourcarpet": [
           {
            "colorbar": {
             "outlinewidth": 0,
             "ticks": ""
            },
            "type": "contourcarpet"
           }
          ],
          "heatmap": [
           {
            "colorbar": {
             "outlinewidth": 0,
             "ticks": ""
            },
            "colorscale": [
             [
              0,
              "#0d0887"
             ],
             [
              0.1111111111111111,
              "#46039f"
             ],
             [
              0.2222222222222222,
              "#7201a8"
             ],
             [
              0.3333333333333333,
              "#9c179e"
             ],
             [
              0.4444444444444444,
              "#bd3786"
             ],
             [
              0.5555555555555556,
              "#d8576b"
             ],
             [
              0.6666666666666666,
              "#ed7953"
             ],
             [
              0.7777777777777778,
              "#fb9f3a"
             ],
             [
              0.8888888888888888,
              "#fdca26"
             ],
             [
              1,
              "#f0f921"
             ]
            ],
            "type": "heatmap"
           }
          ],
          "heatmapgl": [
           {
            "colorbar": {
             "outlinewidth": 0,
             "ticks": ""
            },
            "colorscale": [
             [
              0,
              "#0d0887"
             ],
             [
              0.1111111111111111,
              "#46039f"
             ],
             [
              0.2222222222222222,
              "#7201a8"
             ],
             [
              0.3333333333333333,
              "#9c179e"
             ],
             [
              0.4444444444444444,
              "#bd3786"
             ],
             [
              0.5555555555555556,
              "#d8576b"
             ],
             [
              0.6666666666666666,
              "#ed7953"
             ],
             [
              0.7777777777777778,
              "#fb9f3a"
             ],
             [
              0.8888888888888888,
              "#fdca26"
             ],
             [
              1,
              "#f0f921"
             ]
            ],
            "type": "heatmapgl"
           }
          ],
          "histogram": [
           {
            "marker": {
             "pattern": {
              "fillmode": "overlay",
              "size": 10,
              "solidity": 0.2
             }
            },
            "type": "histogram"
           }
          ],
          "histogram2d": [
           {
            "colorbar": {
             "outlinewidth": 0,
             "ticks": ""
            },
            "colorscale": [
             [
              0,
              "#0d0887"
             ],
             [
              0.1111111111111111,
              "#46039f"
             ],
             [
              0.2222222222222222,
              "#7201a8"
             ],
             [
              0.3333333333333333,
              "#9c179e"
             ],
             [
              0.4444444444444444,
              "#bd3786"
             ],
             [
              0.5555555555555556,
              "#d8576b"
             ],
             [
              0.6666666666666666,
              "#ed7953"
             ],
             [
              0.7777777777777778,
              "#fb9f3a"
             ],
             [
              0.8888888888888888,
              "#fdca26"
             ],
             [
              1,
              "#f0f921"
             ]
            ],
            "type": "histogram2d"
           }
          ],
          "histogram2dcontour": [
           {
            "colorbar": {
             "outlinewidth": 0,
             "ticks": ""
            },
            "colorscale": [
             [
              0,
              "#0d0887"
             ],
             [
              0.1111111111111111,
              "#46039f"
             ],
             [
              0.2222222222222222,
              "#7201a8"
             ],
             [
              0.3333333333333333,
              "#9c179e"
             ],
             [
              0.4444444444444444,
              "#bd3786"
             ],
             [
              0.5555555555555556,
              "#d8576b"
             ],
             [
              0.6666666666666666,
              "#ed7953"
             ],
             [
              0.7777777777777778,
              "#fb9f3a"
             ],
             [
              0.8888888888888888,
              "#fdca26"
             ],
             [
              1,
              "#f0f921"
             ]
            ],
            "type": "histogram2dcontour"
           }
          ],
          "mesh3d": [
           {
            "colorbar": {
             "outlinewidth": 0,
             "ticks": ""
            },
            "type": "mesh3d"
           }
          ],
          "parcoords": [
           {
            "line": {
             "colorbar": {
              "outlinewidth": 0,
              "ticks": ""
             }
            },
            "type": "parcoords"
           }
          ],
          "pie": [
           {
            "automargin": true,
            "type": "pie"
           }
          ],
          "scatter": [
           {
            "fillpattern": {
             "fillmode": "overlay",
             "size": 10,
             "solidity": 0.2
            },
            "type": "scatter"
           }
          ],
          "scatter3d": [
           {
            "line": {
             "colorbar": {
              "outlinewidth": 0,
              "ticks": ""
             }
            },
            "marker": {
             "colorbar": {
              "outlinewidth": 0,
              "ticks": ""
             }
            },
            "type": "scatter3d"
           }
          ],
          "scattercarpet": [
           {
            "marker": {
             "colorbar": {
              "outlinewidth": 0,
              "ticks": ""
             }
            },
            "type": "scattercarpet"
           }
          ],
          "scattergeo": [
           {
            "marker": {
             "colorbar": {
              "outlinewidth": 0,
              "ticks": ""
             }
            },
            "type": "scattergeo"
           }
          ],
          "scattergl": [
           {
            "marker": {
             "colorbar": {
              "outlinewidth": 0,
              "ticks": ""
             }
            },
            "type": "scattergl"
           }
          ],
          "scattermapbox": [
           {
            "marker": {
             "colorbar": {
              "outlinewidth": 0,
              "ticks": ""
             }
            },
            "type": "scattermapbox"
           }
          ],
          "scatterpolar": [
           {
            "marker": {
             "colorbar": {
              "outlinewidth": 0,
              "ticks": ""
             }
            },
            "type": "scatterpolar"
           }
          ],
          "scatterpolargl": [
           {
            "marker": {
             "colorbar": {
              "outlinewidth": 0,
              "ticks": ""
             }
            },
            "type": "scatterpolargl"
           }
          ],
          "scatterternary": [
           {
            "marker": {
             "colorbar": {
              "outlinewidth": 0,
              "ticks": ""
             }
            },
            "type": "scatterternary"
           }
          ],
          "surface": [
           {
            "colorbar": {
             "outlinewidth": 0,
             "ticks": ""
            },
            "colorscale": [
             [
              0,
              "#0d0887"
             ],
             [
              0.1111111111111111,
              "#46039f"
             ],
             [
              0.2222222222222222,
              "#7201a8"
             ],
             [
              0.3333333333333333,
              "#9c179e"
             ],
             [
              0.4444444444444444,
              "#bd3786"
             ],
             [
              0.5555555555555556,
              "#d8576b"
             ],
             [
              0.6666666666666666,
              "#ed7953"
             ],
             [
              0.7777777777777778,
              "#fb9f3a"
             ],
             [
              0.8888888888888888,
              "#fdca26"
             ],
             [
              1,
              "#f0f921"
             ]
            ],
            "type": "surface"
           }
          ],
          "table": [
           {
            "cells": {
             "fill": {
              "color": "#EBF0F8"
             },
             "line": {
              "color": "white"
             }
            },
            "header": {
             "fill": {
              "color": "#C8D4E3"
             },
             "line": {
              "color": "white"
             }
            },
            "type": "table"
           }
          ]
         },
         "layout": {
          "annotationdefaults": {
           "arrowcolor": "#2a3f5f",
           "arrowhead": 0,
           "arrowwidth": 1
          },
          "autotypenumbers": "strict",
          "coloraxis": {
           "colorbar": {
            "outlinewidth": 0,
            "ticks": ""
           }
          },
          "colorscale": {
           "diverging": [
            [
             0,
             "#8e0152"
            ],
            [
             0.1,
             "#c51b7d"
            ],
            [
             0.2,
             "#de77ae"
            ],
            [
             0.3,
             "#f1b6da"
            ],
            [
             0.4,
             "#fde0ef"
            ],
            [
             0.5,
             "#f7f7f7"
            ],
            [
             0.6,
             "#e6f5d0"
            ],
            [
             0.7,
             "#b8e186"
            ],
            [
             0.8,
             "#7fbc41"
            ],
            [
             0.9,
             "#4d9221"
            ],
            [
             1,
             "#276419"
            ]
           ],
           "sequential": [
            [
             0,
             "#0d0887"
            ],
            [
             0.1111111111111111,
             "#46039f"
            ],
            [
             0.2222222222222222,
             "#7201a8"
            ],
            [
             0.3333333333333333,
             "#9c179e"
            ],
            [
             0.4444444444444444,
             "#bd3786"
            ],
            [
             0.5555555555555556,
             "#d8576b"
            ],
            [
             0.6666666666666666,
             "#ed7953"
            ],
            [
             0.7777777777777778,
             "#fb9f3a"
            ],
            [
             0.8888888888888888,
             "#fdca26"
            ],
            [
             1,
             "#f0f921"
            ]
           ],
           "sequentialminus": [
            [
             0,
             "#0d0887"
            ],
            [
             0.1111111111111111,
             "#46039f"
            ],
            [
             0.2222222222222222,
             "#7201a8"
            ],
            [
             0.3333333333333333,
             "#9c179e"
            ],
            [
             0.4444444444444444,
             "#bd3786"
            ],
            [
             0.5555555555555556,
             "#d8576b"
            ],
            [
             0.6666666666666666,
             "#ed7953"
            ],
            [
             0.7777777777777778,
             "#fb9f3a"
            ],
            [
             0.8888888888888888,
             "#fdca26"
            ],
            [
             1,
             "#f0f921"
            ]
           ]
          },
          "colorway": [
           "#636efa",
           "#EF553B",
           "#00cc96",
           "#ab63fa",
           "#FFA15A",
           "#19d3f3",
           "#FF6692",
           "#B6E880",
           "#FF97FF",
           "#FECB52"
          ],
          "font": {
           "color": "#2a3f5f"
          },
          "geo": {
           "bgcolor": "white",
           "lakecolor": "white",
           "landcolor": "#E5ECF6",
           "showlakes": true,
           "showland": true,
           "subunitcolor": "white"
          },
          "hoverlabel": {
           "align": "left"
          },
          "hovermode": "closest",
          "mapbox": {
           "style": "light"
          },
          "paper_bgcolor": "white",
          "plot_bgcolor": "#E5ECF6",
          "polar": {
           "angularaxis": {
            "gridcolor": "white",
            "linecolor": "white",
            "ticks": ""
           },
           "bgcolor": "#E5ECF6",
           "radialaxis": {
            "gridcolor": "white",
            "linecolor": "white",
            "ticks": ""
           }
          },
          "scene": {
           "xaxis": {
            "backgroundcolor": "#E5ECF6",
            "gridcolor": "white",
            "gridwidth": 2,
            "linecolor": "white",
            "showbackground": true,
            "ticks": "",
            "zerolinecolor": "white"
           },
           "yaxis": {
            "backgroundcolor": "#E5ECF6",
            "gridcolor": "white",
            "gridwidth": 2,
            "linecolor": "white",
            "showbackground": true,
            "ticks": "",
            "zerolinecolor": "white"
           },
           "zaxis": {
            "backgroundcolor": "#E5ECF6",
            "gridcolor": "white",
            "gridwidth": 2,
            "linecolor": "white",
            "showbackground": true,
            "ticks": "",
            "zerolinecolor": "white"
           }
          },
          "shapedefaults": {
           "line": {
            "color": "#2a3f5f"
           }
          },
          "ternary": {
           "aaxis": {
            "gridcolor": "white",
            "linecolor": "white",
            "ticks": ""
           },
           "baxis": {
            "gridcolor": "white",
            "linecolor": "white",
            "ticks": ""
           },
           "bgcolor": "#E5ECF6",
           "caxis": {
            "gridcolor": "white",
            "linecolor": "white",
            "ticks": ""
           }
          },
          "title": {
           "x": 0.05
          },
          "xaxis": {
           "automargin": true,
           "gridcolor": "white",
           "linecolor": "white",
           "ticks": "",
           "title": {
            "standoff": 15
           },
           "zerolinecolor": "white",
           "zerolinewidth": 2
          },
          "yaxis": {
           "automargin": true,
           "gridcolor": "white",
           "linecolor": "white",
           "ticks": "",
           "title": {
            "standoff": 15
           },
           "zerolinecolor": "white",
           "zerolinewidth": 2
          }
         }
        },
        "title": {
         "text": "Distribution of cholestrol levels"
        },
        "xaxis": {
         "anchor": "y",
         "domain": [
          0,
          1
         ],
         "title": {
          "text": "chol"
         }
        },
        "yaxis": {
         "anchor": "x",
         "domain": [
          0,
          1
         ]
        }
       }
      }
     },
     "metadata": {},
     "output_type": "display_data"
    }
   ],
   "source": [
    "fig = px.box(df, x = \"chol\", title = \"Distribution of cholestrol levels\")\n",
    "fig.show()"
   ]
  },
  {
   "cell_type": "code",
   "execution_count": 28,
   "metadata": {},
   "outputs": [
    {
     "data": {
      "text/plain": [
       "count    302.000000\n",
       "mean     246.500000\n",
       "std       51.753489\n",
       "min      126.000000\n",
       "25%      211.000000\n",
       "50%      240.500000\n",
       "75%      274.750000\n",
       "max      564.000000\n",
       "Name: chol, dtype: float64"
      ]
     },
     "execution_count": 28,
     "metadata": {},
     "output_type": "execute_result"
    }
   ],
   "source": [
    "df.chol.describe()"
   ]
  },
  {
   "cell_type": "code",
   "execution_count": 29,
   "metadata": {},
   "outputs": [
    {
     "name": "stdout",
     "output_type": "stream",
     "text": [
      "The numbers outside the range of 115.75 and 369.75 will be considered as outliers\n",
      "The box plot verify our calculation. All the number greater than 369.75 are shown as outliers.\n"
     ]
    }
   ],
   "source": [
    "# Outlier calculation\n",
    "#IQR = Q3 - Q1\n",
    "Q1 = 211.0\n",
    "Q2 = 240.0\n",
    "Q3 = 274.5\n",
    "IQR = 274.5 - 211\n",
    "outlier1 = (Q1 - 1.5 * IQR)\n",
    "outlier2 = (Q3 + 1.5 * IQR)\n",
    "print(f\"The numbers outside the range of {outlier1} and {outlier2} will be considered as outliers\")\n",
    "print(\"The box plot verify our calculation. All the number greater than 369.75 are shown as outliers.\")"
   ]
  },
  {
   "cell_type": "markdown",
   "metadata": {},
   "source": [
    "<b>Variance:</b> It is a statistical parameter used to quantify spread. It measures how far each number in the set from the mean and thus from every other number in the set. Observation near to mean value gets the lower result and far from means gets higher value.<br>\n",
    "<br>\n",
    "1. A high variance indicates that the numbers are far from the mean and far from each other.<br>\n",
    "2. A low variance indicates that the numbers are close to the mean and to each other.<br>\n",
    "3. If variance is 0 that means that all the numbers in the dataset are the identical.<br>\n",
    "4. The valid variance is always a positive number (0 or more).<br>\n",
    "<b>Standard Deviation:</b> It is a square root of variance. It is more commonly used because the unit measure is easy to calculate spread.<br>\n",
    "For example in variance the unit is kg2 whereas in standard deviation it is kg.<br>"
   ]
  },
  {
   "cell_type": "code",
   "execution_count": 30,
   "metadata": {},
   "outputs": [
    {
     "name": "stdout",
     "output_type": "stream",
     "text": [
      "Variance:  2678.423588039867\n",
      "Standard Deviation:  51.75348865574056\n"
     ]
    }
   ],
   "source": [
    "# case of very high variance as per the plot above\n",
    "print(\"Variance: \",df[\"chol\"].var())\n",
    "print(\"Standard Deviation: \", df[\"chol\"].std())"
   ]
  },
  {
   "cell_type": "markdown",
   "metadata": {},
   "source": [
    "# Normalization\n",
    "In it values are shifted and rescaled so that they end up ranging between 0 and 1. It is also known as Min-Max scaling. When the curve does not follow the gaussian distribution it is good to do normalization."
   ]
  },
  {
   "cell_type": "code",
   "execution_count": 31,
   "metadata": {},
   "outputs": [],
   "source": [
    "df[\"normalized_chol\"]=(df[\"chol\"]-df[\"chol\"].min())/(df[\"chol\"].max()-df[\"chol\"].min())"
   ]
  },
  {
   "cell_type": "code",
   "execution_count": 32,
   "metadata": {},
   "outputs": [
    {
     "data": {
      "application/vnd.plotly.v1+json": {
       "config": {
        "plotlyServerURL": "https://plot.ly"
       },
       "data": [
        {
         "autobinx": false,
         "histnorm": "probability density",
         "legendgroup": "normalized cholestrol",
         "marker": {
          "color": "rgb(31, 119, 180)"
         },
         "name": "normalized cholestrol",
         "opacity": 0.7,
         "type": "histogram",
         "x": [
          0.24429223744292236,
          0.2831050228310502,
          0.1780821917808219,
          0.2511415525114155,
          0.5205479452054794,
          0.1506849315068493,
          0.3835616438356164,
          0.3127853881278539,
          0.16666666666666666,
          0.0958904109589041,
          0.2579908675799087,
          0.3401826484018265,
          0.319634703196347,
          0.19406392694063926,
          0.3584474885844749,
          0.21232876712328766,
          0.4885844748858447,
          0.228310502283105,
          0.2762557077625571,
          0.2579908675799087,
          0.2465753424657534,
          0.24429223744292236,
          0.228310502283105,
          0.2671232876712329,
          0.16666666666666666,
          0.4018264840182648,
          0.1963470319634703,
          0.11187214611872145,
          0.6643835616438356,
          0.16210045662100456,
          0.1643835616438356,
          0.11643835616438356,
          0.21232876712328766,
          0.3356164383561644,
          0.19863013698630136,
          0.11643835616438356,
          0.4063926940639269,
          0.2420091324200913,
          0.3264840182648402,
          0.5342465753424658,
          0.4155251141552511,
          0.271689497716895,
          0.1872146118721461,
          0.3150684931506849,
          0.4452054794520548,
          0.454337899543379,
          0.24885844748858446,
          0.2990867579908676,
          0.2054794520547945,
          0.2465753424657534,
          0.2968036529680365,
          0.4018264840182648,
          0.23972602739726026,
          0.03424657534246575,
          0.2876712328767123,
          0.17123287671232876,
          0.2191780821917808,
          0.3059360730593607,
          0.1278538812785388,
          0.4041095890410959,
          0.317351598173516,
          0.4178082191780822,
          0.136986301369863,
          0.17579908675799086,
          0.19406392694063926,
          0.13013698630136986,
          0.2191780821917808,
          0.2465753424657534,
          0.2146118721461187,
          0.18949771689497716,
          0.3013698630136986,
          0.23059360730593606,
          0.1780821917808219,
          0.3082191780821918,
          0.19863013698630136,
          0.2831050228310502,
          0.271689497716895,
          0.21689497716894976,
          0.18036529680365296,
          0.2602739726027397,
          0.2831050228310502,
          0.4155251141552511,
          0.4383561643835616,
          0.3926940639269406,
          0.317351598173516,
          1,
          0.3447488584474886,
          0.16210045662100456,
          0.2009132420091324,
          0.2785388127853881,
          0.2945205479452055,
          0.18493150684931506,
          0.22146118721461186,
          0.3698630136986301,
          0.0776255707762557,
          0.228310502283105,
          0.6118721461187214,
          0.24429223744292236,
          0.4315068493150685,
          0.273972602739726,
          0.2694063926940639,
          0.3287671232876712,
          0.15753424657534246,
          0.2602739726027397,
          0.1598173515981735,
          0.19406392694063926,
          0.2465753424657534,
          0.2511415525114155,
          0.2694063926940639,
          0.2922374429223744,
          0.454337899543379,
          0,
          0.4269406392694064,
          0.19406392694063926,
          0.3105022831050228,
          0.20319634703196346,
          0.2009132420091324,
          0.15296803652968036,
          0.1780821917808219,
          0.2671232876712329,
          0.4041095890410959,
          0.3310502283105023,
          0.3242009132420091,
          0.3219178082191781,
          0.16666666666666666,
          0.1917808219178082,
          0.1780821917808219,
          0.3447488584474886,
          0.1598173515981735,
          0.3264840182648402,
          0.17123287671232876,
          0.3310502283105023,
          0.3858447488584475,
          0.24885844748858446,
          0.410958904109589,
          0.3264840182648402,
          0.1187214611872146,
          0.1872146118721461,
          0.17123287671232876,
          0.3127853881278539,
          0.3858447488584475,
          0.4041095890410959,
          0.18949771689497716,
          0.22146118721461186,
          0.16210045662100456,
          0.271689497716895,
          0.2648401826484018,
          0.2602739726027397,
          0.228310502283105,
          0.1232876712328767,
          0.2328767123287671,
          0.05251141552511415,
          0.23059360730593606,
          0.3470319634703196,
          0.2146118721461187,
          0.16210045662100456,
          0.2899543378995434,
          0.1506849315068493,
          0.2146118721461187,
          0.21689497716894976,
          0.2602739726027397,
          0.4931506849315068,
          0.07077625570776255,
          0.11187214611872145,
          0.365296803652968,
          0.23515981735159816,
          0.3242009132420091,
          0.2922374429223744,
          0.17579908675799086,
          0.2968036529680365,
          0.23515981735159816,
          0.3607305936073059,
          0.2237442922374429,
          0.182648401826484,
          0.09360730593607305,
          0.2374429223744292,
          0.4771689497716895,
          0.11643835616438356,
          0.3424657534246575,
          0.5182648401826484,
          0.22602739726027396,
          0.4657534246575342,
          0.2374429223744292,
          0.2671232876712329,
          0.3744292237442922,
          0.2899543378995434,
          0.319634703196347,
          0.24429223744292236,
          0.1050228310502283,
          0.408675799086758,
          0.2054794520547945,
          0.1415525114155251,
          0.3561643835616438,
          0.13470319634703196,
          0.45662100456621,
          0.23972602739726026,
          0.2922374429223744,
          0.3219178082191781,
          0.2785388127853881,
          0.16210045662100456,
          0.3013698630136986,
          0.3287671232876712,
          0.3378995433789954,
          0.0867579908675799,
          0.2945205479452055,
          0.2579908675799087,
          0.3013698630136986,
          0.1415525114155251,
          0.11643835616438356,
          0.23515981735159816,
          0.3059360730593607,
          0.21232876712328766,
          0.4132420091324201,
          0.2808219178082192,
          0.4908675799086758,
          0.3127853881278539,
          0.4657534246575342,
          0.2922374429223744,
          0.2968036529680365,
          0.6415525114155252,
          0.20776255707762556,
          0.3561643835616438,
          0.3698630136986301,
          0.2579908675799087,
          0.1095890410958904,
          0.3538812785388128,
          0.1643835616438356,
          0.3698630136986301,
          0.4178082191780822,
          0.2671232876712329,
          0.3721461187214612,
          0.3721461187214612,
          0.273972602739726,
          0.4474885844748858,
          0.3949771689497717,
          0.3972602739726027,
          0.3812785388127854,
          0.4063926940639269,
          0.3561643835616438,
          0.3264840182648402,
          0.2808219178082192,
          0.1963470319634703,
          0.3378995433789954,
          0.1324200913242009,
          0.3378995433789954,
          0.6461187214611872,
          0.273972602739726,
          0.3584474885844749,
          0.2922374429223744,
          0.3926940639269406,
          0.2762557077625571,
          0.3835616438356164,
          0.3949771689497717,
          0.3356164383561644,
          0.4178082191780822,
          0.3036529680365297,
          0.1689497716894977,
          0.2694063926940639,
          0.23972602739726026,
          0.2328767123287671,
          0.2374429223744292,
          0.3561643835616438,
          0.3264840182648402,
          0.182648401826484,
          0.1963470319634703,
          0.4589041095890411,
          0.05251141552511415,
          0.365296803652968,
          0.3584474885844749,
          0.2808219178082192,
          0.2465753424657534,
          0.2534246575342466,
          0.2465753424657534,
          0.3401826484018265,
          0.1963470319634703,
          0.2100456621004566,
          0.3082191780821918,
          0.4406392694063927,
          0.091324200913242,
          0.4315068493150685,
          0.1780821917808219,
          0.2100456621004566,
          0.22146118721461186,
          0.18493150684931506,
          0.4223744292237443,
          0.1780821917808219,
          0.2420091324200913,
          0.4771689497716895,
          0.18036529680365296,
          0.17579908675799086,
          0.4383561643835616,
          0.22602739726027396,
          0.1963470319634703,
          0.09817351598173515,
          0.13926940639269406,
          0.16210045662100456,
          0.1141552511415525,
          0.2625570776255708,
          0.3150684931506849,
          0.15296803652968036,
          0.01141552511415525,
          0.2511415525114155
         ],
         "xaxis": "x",
         "xbins": {
          "end": 1,
          "size": 1,
          "start": 0
         },
         "yaxis": "y"
        },
        {
         "legendgroup": "normalized cholestrol",
         "marker": {
          "color": "rgb(31, 119, 180)"
         },
         "mode": "lines",
         "name": "normalized cholestrol",
         "showlegend": false,
         "type": "scatter",
         "x": [
          0,
          0.002,
          0.004,
          0.006,
          0.008,
          0.01,
          0.012,
          0.014,
          0.016,
          0.018,
          0.02,
          0.022,
          0.024,
          0.026,
          0.028,
          0.03,
          0.032,
          0.034,
          0.036,
          0.038,
          0.04,
          0.042,
          0.044,
          0.046,
          0.048,
          0.05,
          0.052,
          0.054,
          0.056,
          0.058,
          0.06,
          0.062,
          0.064,
          0.066,
          0.068,
          0.07,
          0.072,
          0.074,
          0.076,
          0.078,
          0.08,
          0.082,
          0.084,
          0.086,
          0.088,
          0.09,
          0.092,
          0.094,
          0.096,
          0.098,
          0.1,
          0.102,
          0.104,
          0.106,
          0.108,
          0.11,
          0.112,
          0.114,
          0.116,
          0.118,
          0.12,
          0.122,
          0.124,
          0.126,
          0.128,
          0.13,
          0.132,
          0.134,
          0.136,
          0.138,
          0.14,
          0.142,
          0.144,
          0.146,
          0.148,
          0.15,
          0.152,
          0.154,
          0.156,
          0.158,
          0.16,
          0.162,
          0.164,
          0.166,
          0.168,
          0.17,
          0.172,
          0.174,
          0.176,
          0.178,
          0.18,
          0.182,
          0.184,
          0.186,
          0.188,
          0.19,
          0.192,
          0.194,
          0.196,
          0.198,
          0.2,
          0.202,
          0.204,
          0.206,
          0.208,
          0.21,
          0.212,
          0.214,
          0.216,
          0.218,
          0.22,
          0.222,
          0.224,
          0.226,
          0.228,
          0.23,
          0.232,
          0.234,
          0.236,
          0.238,
          0.24,
          0.242,
          0.244,
          0.246,
          0.248,
          0.25,
          0.252,
          0.254,
          0.256,
          0.258,
          0.26,
          0.262,
          0.264,
          0.266,
          0.268,
          0.27,
          0.272,
          0.274,
          0.276,
          0.278,
          0.28,
          0.282,
          0.284,
          0.286,
          0.288,
          0.29,
          0.292,
          0.294,
          0.296,
          0.298,
          0.3,
          0.302,
          0.304,
          0.306,
          0.308,
          0.31,
          0.312,
          0.314,
          0.316,
          0.318,
          0.32,
          0.322,
          0.324,
          0.326,
          0.328,
          0.33,
          0.332,
          0.334,
          0.336,
          0.338,
          0.34,
          0.342,
          0.344,
          0.346,
          0.348,
          0.35,
          0.352,
          0.354,
          0.356,
          0.358,
          0.36,
          0.362,
          0.364,
          0.366,
          0.368,
          0.37,
          0.372,
          0.374,
          0.376,
          0.378,
          0.38,
          0.382,
          0.384,
          0.386,
          0.388,
          0.39,
          0.392,
          0.394,
          0.396,
          0.398,
          0.4,
          0.402,
          0.404,
          0.406,
          0.408,
          0.41,
          0.412,
          0.414,
          0.416,
          0.418,
          0.42,
          0.422,
          0.424,
          0.426,
          0.428,
          0.43,
          0.432,
          0.434,
          0.436,
          0.438,
          0.44,
          0.442,
          0.444,
          0.446,
          0.448,
          0.45,
          0.452,
          0.454,
          0.456,
          0.458,
          0.46,
          0.462,
          0.464,
          0.466,
          0.468,
          0.47,
          0.472,
          0.474,
          0.476,
          0.478,
          0.48,
          0.482,
          0.484,
          0.486,
          0.488,
          0.49,
          0.492,
          0.494,
          0.496,
          0.498,
          0.5,
          0.502,
          0.504,
          0.506,
          0.508,
          0.51,
          0.512,
          0.514,
          0.516,
          0.518,
          0.52,
          0.522,
          0.524,
          0.526,
          0.528,
          0.53,
          0.532,
          0.534,
          0.536,
          0.538,
          0.54,
          0.542,
          0.544,
          0.546,
          0.548,
          0.55,
          0.552,
          0.554,
          0.556,
          0.558,
          0.56,
          0.562,
          0.564,
          0.566,
          0.568,
          0.57,
          0.572,
          0.574,
          0.576,
          0.578,
          0.58,
          0.582,
          0.584,
          0.586,
          0.588,
          0.59,
          0.592,
          0.594,
          0.596,
          0.598,
          0.6,
          0.602,
          0.604,
          0.606,
          0.608,
          0.61,
          0.612,
          0.614,
          0.616,
          0.618,
          0.62,
          0.622,
          0.624,
          0.626,
          0.628,
          0.63,
          0.632,
          0.634,
          0.636,
          0.638,
          0.64,
          0.642,
          0.644,
          0.646,
          0.648,
          0.65,
          0.652,
          0.654,
          0.656,
          0.658,
          0.66,
          0.662,
          0.664,
          0.666,
          0.668,
          0.67,
          0.672,
          0.674,
          0.676,
          0.678,
          0.68,
          0.682,
          0.684,
          0.686,
          0.688,
          0.69,
          0.692,
          0.694,
          0.696,
          0.698,
          0.7,
          0.702,
          0.704,
          0.706,
          0.708,
          0.71,
          0.712,
          0.714,
          0.716,
          0.718,
          0.72,
          0.722,
          0.724,
          0.726,
          0.728,
          0.73,
          0.732,
          0.734,
          0.736,
          0.738,
          0.74,
          0.742,
          0.744,
          0.746,
          0.748,
          0.75,
          0.752,
          0.754,
          0.756,
          0.758,
          0.76,
          0.762,
          0.764,
          0.766,
          0.768,
          0.77,
          0.772,
          0.774,
          0.776,
          0.778,
          0.78,
          0.782,
          0.784,
          0.786,
          0.788,
          0.79,
          0.792,
          0.794,
          0.796,
          0.798,
          0.8,
          0.802,
          0.804,
          0.806,
          0.808,
          0.81,
          0.812,
          0.814,
          0.816,
          0.818,
          0.82,
          0.822,
          0.824,
          0.826,
          0.828,
          0.83,
          0.832,
          0.834,
          0.836,
          0.838,
          0.84,
          0.842,
          0.844,
          0.846,
          0.848,
          0.85,
          0.852,
          0.854,
          0.856,
          0.858,
          0.86,
          0.862,
          0.864,
          0.866,
          0.868,
          0.87,
          0.872,
          0.874,
          0.876,
          0.878,
          0.88,
          0.882,
          0.884,
          0.886,
          0.888,
          0.89,
          0.892,
          0.894,
          0.896,
          0.898,
          0.9,
          0.902,
          0.904,
          0.906,
          0.908,
          0.91,
          0.912,
          0.914,
          0.916,
          0.918,
          0.92,
          0.922,
          0.924,
          0.926,
          0.928,
          0.93,
          0.932,
          0.934,
          0.936,
          0.938,
          0.94,
          0.942,
          0.944,
          0.946,
          0.948,
          0.95,
          0.952,
          0.954,
          0.956,
          0.958,
          0.96,
          0.962,
          0.964,
          0.966,
          0.968,
          0.97,
          0.972,
          0.974,
          0.976,
          0.978,
          0.98,
          0.982,
          0.984,
          0.986,
          0.988,
          0.99,
          0.992,
          0.994,
          0.996,
          0.998
         ],
         "xaxis": "x",
         "y": [
          0.14165560384551915,
          0.14828786695820348,
          0.15511659849197737,
          0.16215308502304757,
          0.16941019656354472,
          0.17690240770262194,
          0.18464579889557475,
          0.19265803707047982,
          0.2009583350080242,
          0.20956738925426915,
          0.21850729664479884,
          0.22780144984856873,
          0.2374744126771938,
          0.24755177624652805,
          0.2580599974180238,
          0.26902622128305054,
          0.28047808977912037,
          0.29244353883746793,
          0.3049505867507253,
          0.31802711671116274,
          0.3317006566972339,
          0.3459981600717562,
          0.3609457903914886,
          0.37656871400752795,
          0.39289090405153365,
          0.40993495934728763,
          0.42772194165439814,
          0.4462712344360398,
          0.4656004260419519,
          0.4857252198099046,
          0.5066593731140981,
          0.528414666830661,
          0.551000906054603,
          0.5744259521983146,
          0.5986957858411023,
          0.62381459889759,
          0.6497849138483311,
          0.6766077269494227,
          0.7042826715325347,
          0.7328081967472915,
          0.7621817564101907,
          0.792400002034356,
          0.8234589736477251,
          0.8553542816876643,
          0.8880812731087075,
          0.9216351748749511,
          0.9560112082428437,
          0.9912046676818232,
          1.0272109589315122,
          1.0640255915504635,
          1.1016441223615978,
          1.1400620474250087,
          1.1792746415445696,
          1.2192767458091422,
          1.2600625052444951,
          1.3016250602657566,
          1.3439561972259455,
          1.3870459649051359,
          1.430882265226664,
          1.4754504277727176,
          1.5207327787542186,
          1.5667082159259789,
          1.6133518014904344,
          1.660634385271198,
          1.7085222703395093,
          1.756976932829754,
          1.8059548068830487,
          1.8554071445188889,
          1.9052799587741682,
          1.955514056697192,
          2.0060451667821435,
          2.056804163226981,
          2.107717387052405,
          2.158707061695351,
          2.209691798255247,
          2.260587183195448,
          2.3113064390558065,
          2.3617611466831208,
          2.411862015697328,
          2.461519688439586,
          2.510645561541366,
          2.559152608549391,
          2.6069561867655224,
          2.6539748116269735,
          2.7001308825609076,
          2.7453513452854263,
          2.7895682769700376,
          2.8327193824751613,
          2.874748392011895,
          2.915605352941961,
          2.955246811006216,
          2.9936358789563178,
          3.0307421932918492,
          3.0665417624982427,
          3.101016712762852,
          3.1341549395467516,
          3.1659496755413725,
          3.196398987384849,
          3.225505215003873,
          3.2532743685460894,
          3.2797154985496824,
          3.3048400552488935,
          3.328661252735881,
          3.3511934531042593,
          3.3724515847122047,
          3.3924506073588674,
          3.4112050355131145,
          3.4287285288218152,
          3.4450335570158233,
          3.4601311440907385,
          3.4740306943326393,
          3.486739900453611,
          3.4982647318634825,
          3.5086094989940624,
          3.517776987666834,
          3.5257686558033754,
          3.532584883360967,
          3.538225265265466,
          3.54268893633164,
          3.5459749167190324,
          3.5480824663713135,
          3.5490114371194728,
          3.548762611677197,
          3.5473380195937296,
          3.5447412213217033,
          3.5409775528649314,
          3.536054324949725,
          3.5299809722639575,
          3.5227691499821923,
          3.514432776491011,
          3.5049880228984094,
          3.494453251506686,
          3.482848906907283,
          3.4701973646795166,
          3.456522743810409,
          3.441850689872786,
          3.426208136684008,
          3.4096230546046247,
          3.3921241938199556,
          3.3737408308785,
          3.3545025264481922,
          3.3344389017087575,
          3.313579440046186,
          3.291953319779228,
          3.2695892825571624,
          3.2465155408560946,
          3.2227597267033374,
          3.198348882412814,
          3.173309492756794,
          3.1476675566677956,
          3.121448695294894,
          3.094678292064989,
          3.06738165935263,
          3.039584225468708,
          3.0113117349620353,
          2.9825904547062785,
          2.9534473779316106,
          2.9239104182628615,
          2.8940085859467004,
          2.8637721387860973,
          2.833232700842296,
          2.802423342699421,
          2.7713786179961875,
          2.74013455199049,
          2.7087285791094327,
          2.6771994277207516,
          2.6455869517096255,
          2.6139319098243967,
          2.5822756951323154,
          2.550660018267061,
          2.5191265494219435,
          2.487716525213049,
          2.4564703275778075,
          2.425427042758781,
          2.3946240091286772,
          2.3640963631213965,
          2.3338765928323157,
          2.303994108929578,
          2.2744748423737637,
          2.245340878077305,
          2.216610133054421,
          2.188296086829022,
          2.1604075708993316,
          2.1329486229245815,
          2.105918410027372,
          2.0793112242233294,
          2.05311655152978,
          2.027319214800671,
          2.001899588821337,
          1.976833884708795,
          1.9520944992365574,
          1.9276504233705598,
          1.9034677030962854,
          1.8795099445649492,
          1.855738854712747,
          1.8321148078323843,
          1.808597428114959,
          1.7851461779425863,
          1.7617209417020503,
          1.7382825951050778,
          1.7147935504341547,
          1.6912182687708255,
          1.6675237310876085,
          1.6436798610722125,
          1.61965989367617,
          1.5954406846093907,
          1.5710029573045996,
          1.5463314852172856,
          1.5214152086734025,
          1.4962472867947407,
          1.4708250862889418,
          1.445150110057665,
          1.4192278696267515,
          1.3930677063140076,
          1.3666825668062779,
          1.3400887394054841,
          1.3133055576159929,
          1.286355077981695,
          1.2592617391434617,
          1.2320520089851086,
          1.2047540264807757,
          1.1773972444657879,
          1.1500120790459385,
          1.1226295707589284,
          1.095281061929823,
          1.0679978939440027,
          1.040811127420188,
          1.0137512875255341,
          0.9868481359559511,
          0.9601304704262775,
          0.9336259518931739,
          0.907360959180993,
          0.88136047020708,
          0.8556479686135459,
          0.8302453743099333,
          0.8051729962141256,
          0.7804495053433272,
          0.7560919263461153,
          0.7321156455712694,
          0.7085344338290231,
          0.6853604821032802,
          0.6626044486073369,
          0.640275515728146,
          0.6183814555635062,
          0.5969287029120476,
          0.5759224347180708,
          0.5553666550945944,
          0.535264285142731,
          0.5156172568500144,
          0.49642661038313746,
          0.4776925940921284,
          0.45941476651580426,
          0.4415920996264044,
          0.4242230824801375,
          0.40730582435648655,
          0.39083815637976327,
          0.37481773052914036,
          0.3592421148657005,
          0.3441088837441158,
          0.32941570173863466,
          0.31516040000361456,
          0.30134104381186055,
          0.2879559900722854,
          0.2750039337230272,
          0.262483942026732,
          0.2503954759593728,
          0.23873839807934033,
          0.22751296648500946,
          0.21671981471089105,
          0.20635991766824993,
          0.19643454399865592,
          0.18694519547095048,
          0.177893534306163,
          0.1692812995539459,
          0.16111021386151647,
          0.15338188216615703,
          0.146097684000193,
          0.13925866121931277,
          0.13286540304867286,
          0.12691793038513516,
          0.12141558129828742,
          0.11635689963880931,
          0.11173952859259427,
          0.10756011091616215,
          0.10381419745740918,
          0.10049616541038024,
          0.09759914757868263,
          0.09511497373471846,
          0.09303412496643393,
          0.09134570170487802,
          0.09003740592923974,
          0.08909553785535383,
          0.08850500723240358,
          0.08824935920342628,
          0.08831081453012896,
          0.08867032384252764,
          0.08930763544929064,
          0.09020137613493714,
          0.09132914427410506,
          0.09266761450931663,
          0.09419265316504594,
          0.09587944350519023,
          0.09770261988098325,
          0.09963640975978351,
          0.1016547825700873,
          0.10373160424303211,
          0.10584079627452297,
          0.10795649807450952,
          0.11005323131107442,
          0.11210606489772654,
          0.11409077921419407,
          0.11598402809619138,
          0.11776349708077145,
          0.119408056354045,
          0.12089790682058311,
          0.12221471770219547,
          0.12334175408137836,
          0.1242639928347436,
          0.12496822545691995,
          0.12544314635798043,
          0.12567942532886786,
          0.12566976301022648,
          0.1254089283702359,
          0.12489377739523547,
          0.12412325242087915,
          0.1230983617780638,
          0.12182213969278477,
          0.12029958665745334,
          0.11853759077742716,
          0.1165448308844017,
          0.11433166249140152,
          0.11190998793577381,
          0.10929311231027226,
          0.10649558701176848,
          0.10353304293658139,
          0.10042201551577493,
          0.09717976390881637,
          0.09382408675645473,
          0.090373136931416,
          0.08684523771752554,
          0.08325870279434705,
          0.07963166230675744,
          0.0759818971595499,
          0.07232668349974372,
          0.06868264913824408,
          0.06506564342311394,
          0.06149062181487175,
          0.057971546136220534,
          0.054521301181011644,
          0.051151628076644966,
          0.047873074506976,
          0.044694961625286335,
          0.041625367224648054,
          0.0386711244911289,
          0.0358378354480743,
          0.033129898010670886,
          0.03055054541178877,
          0.028101896634453345,
          0.025785016394062197,
          0.023599983154607436,
          0.02154596363685929,
          0.019621292281125618,
          0.017823554160603827,
          0.016149669900707965,
          0.014595981241895102,
          0.013158335984901107,
          0.011832171174237524,
          0.010612593504501147,
          0.009494456070755393,
          0.00847243072532788,
          0.007541075445416877,
          0.0066948962557802855,
          0.005928403385708172,
          0.005236161467050109,
          0.004612833698291124,
          0.004053220006975796,
          0.0035522893380232072,
          0.003105206277917389,
          0.002707352294045119,
          0.0023543419245833884,
          0.0020420342976237545,
          0.0017665403892403932,
          0.0015242264497656187,
          0.0013117140366109563,
          0.0011258770916684814,
          0.0009638364928397364,
          0.0008229524937999904,
          0.0007008154449530717,
          0.0005952351628765352,
          0.0005042292865531034,
          0.0004260109274083702,
          0.0003589758876075007,
          0.00030168968807840155,
          0.0002528746150840255,
          0.00021139696250268878,
          0.0001762546168160126,
          0.00014656510355967245,
          0.0001215541879664194,
          0.00010054509892967583,
          0.00008294842435749583,
          0.00006825270751194248,
          0.0000560157580136835,
          0.000045856677757417676,
          0.00003744859090933615,
          0.000030512058289147606,
          0.000024809149599493355,
          0.00002013814196347027,
          0.00001632880986826516,
          0.000013238269690664633,
          0.00001074734130399324,
          0.000008757389649784556,
          0.0000071876104265022684,
          0.000005972726040326039,
          0.000005061060532063843,
          0.00000441296520665927,
          0.000003999570028452852,
          0.000003801839400104987,
          0.0000038099146210426538,
          0.000004022729037147039,
          0.000004447885569358641,
          0.000005101789872486047,
          0.000006010035757479934,
          0.0000072080426425515774,
          0.000008741947611690371,
          0.000010669757081750399,
          0.000013062765035866801,
          0.00001600724619133026,
          0.00001960643324889135,
          0.00002398278742760186,
          0.000029280570730535644,
          0.00003566872671546619,
          0.00004334407386414545,
          0.00005253481186065349,
          0.00006350433611680348,
          0.00007655534964595368,
          0.0000920342538280914,
          0.0001103357906941879,
          0.00013190789908174925,
          0.0001572567354079597,
          0.00018695179694689273,
          0.00022163107150844721,
          0.0002620061224805084,
          0.0003088670025558964,
          0.00036308687343118186,
          0.00042562619271294935,
          0.0004975363136447496,
          0.0005799623285874252,
          0.000674144974020947,
          0.0007814214038149853,
          0.0009032246293077147,
          0.0010410814200342814,
          0.001196608458462742,
          0.0013715065465172748,
          0.0015675526716486567,
          0.001786589756336644,
          0.002030513937668566,
          0.0023012592533971643,
          0.0026007796478462763,
          0.0029310282552249696,
          0.0032939339691386727,
          0.0036913753649191598,
          0.004125152105152334,
          0.004596954027515451,
          0.005108328186527778,
          0.005660644195593566,
          0.006255058291049893,
          0.0068924766138833155,
          0.007573518275225594,
          0.008298478836425897,
          0.009067294891096679,
          0.009879510482710033,
          0.01073424612481379,
          0.011630171209630967,
          0.012565480592813118,
          0.013537876125870773,
          0.01454455387212792,
          0.015582197686226651,
          0.016646979761063527,
          0.01773456864996201,
          0.0188401451568795,
          0.019958426355139173,
          0.02108369784780961,
          0.022209854223261966,
          0.023330447490984466,
          0.02443874310926319,
          0.025527783042053463,
          0.02659045511173412,
          0.02761956775205829,
          0.02860792911608378,
          0.029548429361627975,
          0.030434124825994276,
          0.03125832271606663,
          0.03201466488249794,
          0.03269720922006889,
          0.033300507242005846,
          0.033819676414903466,
          0.03425046591274716,
          0.03458931455229641,
          0.034833399805762104,
          0.034980676947399994
         ],
         "yaxis": "y"
        }
       ],
       "layout": {
        "barmode": "overlay",
        "hovermode": "closest",
        "legend": {
         "traceorder": "reversed"
        },
        "template": {
         "data": {
          "bar": [
           {
            "error_x": {
             "color": "#2a3f5f"
            },
            "error_y": {
             "color": "#2a3f5f"
            },
            "marker": {
             "line": {
              "color": "#E5ECF6",
              "width": 0.5
             },
             "pattern": {
              "fillmode": "overlay",
              "size": 10,
              "solidity": 0.2
             }
            },
            "type": "bar"
           }
          ],
          "barpolar": [
           {
            "marker": {
             "line": {
              "color": "#E5ECF6",
              "width": 0.5
             },
             "pattern": {
              "fillmode": "overlay",
              "size": 10,
              "solidity": 0.2
             }
            },
            "type": "barpolar"
           }
          ],
          "carpet": [
           {
            "aaxis": {
             "endlinecolor": "#2a3f5f",
             "gridcolor": "white",
             "linecolor": "white",
             "minorgridcolor": "white",
             "startlinecolor": "#2a3f5f"
            },
            "baxis": {
             "endlinecolor": "#2a3f5f",
             "gridcolor": "white",
             "linecolor": "white",
             "minorgridcolor": "white",
             "startlinecolor": "#2a3f5f"
            },
            "type": "carpet"
           }
          ],
          "choropleth": [
           {
            "colorbar": {
             "outlinewidth": 0,
             "ticks": ""
            },
            "type": "choropleth"
           }
          ],
          "contour": [
           {
            "colorbar": {
             "outlinewidth": 0,
             "ticks": ""
            },
            "colorscale": [
             [
              0,
              "#0d0887"
             ],
             [
              0.1111111111111111,
              "#46039f"
             ],
             [
              0.2222222222222222,
              "#7201a8"
             ],
             [
              0.3333333333333333,
              "#9c179e"
             ],
             [
              0.4444444444444444,
              "#bd3786"
             ],
             [
              0.5555555555555556,
              "#d8576b"
             ],
             [
              0.6666666666666666,
              "#ed7953"
             ],
             [
              0.7777777777777778,
              "#fb9f3a"
             ],
             [
              0.8888888888888888,
              "#fdca26"
             ],
             [
              1,
              "#f0f921"
             ]
            ],
            "type": "contour"
           }
          ],
          "contourcarpet": [
           {
            "colorbar": {
             "outlinewidth": 0,
             "ticks": ""
            },
            "type": "contourcarpet"
           }
          ],
          "heatmap": [
           {
            "colorbar": {
             "outlinewidth": 0,
             "ticks": ""
            },
            "colorscale": [
             [
              0,
              "#0d0887"
             ],
             [
              0.1111111111111111,
              "#46039f"
             ],
             [
              0.2222222222222222,
              "#7201a8"
             ],
             [
              0.3333333333333333,
              "#9c179e"
             ],
             [
              0.4444444444444444,
              "#bd3786"
             ],
             [
              0.5555555555555556,
              "#d8576b"
             ],
             [
              0.6666666666666666,
              "#ed7953"
             ],
             [
              0.7777777777777778,
              "#fb9f3a"
             ],
             [
              0.8888888888888888,
              "#fdca26"
             ],
             [
              1,
              "#f0f921"
             ]
            ],
            "type": "heatmap"
           }
          ],
          "heatmapgl": [
           {
            "colorbar": {
             "outlinewidth": 0,
             "ticks": ""
            },
            "colorscale": [
             [
              0,
              "#0d0887"
             ],
             [
              0.1111111111111111,
              "#46039f"
             ],
             [
              0.2222222222222222,
              "#7201a8"
             ],
             [
              0.3333333333333333,
              "#9c179e"
             ],
             [
              0.4444444444444444,
              "#bd3786"
             ],
             [
              0.5555555555555556,
              "#d8576b"
             ],
             [
              0.6666666666666666,
              "#ed7953"
             ],
             [
              0.7777777777777778,
              "#fb9f3a"
             ],
             [
              0.8888888888888888,
              "#fdca26"
             ],
             [
              1,
              "#f0f921"
             ]
            ],
            "type": "heatmapgl"
           }
          ],
          "histogram": [
           {
            "marker": {
             "pattern": {
              "fillmode": "overlay",
              "size": 10,
              "solidity": 0.2
             }
            },
            "type": "histogram"
           }
          ],
          "histogram2d": [
           {
            "colorbar": {
             "outlinewidth": 0,
             "ticks": ""
            },
            "colorscale": [
             [
              0,
              "#0d0887"
             ],
             [
              0.1111111111111111,
              "#46039f"
             ],
             [
              0.2222222222222222,
              "#7201a8"
             ],
             [
              0.3333333333333333,
              "#9c179e"
             ],
             [
              0.4444444444444444,
              "#bd3786"
             ],
             [
              0.5555555555555556,
              "#d8576b"
             ],
             [
              0.6666666666666666,
              "#ed7953"
             ],
             [
              0.7777777777777778,
              "#fb9f3a"
             ],
             [
              0.8888888888888888,
              "#fdca26"
             ],
             [
              1,
              "#f0f921"
             ]
            ],
            "type": "histogram2d"
           }
          ],
          "histogram2dcontour": [
           {
            "colorbar": {
             "outlinewidth": 0,
             "ticks": ""
            },
            "colorscale": [
             [
              0,
              "#0d0887"
             ],
             [
              0.1111111111111111,
              "#46039f"
             ],
             [
              0.2222222222222222,
              "#7201a8"
             ],
             [
              0.3333333333333333,
              "#9c179e"
             ],
             [
              0.4444444444444444,
              "#bd3786"
             ],
             [
              0.5555555555555556,
              "#d8576b"
             ],
             [
              0.6666666666666666,
              "#ed7953"
             ],
             [
              0.7777777777777778,
              "#fb9f3a"
             ],
             [
              0.8888888888888888,
              "#fdca26"
             ],
             [
              1,
              "#f0f921"
             ]
            ],
            "type": "histogram2dcontour"
           }
          ],
          "mesh3d": [
           {
            "colorbar": {
             "outlinewidth": 0,
             "ticks": ""
            },
            "type": "mesh3d"
           }
          ],
          "parcoords": [
           {
            "line": {
             "colorbar": {
              "outlinewidth": 0,
              "ticks": ""
             }
            },
            "type": "parcoords"
           }
          ],
          "pie": [
           {
            "automargin": true,
            "type": "pie"
           }
          ],
          "scatter": [
           {
            "fillpattern": {
             "fillmode": "overlay",
             "size": 10,
             "solidity": 0.2
            },
            "type": "scatter"
           }
          ],
          "scatter3d": [
           {
            "line": {
             "colorbar": {
              "outlinewidth": 0,
              "ticks": ""
             }
            },
            "marker": {
             "colorbar": {
              "outlinewidth": 0,
              "ticks": ""
             }
            },
            "type": "scatter3d"
           }
          ],
          "scattercarpet": [
           {
            "marker": {
             "colorbar": {
              "outlinewidth": 0,
              "ticks": ""
             }
            },
            "type": "scattercarpet"
           }
          ],
          "scattergeo": [
           {
            "marker": {
             "colorbar": {
              "outlinewidth": 0,
              "ticks": ""
             }
            },
            "type": "scattergeo"
           }
          ],
          "scattergl": [
           {
            "marker": {
             "colorbar": {
              "outlinewidth": 0,
              "ticks": ""
             }
            },
            "type": "scattergl"
           }
          ],
          "scattermapbox": [
           {
            "marker": {
             "colorbar": {
              "outlinewidth": 0,
              "ticks": ""
             }
            },
            "type": "scattermapbox"
           }
          ],
          "scatterpolar": [
           {
            "marker": {
             "colorbar": {
              "outlinewidth": 0,
              "ticks": ""
             }
            },
            "type": "scatterpolar"
           }
          ],
          "scatterpolargl": [
           {
            "marker": {
             "colorbar": {
              "outlinewidth": 0,
              "ticks": ""
             }
            },
            "type": "scatterpolargl"
           }
          ],
          "scatterternary": [
           {
            "marker": {
             "colorbar": {
              "outlinewidth": 0,
              "ticks": ""
             }
            },
            "type": "scatterternary"
           }
          ],
          "surface": [
           {
            "colorbar": {
             "outlinewidth": 0,
             "ticks": ""
            },
            "colorscale": [
             [
              0,
              "#0d0887"
             ],
             [
              0.1111111111111111,
              "#46039f"
             ],
             [
              0.2222222222222222,
              "#7201a8"
             ],
             [
              0.3333333333333333,
              "#9c179e"
             ],
             [
              0.4444444444444444,
              "#bd3786"
             ],
             [
              0.5555555555555556,
              "#d8576b"
             ],
             [
              0.6666666666666666,
              "#ed7953"
             ],
             [
              0.7777777777777778,
              "#fb9f3a"
             ],
             [
              0.8888888888888888,
              "#fdca26"
             ],
             [
              1,
              "#f0f921"
             ]
            ],
            "type": "surface"
           }
          ],
          "table": [
           {
            "cells": {
             "fill": {
              "color": "#EBF0F8"
             },
             "line": {
              "color": "white"
             }
            },
            "header": {
             "fill": {
              "color": "#C8D4E3"
             },
             "line": {
              "color": "white"
             }
            },
            "type": "table"
           }
          ]
         },
         "layout": {
          "annotationdefaults": {
           "arrowcolor": "#2a3f5f",
           "arrowhead": 0,
           "arrowwidth": 1
          },
          "autotypenumbers": "strict",
          "coloraxis": {
           "colorbar": {
            "outlinewidth": 0,
            "ticks": ""
           }
          },
          "colorscale": {
           "diverging": [
            [
             0,
             "#8e0152"
            ],
            [
             0.1,
             "#c51b7d"
            ],
            [
             0.2,
             "#de77ae"
            ],
            [
             0.3,
             "#f1b6da"
            ],
            [
             0.4,
             "#fde0ef"
            ],
            [
             0.5,
             "#f7f7f7"
            ],
            [
             0.6,
             "#e6f5d0"
            ],
            [
             0.7,
             "#b8e186"
            ],
            [
             0.8,
             "#7fbc41"
            ],
            [
             0.9,
             "#4d9221"
            ],
            [
             1,
             "#276419"
            ]
           ],
           "sequential": [
            [
             0,
             "#0d0887"
            ],
            [
             0.1111111111111111,
             "#46039f"
            ],
            [
             0.2222222222222222,
             "#7201a8"
            ],
            [
             0.3333333333333333,
             "#9c179e"
            ],
            [
             0.4444444444444444,
             "#bd3786"
            ],
            [
             0.5555555555555556,
             "#d8576b"
            ],
            [
             0.6666666666666666,
             "#ed7953"
            ],
            [
             0.7777777777777778,
             "#fb9f3a"
            ],
            [
             0.8888888888888888,
             "#fdca26"
            ],
            [
             1,
             "#f0f921"
            ]
           ],
           "sequentialminus": [
            [
             0,
             "#0d0887"
            ],
            [
             0.1111111111111111,
             "#46039f"
            ],
            [
             0.2222222222222222,
             "#7201a8"
            ],
            [
             0.3333333333333333,
             "#9c179e"
            ],
            [
             0.4444444444444444,
             "#bd3786"
            ],
            [
             0.5555555555555556,
             "#d8576b"
            ],
            [
             0.6666666666666666,
             "#ed7953"
            ],
            [
             0.7777777777777778,
             "#fb9f3a"
            ],
            [
             0.8888888888888888,
             "#fdca26"
            ],
            [
             1,
             "#f0f921"
            ]
           ]
          },
          "colorway": [
           "#636efa",
           "#EF553B",
           "#00cc96",
           "#ab63fa",
           "#FFA15A",
           "#19d3f3",
           "#FF6692",
           "#B6E880",
           "#FF97FF",
           "#FECB52"
          ],
          "font": {
           "color": "#2a3f5f"
          },
          "geo": {
           "bgcolor": "white",
           "lakecolor": "white",
           "landcolor": "#E5ECF6",
           "showlakes": true,
           "showland": true,
           "subunitcolor": "white"
          },
          "hoverlabel": {
           "align": "left"
          },
          "hovermode": "closest",
          "mapbox": {
           "style": "light"
          },
          "paper_bgcolor": "white",
          "plot_bgcolor": "#E5ECF6",
          "polar": {
           "angularaxis": {
            "gridcolor": "white",
            "linecolor": "white",
            "ticks": ""
           },
           "bgcolor": "#E5ECF6",
           "radialaxis": {
            "gridcolor": "white",
            "linecolor": "white",
            "ticks": ""
           }
          },
          "scene": {
           "xaxis": {
            "backgroundcolor": "#E5ECF6",
            "gridcolor": "white",
            "gridwidth": 2,
            "linecolor": "white",
            "showbackground": true,
            "ticks": "",
            "zerolinecolor": "white"
           },
           "yaxis": {
            "backgroundcolor": "#E5ECF6",
            "gridcolor": "white",
            "gridwidth": 2,
            "linecolor": "white",
            "showbackground": true,
            "ticks": "",
            "zerolinecolor": "white"
           },
           "zaxis": {
            "backgroundcolor": "#E5ECF6",
            "gridcolor": "white",
            "gridwidth": 2,
            "linecolor": "white",
            "showbackground": true,
            "ticks": "",
            "zerolinecolor": "white"
           }
          },
          "shapedefaults": {
           "line": {
            "color": "#2a3f5f"
           }
          },
          "ternary": {
           "aaxis": {
            "gridcolor": "white",
            "linecolor": "white",
            "ticks": ""
           },
           "baxis": {
            "gridcolor": "white",
            "linecolor": "white",
            "ticks": ""
           },
           "bgcolor": "#E5ECF6",
           "caxis": {
            "gridcolor": "white",
            "linecolor": "white",
            "ticks": ""
           }
          },
          "title": {
           "x": 0.05
          },
          "xaxis": {
           "automargin": true,
           "gridcolor": "white",
           "linecolor": "white",
           "ticks": "",
           "title": {
            "standoff": 15
           },
           "zerolinecolor": "white",
           "zerolinewidth": 2
          },
          "yaxis": {
           "automargin": true,
           "gridcolor": "white",
           "linecolor": "white",
           "ticks": "",
           "title": {
            "standoff": 15
           },
           "zerolinecolor": "white",
           "zerolinewidth": 2
          }
         }
        },
        "title": {
         "text": "Distribution of normalized cholestrol levels"
        },
        "xaxis": {
         "anchor": "y2",
         "domain": [
          0,
          1
         ],
         "zeroline": false
        },
        "yaxis": {
         "anchor": "free",
         "domain": [
          0,
          1
         ],
         "position": 0
        }
       }
      }
     },
     "metadata": {},
     "output_type": "display_data"
    }
   ],
   "source": [
    "x = df[\"normalized_chol\"]\n",
    "hist_data = [x]\n",
    "group_labels = ['normalized cholestrol'] # name of the dataset\n",
    "\n",
    "fig = ff.create_distplot(hist_data, group_labels, show_rug=False)\n",
    "fig.update_layout(title = \"Distribution of normalized cholestrol levels\")\n",
    "fig.show()"
   ]
  },
  {
   "cell_type": "markdown",
   "metadata": {},
   "source": [
    "Compared to the above curve (Fig:1) we conclude following:\n",
    "\n",
    "1. The spread is less now\n",
    "2. The height of the curve is increased\n",
    "3. All values as in range of 0 to 1"
   ]
  },
  {
   "cell_type": "markdown",
   "metadata": {},
   "source": [
    "# PMF"
   ]
  },
  {
   "cell_type": "markdown",
   "metadata": {},
   "source": [
    "Probability mass function (PMF) maps each value to its corresponding probability. PMF is plotted for discrete distributions.\n",
    "However, when there are too many values in the sample, it becomes difficult to read and interpret the PMF plot. Because with the decrease in the probability of each values, the random noise increases."
   ]
  },
  {
   "cell_type": "code",
   "execution_count": 33,
   "metadata": {},
   "outputs": [
    {
     "data": {
      "text/plain": [
       "204    0.019868\n",
       "197    0.019868\n",
       "234    0.019868\n",
       "212    0.016556\n",
       "254    0.016556\n",
       "         ...   \n",
       "284    0.003311\n",
       "224    0.003311\n",
       "167    0.003311\n",
       "276    0.003311\n",
       "131    0.003311\n",
       "Name: chol, Length: 152, dtype: float64"
      ]
     },
     "execution_count": 33,
     "metadata": {},
     "output_type": "execute_result"
    }
   ],
   "source": [
    "chol_pmf = df[\"chol\"].value_counts(normalize = True)\n",
    "chol_pmf"
   ]
  },
  {
   "cell_type": "code",
   "execution_count": 34,
   "metadata": {},
   "outputs": [
    {
     "data": {
      "application/vnd.plotly.v1+json": {
       "config": {
        "plotlyServerURL": "https://plot.ly"
       },
       "data": [
        {
         "alignmentgroup": "True",
         "hovertemplate": "x=%{x}<br>y=%{y}<extra></extra>",
         "legendgroup": "",
         "marker": {
          "color": "#636efa",
          "pattern": {
           "shape": ""
          }
         },
         "name": "",
         "offsetgroup": "",
         "orientation": "v",
         "showlegend": false,
         "textposition": "auto",
         "type": "bar",
         "x": [
          204,
          197,
          234,
          212,
          254,
          269,
          211,
          240,
          177,
          243,
          226,
          233,
          239,
          282,
          230,
          258,
          244,
          246,
          236,
          201,
          250,
          288,
          245,
          223,
          303,
          309,
          256,
          249,
          229,
          283,
          219,
          220,
          274,
          199,
          231,
          203,
          263,
          214,
          248,
          298,
          277,
          315,
          207,
          255,
          267,
          270,
          196,
          330,
          225,
          188,
          335,
          206,
          286,
          253,
          149,
          228,
          295,
          268,
          271,
          193,
          289,
          299,
          318,
          209,
          205,
          216,
          198,
          304,
          232,
          221,
          308,
          208,
          264,
          175,
          302,
          247,
          325,
          235,
          213,
          273,
          294,
          261,
          222,
          266,
          260,
          275,
          265,
          218,
          192,
          227,
          241,
          169,
          307,
          187,
          164,
          176,
          185,
          326,
          311,
          341,
          407,
          409,
          172,
          259,
          200,
          327,
          184,
          237,
          319,
          293,
          300,
          166,
          322,
          281,
          174,
          217,
          305,
          394,
          290,
          141,
          160,
          564,
          183,
          186,
          182,
          252,
          257,
          353,
          321,
          360,
          417,
          340,
          168,
          354,
          195,
          126,
          313,
          262,
          215,
          210,
          306,
          178,
          242,
          180,
          278,
          342,
          157,
          284,
          224,
          167,
          276,
          131
         ],
         "xaxis": "x",
         "y": [
          0.019867549668874173,
          0.019867549668874173,
          0.019867549668874173,
          0.016556291390728478,
          0.016556291390728478,
          0.016556291390728478,
          0.013245033112582781,
          0.013245033112582781,
          0.013245033112582781,
          0.013245033112582781,
          0.013245033112582781,
          0.013245033112582781,
          0.013245033112582781,
          0.013245033112582781,
          0.009933774834437087,
          0.009933774834437087,
          0.009933774834437087,
          0.009933774834437087,
          0.009933774834437087,
          0.009933774834437087,
          0.009933774834437087,
          0.009933774834437087,
          0.009933774834437087,
          0.009933774834437087,
          0.009933774834437087,
          0.009933774834437087,
          0.009933774834437087,
          0.009933774834437087,
          0.009933774834437087,
          0.009933774834437087,
          0.009933774834437087,
          0.009933774834437087,
          0.009933774834437087,
          0.009933774834437087,
          0.009933774834437087,
          0.009933774834437087,
          0.009933774834437087,
          0.006622516556291391,
          0.006622516556291391,
          0.006622516556291391,
          0.006622516556291391,
          0.006622516556291391,
          0.006622516556291391,
          0.006622516556291391,
          0.006622516556291391,
          0.006622516556291391,
          0.006622516556291391,
          0.006622516556291391,
          0.006622516556291391,
          0.006622516556291391,
          0.006622516556291391,
          0.006622516556291391,
          0.006622516556291391,
          0.006622516556291391,
          0.006622516556291391,
          0.006622516556291391,
          0.006622516556291391,
          0.006622516556291391,
          0.006622516556291391,
          0.006622516556291391,
          0.006622516556291391,
          0.006622516556291391,
          0.006622516556291391,
          0.006622516556291391,
          0.006622516556291391,
          0.006622516556291391,
          0.006622516556291391,
          0.006622516556291391,
          0.006622516556291391,
          0.006622516556291391,
          0.006622516556291391,
          0.006622516556291391,
          0.006622516556291391,
          0.006622516556291391,
          0.006622516556291391,
          0.006622516556291391,
          0.006622516556291391,
          0.006622516556291391,
          0.006622516556291391,
          0.006622516556291391,
          0.006622516556291391,
          0.006622516556291391,
          0.006622516556291391,
          0.006622516556291391,
          0.006622516556291391,
          0.006622516556291391,
          0.006622516556291391,
          0.006622516556291391,
          0.006622516556291391,
          0.006622516556291391,
          0.0033112582781456954,
          0.0033112582781456954,
          0.0033112582781456954,
          0.0033112582781456954,
          0.0033112582781456954,
          0.0033112582781456954,
          0.0033112582781456954,
          0.0033112582781456954,
          0.0033112582781456954,
          0.0033112582781456954,
          0.0033112582781456954,
          0.0033112582781456954,
          0.0033112582781456954,
          0.0033112582781456954,
          0.0033112582781456954,
          0.0033112582781456954,
          0.0033112582781456954,
          0.0033112582781456954,
          0.0033112582781456954,
          0.0033112582781456954,
          0.0033112582781456954,
          0.0033112582781456954,
          0.0033112582781456954,
          0.0033112582781456954,
          0.0033112582781456954,
          0.0033112582781456954,
          0.0033112582781456954,
          0.0033112582781456954,
          0.0033112582781456954,
          0.0033112582781456954,
          0.0033112582781456954,
          0.0033112582781456954,
          0.0033112582781456954,
          0.0033112582781456954,
          0.0033112582781456954,
          0.0033112582781456954,
          0.0033112582781456954,
          0.0033112582781456954,
          0.0033112582781456954,
          0.0033112582781456954,
          0.0033112582781456954,
          0.0033112582781456954,
          0.0033112582781456954,
          0.0033112582781456954,
          0.0033112582781456954,
          0.0033112582781456954,
          0.0033112582781456954,
          0.0033112582781456954,
          0.0033112582781456954,
          0.0033112582781456954,
          0.0033112582781456954,
          0.0033112582781456954,
          0.0033112582781456954,
          0.0033112582781456954,
          0.0033112582781456954,
          0.0033112582781456954,
          0.0033112582781456954,
          0.0033112582781456954,
          0.0033112582781456954,
          0.0033112582781456954,
          0.0033112582781456954,
          0.0033112582781456954
         ],
         "yaxis": "y"
        }
       ],
       "layout": {
        "barmode": "relative",
        "legend": {
         "tracegroupgap": 0
        },
        "margin": {
         "t": 60
        },
        "template": {
         "data": {
          "bar": [
           {
            "error_x": {
             "color": "#2a3f5f"
            },
            "error_y": {
             "color": "#2a3f5f"
            },
            "marker": {
             "line": {
              "color": "#E5ECF6",
              "width": 0.5
             },
             "pattern": {
              "fillmode": "overlay",
              "size": 10,
              "solidity": 0.2
             }
            },
            "type": "bar"
           }
          ],
          "barpolar": [
           {
            "marker": {
             "line": {
              "color": "#E5ECF6",
              "width": 0.5
             },
             "pattern": {
              "fillmode": "overlay",
              "size": 10,
              "solidity": 0.2
             }
            },
            "type": "barpolar"
           }
          ],
          "carpet": [
           {
            "aaxis": {
             "endlinecolor": "#2a3f5f",
             "gridcolor": "white",
             "linecolor": "white",
             "minorgridcolor": "white",
             "startlinecolor": "#2a3f5f"
            },
            "baxis": {
             "endlinecolor": "#2a3f5f",
             "gridcolor": "white",
             "linecolor": "white",
             "minorgridcolor": "white",
             "startlinecolor": "#2a3f5f"
            },
            "type": "carpet"
           }
          ],
          "choropleth": [
           {
            "colorbar": {
             "outlinewidth": 0,
             "ticks": ""
            },
            "type": "choropleth"
           }
          ],
          "contour": [
           {
            "colorbar": {
             "outlinewidth": 0,
             "ticks": ""
            },
            "colorscale": [
             [
              0,
              "#0d0887"
             ],
             [
              0.1111111111111111,
              "#46039f"
             ],
             [
              0.2222222222222222,
              "#7201a8"
             ],
             [
              0.3333333333333333,
              "#9c179e"
             ],
             [
              0.4444444444444444,
              "#bd3786"
             ],
             [
              0.5555555555555556,
              "#d8576b"
             ],
             [
              0.6666666666666666,
              "#ed7953"
             ],
             [
              0.7777777777777778,
              "#fb9f3a"
             ],
             [
              0.8888888888888888,
              "#fdca26"
             ],
             [
              1,
              "#f0f921"
             ]
            ],
            "type": "contour"
           }
          ],
          "contourcarpet": [
           {
            "colorbar": {
             "outlinewidth": 0,
             "ticks": ""
            },
            "type": "contourcarpet"
           }
          ],
          "heatmap": [
           {
            "colorbar": {
             "outlinewidth": 0,
             "ticks": ""
            },
            "colorscale": [
             [
              0,
              "#0d0887"
             ],
             [
              0.1111111111111111,
              "#46039f"
             ],
             [
              0.2222222222222222,
              "#7201a8"
             ],
             [
              0.3333333333333333,
              "#9c179e"
             ],
             [
              0.4444444444444444,
              "#bd3786"
             ],
             [
              0.5555555555555556,
              "#d8576b"
             ],
             [
              0.6666666666666666,
              "#ed7953"
             ],
             [
              0.7777777777777778,
              "#fb9f3a"
             ],
             [
              0.8888888888888888,
              "#fdca26"
             ],
             [
              1,
              "#f0f921"
             ]
            ],
            "type": "heatmap"
           }
          ],
          "heatmapgl": [
           {
            "colorbar": {
             "outlinewidth": 0,
             "ticks": ""
            },
            "colorscale": [
             [
              0,
              "#0d0887"
             ],
             [
              0.1111111111111111,
              "#46039f"
             ],
             [
              0.2222222222222222,
              "#7201a8"
             ],
             [
              0.3333333333333333,
              "#9c179e"
             ],
             [
              0.4444444444444444,
              "#bd3786"
             ],
             [
              0.5555555555555556,
              "#d8576b"
             ],
             [
              0.6666666666666666,
              "#ed7953"
             ],
             [
              0.7777777777777778,
              "#fb9f3a"
             ],
             [
              0.8888888888888888,
              "#fdca26"
             ],
             [
              1,
              "#f0f921"
             ]
            ],
            "type": "heatmapgl"
           }
          ],
          "histogram": [
           {
            "marker": {
             "pattern": {
              "fillmode": "overlay",
              "size": 10,
              "solidity": 0.2
             }
            },
            "type": "histogram"
           }
          ],
          "histogram2d": [
           {
            "colorbar": {
             "outlinewidth": 0,
             "ticks": ""
            },
            "colorscale": [
             [
              0,
              "#0d0887"
             ],
             [
              0.1111111111111111,
              "#46039f"
             ],
             [
              0.2222222222222222,
              "#7201a8"
             ],
             [
              0.3333333333333333,
              "#9c179e"
             ],
             [
              0.4444444444444444,
              "#bd3786"
             ],
             [
              0.5555555555555556,
              "#d8576b"
             ],
             [
              0.6666666666666666,
              "#ed7953"
             ],
             [
              0.7777777777777778,
              "#fb9f3a"
             ],
             [
              0.8888888888888888,
              "#fdca26"
             ],
             [
              1,
              "#f0f921"
             ]
            ],
            "type": "histogram2d"
           }
          ],
          "histogram2dcontour": [
           {
            "colorbar": {
             "outlinewidth": 0,
             "ticks": ""
            },
            "colorscale": [
             [
              0,
              "#0d0887"
             ],
             [
              0.1111111111111111,
              "#46039f"
             ],
             [
              0.2222222222222222,
              "#7201a8"
             ],
             [
              0.3333333333333333,
              "#9c179e"
             ],
             [
              0.4444444444444444,
              "#bd3786"
             ],
             [
              0.5555555555555556,
              "#d8576b"
             ],
             [
              0.6666666666666666,
              "#ed7953"
             ],
             [
              0.7777777777777778,
              "#fb9f3a"
             ],
             [
              0.8888888888888888,
              "#fdca26"
             ],
             [
              1,
              "#f0f921"
             ]
            ],
            "type": "histogram2dcontour"
           }
          ],
          "mesh3d": [
           {
            "colorbar": {
             "outlinewidth": 0,
             "ticks": ""
            },
            "type": "mesh3d"
           }
          ],
          "parcoords": [
           {
            "line": {
             "colorbar": {
              "outlinewidth": 0,
              "ticks": ""
             }
            },
            "type": "parcoords"
           }
          ],
          "pie": [
           {
            "automargin": true,
            "type": "pie"
           }
          ],
          "scatter": [
           {
            "fillpattern": {
             "fillmode": "overlay",
             "size": 10,
             "solidity": 0.2
            },
            "type": "scatter"
           }
          ],
          "scatter3d": [
           {
            "line": {
             "colorbar": {
              "outlinewidth": 0,
              "ticks": ""
             }
            },
            "marker": {
             "colorbar": {
              "outlinewidth": 0,
              "ticks": ""
             }
            },
            "type": "scatter3d"
           }
          ],
          "scattercarpet": [
           {
            "marker": {
             "colorbar": {
              "outlinewidth": 0,
              "ticks": ""
             }
            },
            "type": "scattercarpet"
           }
          ],
          "scattergeo": [
           {
            "marker": {
             "colorbar": {
              "outlinewidth": 0,
              "ticks": ""
             }
            },
            "type": "scattergeo"
           }
          ],
          "scattergl": [
           {
            "marker": {
             "colorbar": {
              "outlinewidth": 0,
              "ticks": ""
             }
            },
            "type": "scattergl"
           }
          ],
          "scattermapbox": [
           {
            "marker": {
             "colorbar": {
              "outlinewidth": 0,
              "ticks": ""
             }
            },
            "type": "scattermapbox"
           }
          ],
          "scatterpolar": [
           {
            "marker": {
             "colorbar": {
              "outlinewidth": 0,
              "ticks": ""
             }
            },
            "type": "scatterpolar"
           }
          ],
          "scatterpolargl": [
           {
            "marker": {
             "colorbar": {
              "outlinewidth": 0,
              "ticks": ""
             }
            },
            "type": "scatterpolargl"
           }
          ],
          "scatterternary": [
           {
            "marker": {
             "colorbar": {
              "outlinewidth": 0,
              "ticks": ""
             }
            },
            "type": "scatterternary"
           }
          ],
          "surface": [
           {
            "colorbar": {
             "outlinewidth": 0,
             "ticks": ""
            },
            "colorscale": [
             [
              0,
              "#0d0887"
             ],
             [
              0.1111111111111111,
              "#46039f"
             ],
             [
              0.2222222222222222,
              "#7201a8"
             ],
             [
              0.3333333333333333,
              "#9c179e"
             ],
             [
              0.4444444444444444,
              "#bd3786"
             ],
             [
              0.5555555555555556,
              "#d8576b"
             ],
             [
              0.6666666666666666,
              "#ed7953"
             ],
             [
              0.7777777777777778,
              "#fb9f3a"
             ],
             [
              0.8888888888888888,
              "#fdca26"
             ],
             [
              1,
              "#f0f921"
             ]
            ],
            "type": "surface"
           }
          ],
          "table": [
           {
            "cells": {
             "fill": {
              "color": "#EBF0F8"
             },
             "line": {
              "color": "white"
             }
            },
            "header": {
             "fill": {
              "color": "#C8D4E3"
             },
             "line": {
              "color": "white"
             }
            },
            "type": "table"
           }
          ]
         },
         "layout": {
          "annotationdefaults": {
           "arrowcolor": "#2a3f5f",
           "arrowhead": 0,
           "arrowwidth": 1
          },
          "autotypenumbers": "strict",
          "coloraxis": {
           "colorbar": {
            "outlinewidth": 0,
            "ticks": ""
           }
          },
          "colorscale": {
           "diverging": [
            [
             0,
             "#8e0152"
            ],
            [
             0.1,
             "#c51b7d"
            ],
            [
             0.2,
             "#de77ae"
            ],
            [
             0.3,
             "#f1b6da"
            ],
            [
             0.4,
             "#fde0ef"
            ],
            [
             0.5,
             "#f7f7f7"
            ],
            [
             0.6,
             "#e6f5d0"
            ],
            [
             0.7,
             "#b8e186"
            ],
            [
             0.8,
             "#7fbc41"
            ],
            [
             0.9,
             "#4d9221"
            ],
            [
             1,
             "#276419"
            ]
           ],
           "sequential": [
            [
             0,
             "#0d0887"
            ],
            [
             0.1111111111111111,
             "#46039f"
            ],
            [
             0.2222222222222222,
             "#7201a8"
            ],
            [
             0.3333333333333333,
             "#9c179e"
            ],
            [
             0.4444444444444444,
             "#bd3786"
            ],
            [
             0.5555555555555556,
             "#d8576b"
            ],
            [
             0.6666666666666666,
             "#ed7953"
            ],
            [
             0.7777777777777778,
             "#fb9f3a"
            ],
            [
             0.8888888888888888,
             "#fdca26"
            ],
            [
             1,
             "#f0f921"
            ]
           ],
           "sequentialminus": [
            [
             0,
             "#0d0887"
            ],
            [
             0.1111111111111111,
             "#46039f"
            ],
            [
             0.2222222222222222,
             "#7201a8"
            ],
            [
             0.3333333333333333,
             "#9c179e"
            ],
            [
             0.4444444444444444,
             "#bd3786"
            ],
            [
             0.5555555555555556,
             "#d8576b"
            ],
            [
             0.6666666666666666,
             "#ed7953"
            ],
            [
             0.7777777777777778,
             "#fb9f3a"
            ],
            [
             0.8888888888888888,
             "#fdca26"
            ],
            [
             1,
             "#f0f921"
            ]
           ]
          },
          "colorway": [
           "#636efa",
           "#EF553B",
           "#00cc96",
           "#ab63fa",
           "#FFA15A",
           "#19d3f3",
           "#FF6692",
           "#B6E880",
           "#FF97FF",
           "#FECB52"
          ],
          "font": {
           "color": "#2a3f5f"
          },
          "geo": {
           "bgcolor": "white",
           "lakecolor": "white",
           "landcolor": "#E5ECF6",
           "showlakes": true,
           "showland": true,
           "subunitcolor": "white"
          },
          "hoverlabel": {
           "align": "left"
          },
          "hovermode": "closest",
          "mapbox": {
           "style": "light"
          },
          "paper_bgcolor": "white",
          "plot_bgcolor": "#E5ECF6",
          "polar": {
           "angularaxis": {
            "gridcolor": "white",
            "linecolor": "white",
            "ticks": ""
           },
           "bgcolor": "#E5ECF6",
           "radialaxis": {
            "gridcolor": "white",
            "linecolor": "white",
            "ticks": ""
           }
          },
          "scene": {
           "xaxis": {
            "backgroundcolor": "#E5ECF6",
            "gridcolor": "white",
            "gridwidth": 2,
            "linecolor": "white",
            "showbackground": true,
            "ticks": "",
            "zerolinecolor": "white"
           },
           "yaxis": {
            "backgroundcolor": "#E5ECF6",
            "gridcolor": "white",
            "gridwidth": 2,
            "linecolor": "white",
            "showbackground": true,
            "ticks": "",
            "zerolinecolor": "white"
           },
           "zaxis": {
            "backgroundcolor": "#E5ECF6",
            "gridcolor": "white",
            "gridwidth": 2,
            "linecolor": "white",
            "showbackground": true,
            "ticks": "",
            "zerolinecolor": "white"
           }
          },
          "shapedefaults": {
           "line": {
            "color": "#2a3f5f"
           }
          },
          "ternary": {
           "aaxis": {
            "gridcolor": "white",
            "linecolor": "white",
            "ticks": ""
           },
           "baxis": {
            "gridcolor": "white",
            "linecolor": "white",
            "ticks": ""
           },
           "bgcolor": "#E5ECF6",
           "caxis": {
            "gridcolor": "white",
            "linecolor": "white",
            "ticks": ""
           }
          },
          "title": {
           "x": 0.05
          },
          "xaxis": {
           "automargin": true,
           "gridcolor": "white",
           "linecolor": "white",
           "ticks": "",
           "title": {
            "standoff": 15
           },
           "zerolinecolor": "white",
           "zerolinewidth": 2
          },
          "yaxis": {
           "automargin": true,
           "gridcolor": "white",
           "linecolor": "white",
           "ticks": "",
           "title": {
            "standoff": 15
           },
           "zerolinecolor": "white",
           "zerolinewidth": 2
          }
         }
        },
        "title": {
         "text": "PMF distribution of the cholestrol values"
        },
        "xaxis": {
         "anchor": "y",
         "domain": [
          0,
          1
         ],
         "title": {
          "text": "Index number"
         }
        },
        "yaxis": {
         "anchor": "x",
         "domain": [
          0,
          1
         ],
         "title": {
          "text": "Normalized cholestrol values"
         }
        }
       }
      }
     },
     "metadata": {},
     "output_type": "display_data"
    }
   ],
   "source": [
    "fig = px.bar(x=chol_pmf.index, y =chol_pmf.values)\n",
    "fig.update_layout(yaxis_title = \"Normalized cholestrol values\",\n",
    "                 xaxis_title = \"Index number\",\n",
    "                 title = \"PMF distribution of the cholestrol values\")\n",
    "fig.show()"
   ]
  },
  {
   "cell_type": "markdown",
   "metadata": {},
   "source": [
    "The above notebook shows the various parametrs for the descriptive analysis of the data. The ideas for the notebook is taken from the book \"Think Stats: Probability and Statistics for Programmers by Allen B. Downey\". While writing the notebook the help from various articles from Medium and Analytics Vidhya was also taken.\n",
    "I hope you enjoy this notebook. Please share your thoughts in comments and upvote if you find the work useful."
   ]
  }
 ],
 "metadata": {
  "kernelspec": {
   "display_name": "Python 3.7.3 64-bit",
   "language": "python",
   "name": "python3"
  },
  "language_info": {
   "codemirror_mode": {
    "name": "ipython",
    "version": 3
   },
   "file_extension": ".py",
   "mimetype": "text/x-python",
   "name": "python",
   "nbconvert_exporter": "python",
   "pygments_lexer": "ipython3",
   "version": "3.7.3"
  },
  "orig_nbformat": 4,
  "vscode": {
   "interpreter": {
    "hash": "916dbcbb3f70747c44a77c7bcd40155683ae19c65e1c03b4aa3499c5328201f1"
   }
  }
 },
 "nbformat": 4,
 "nbformat_minor": 2
}
